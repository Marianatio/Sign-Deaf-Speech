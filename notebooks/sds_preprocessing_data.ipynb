{
 "cells": [
  {
   "cell_type": "code",
   "execution_count": 17,
   "metadata": {},
   "outputs": [],
   "source": [
    "import concurrent.futures\n",
    "import os\n",
    "import shutil\n",
    "import time\n",
    "\n",
    "import mediapipe as mp\n",
    "import numpy as np\n",
    "from mediapipe.framework.formats import landmark_pb2\n",
    "from mediapipe.tasks import python\n",
    "from mediapipe.tasks.python import vision\n",
    "from moviepy.editor import VideoFileClip, ImageSequenceClip"
   ]
  },
  {
   "cell_type": "markdown",
   "metadata": {},
   "source": [
    "#### Setting Task vision\n",
    "\n",
    "documentations for hand :\n",
    "- https://ai.google.dev/edge/mediapipe/solutions/vision/hand_landmarker/python#configuration_options\n",
    "- https://github.com/google-ai-edge/mediapipe-samples/blob/main/examples/hand_landmarker/python/hand_landmarker.ipynb\n",
    "\n",
    "documentations for pose :\n",
    "- https://ai.google.dev/edge/mediapipe/solutions/vision/pose_landmarker#configurations_options\n",
    "- https://github.com/google-ai-edge/mediapipe-samples/blob/main/examples/pose_landmarker/python/%5BMediaPipe_Python_Tasks%5D_Pose_Landmarker.ipynb"
   ]
  },
  {
   "cell_type": "code",
   "execution_count": 18,
   "metadata": {},
   "outputs": [],
   "source": [
    "drawer = mp.solutions.drawing_utils  # drawing utilities\n",
    "VisionRunningMode = mp.tasks.vision.RunningMode\n",
    "\n",
    "# base options for hand and pose detection models\n",
    "hand_base_options = python.BaseOptions(\n",
    "    model_asset_path=\"./tasks/hand_landmarker.task\"\n",
    ")\n",
    "pose_base_options = python.BaseOptions(\n",
    "    model_asset_path=\"./tasks/pose_landmarker.task\"\n",
    ")\n",
    "\n",
    "# options for hand detection\n",
    "hand_options = vision.HandLandmarkerOptions(\n",
    "    base_options=hand_base_options,\n",
    "    num_hands=2,\n",
    "    min_hand_detection_confidence=0.6,\n",
    "    min_hand_presence_confidence=0.6,\n",
    "    min_tracking_confidence=0.1,\n",
    "    running_mode=VisionRunningMode.IMAGE,\n",
    ")\n",
    "\n",
    "# options for pose detection\n",
    "pose_options = vision.PoseLandmarkerOptions(\n",
    "    base_options=pose_base_options,\n",
    "    output_segmentation_masks=True,\n",
    "    min_pose_detection_confidence=0.6,\n",
    "    min_pose_presence_confidence=0.6,\n",
    "    min_tracking_confidence=0.1,\n",
    "    running_mode=VisionRunningMode.IMAGE,\n",
    ")\n",
    "\n",
    "# create detectors\n",
    "hand_detector = vision.HandLandmarker.create_from_options(hand_options)\n",
    "pose_detector = vision.PoseLandmarker.create_from_options(pose_options)"
   ]
  },
  {
   "cell_type": "markdown",
   "metadata": {},
   "source": [
    "#### Setting up for dataset preprocessing\n",
    "\n",
    "Reference for how to do the sign language in [youtube](https://www.youtube.com/watch?v=0FcwzMq4iWg)"
   ]
  },
  {
   "cell_type": "code",
   "execution_count": 19,
   "metadata": {},
   "outputs": [],
   "source": [
    "# the dataset path for saving the preprocessed raw data (video)\n",
    "DATASET_PATH = os.path.join(\"../storage/datasets/cleaned\")\n",
    "DATASET_PATH_RAW = os.path.join(\"../storage/datasets/raw\")\n",
    "\n",
    "# action lables\n",
    "ACTIONS = [\n",
    "    \"selamat pagi\"\n",
    "]\n",
    "\n",
    "# number of videos and actions per video\n",
    "videos_per_label = 60 # change it to how many videos you have\n",
    "frames_per_video = 60"
   ]
  },
  {
   "cell_type": "code",
   "execution_count": 20,
   "metadata": {},
   "outputs": [
    {
     "data": {
      "text/plain": [
       "['selamat pagi']"
      ]
     },
     "execution_count": 20,
     "metadata": {},
     "output_type": "execute_result"
    }
   ],
   "source": [
    "ACTIONS"
   ]
  },
  {
   "cell_type": "code",
   "execution_count": 21,
   "metadata": {},
   "outputs": [
    {
     "name": "stdout",
     "output_type": "stream",
     "text": [
      "[CREATED] selamat pagi\n"
     ]
    }
   ],
   "source": [
    "# create dataset directories if they do not exist\n",
    "try:\n",
    "    try:\n",
    "        shutil.rmtree(DATASET_PATH)\n",
    "    except:\n",
    "        pass\n",
    "\n",
    "    os.makedirs(DATASET_PATH)\n",
    "except FileExistsError:\n",
    "    print(\"Dataset folder exists, skipping creation\")\n",
    "    print(\"========================================\")\n",
    "\n",
    "for action in ACTIONS:\n",
    "    os.makedirs(os.path.join(DATASET_PATH, action))\n",
    "\n",
    "    print(f\"[CREATED] {action}\")"
   ]
  },
  {
   "cell_type": "markdown",
   "metadata": {},
   "source": [
    "#### Setting up for extracting the Mediapipe Landmaker"
   ]
  },
  {
   "cell_type": "markdown",
   "metadata": {},
   "source": [
    "##### Landmarker (drawing)"
   ]
  },
  {
   "cell_type": "code",
   "execution_count": 22,
   "metadata": {},
   "outputs": [],
   "source": [
    "LandmarkList = landmark_pb2.NormalizedLandmarkList  # aliases for landmark types\n",
    "NormalizedLandmark = landmark_pb2.NormalizedLandmark  # aliases for landmark types\n",
    "\n",
    "\n",
    "def to_landmark_list(landmarks):\n",
    "    \"\"\"\n",
    "    Create a LandmarkList from a list of landmarks or fill with empty values if no landmarks are provided.\n",
    "    \"\"\"\n",
    "    return LandmarkList(\n",
    "        landmark=([NormalizedLandmark(x=lm.x, y=lm.y, z=lm.z) for lm in landmarks])\n",
    "    )\n",
    "\n",
    "\n",
    "empty_pose_landmarks = to_landmark_list(\n",
    "    [NormalizedLandmark(x=0.0, y=0.0, z=0.0) for _ in range(33 * 3)]\n",
    ")\n",
    "\n",
    "empty_hand_landmarks = to_landmark_list(\n",
    "    [NormalizedLandmark(x=0.0, y=0.0, z=0.0) for _ in range(21 * 3)]\n",
    ")\n",
    "\n",
    "\n",
    "def to_drawing_landmark(hand_results, pose_results):\n",
    "    \"\"\"\n",
    "    Convert pose and hand landmarks to LandmarkList for drawing.\n",
    "    \"\"\"\n",
    "\n",
    "    pose_landmarks = (\n",
    "        to_landmark_list(pose_results.pose_landmarks[0])\n",
    "        if pose_results.pose_landmarks\n",
    "        else empty_pose_landmarks\n",
    "    )\n",
    "\n",
    "    hand_landmarks = [empty_hand_landmarks, empty_hand_landmarks]\n",
    "\n",
    "    if not hand_results:\n",
    "        return pose_landmarks, None\n",
    "\n",
    "    # iterate over the detected hand landmarks\n",
    "    for index, hand_landmark in enumerate(hand_results.hand_landmarks):\n",
    "        # determine the hand index (0 for right hand, 1 for left hand) using handedness information\n",
    "        handedness = hand_results.handedness[index][0].index\n",
    "\n",
    "        # extract the keypoints for the current hand and assign them to the appropriate index\n",
    "        hand_landmarks[handedness] = to_landmark_list(hand_landmark)\n",
    "\n",
    "    return hand_landmarks, pose_landmarks\n",
    "\n",
    "\n",
    "def draw_landmark(image, hand_landmarks, pose_landmarks):\n",
    "    \"\"\"\n",
    "    Draw detected landmarks on the image.\n",
    "    \"\"\"\n",
    "    drawer.draw_landmarks(\n",
    "        image,\n",
    "        pose_landmarks,\n",
    "        mp.solutions.pose.POSE_CONNECTIONS,\n",
    "        drawer.DrawingSpec(color=(80, 22, 10), thickness=2, circle_radius=3),\n",
    "        drawer.DrawingSpec(color=(80, 44, 121), thickness=2, circle_radius=2),\n",
    "    )\n",
    "\n",
    "    if not hand_landmarks:\n",
    "        return\n",
    "\n",
    "    for hand_landmarks in hand_landmarks:\n",
    "        drawer.draw_landmarks(\n",
    "            image,\n",
    "            hand_landmarks,\n",
    "            mp.solutions.hands.HAND_CONNECTIONS,\n",
    "            drawer.DrawingSpec(color=(121, 22, 76), thickness=2, circle_radius=2),\n",
    "            drawer.DrawingSpec(color=(121, 44, 250), thickness=2, circle_radius=2),\n",
    "        )"
   ]
  },
  {
   "cell_type": "markdown",
   "metadata": {},
   "source": [
    "##### Landmarker (dataset)"
   ]
  },
  {
   "cell_type": "code",
   "execution_count": 23,
   "metadata": {},
   "outputs": [],
   "source": [
    "empty_hand_landmark = np.zeros((2, 21, 3))  # right hand and left hand\n",
    "empty_pose_landmark = np.zeros(33 * 3)\n",
    "\n",
    "\n",
    "def to_landmark_data(\n",
    "    hand_results: vision.HandLandmarkerResult, pose_results: vision.PoseLandmarkerResult\n",
    "):\n",
    "    \"\"\"\n",
    "    Extract keypoints from pose and hand results for dataset creation.\n",
    "    \"\"\"\n",
    "    pose_landmark = empty_pose_landmark\n",
    "    hand_landmark = empty_hand_landmark\n",
    "\n",
    "    if pose_results.pose_world_landmarks:\n",
    "        pose_landmark = np.array(\n",
    "            [[lm.x, lm.y, lm.z] for lm in pose_results.pose_world_landmarks[0]]\n",
    "        ).flatten()\n",
    "\n",
    "    # if no hand results are available, return the empty hand keypoints\n",
    "    # and concatenate it with face and pose keypoints\n",
    "    if not hand_results:\n",
    "        return np.concatenate([pose_landmark, hand_landmark.flatten()])\n",
    "\n",
    "    # iterate over the detected hand landmarks\n",
    "    for index, hlm in enumerate(hand_results.hand_world_landmarks):\n",
    "        # determine the hand index (0 for right hand, 1 for left hand) using handedness information\n",
    "        handedness = hand_results.handedness[index][0].index\n",
    "\n",
    "        # extract the keypoints for the current hand and assign them to the appropriate index\n",
    "        hand_landmark[handedness] = np.array([[lm.x, lm.y, lm.z] for lm in hlm])\n",
    "\n",
    "    return np.concatenate([pose_landmark, hand_landmark.flatten()])"
   ]
  },
  {
   "cell_type": "markdown",
   "metadata": {},
   "source": [
    "##### Saving the landmarker data"
   ]
  },
  {
   "cell_type": "code",
   "execution_count": 24,
   "metadata": {},
   "outputs": [],
   "source": [
    "def save_cleaned_landmark(action: str, sequence: int, keypoints: np.ndarray):\n",
    "    np_path = os.path.join(DATASET_PATH, action, str(sequence))\n",
    "\n",
    "    np.save(np_path, keypoints)"
   ]
  },
  {
   "cell_type": "markdown",
   "metadata": {},
   "source": [
    "#### Read the raw data and process it using mediapipe"
   ]
  },
  {
   "cell_type": "code",
   "execution_count": 25,
   "metadata": {},
   "outputs": [],
   "source": [
    "image_landmark_debug = True\n",
    "\n",
    "\n",
    "def save_video_with_landmark(image_list, fps, label, video_num):\n",
    "    images = [image for _, image, _ in image_list]\n",
    "\n",
    "    new_clip = ImageSequenceClip(images, fps=fps)\n",
    "\n",
    "    output_path = f\"../storage/datasets/debug/{label}_{video_num}.mp4\"\n",
    "\n",
    "    new_clip.write_videofile(output_path, codec=\"libx264\")"
   ]
  },
  {
   "cell_type": "code",
   "execution_count": 26,
   "metadata": {},
   "outputs": [],
   "source": [
    "def process_frame(label, video_num, frame, image, flip_frame, is_debug):\n",
    "    # start time for performance tracking\n",
    "    start_time = time.time()\n",
    "\n",
    "    # flip the image horizontally for a selfie-view display\n",
    "    if flip_frame: image = np.fliplr(image)\n",
    "\n",
    "    try:\n",
    "        image = image.astype(np.uint8)\n",
    "\n",
    "        # convert image to mediapipe image format\n",
    "        mp_image = mp.Image(image_format=mp.ImageFormat.SRGB, data=image)\n",
    "\n",
    "        # detect hands and pose\n",
    "        hand_results = hand_detector.detect(image=mp_image)\n",
    "\n",
    "        pose_results = pose_detector.detect(image=mp_image)\n",
    "\n",
    "        # convert results to landmarks\n",
    "        keypoints = to_landmark_data(hand_results, pose_results)\n",
    "\n",
    "        if is_debug:\n",
    "            hand, pose = to_drawing_landmark(hand_results, pose_results)\n",
    "            draw_landmark(image, hand, pose)\n",
    "\n",
    "    except Exception as e:\n",
    "        print(f\"Error processing {label} video {video_num} frame {frame}: {e}\")\n",
    "        return frame, None, None, time.time() - start_time\n",
    "\n",
    "    if is_debug:\n",
    "        return frame, image, keypoints, time.time() - start_time\n",
    "\n",
    "    return frame, None, keypoints, time.time() - start_time\n",
    "\n",
    "\n",
    "def process_video(label: str, video_num: int, flip_frame: bool, video_start: int = 0):\n",
    "    video_path = os.path.join(DATASET_PATH_RAW, label, f\"{video_num}.avi\")\n",
    "\n",
    "    video_counter = video_start\n",
    "\n",
    "    try:\n",
    "        clip = VideoFileClip(video_path)\n",
    "    except OSError:\n",
    "        print(f\"Error: Could not open video file {video_path}\")\n",
    "        return f\"[{label}] ({video_num}) error opening video file\"\n",
    "\n",
    "    avg_exec_time = []\n",
    "    results = []\n",
    "\n",
    "    # use ThreadPoolExecutor to process frames concurrently\n",
    "    with concurrent.futures.ThreadPoolExecutor() as executor:\n",
    "        future_to_frame = {\n",
    "            executor.submit(\n",
    "                process_frame,\n",
    "                label,\n",
    "                video_num,\n",
    "                frame,\n",
    "                image,\n",
    "                flip_frame,\n",
    "                image_landmark_debug\n",
    "            ): frame\n",
    "            for frame, image in enumerate(clip.iter_frames(fps=clip.fps))\n",
    "        }\n",
    "\n",
    "        for future in concurrent.futures.as_completed(future_to_frame):\n",
    "            frame, image, keypoints, exec_time = future.result()\n",
    "\n",
    "            if keypoints is not None:\n",
    "                results.append((frame, image, keypoints))\n",
    "\n",
    "            avg_exec_time.append(exec_time)\n",
    "\n",
    "    start_time = time.time()\n",
    "    results.sort(key=lambda x: x[0])\n",
    "\n",
    "    if image_landmark_debug:\n",
    "        save_video_with_landmark(results, clip.fps, label, video_num)\n",
    "\n",
    "    if len(results) == 60:\n",
    "        # combine all landmark sequences into a single numpy array\n",
    "        keypoints = np.array([landmark for _, _, landmark in results])\n",
    "\n",
    "        save_cleaned_landmark(label, video_counter, keypoints)\n",
    "\n",
    "        end_time = time.time() - start_time\n",
    "        avg_exec_time = {\n",
    "            \"avg_video_exec\": avg_exec_time,\n",
    "            \"save_exec\": end_time,\n",
    "        }\n",
    "\n",
    "        return avg_exec_time, label, video_num, frame\n",
    "\n",
    "    return None"
   ]
  },
  {
   "cell_type": "code",
   "execution_count": 27,
   "metadata": {},
   "outputs": [],
   "source": [
    "actions = [\n",
    "    {\"action\": word, \"frame\": i} for word in ACTIONS for i in range(videos_per_label)\n",
    "]\n",
    "\n",
    "log = []"
   ]
  },
  {
   "cell_type": "code",
   "execution_count": 28,
   "metadata": {},
   "outputs": [],
   "source": [
    "all_first_59 = [actions[i: i + 59] for i in range(0, len(actions), videos_per_label)]\n",
    "all_first_1 = [actions[i] for i in range(0, len(actions), videos_per_label)]"
   ]
  },
  {
   "cell_type": "code",
   "execution_count": 29,
   "metadata": {},
   "outputs": [
    {
     "data": {
      "text/plain": [
       "True"
      ]
     },
     "execution_count": 29,
     "metadata": {},
     "output_type": "execute_result"
    }
   ],
   "source": [
    "image_landmark_debug"
   ]
  },
  {
   "cell_type": "code",
   "execution_count": 30,
   "metadata": {},
   "outputs": [
    {
     "name": "stdout",
     "output_type": "stream",
     "text": [
      "[selamat pagi]\t0\n",
      "[selamat pagi]\t1\n",
      "[selamat pagi]\t2\n",
      "[selamat pagi]\t3\n",
      "[selamat pagi]\t4\n",
      "[selamat pagi]\t5\n",
      "[selamat pagi]\t6\n",
      "[selamat pagi]\t7\n",
      "Moviepy - Building video ../storage/datasets/debug/selamat pagi_1.mp4.\n",
      "Moviepy - Writing video ../storage/datasets/debug/selamat pagi_1.mp4\n",
      "\n"
     ]
    },
    {
     "name": "stderr",
     "output_type": "stream",
     "text": [
      "t:  84%|████████▎ | 51/61 [00:00<00:00, 198.85it/s, now=None]"
     ]
    },
    {
     "name": "stdout",
     "output_type": "stream",
     "text": [
      "Moviepy - Building video ../storage/datasets/debug/selamat pagi_3.mp4.\n",
      "Moviepy - Writing video ../storage/datasets/debug/selamat pagi_3.mp4\n",
      "\n",
      "Moviepy - Building video ../storage/datasets/debug/selamat pagi_2.mp4.\n",
      "Moviepy - Writing video ../storage/datasets/debug/selamat pagi_2.mp4\n",
      "\n"
     ]
    },
    {
     "name": "stderr",
     "output_type": "stream",
     "text": [
      "\n",
      "\u001b[A\n",
      "                                                             \n",
      "\u001b[A                                                        \n",
      "\n",
      "t:  84%|████████▎ | 51/61 [00:00<00:00, 198.85it/s, now=None]\n",
      "                                                             \n",
      "\u001b[A                                                         \n",
      "\n",
      "t:  84%|████████▎ | 51/61 [00:00<00:00, 198.85it/s, now=None]\n",
      "\u001b[A\n",
      "\u001b[A"
     ]
    },
    {
     "name": "stdout",
     "output_type": "stream",
     "text": [
      "Moviepy - Building video ../storage/datasets/debug/selamat pagi_0.mp4.\n",
      "Moviepy - Writing video ../storage/datasets/debug/selamat pagi_0.mp4\n",
      "\n"
     ]
    },
    {
     "name": "stderr",
     "output_type": "stream",
     "text": [
      "\n",
      "\n",
      "\u001b[A\u001b[A\n",
      "                                                             \n",
      "\u001b[A                                                          \n",
      "\n",
      "\u001b[A\u001b[A                                                      \n",
      "\n",
      "\n",
      "t:  84%|████████▎ | 51/61 [00:00<00:00, 198.85it/s, now=None]\n",
      "\u001b[A\n",
      "\n",
      "                                                             \n",
      "\u001b[A                                                          \n",
      "\n",
      "\u001b[A\u001b[A                                                      \n",
      "\n",
      "\n",
      "t:  84%|████████▎ | 51/61 [00:01<00:00, 198.85it/s, now=None]\n",
      "\u001b[A\n",
      "\n",
      "\u001b[A\u001b[A\n",
      "\u001b[A"
     ]
    },
    {
     "name": "stdout",
     "output_type": "stream",
     "text": [
      "Moviepy - Building video ../storage/datasets/debug/selamat pagi_4.mp4.\n",
      "Moviepy - Writing video ../storage/datasets/debug/selamat pagi_4.mp4\n",
      "\n"
     ]
    },
    {
     "name": "stderr",
     "output_type": "stream",
     "text": [
      "\n",
      "\n",
      "\n",
      "                                                             \n",
      "\u001b[A                                                          \n",
      "\n",
      "\u001b[A\u001b[A                                                      \n",
      "\n",
      "\n",
      "\u001b[A\u001b[A\u001b[A                                                  \n",
      "\n",
      "\n",
      "\n",
      "t:  84%|████████▎ | 51/61 [00:01<00:00, 198.85it/s, now=None]\n",
      "\u001b[A\n",
      "\n",
      "\u001b[A\u001b[A\n",
      "\n",
      "\n",
      "                                                             \n",
      "\u001b[A                                                          \n",
      "\n",
      "\u001b[A\u001b[A                                                      \n",
      "\n",
      "\n",
      "\u001b[A\u001b[A\u001b[A                                                  \n",
      "\n",
      "\n",
      "\n",
      "t:  84%|████████▎ | 51/61 [00:01<00:00, 198.85it/s, now=None]\n",
      "\u001b[A\n",
      "\n",
      "\u001b[A\u001b[A\n",
      "\n",
      "\n",
      "\u001b[A\u001b[A\u001b[A"
     ]
    },
    {
     "name": "stdout",
     "output_type": "stream",
     "text": [
      "Moviepy - Building video ../storage/datasets/debug/selamat pagi_6.mp4.\n",
      "Moviepy - Writing video ../storage/datasets/debug/selamat pagi_6.mp4\n",
      "\n"
     ]
    },
    {
     "name": "stderr",
     "output_type": "stream",
     "text": [
      "\n",
      "\n",
      "\n",
      "\n",
      "                                                             \n",
      "\u001b[A                                                          \n",
      "\n",
      "\u001b[A\u001b[A                                                      \n",
      "\n",
      "\n",
      "\u001b[A\u001b[A\u001b[A                                                  \n",
      "\n",
      "\n",
      "\n",
      "\u001b[A\u001b[A\u001b[A\u001b[A                                               \n",
      "\n",
      "\n",
      "\n",
      "\n",
      "t:  84%|████████▎ | 51/61 [00:01<00:00, 198.85it/s, now=None]\n",
      "\u001b[A\n",
      "\n",
      "\u001b[A\u001b[A\n",
      "\n",
      "\n",
      "\n",
      "t:   2%|▏         | 1/61 [00:00<00:14,  4.04it/s, now=None]"
     ]
    },
    {
     "name": "stdout",
     "output_type": "stream",
     "text": [
      "Moviepy - Building video ../storage/datasets/debug/selamat pagi_5.mp4.\n"
     ]
    },
    {
     "name": "stderr",
     "output_type": "stream",
     "text": [
      "\u001b[A\u001b[A\u001b[A\u001b[A\n",
      "\n",
      "\n",
      "\n",
      "                                                             \n",
      "\u001b[A                                                          \n",
      "\n",
      "\u001b[A\u001b[A                                                      \n",
      "\n",
      "\n",
      "\u001b[A\u001b[A\u001b[A                                                  \n",
      "\n",
      "\n",
      "\n",
      "\u001b[A\u001b[A\u001b[A\u001b[A                                               \n",
      "\n",
      "\n",
      "\n",
      "\n",
      "t:  84%|████████▎ | 51/61 [00:01<00:00, 198.85it/s, now=None]\n",
      "\u001b[A\n",
      "\n",
      "\u001b[A\u001b[A\n",
      "\n",
      "\n",
      "\u001b[A\u001b[A\u001b[A\n",
      "\n",
      "\n",
      "\n",
      "\u001b[A\u001b[A\u001b[A\u001b[A"
     ]
    },
    {
     "name": "stdout",
     "output_type": "stream",
     "text": [
      "Moviepy - Writing video ../storage/datasets/debug/selamat pagi_5.mp4\n",
      "\n"
     ]
    },
    {
     "name": "stderr",
     "output_type": "stream",
     "text": [
      "\n",
      "\n",
      "\n",
      "\n",
      "\n",
      "                                                             \n",
      "\u001b[A                                                          \n",
      "\n",
      "\u001b[A\u001b[A                                                      \n",
      "\n",
      "\n",
      "\u001b[A\u001b[A\u001b[A                                                  \n",
      "\n",
      "\n",
      "\n",
      "\u001b[A\u001b[A\u001b[A\u001b[A                                               \n",
      "\n",
      "\n",
      "\n",
      "\n",
      "\u001b[A\u001b[A\u001b[A\u001b[A\u001b[A                                            \n",
      "\n",
      "\n",
      "\n",
      "\n",
      "\n",
      "t:  84%|████████▎ | 51/61 [00:01<00:00, 198.85it/s, now=None]\n",
      "\u001b[A\n",
      "\n",
      "\u001b[A\u001b[A\n",
      "\n",
      "\n",
      "\u001b[A\u001b[A\u001b[A\n",
      "\n",
      "\n",
      "\n",
      "\u001b[A\u001b[A\u001b[A\u001b[A\n",
      "\n",
      "\n",
      "\n",
      "\n",
      "\u001b[A\u001b[A\u001b[A\u001b[A\u001b[A\n",
      "                                                             \n"
     ]
    },
    {
     "name": "stdout",
     "output_type": "stream",
     "text": [
      "Moviepy - Building video ../storage/datasets/debug/selamat pagi_7.mp4.\n"
     ]
    },
    {
     "name": "stderr",
     "output_type": "stream",
     "text": [
      "\u001b[A                                                          \n",
      "\n",
      "\u001b[A\u001b[A                                                      \n",
      "\n",
      "\n",
      "\u001b[A\u001b[A\u001b[A                                                  \n",
      "\n",
      "\n",
      "\n",
      "\u001b[A\u001b[A\u001b[A\u001b[A                                               \n",
      "\n",
      "\n",
      "\n",
      "\n",
      "\u001b[A\u001b[A\u001b[A\u001b[A\u001b[A                                            \n",
      "\n",
      "\n",
      "\n",
      "\n",
      "\n",
      "t:  84%|████████▎ | 51/61 [00:01<00:00, 198.85it/s, now=None]\n",
      "\u001b[A\n",
      "\n",
      "\u001b[A\u001b[A\n",
      "\n",
      "\n",
      "\u001b[A\u001b[A\u001b[A\n",
      "\n",
      "\n",
      "\n",
      "\u001b[A\u001b[A\u001b[A\u001b[A\n",
      "\n",
      "\n",
      "\n",
      "\n",
      "\u001b[A\u001b[A\u001b[A\u001b[A\u001b[A"
     ]
    },
    {
     "name": "stdout",
     "output_type": "stream",
     "text": [
      "Moviepy - Writing video ../storage/datasets/debug/selamat pagi_7.mp4\n",
      "\n"
     ]
    },
    {
     "name": "stderr",
     "output_type": "stream",
     "text": [
      "\n",
      "\n",
      "\n",
      "\n",
      "\n",
      "\n",
      "\u001b[A\u001b[A\u001b[A\u001b[A\u001b[A\u001b[A\n",
      "\n",
      "\u001b[A\u001b[A\n",
      "\n",
      "\n",
      "\u001b[A\u001b[A\u001b[A\n",
      "\n",
      "\n",
      "\n",
      "\u001b[A\u001b[A\u001b[A\u001b[A\n",
      "\n",
      "\u001b[A\u001b[A\n",
      "\n",
      "\n",
      "\u001b[A\u001b[A\u001b[A\n",
      "\n",
      "\n",
      "\n",
      "\n",
      "\u001b[A\u001b[A\u001b[A\u001b[A\u001b[A\n",
      "\n",
      "\n",
      "\n",
      "\n",
      "\n",
      "\u001b[A\u001b[A\u001b[A\u001b[A\u001b[A\u001b[A\n",
      "\n",
      "\n",
      "\n",
      "\u001b[A\u001b[A\u001b[A\u001b[A\n",
      "\n",
      "\u001b[A\u001b[A\n",
      "\n",
      "\n",
      "\u001b[A\u001b[A\u001b[A\n",
      "\n",
      "\n",
      "\n",
      "\n",
      "\u001b[A\u001b[A\u001b[A\u001b[A\u001b[A\n",
      "\n",
      "\n",
      "\n",
      "\n",
      "\n",
      "\u001b[A\u001b[A\u001b[A\u001b[A\u001b[A\u001b[A\n",
      "\n",
      "\u001b[A\u001b[A\n",
      "\n",
      "\n",
      "\n",
      "\u001b[A\u001b[A\u001b[A\u001b[A\n",
      "\n",
      "\n",
      "\u001b[A\u001b[A\u001b[A\n",
      "\n",
      "\n",
      "\n",
      "\n",
      "\u001b[A\u001b[A\u001b[A\u001b[A\u001b[A\n",
      "\n",
      "\u001b[A\u001b[A\n",
      "\n",
      "\n",
      "\n",
      "\n",
      "\u001b[A\u001b[A\u001b[A\u001b[A\u001b[A\n",
      "\n",
      "\n",
      "\n",
      "\u001b[A\u001b[A\u001b[A\u001b[A\n",
      "\n",
      "\n",
      "\u001b[A\u001b[A\u001b[A\n",
      "\n",
      "\n",
      "\n",
      "\n",
      "\u001b[A\u001b[A\u001b[A\u001b[A\u001b[A\n",
      "\n",
      "\n",
      "\n",
      "\u001b[A\u001b[A\u001b[A\u001b[A\n",
      "\n",
      "\n",
      "\u001b[A\u001b[A\u001b[A\n",
      "\n",
      "\n",
      "\n",
      "\u001b[A\u001b[A\u001b[A\u001b[A\n",
      "\n",
      "\n",
      "\n",
      "\n",
      "\n",
      "\u001b[A\u001b[A\u001b[A\u001b[A\u001b[A\u001b[A\n",
      "\n",
      "\n",
      "\n",
      "\n",
      "\u001b[A\u001b[A\u001b[A\u001b[A\u001b[A\n",
      "\n",
      "\n",
      "\n",
      "\n",
      "\n",
      "\u001b[A\u001b[A\u001b[A\u001b[A\u001b[A\u001b[A\n",
      "\n",
      "\n",
      "\n",
      "\n",
      "\n",
      "\u001b[A\u001b[A\u001b[A\u001b[A\u001b[A\u001b[A\n",
      "\n",
      "\u001b[A\u001b[A\n",
      "\n",
      "\n",
      "\n",
      "\n",
      "\u001b[A\u001b[A\u001b[A\u001b[A\u001b[A\n",
      "\u001b[A\n",
      "\n",
      "\n",
      "\u001b[A\u001b[A\u001b[A\n",
      "\n",
      "\n",
      "\u001b[A\u001b[A\u001b[A\n",
      "\n",
      "\u001b[A\u001b[A\n",
      "\n",
      "\n",
      "\n",
      "                                                             \n",
      "\n",
      "\n",
      "\n",
      "\u001b[A\u001b[A\u001b[A\u001b[A\n",
      "\n",
      "\n",
      "\n",
      "\n",
      "\n",
      "\u001b[A\u001b[A\u001b[A\u001b[A\u001b[A\u001b[A\n",
      "\n",
      "\n",
      "\n",
      "\n",
      "\u001b[A\u001b[A\u001b[A\u001b[A\u001b[A\n",
      "\u001b[A\n",
      "\u001b[A"
     ]
    },
    {
     "name": "stdout",
     "output_type": "stream",
     "text": [
      "Moviepy - Done !\n",
      "Moviepy - video ready ../storage/datasets/debug/selamat pagi_0.mp4\n",
      "Moviepy - Done !\n",
      "Moviepy - video ready ../storage/datasets/debug/selamat pagi_6.mp4\n",
      "Moviepy - Done !\n",
      "Moviepy - video ready ../storage/datasets/debug/selamat pagi_7.mp4\n",
      "Moviepy - Done !\n",
      "Moviepy - video ready ../storage/datasets/debug/selamat pagi_4.mp4\n",
      "Moviepy - Done !\n",
      "Moviepy - video ready ../storage/datasets/debug/selamat pagi_1.mp4\n",
      "Moviepy - Done !\n",
      "Moviepy - video ready ../storage/datasets/debug/selamat pagi_5.mp4\n",
      "Moviepy - Done !\n",
      "Moviepy - video ready ../storage/datasets/debug/selamat pagi_2.mp4\n",
      "Moviepy - Done !\n",
      "Moviepy - video ready ../storage/datasets/debug/selamat pagi_3.mp4\n",
      "Moviepy - Building video ../storage/datasets/debug/selamat pagi_0.mp4.\n",
      "Moviepy - Writing video ../storage/datasets/debug/selamat pagi_0.mp4\n",
      "\n"
     ]
    },
    {
     "name": "stderr",
     "output_type": "stream",
     "text": [
      "                                                             \r"
     ]
    },
    {
     "name": "stdout",
     "output_type": "stream",
     "text": [
      "Moviepy - Building video ../storage/datasets/debug/selamat pagi_6.mp4.\n",
      "Moviepy - Writing video ../storage/datasets/debug/selamat pagi_6.mp4\n",
      "\n"
     ]
    },
    {
     "name": "stderr",
     "output_type": "stream",
     "text": [
      "                                                             \r"
     ]
    },
    {
     "name": "stdout",
     "output_type": "stream",
     "text": [
      "Moviepy - Done !\n",
      "Moviepy - video ready ../storage/datasets/debug/selamat pagi_0.mp4\n",
      "[selamat pagi]\t8\n",
      "Moviepy - Done !\n",
      "Moviepy - video ready ../storage/datasets/debug/selamat pagi_6.mp4\n",
      "[selamat pagi]\t9\n",
      "Moviepy - Building video ../storage/datasets/debug/selamat pagi_7.mp4.\n",
      "Moviepy - Writing video ../storage/datasets/debug/selamat pagi_7.mp4\n",
      "\n"
     ]
    },
    {
     "name": "stderr",
     "output_type": "stream",
     "text": [
      "                                                             \r"
     ]
    },
    {
     "name": "stdout",
     "output_type": "stream",
     "text": [
      "Moviepy - Done !\n",
      "Moviepy - video ready ../storage/datasets/debug/selamat pagi_7.mp4\n",
      "[selamat pagi]\t10\n",
      "Moviepy - Building video ../storage/datasets/debug/selamat pagi_4.mp4.\n",
      "Moviepy - Writing video ../storage/datasets/debug/selamat pagi_4.mp4\n",
      "\n"
     ]
    },
    {
     "name": "stderr",
     "output_type": "stream",
     "text": [
      "                                                             \r"
     ]
    },
    {
     "name": "stdout",
     "output_type": "stream",
     "text": [
      "Moviepy - Building video ../storage/datasets/debug/selamat pagi_1.mp4.\n",
      "Moviepy - Writing video ../storage/datasets/debug/selamat pagi_1.mp4\n",
      "\n"
     ]
    },
    {
     "name": "stderr",
     "output_type": "stream",
     "text": [
      "t:  93%|█████████▎| 57/61 [00:01<00:00, 79.54it/s, now=None]"
     ]
    },
    {
     "name": "stdout",
     "output_type": "stream",
     "text": [
      "Moviepy - Building video ../storage/datasets/debug/selamat pagi_5.mp4.\n",
      "Moviepy - Writing video ../storage/datasets/debug/selamat pagi_5.mp4\n",
      "\n"
     ]
    },
    {
     "name": "stderr",
     "output_type": "stream",
     "text": [
      "                                                            \n",
      "                                                             \n",
      "t: 100%|██████████| 61/61 [00:01<00:00, 40.86it/s, now=None] "
     ]
    },
    {
     "name": "stdout",
     "output_type": "stream",
     "text": [
      "Moviepy - Building video ../storage/datasets/debug/selamat pagi_2.mp4.\n",
      "Moviepy - Writing video ../storage/datasets/debug/selamat pagi_2.mp4\n",
      "\n"
     ]
    },
    {
     "name": "stderr",
     "output_type": "stream",
     "text": [
      "\n",
      "\u001b[A\n",
      "\u001b[A\n",
      "\u001b[A\n",
      "\u001b[A\n",
      "                                                            \n",
      "\u001b[A                                                          \n",
      "\n",
      "t: 100%|██████████| 61/61 [00:02<00:00, 40.86it/s, now=None]\n",
      "                                                            \n",
      "\u001b[A                                                          \n",
      "\n",
      "t: 100%|██████████| 61/61 [00:02<00:00, 40.86it/s, now=None]\n",
      "\u001b[A"
     ]
    },
    {
     "name": "stdout",
     "output_type": "stream",
     "text": [
      "Moviepy - Building video ../storage/datasets/debug/selamat pagi_3.mp4.\n",
      "Moviepy - Writing video ../storage/datasets/debug/selamat pagi_3.mp4\n",
      "\n"
     ]
    },
    {
     "name": "stderr",
     "output_type": "stream",
     "text": [
      "\n",
      "\n",
      "\u001b[A\u001b[A\n",
      "\n",
      "\u001b[A\u001b[A\n",
      "\n",
      "\u001b[A\u001b[A\n",
      "\n",
      "                                                            \n",
      "\u001b[A\n",
      "\n",
      "\u001b[A\u001b[A"
     ]
    },
    {
     "name": "stdout",
     "output_type": "stream",
     "text": [
      "Moviepy - Done !\n",
      "Moviepy - video ready ../storage/datasets/debug/selamat pagi_4.mp4\n",
      "[selamat pagi]\t11\n",
      "Moviepy - Building video ../storage/datasets/debug/selamat pagi_8.mp4.\n",
      "Moviepy - Writing video ../storage/datasets/debug/selamat pagi_8.mp4\n",
      "\n"
     ]
    },
    {
     "name": "stderr",
     "output_type": "stream",
     "text": [
      "t:  85%|████████▌ | 52/61 [00:00<00:00, 106.39it/s, now=None]"
     ]
    },
    {
     "name": "stdout",
     "output_type": "stream",
     "text": [
      "Moviepy - Building video ../storage/datasets/debug/selamat pagi_9.mp4.\n",
      "Moviepy - Writing video ../storage/datasets/debug/selamat pagi_9.mp4\n",
      "\n"
     ]
    },
    {
     "name": "stderr",
     "output_type": "stream",
     "text": [
      "                                                             \n",
      "                                                             \n",
      "t:  87%|████████▋ | 53/61 [00:02<00:00, 106.39it/s, now=None]"
     ]
    },
    {
     "name": "stdout",
     "output_type": "stream",
     "text": [
      "Moviepy - Building video ../storage/datasets/debug/selamat pagi_10.mp4.\n",
      "Moviepy - Writing video ../storage/datasets/debug/selamat pagi_10.mp4\n",
      "\n"
     ]
    },
    {
     "name": "stderr",
     "output_type": "stream",
     "text": [
      "\n",
      "\u001b[A\n",
      "\u001b[A\n",
      "\u001b[A\n",
      "                                                             \n",
      "\n",
      "t: 100%|██████████| 61/61 [00:05<00:00,  9.27it/s, now=None] \n",
      "                                                            \n",
      "\n",
      "t: 100%|██████████| 61/61 [00:05<00:00,  9.27it/s, now=None] \n",
      "                                                            \n",
      "\n",
      "t: 100%|██████████| 61/61 [00:05<00:00,  9.27it/s, now=None] \n",
      "                                                            \n",
      "\n",
      "t: 100%|██████████| 61/61 [00:05<00:00,  9.27it/s, now=None] \n",
      "\u001b[A"
     ]
    },
    {
     "name": "stdout",
     "output_type": "stream",
     "text": [
      "Moviepy - Building video ../storage/datasets/debug/selamat pagi_11.mp4.\n",
      "Moviepy - Writing video ../storage/datasets/debug/selamat pagi_11.mp4\n",
      "\n",
      "Moviepy - Done !\n",
      "Moviepy - video ready ../storage/datasets/debug/selamat pagi_1.mp4\n"
     ]
    },
    {
     "name": "stderr",
     "output_type": "stream",
     "text": []
    },
    {
     "name": "stdout",
     "output_type": "stream",
     "text": [
      "[selamat pagi]\t12\n"
     ]
    },
    {
     "name": "stderr",
     "output_type": "stream",
     "text": [
      "\n",
      "                                                            "
     ]
    },
    {
     "name": "stdout",
     "output_type": "stream",
     "text": [
      "Moviepy - Done !\n",
      "Moviepy - video ready ../storage/datasets/debug/selamat pagi_2.mp4\n",
      "[selamat pagi]\t13\n",
      "Moviepy - Done !\n",
      "Moviepy - video ready ../storage/datasets/debug/selamat pagi_3.mp4\n",
      "[selamat pagi]\t14\n",
      "Moviepy - Building video ../storage/datasets/debug/selamat pagi_12.mp4.\n",
      "Moviepy - Writing video ../storage/datasets/debug/selamat pagi_12.mp4\n",
      "\n"
     ]
    },
    {
     "name": "stderr",
     "output_type": "stream",
     "text": [
      "t:  54%|█████▍    | 33/61 [00:00<00:00, 87.17it/s, now=None]"
     ]
    },
    {
     "name": "stdout",
     "output_type": "stream",
     "text": [
      "Moviepy - Done !\n",
      "Moviepy - video ready ../storage/datasets/debug/selamat pagi_5.mp4\n",
      "[selamat pagi]\t15\n"
     ]
    },
    {
     "name": "stderr",
     "output_type": "stream",
     "text": [
      "                                                            \r"
     ]
    },
    {
     "name": "stdout",
     "output_type": "stream",
     "text": [
      "Moviepy - Done !\n",
      "Moviepy - video ready ../storage/datasets/debug/selamat pagi_9.mp4\n",
      "Moviepy - Done !\n",
      "Moviepy - video ready ../storage/datasets/debug/selamat pagi_8.mp4\n",
      "Moviepy - Building video ../storage/datasets/debug/selamat pagi_13.mp4.\n",
      "Moviepy - Writing video ../storage/datasets/debug/selamat pagi_13.mp4\n",
      "\n",
      "Moviepy - Done !\n",
      "Moviepy - video ready ../storage/datasets/debug/selamat pagi_10.mp4\n"
     ]
    },
    {
     "name": "stderr",
     "output_type": "stream",
     "text": [
      "t:  87%|████████▋ | 53/61 [00:01<00:00, 134.38it/s, now=None]"
     ]
    },
    {
     "name": "stdout",
     "output_type": "stream",
     "text": [
      "Moviepy - Done !\n",
      "Moviepy - video ready ../storage/datasets/debug/selamat pagi_11.mp4\n"
     ]
    },
    {
     "name": "stderr",
     "output_type": "stream",
     "text": [
      "t:  95%|█████████▌| 58/61 [00:02<00:00, 134.38it/s, now=None]"
     ]
    },
    {
     "name": "stdout",
     "output_type": "stream",
     "text": [
      "Moviepy - Building video ../storage/datasets/debug/selamat pagi_14.mp4.\n",
      "Moviepy - Writing video ../storage/datasets/debug/selamat pagi_14.mp4\n",
      "\n"
     ]
    },
    {
     "name": "stderr",
     "output_type": "stream",
     "text": [
      "                                                             "
     ]
    },
    {
     "name": "stdout",
     "output_type": "stream",
     "text": [
      "Moviepy - Done !\n",
      "Moviepy - video ready ../storage/datasets/debug/selamat pagi_12.mp4\n",
      "Moviepy - Building video ../storage/datasets/debug/selamat pagi_15.mp4.\n",
      "Moviepy - Writing video ../storage/datasets/debug/selamat pagi_15.mp4\n",
      "\n"
     ]
    },
    {
     "name": "stderr",
     "output_type": "stream",
     "text": [
      "                                                             \r"
     ]
    },
    {
     "name": "stdout",
     "output_type": "stream",
     "text": [
      "Moviepy - Done !\n",
      "Moviepy - video ready ../storage/datasets/debug/selamat pagi_13.mp4\n",
      "Moviepy - Done !\n",
      "Moviepy - video ready ../storage/datasets/debug/selamat pagi_14.mp4\n",
      "Moviepy - Done !\n",
      "Moviepy - video ready ../storage/datasets/debug/selamat pagi_15.mp4\n",
      "Moviepy - Building video ../storage/datasets/debug/selamat pagi_9.mp4.\n",
      "Moviepy - Writing video ../storage/datasets/debug/selamat pagi_9.mp4\n",
      "\n"
     ]
    },
    {
     "name": "stderr",
     "output_type": "stream",
     "text": [
      "                                                             \r"
     ]
    },
    {
     "name": "stdout",
     "output_type": "stream",
     "text": [
      "Moviepy - Done !\n",
      "Moviepy - video ready ../storage/datasets/debug/selamat pagi_9.mp4\n",
      "[selamat pagi]\t16\n",
      "Moviepy - Building video ../storage/datasets/debug/selamat pagi_8.mp4.\n",
      "Moviepy - Writing video ../storage/datasets/debug/selamat pagi_8.mp4\n",
      "\n"
     ]
    },
    {
     "name": "stderr",
     "output_type": "stream",
     "text": [
      "                                                             \r"
     ]
    },
    {
     "name": "stdout",
     "output_type": "stream",
     "text": [
      "Moviepy - Building video ../storage/datasets/debug/selamat pagi_10.mp4.\n",
      "Moviepy - Writing video ../storage/datasets/debug/selamat pagi_10.mp4\n",
      "\n"
     ]
    },
    {
     "name": "stderr",
     "output_type": "stream",
     "text": [
      "t: 100%|██████████| 61/61 [00:01<00:00, 41.02it/s, now=None] "
     ]
    },
    {
     "name": "stdout",
     "output_type": "stream",
     "text": [
      "Moviepy - Building video ../storage/datasets/debug/selamat pagi_11.mp4.\n",
      "Moviepy - Writing video ../storage/datasets/debug/selamat pagi_11.mp4\n",
      "\n"
     ]
    },
    {
     "name": "stderr",
     "output_type": "stream",
     "text": [
      "                                                            "
     ]
    },
    {
     "name": "stdout",
     "output_type": "stream",
     "text": [
      "Moviepy - Done !\n",
      "Moviepy - video ready ../storage/datasets/debug/selamat pagi_8.mp4\n",
      "[selamat pagi]\t17\n",
      "Moviepy - Building video ../storage/datasets/debug/selamat pagi_12.mp4.\n",
      "Moviepy - Writing video ../storage/datasets/debug/selamat pagi_12.mp4\n",
      "\n"
     ]
    },
    {
     "name": "stderr",
     "output_type": "stream",
     "text": [
      "                                                             \r"
     ]
    },
    {
     "name": "stdout",
     "output_type": "stream",
     "text": [
      "Moviepy - Done !\n",
      "Moviepy - video ready ../storage/datasets/debug/selamat pagi_10.mp4\n",
      "[selamat pagi]\t18\n",
      "Moviepy - Building video ../storage/datasets/debug/selamat pagi_13.mp4.\n",
      "Moviepy - Writing video ../storage/datasets/debug/selamat pagi_13.mp4\n",
      "\n"
     ]
    },
    {
     "name": "stderr",
     "output_type": "stream",
     "text": [
      "t:  89%|████████▊ | 54/61 [00:00<00:00, 83.24it/s, now=None] "
     ]
    },
    {
     "name": "stdout",
     "output_type": "stream",
     "text": [
      "Moviepy - Done !\n",
      "Moviepy - video ready ../storage/datasets/debug/selamat pagi_11.mp4\n",
      "[selamat pagi]\t19\n",
      "Moviepy - Building video ../storage/datasets/debug/selamat pagi_14.mp4.\n",
      "Moviepy - Writing video ../storage/datasets/debug/selamat pagi_14.mp4\n",
      "\n"
     ]
    },
    {
     "name": "stderr",
     "output_type": "stream",
     "text": [
      "                                                            \n",
      "\u001b[A                                                         \n",
      "\u001b[A                                                         "
     ]
    },
    {
     "name": "stdout",
     "output_type": "stream",
     "text": [
      "Moviepy - Building video ../storage/datasets/debug/selamat pagi_15.mp4.\n",
      "Moviepy - Writing video ../storage/datasets/debug/selamat pagi_15.mp4\n",
      "\n"
     ]
    },
    {
     "name": "stderr",
     "output_type": "stream",
     "text": [
      "                                                             \r"
     ]
    },
    {
     "name": "stdout",
     "output_type": "stream",
     "text": [
      "Moviepy - Done !\n",
      "Moviepy - video ready ../storage/datasets/debug/selamat pagi_12.mp4\n",
      "[selamat pagi]\t20\n",
      "Moviepy - Building video ../storage/datasets/debug/selamat pagi_16.mp4.\n",
      "Moviepy - Writing video ../storage/datasets/debug/selamat pagi_16.mp4\n",
      "\n"
     ]
    },
    {
     "name": "stderr",
     "output_type": "stream",
     "text": [
      "                                                             \r"
     ]
    },
    {
     "name": "stdout",
     "output_type": "stream",
     "text": [
      "Moviepy - Done !\n",
      "Moviepy - video ready ../storage/datasets/debug/selamat pagi_13.mp4\n",
      "[selamat pagi]\t21\n",
      "Moviepy - Done !\n",
      "Moviepy - video ready ../storage/datasets/debug/selamat pagi_14.mp4\n",
      "[selamat pagi]\t22\n",
      "Moviepy - Building video ../storage/datasets/debug/selamat pagi_17.mp4.\n",
      "Moviepy - Writing video ../storage/datasets/debug/selamat pagi_17.mp4\n",
      "\n"
     ]
    },
    {
     "name": "stderr",
     "output_type": "stream",
     "text": [
      "t:  93%|█████████▎| 57/61 [00:01<00:00, 146.77it/s, now=None]"
     ]
    },
    {
     "name": "stdout",
     "output_type": "stream",
     "text": [
      "Moviepy - Done !\n",
      "Moviepy - video ready ../storage/datasets/debug/selamat pagi_15.mp4\n",
      "[selamat pagi]\t23\n"
     ]
    },
    {
     "name": "stderr",
     "output_type": "stream",
     "text": [
      "                                                             \r"
     ]
    },
    {
     "name": "stdout",
     "output_type": "stream",
     "text": [
      "Moviepy - Building video ../storage/datasets/debug/selamat pagi_18.mp4.\n",
      "Moviepy - Writing video ../storage/datasets/debug/selamat pagi_18.mp4\n",
      "\n"
     ]
    },
    {
     "name": "stderr",
     "output_type": "stream",
     "text": [
      "                                                             \r"
     ]
    },
    {
     "name": "stdout",
     "output_type": "stream",
     "text": [
      "Moviepy - Done !\n",
      "Moviepy - video ready ../storage/datasets/debug/selamat pagi_16.mp4\n",
      "Moviepy - Building video ../storage/datasets/debug/selamat pagi_19.mp4.\n",
      "Moviepy - Writing video ../storage/datasets/debug/selamat pagi_19.mp4\n",
      "\n"
     ]
    },
    {
     "name": "stderr",
     "output_type": "stream",
     "text": [
      "t:  87%|████████▋ | 53/61 [00:01<00:00, 92.05it/s, now=None] "
     ]
    },
    {
     "name": "stdout",
     "output_type": "stream",
     "text": [
      "Moviepy - Done !\n",
      "Moviepy - video ready ../storage/datasets/debug/selamat pagi_17.mp4\n"
     ]
    },
    {
     "name": "stderr",
     "output_type": "stream",
     "text": [
      "                                                            \r"
     ]
    },
    {
     "name": "stdout",
     "output_type": "stream",
     "text": [
      "Moviepy - Done !\n",
      "Moviepy - video ready ../storage/datasets/debug/selamat pagi_18.mp4\n",
      "Moviepy - Done !\n",
      "Moviepy - video ready ../storage/datasets/debug/selamat pagi_19.mp4\n",
      "Moviepy - Building video ../storage/datasets/debug/selamat pagi_20.mp4.\n",
      "Moviepy - Writing video ../storage/datasets/debug/selamat pagi_20.mp4\n",
      "\n"
     ]
    },
    {
     "name": "stderr",
     "output_type": "stream",
     "text": [
      "                                                             \r"
     ]
    },
    {
     "name": "stdout",
     "output_type": "stream",
     "text": [
      "Moviepy - Done !\n",
      "Moviepy - video ready ../storage/datasets/debug/selamat pagi_20.mp4\n",
      "Moviepy - Building video ../storage/datasets/debug/selamat pagi_21.mp4.\n",
      "Moviepy - Writing video ../storage/datasets/debug/selamat pagi_21.mp4\n",
      "\n"
     ]
    },
    {
     "name": "stderr",
     "output_type": "stream",
     "text": [
      "t:  93%|█████████▎| 57/61 [00:00<00:00, 110.77it/s, now=None]"
     ]
    },
    {
     "name": "stdout",
     "output_type": "stream",
     "text": [
      "Moviepy - Building video ../storage/datasets/debug/selamat pagi_22.mp4.\n",
      "Moviepy - Writing video ../storage/datasets/debug/selamat pagi_22.mp4\n",
      "\n"
     ]
    },
    {
     "name": "stderr",
     "output_type": "stream",
     "text": [
      "                                                             "
     ]
    },
    {
     "name": "stdout",
     "output_type": "stream",
     "text": [
      "Moviepy - Building video ../storage/datasets/debug/selamat pagi_23.mp4.\n",
      "Moviepy - Writing video ../storage/datasets/debug/selamat pagi_23.mp4\n",
      "\n"
     ]
    },
    {
     "name": "stderr",
     "output_type": "stream",
     "text": [
      "                                                             \r"
     ]
    },
    {
     "name": "stdout",
     "output_type": "stream",
     "text": [
      "Moviepy - Done !\n",
      "Moviepy - video ready ../storage/datasets/debug/selamat pagi_22.mp4\n",
      "Moviepy - Done !\n",
      "Moviepy - video ready ../storage/datasets/debug/selamat pagi_21.mp4\n",
      "Moviepy - Building video ../storage/datasets/debug/selamat pagi_16.mp4.\n",
      "Moviepy - Writing video ../storage/datasets/debug/selamat pagi_16.mp4\n",
      "\n"
     ]
    },
    {
     "name": "stderr",
     "output_type": "stream",
     "text": [
      "                                                            \r"
     ]
    },
    {
     "name": "stdout",
     "output_type": "stream",
     "text": [
      "Moviepy - Done !\n",
      "Moviepy - video ready ../storage/datasets/debug/selamat pagi_23.mp4\n",
      "Moviepy - Building video ../storage/datasets/debug/selamat pagi_17.mp4.\n",
      "Moviepy - Writing video ../storage/datasets/debug/selamat pagi_17.mp4\n",
      "\n"
     ]
    },
    {
     "name": "stderr",
     "output_type": "stream",
     "text": [
      "t:  95%|█████████▌| 58/61 [00:01<00:00, 77.50it/s, now=None]"
     ]
    },
    {
     "name": "stdout",
     "output_type": "stream",
     "text": [
      "Moviepy - Building video ../storage/datasets/debug/selamat pagi_18.mp4.\n",
      "Moviepy - Writing video ../storage/datasets/debug/selamat pagi_18.mp4\n",
      "\n"
     ]
    },
    {
     "name": "stderr",
     "output_type": "stream",
     "text": [
      "t:  97%|█████████▋| 59/61 [00:01<00:00, 26.03it/s, now=None]\n",
      "t:  98%|█████████▊| 60/61 [00:03<00:00, 26.03it/s, now=None]\n",
      "t:  98%|█████████▊| 60/61 [00:03<00:00, 26.03it/s, now=None]"
     ]
    },
    {
     "name": "stdout",
     "output_type": "stream",
     "text": [
      "Moviepy - Building video ../storage/datasets/debug/selamat pagi_19.mp4.\n",
      "Moviepy - Writing video ../storage/datasets/debug/selamat pagi_19.mp4\n",
      "\n"
     ]
    },
    {
     "name": "stderr",
     "output_type": "stream",
     "text": [
      "\n",
      "\u001b[A\n",
      "\u001b[A\n",
      "\u001b[A\n",
      "                                                            \n",
      "\n",
      "\u001b[A\u001b[A                                                       \n",
      "\u001b[A\n",
      "\n",
      "\u001b[A\u001b[A                                                       \n",
      "\u001b[A"
     ]
    },
    {
     "name": "stdout",
     "output_type": "stream",
     "text": [
      "Moviepy - Building video ../storage/datasets/debug/selamat pagi_20.mp4.\n",
      "Moviepy - Writing video ../storage/datasets/debug/selamat pagi_20.mp4\n",
      "\n"
     ]
    },
    {
     "name": "stderr",
     "output_type": "stream",
     "text": [
      "                                                            \n",
      "\n",
      "t:  87%|████████▋ | 53/61 [00:02<00:00, 95.49it/s, now=None] \n",
      "                                                            \n",
      "\n",
      "t:  87%|████████▋ | 53/61 [00:02<00:00, 95.49it/s, now=None] \n",
      "\u001b[A"
     ]
    },
    {
     "name": "stdout",
     "output_type": "stream",
     "text": [
      "Moviepy - Done !\n",
      "Moviepy - video ready ../storage/datasets/debug/selamat pagi_16.mp4\n",
      "[selamat pagi]\t24\n"
     ]
    },
    {
     "name": "stderr",
     "output_type": "stream",
     "text": [
      "\n",
      "                                                            \r"
     ]
    },
    {
     "name": "stdout",
     "output_type": "stream",
     "text": [
      "Moviepy - Building video ../storage/datasets/debug/selamat pagi_22.mp4.\n",
      "Moviepy - Writing video ../storage/datasets/debug/selamat pagi_22.mp4\n",
      "\n"
     ]
    },
    {
     "name": "stderr",
     "output_type": "stream",
     "text": [
      "t:  89%|████████▊ | 54/61 [00:01<00:00, 111.62it/s, now=None]"
     ]
    },
    {
     "name": "stdout",
     "output_type": "stream",
     "text": [
      "Moviepy - Building video ../storage/datasets/debug/selamat pagi_21.mp4.\n",
      "Moviepy - Writing video ../storage/datasets/debug/selamat pagi_21.mp4\n",
      "\n"
     ]
    },
    {
     "name": "stderr",
     "output_type": "stream",
     "text": [
      "                                                             \n",
      "                                                             \n",
      "t:  89%|████████▊ | 54/61 [00:01<00:00, 111.62it/s, now=None]"
     ]
    },
    {
     "name": "stdout",
     "output_type": "stream",
     "text": [
      "Moviepy - Building video ../storage/datasets/debug/selamat pagi_23.mp4.\n",
      "Moviepy - Writing video ../storage/datasets/debug/selamat pagi_23.mp4\n",
      "\n"
     ]
    },
    {
     "name": "stderr",
     "output_type": "stream",
     "text": [
      "\n",
      "\u001b[A\n",
      "\u001b[A\n",
      "\u001b[A\n",
      "\u001b[A\n",
      "                                                             \n",
      "\u001b[A                                                         \n",
      "\n",
      "t:  98%|█████████▊| 60/61 [00:03<00:00, 10.85it/s, now=None]\n",
      "                                                            \n",
      "\u001b[A                                                         \n",
      "\n",
      "t:  98%|█████████▊| 60/61 [00:03<00:00, 10.85it/s, now=None]\n",
      "\u001b[A"
     ]
    },
    {
     "name": "stdout",
     "output_type": "stream",
     "text": [
      "Moviepy - Building video ../storage/datasets/debug/selamat pagi_24.mp4.\n",
      "Moviepy - Writing video ../storage/datasets/debug/selamat pagi_24.mp4\n",
      "\n"
     ]
    },
    {
     "name": "stderr",
     "output_type": "stream",
     "text": [
      "\n",
      "\n",
      "\u001b[A\u001b[A\n",
      "\n",
      "\u001b[A\u001b[A\n",
      "\n",
      "\u001b[A\u001b[A\n",
      "\u001b[A\n",
      "\u001b[A\n",
      "\n",
      "                                                            \n",
      "\n",
      "\u001b[A\u001b[A"
     ]
    },
    {
     "name": "stdout",
     "output_type": "stream",
     "text": [
      "Moviepy - Done !\n",
      "Moviepy - video ready ../storage/datasets/debug/selamat pagi_18.mp4\n",
      "[selamat pagi]\t25\n",
      "Moviepy - Done !\n",
      "Moviepy - video ready ../storage/datasets/debug/selamat pagi_17.mp4\n",
      "[selamat pagi]\t26\n",
      "Moviepy - Done !\n",
      "Moviepy - video ready ../storage/datasets/debug/selamat pagi_19.mp4\n",
      "[selamat pagi]\t27\n",
      "Moviepy - Done !\n",
      "Moviepy - video ready ../storage/datasets/debug/selamat pagi_20.mp4\n",
      "[selamat pagi]\t28\n",
      "Moviepy - Done !\n",
      "Moviepy - video ready ../storage/datasets/debug/selamat pagi_23.mp4\n",
      "[selamat pagi]\t29\n",
      "Moviepy - Done !\n",
      "Moviepy - video ready ../storage/datasets/debug/selamat pagi_22.mp4\n",
      "[selamat pagi]\t30\n",
      "Moviepy - Done !\n",
      "Moviepy - Done !\n",
      "Moviepy - video ready ../storage/datasets/debug/selamat pagi_21.mp4\n",
      "Moviepy - video ready ../storage/datasets/debug/selamat pagi_24.mp4\n",
      "[selamat pagi]\t31\n",
      "Moviepy - Building video ../storage/datasets/debug/selamat pagi_25.mp4.\n",
      "Moviepy - Writing video ../storage/datasets/debug/selamat pagi_25.mp4\n",
      "\n"
     ]
    },
    {
     "name": "stderr",
     "output_type": "stream",
     "text": [
      "                                                             \r"
     ]
    },
    {
     "name": "stdout",
     "output_type": "stream",
     "text": [
      "Moviepy - Done !\n",
      "Moviepy - video ready ../storage/datasets/debug/selamat pagi_25.mp4\n",
      "Moviepy - Building video ../storage/datasets/debug/selamat pagi_26.mp4.\n",
      "Moviepy - Writing video ../storage/datasets/debug/selamat pagi_26.mp4\n",
      "\n"
     ]
    },
    {
     "name": "stderr",
     "output_type": "stream",
     "text": [
      "                                                             \r"
     ]
    },
    {
     "name": "stdout",
     "output_type": "stream",
     "text": [
      "Moviepy - Done !\n",
      "Moviepy - video ready ../storage/datasets/debug/selamat pagi_26.mp4\n",
      "Moviepy - Building video ../storage/datasets/debug/selamat pagi_27.mp4.\n",
      "Moviepy - Writing video ../storage/datasets/debug/selamat pagi_27.mp4\n",
      "\n"
     ]
    },
    {
     "name": "stderr",
     "output_type": "stream",
     "text": [
      "                                                             \r"
     ]
    },
    {
     "name": "stdout",
     "output_type": "stream",
     "text": [
      "Moviepy - Done !\n",
      "Moviepy - video ready ../storage/datasets/debug/selamat pagi_27.mp4\n",
      "Moviepy - Building video ../storage/datasets/debug/selamat pagi_28.mp4.\n",
      "Moviepy - Writing video ../storage/datasets/debug/selamat pagi_28.mp4\n",
      "\n"
     ]
    },
    {
     "name": "stderr",
     "output_type": "stream",
     "text": [
      "                                                             \r"
     ]
    },
    {
     "name": "stdout",
     "output_type": "stream",
     "text": [
      "Moviepy - Done !\n",
      "Moviepy - video ready ../storage/datasets/debug/selamat pagi_28.mp4\n",
      "Moviepy - Building video ../storage/datasets/debug/selamat pagi_29.mp4.\n",
      "Moviepy - Writing video ../storage/datasets/debug/selamat pagi_29.mp4\n",
      "\n"
     ]
    },
    {
     "name": "stderr",
     "output_type": "stream",
     "text": [
      "                                                             \r"
     ]
    },
    {
     "name": "stdout",
     "output_type": "stream",
     "text": [
      "Moviepy - Building video ../storage/datasets/debug/selamat pagi_30.mp4.\n",
      "Moviepy - Writing video ../storage/datasets/debug/selamat pagi_30.mp4\n",
      "\n"
     ]
    },
    {
     "name": "stderr",
     "output_type": "stream",
     "text": [
      "                                                            \r"
     ]
    },
    {
     "name": "stdout",
     "output_type": "stream",
     "text": [
      "Moviepy - Building video ../storage/datasets/debug/selamat pagi_31.mp4.\n",
      "Moviepy - Writing video ../storage/datasets/debug/selamat pagi_31.mp4\n",
      "\n"
     ]
    },
    {
     "name": "stderr",
     "output_type": "stream",
     "text": [
      "t:  72%|███████▏  | 44/61 [00:00<00:00, 123.82it/s, now=None]"
     ]
    },
    {
     "name": "stdout",
     "output_type": "stream",
     "text": [
      "Moviepy - Building video ../storage/datasets/debug/selamat pagi_24.mp4.\n",
      "Moviepy - Writing video ../storage/datasets/debug/selamat pagi_24.mp4\n",
      "\n"
     ]
    },
    {
     "name": "stderr",
     "output_type": "stream",
     "text": [
      "                                                             \n",
      "                                                             \n",
      "t:  87%|████████▋ | 53/61 [00:01<00:00, 95.48it/s, now=None] "
     ]
    },
    {
     "name": "stdout",
     "output_type": "stream",
     "text": [
      "Moviepy - Done !\n",
      "Moviepy - video ready ../storage/datasets/debug/selamat pagi_29.mp4\n"
     ]
    },
    {
     "name": "stderr",
     "output_type": "stream",
     "text": [
      "t:  98%|█████████▊| 60/61 [00:03<00:00, 14.43it/s, now=None]"
     ]
    },
    {
     "name": "stdout",
     "output_type": "stream",
     "text": [
      "Moviepy - Done !\n",
      "Moviepy - video ready ../storage/datasets/debug/selamat pagi_30.mp4\n"
     ]
    },
    {
     "name": "stderr",
     "output_type": "stream",
     "text": [
      "                                                            \r"
     ]
    },
    {
     "name": "stdout",
     "output_type": "stream",
     "text": [
      "Moviepy - Building video ../storage/datasets/debug/selamat pagi_25.mp4.\n",
      "Moviepy - Writing video ../storage/datasets/debug/selamat pagi_25.mp4\n",
      "\n"
     ]
    },
    {
     "name": "stderr",
     "output_type": "stream",
     "text": [
      "                                                             \r"
     ]
    },
    {
     "name": "stdout",
     "output_type": "stream",
     "text": [
      "Moviepy - Building video ../storage/datasets/debug/selamat pagi_26.mp4.\n",
      "Moviepy - Writing video ../storage/datasets/debug/selamat pagi_26.mp4\n",
      "\n"
     ]
    },
    {
     "name": "stderr",
     "output_type": "stream",
     "text": [
      "                                                             \r"
     ]
    },
    {
     "name": "stdout",
     "output_type": "stream",
     "text": [
      "Moviepy - Building video ../storage/datasets/debug/selamat pagi_27.mp4.\n",
      "Moviepy - Writing video ../storage/datasets/debug/selamat pagi_27.mp4\n",
      "\n"
     ]
    },
    {
     "name": "stderr",
     "output_type": "stream",
     "text": [
      "t:  89%|████████▊ | 54/61 [00:00<00:00, 107.16it/s, now=None]"
     ]
    },
    {
     "name": "stdout",
     "output_type": "stream",
     "text": [
      "Moviepy - Done !\n",
      "Moviepy - video ready ../storage/datasets/debug/selamat pagi_24.mp4\n",
      "[selamat pagi]\t32\n"
     ]
    },
    {
     "name": "stderr",
     "output_type": "stream",
     "text": [
      "t:  89%|████████▊ | 54/61 [00:01<00:00, 107.16it/s, now=None]"
     ]
    },
    {
     "name": "stdout",
     "output_type": "stream",
     "text": [
      "Moviepy - Done !\n",
      "Moviepy - video ready ../storage/datasets/debug/selamat pagi_31.mp4\n"
     ]
    },
    {
     "name": "stderr",
     "output_type": "stream",
     "text": [
      "t: 100%|██████████| 61/61 [00:03<00:00, 12.47it/s, now=None] "
     ]
    },
    {
     "name": "stdout",
     "output_type": "stream",
     "text": [
      "Moviepy - Building video ../storage/datasets/debug/selamat pagi_28.mp4.\n",
      "Moviepy - Writing video ../storage/datasets/debug/selamat pagi_28.mp4\n",
      "\n"
     ]
    },
    {
     "name": "stderr",
     "output_type": "stream",
     "text": [
      "                                                            \n",
      "\u001b[A                                                          \n",
      "\u001b[A                                                          "
     ]
    },
    {
     "name": "stdout",
     "output_type": "stream",
     "text": [
      "Moviepy - Done !\n",
      "Moviepy - video ready ../storage/datasets/debug/selamat pagi_25.mp4\n",
      "[selamat pagi]\t33\n"
     ]
    },
    {
     "name": "stderr",
     "output_type": "stream",
     "text": []
    },
    {
     "name": "stdout",
     "output_type": "stream",
     "text": [
      "Moviepy - Done !\n",
      "Moviepy - video ready ../storage/datasets/debug/selamat pagi_26.mp4\n",
      "[selamat pagi]\t34\n",
      "Moviepy - Building video ../storage/datasets/debug/selamat pagi_29.mp4.\n",
      "Moviepy - Writing video ../storage/datasets/debug/selamat pagi_29.mp4\n",
      "\n"
     ]
    },
    {
     "name": "stderr",
     "output_type": "stream",
     "text": [
      "t:  95%|█████████▌| 58/61 [00:01<00:00, 55.76it/s, now=None]"
     ]
    },
    {
     "name": "stdout",
     "output_type": "stream",
     "text": [
      "Moviepy - Building video ../storage/datasets/debug/selamat pagi_30.mp4.\n",
      "Moviepy - Writing video ../storage/datasets/debug/selamat pagi_30.mp4\n",
      "\n"
     ]
    },
    {
     "name": "stderr",
     "output_type": "stream",
     "text": [
      "                                                            \n",
      "                                                            \n",
      "t:  95%|█████████▌| 58/61 [00:01<00:00, 55.76it/s, now=None]"
     ]
    },
    {
     "name": "stdout",
     "output_type": "stream",
     "text": [
      "Moviepy - Done !\n",
      "Moviepy - video ready ../storage/datasets/debug/selamat pagi_28.mp4\n",
      "[selamat pagi]\t35\n"
     ]
    },
    {
     "name": "stderr",
     "output_type": "stream",
     "text": [
      "                                                            \n",
      "\u001b[A                                                         \n",
      "\u001b[A                                                         "
     ]
    },
    {
     "name": "stdout",
     "output_type": "stream",
     "text": [
      "Moviepy - Done !\n",
      "Moviepy - video ready ../storage/datasets/debug/selamat pagi_27.mp4\n",
      "[selamat pagi]\t36\n"
     ]
    },
    {
     "name": "stderr",
     "output_type": "stream",
     "text": []
    },
    {
     "name": "stdout",
     "output_type": "stream",
     "text": [
      "Moviepy - Done !\n",
      "Moviepy - video ready ../storage/datasets/debug/selamat pagi_29.mp4\n",
      "[selamat pagi]\t37\n",
      "Moviepy - Done !\n",
      "Moviepy - video ready ../storage/datasets/debug/selamat pagi_30.mp4\n",
      "[selamat pagi]\t38\n",
      "Moviepy - Building video ../storage/datasets/debug/selamat pagi_32.mp4.\n",
      "Moviepy - Writing video ../storage/datasets/debug/selamat pagi_32.mp4\n",
      "\n"
     ]
    },
    {
     "name": "stderr",
     "output_type": "stream",
     "text": [
      "                                                             \r"
     ]
    },
    {
     "name": "stdout",
     "output_type": "stream",
     "text": [
      "Moviepy - Building video ../storage/datasets/debug/selamat pagi_31.mp4.\n",
      "Moviepy - Writing video ../storage/datasets/debug/selamat pagi_31.mp4\n",
      "\n"
     ]
    },
    {
     "name": "stderr",
     "output_type": "stream",
     "text": [
      "                                                             \r"
     ]
    },
    {
     "name": "stdout",
     "output_type": "stream",
     "text": [
      "Moviepy - Building video ../storage/datasets/debug/selamat pagi_33.mp4.\n",
      "Moviepy - Writing video ../storage/datasets/debug/selamat pagi_33.mp4\n",
      "\n"
     ]
    },
    {
     "name": "stderr",
     "output_type": "stream",
     "text": [
      "t:  98%|█████████▊| 60/61 [00:04<00:00, 12.79it/s, now=None]"
     ]
    },
    {
     "name": "stdout",
     "output_type": "stream",
     "text": [
      "Moviepy - Building video ../storage/datasets/debug/selamat pagi_34.mp4.\n",
      "Moviepy - Writing video ../storage/datasets/debug/selamat pagi_34.mp4\n",
      "\n"
     ]
    },
    {
     "name": "stderr",
     "output_type": "stream",
     "text": [
      "                                                            \n",
      "                                                            \n",
      "t:  98%|█████████▊| 60/61 [00:06<00:00, 12.79it/s, now=None]"
     ]
    },
    {
     "name": "stdout",
     "output_type": "stream",
     "text": [
      "Moviepy - Building video ../storage/datasets/debug/selamat pagi_35.mp4.\n",
      "Moviepy - Writing video ../storage/datasets/debug/selamat pagi_35.mp4\n",
      "\n"
     ]
    },
    {
     "name": "stderr",
     "output_type": "stream",
     "text": [
      "\n",
      "\u001b[A\n",
      "\u001b[A\n",
      "\u001b[A\n",
      "\u001b[A\n",
      "\u001b[A\n",
      "\n",
      "                                                            \n",
      "\u001b[A                                                         \n",
      "t:  98%|█████████▊| 60/61 [00:07<00:00, 12.79it/s, now=None]\n",
      "\n",
      "                                                            \n",
      "\u001b[A                                                         \n",
      "t:  98%|█████████▊| 60/61 [00:07<00:00, 12.79it/s, now=None]"
     ]
    },
    {
     "name": "stdout",
     "output_type": "stream",
     "text": [
      "Moviepy - Building video ../storage/datasets/debug/selamat pagi_36.mp4.\n",
      "Moviepy - Writing video ../storage/datasets/debug/selamat pagi_36.mp4\n",
      "\n"
     ]
    },
    {
     "name": "stderr",
     "output_type": "stream",
     "text": [
      "\n",
      "\n",
      "\u001b[A\u001b[A\n",
      "\n",
      "\u001b[A\u001b[A\n",
      "\n",
      "\u001b[A\u001b[A\n",
      "\n",
      "\u001b[A\u001b[A\n",
      "\n",
      "                                                            \n",
      "\n",
      "\u001b[A\u001b[A                                                      \n",
      "\u001b[A                                                         \n",
      "\n",
      "\n",
      "\u001b[A\u001b[A\u001b[A                                                   \n",
      "\u001b[A\n",
      "\n",
      "\u001b[A\u001b[A\n",
      "\n",
      "\u001b[A\u001b[A                                                      \n",
      "\u001b[A                                                         \n",
      "\n",
      "\n",
      "\u001b[A\u001b[A\u001b[A                                                   \n",
      "\u001b[A\n",
      "\n",
      "\u001b[A\u001b[A\n",
      "\n",
      "\u001b[A\u001b[A                                                      \n",
      "\u001b[A                                                         \n",
      "\n",
      "\n",
      "\u001b[A\u001b[A\u001b[A                                                   \n",
      "\u001b[A\n",
      "\n",
      "\u001b[A\u001b[A\n",
      "\n",
      "\u001b[A\u001b[A                                                      \n",
      "\u001b[A                                                         \n",
      "\n",
      "\n",
      "\u001b[A\u001b[A\u001b[A                                                   \n",
      "\u001b[A\n",
      "\n",
      "\u001b[A\u001b[A"
     ]
    },
    {
     "name": "stdout",
     "output_type": "stream",
     "text": [
      "Moviepy - Done !\n",
      "Moviepy - video ready ../storage/datasets/debug/selamat pagi_32.mp4\n",
      "Moviepy - Building video ../storage/datasets/debug/selamat pagi_37.mp4.\n",
      "Moviepy - Writing video ../storage/datasets/debug/selamat pagi_37.mp4\n",
      "\n"
     ]
    },
    {
     "name": "stderr",
     "output_type": "stream",
     "text": [
      "t:   3%|▎         | 2/61 [00:00<00:05, 11.68it/s, now=None]\n",
      "\n",
      "\u001b[A\u001b[A                                                      \n",
      "\u001b[A                                                         \n",
      "\n",
      "\n",
      "                                                            \n",
      "\u001b[A\n",
      "\n",
      "t:   8%|▊         | 5/61 [00:00<00:04, 11.68it/s, now=None]\n",
      "\n",
      "\u001b[A\u001b[A                                                      \n",
      "\u001b[A                                                         \n",
      "\n",
      "\n",
      "                                                            \n",
      "\u001b[A\n",
      "\n",
      "t:  10%|▉         | 6/61 [00:00<00:04, 11.68it/s, now=None]"
     ]
    },
    {
     "name": "stdout",
     "output_type": "stream",
     "text": [
      "Moviepy - Building video ../storage/datasets/debug/selamat pagi_38.mp4.\n",
      "Moviepy - Writing video ../storage/datasets/debug/selamat pagi_38.mp4\n",
      "\n"
     ]
    },
    {
     "name": "stderr",
     "output_type": "stream",
     "text": [
      "\n",
      "\n",
      "\n",
      "t:  46%|████▌     | 28/61 [00:00<00:00, 94.34it/s, now=None]\n",
      "\n",
      "\n",
      "t:  79%|███████▊  | 48/61 [00:00<00:00, 93.57it/s, now=None]\n",
      "\n",
      "\n",
      "\u001b[A\u001b[A\u001b[A\n",
      "\n",
      "\n",
      "\u001b[A\u001b[A\u001b[A\n",
      "\n",
      "\n",
      "\u001b[A\u001b[A\u001b[A\n",
      "\n",
      "\n",
      "\u001b[A\u001b[A\u001b[A\n",
      "t:  97%|█████████▋| 59/61 [00:04<00:00,  9.26it/s, now=None]\n",
      "\n",
      "\u001b[A\u001b[A                                                      \n",
      "\u001b[A                                                         \n",
      "\n",
      "\n",
      "                                                            \n",
      "\n",
      "\n",
      "\n",
      "\u001b[A\u001b[A\u001b[A\u001b[A                                                \n",
      "\u001b[A\n",
      "\n",
      "t: 100%|██████████| 61/61 [00:04<00:00,  9.26it/s, now=None]\n",
      "\n",
      "\n",
      "\u001b[A\u001b[A\u001b[A\n",
      "\n",
      "\u001b[A\u001b[A                                                      \n",
      "\u001b[A                                                         \n",
      "\n",
      "\n",
      "                                                            \n",
      "\n",
      "\n",
      "\n",
      "\u001b[A\u001b[A\u001b[A\u001b[A                                                \n",
      "\u001b[A\n",
      "\n",
      "t: 100%|██████████| 61/61 [00:04<00:00,  9.26it/s, now=None]\n",
      "\n",
      "\n",
      "\u001b[A\u001b[A\u001b[A"
     ]
    },
    {
     "name": "stdout",
     "output_type": "stream",
     "text": [
      "Moviepy - Building video ../storage/datasets/debug/selamat pagi_32.mp4.\n",
      "Moviepy - Writing video ../storage/datasets/debug/selamat pagi_32.mp4\n",
      "\n"
     ]
    },
    {
     "name": "stderr",
     "output_type": "stream",
     "text": [
      "\n",
      "\n",
      "\n",
      "\n",
      "\u001b[A\u001b[A\u001b[A\u001b[A\n",
      "\n",
      "\n",
      "\n",
      "                                                            \n",
      "\n",
      "\n",
      "\n",
      "\u001b[A\u001b[A\u001b[A\u001b[A\n",
      "\n",
      "\n",
      "\n",
      "\u001b[A\u001b[A\u001b[A\u001b[A\n",
      "\n",
      "\u001b[A\u001b[A\n",
      "\u001b[A\n",
      "\n",
      "\n",
      "\u001b[A\u001b[A\u001b[A\n",
      "\n",
      "\n",
      "\n",
      "\u001b[A\u001b[A\u001b[A\u001b[A\n",
      "\n",
      "\n",
      "\n",
      "\u001b[A\u001b[A\u001b[A\u001b[A"
     ]
    },
    {
     "name": "stdout",
     "output_type": "stream",
     "text": [
      "Moviepy - Done !\n",
      "Moviepy - video ready ../storage/datasets/debug/selamat pagi_31.mp4\n",
      "[selamat pagi]\t39\n",
      "Moviepy - Building video ../storage/datasets/debug/selamat pagi_39.mp4.\n",
      "Moviepy - Writing video ../storage/datasets/debug/selamat pagi_39.mp4\n",
      "\n"
     ]
    },
    {
     "name": "stderr",
     "output_type": "stream",
     "text": [
      "                                                             \r"
     ]
    },
    {
     "name": "stdout",
     "output_type": "stream",
     "text": [
      "Moviepy - Done !\n",
      "Moviepy - video ready ../storage/datasets/debug/selamat pagi_35.mp4\n",
      "Moviepy - Done !\n",
      "Moviepy - video ready ../storage/datasets/debug/selamat pagi_33.mp4\n",
      "Moviepy - Done !\n",
      "Moviepy - video ready ../storage/datasets/debug/selamat pagi_38.mp4\n",
      "Moviepy - Done !\n",
      "Moviepy - video ready ../storage/datasets/debug/selamat pagi_36.mp4\n",
      "Moviepy - Done !\n",
      "Moviepy - video ready ../storage/datasets/debug/selamat pagi_34.mp4\n",
      "Moviepy - Done !\n",
      "Moviepy - video ready ../storage/datasets/debug/selamat pagi_37.mp4\n",
      "Moviepy - Done !\n",
      "Moviepy - video ready ../storage/datasets/debug/selamat pagi_32.mp4\n",
      "[selamat pagi]\t40\n",
      "Moviepy - Done !\n",
      "Moviepy - video ready ../storage/datasets/debug/selamat pagi_39.mp4\n",
      "Moviepy - Building video ../storage/datasets/debug/selamat pagi_35.mp4.\n",
      "Moviepy - Writing video ../storage/datasets/debug/selamat pagi_35.mp4\n",
      "\n"
     ]
    },
    {
     "name": "stderr",
     "output_type": "stream",
     "text": [
      "t:  87%|████████▋ | 53/61 [00:01<00:00, 52.65it/s, now=None]"
     ]
    },
    {
     "name": "stdout",
     "output_type": "stream",
     "text": [
      "Moviepy - Building video ../storage/datasets/debug/selamat pagi_33.mp4.\n",
      "Moviepy - Writing video ../storage/datasets/debug/selamat pagi_33.mp4\n",
      "\n"
     ]
    },
    {
     "name": "stderr",
     "output_type": "stream",
     "text": [
      "                                                            \r"
     ]
    },
    {
     "name": "stdout",
     "output_type": "stream",
     "text": [
      "Moviepy - Building video ../storage/datasets/debug/selamat pagi_38.mp4.\n",
      "Moviepy - Writing video ../storage/datasets/debug/selamat pagi_38.mp4\n",
      "\n"
     ]
    },
    {
     "name": "stderr",
     "output_type": "stream",
     "text": [
      "t:  87%|████████▋ | 53/61 [00:01<00:00, 48.48it/s, now=None]"
     ]
    },
    {
     "name": "stdout",
     "output_type": "stream",
     "text": [
      "Moviepy - Building video ../storage/datasets/debug/selamat pagi_36.mp4.\n",
      "Moviepy - Writing video ../storage/datasets/debug/selamat pagi_36.mp4\n",
      "\n"
     ]
    },
    {
     "name": "stderr",
     "output_type": "stream",
     "text": [
      "                                                            \n",
      "                                                            \n",
      "t: 100%|██████████| 61/61 [00:03<00:00, 13.28it/s, now=None]"
     ]
    },
    {
     "name": "stdout",
     "output_type": "stream",
     "text": [
      "Moviepy - Building video ../storage/datasets/debug/selamat pagi_34.mp4.\n",
      "Moviepy - Writing video ../storage/datasets/debug/selamat pagi_34.mp4\n",
      "\n"
     ]
    },
    {
     "name": "stderr",
     "output_type": "stream",
     "text": [
      "\n",
      "\u001b[A\n",
      "\u001b[A\n",
      "\u001b[A\n",
      "\n",
      "                                                            \n",
      "\u001b[A                                                         \n",
      "t: 100%|██████████| 61/61 [00:03<00:00, 13.28it/s, now=None]\n",
      "\n",
      "                                                            \n",
      "\u001b[A                                                         \n",
      "t: 100%|██████████| 61/61 [00:03<00:00, 13.28it/s, now=None]"
     ]
    },
    {
     "name": "stdout",
     "output_type": "stream",
     "text": [
      "Moviepy - Building video ../storage/datasets/debug/selamat pagi_37.mp4.\n",
      "Moviepy - Writing video ../storage/datasets/debug/selamat pagi_37.mp4\n",
      "\n"
     ]
    },
    {
     "name": "stderr",
     "output_type": "stream",
     "text": [
      "\n",
      "\n",
      "\u001b[A\u001b[A\n",
      "\u001b[A\n",
      "\u001b[A\n",
      "\n",
      "\u001b[A\u001b[A\n",
      "\n",
      "\u001b[A\u001b[A\n",
      "\n",
      "\u001b[A\u001b[A\n",
      "\n",
      "                                                             \n",
      "\u001b[A                                                         \n",
      "\n",
      "\n",
      "\u001b[A\u001b[A\u001b[A                                                    \n",
      "t: 100%|██████████| 61/61 [00:04<00:00, 13.28it/s, now=None]\n",
      "\n",
      "\u001b[A\u001b[A\n",
      "\n",
      "                                                             \n",
      "\u001b[A                                                         \n",
      "\n",
      "\n",
      "\u001b[A\u001b[A\u001b[A                                                    \n",
      "t: 100%|██████████| 61/61 [00:04<00:00, 13.28it/s, now=None]\n",
      "\n",
      "\u001b[A\u001b[A"
     ]
    },
    {
     "name": "stdout",
     "output_type": "stream",
     "text": [
      "Moviepy - Building video ../storage/datasets/debug/selamat pagi_40.mp4.\n",
      "Moviepy - Writing video ../storage/datasets/debug/selamat pagi_40.mp4\n",
      "\n"
     ]
    },
    {
     "name": "stderr",
     "output_type": "stream",
     "text": [
      "\n",
      "\n",
      "\n",
      "\u001b[A\u001b[A\u001b[A\n",
      "\n",
      "\n",
      "\u001b[A\u001b[A\u001b[A\n",
      "\n",
      "                                                             \n",
      "\u001b[A                                                         \n",
      "\n",
      "\n",
      "\u001b[A\u001b[A\u001b[A                                                    \n",
      "\n",
      "\n",
      "\n",
      "\u001b[A\u001b[A\u001b[A\u001b[A                                               \n",
      "t: 100%|██████████| 61/61 [00:04<00:00, 13.28it/s, now=None]\n",
      "\n",
      "\u001b[A\u001b[A\n",
      "\n",
      "\n",
      "\u001b[A\u001b[A\u001b[A\n",
      "\n",
      "                                                             \n",
      "\u001b[A                                                         \n",
      "\n",
      "\n",
      "\u001b[A\u001b[A\u001b[A                                                    \n",
      "\n",
      "\n",
      "\n",
      "\u001b[A\u001b[A\u001b[A\u001b[A                                                \n",
      "t: 100%|██████████| 61/61 [00:04<00:00, 13.28it/s, now=None]\n",
      "\n",
      "\u001b[A\u001b[A\n",
      "\n",
      "\n",
      "\u001b[A\u001b[A\u001b[A\n",
      "\n",
      "\n",
      "\u001b[A\u001b[A\u001b[A"
     ]
    },
    {
     "name": "stdout",
     "output_type": "stream",
     "text": [
      "Moviepy - Building video ../storage/datasets/debug/selamat pagi_39.mp4.\n",
      "Moviepy - Writing video ../storage/datasets/debug/selamat pagi_39.mp4\n",
      "\n"
     ]
    },
    {
     "name": "stderr",
     "output_type": "stream",
     "text": [
      "\n",
      "\n",
      "\n",
      "\u001b[A\u001b[A\u001b[A\n",
      "\n",
      "\n",
      "\n",
      "\u001b[A\u001b[A\u001b[A\u001b[A\n",
      "\n",
      "\n",
      "\u001b[A\u001b[A\u001b[A\n",
      "\n",
      "\n",
      "\n",
      "\u001b[A\u001b[A\u001b[A\u001b[A\n",
      "\n",
      "\n",
      "\n",
      "\u001b[A\u001b[A\u001b[A\u001b[A\n",
      "\n",
      "\n",
      "\n",
      "\u001b[A\u001b[A\u001b[A\u001b[A\n",
      "\u001b[A\n",
      "\n",
      "\n",
      "                                                            \n",
      "\n",
      "\n",
      "\n",
      "\u001b[A\u001b[A\u001b[A\u001b[A\n",
      "\u001b[A\n",
      "\n",
      "\u001b[A\u001b[A\n",
      "\n",
      "\n",
      "\u001b[A\u001b[A\u001b[A"
     ]
    },
    {
     "name": "stdout",
     "output_type": "stream",
     "text": [
      "Moviepy - Done !\n",
      "Moviepy - video ready ../storage/datasets/debug/selamat pagi_33.mp4\n",
      "Moviepy - Done !\n",
      "Moviepy - video ready ../storage/datasets/debug/selamat pagi_35.mp4\n",
      "Moviepy - Done !\n",
      "Moviepy - video ready ../storage/datasets/debug/selamat pagi_39.mp4\n",
      "Moviepy - Done !\n",
      "Moviepy - video ready ../storage/datasets/debug/selamat pagi_36.mp4\n",
      "Moviepy - Done !\n",
      "Moviepy - video ready ../storage/datasets/debug/selamat pagi_38.mp4\n",
      "Moviepy - Done !\n",
      "Moviepy - video ready ../storage/datasets/debug/selamat pagi_34.mp4\n",
      "Moviepy - Done !\n",
      "Moviepy - video ready ../storage/datasets/debug/selamat pagi_37.mp4\n",
      "[selamat pagi]\t41[selamat pagi]\t42\n",
      "\n",
      "[selamat pagi]\t43\n",
      "[selamat pagi]\t44\n",
      "[selamat pagi]\t45\n",
      "[selamat pagi]\t46\n",
      "[selamat pagi]\t47\n",
      "Moviepy - Done !\n",
      "Moviepy - video ready ../storage/datasets/debug/selamat pagi_40.mp4\n",
      "Moviepy - Building video ../storage/datasets/debug/selamat pagi_42.mp4.\n",
      "Moviepy - Writing video ../storage/datasets/debug/selamat pagi_42.mp4\n",
      "\n"
     ]
    },
    {
     "name": "stderr",
     "output_type": "stream",
     "text": [
      "                                                             \r"
     ]
    },
    {
     "name": "stdout",
     "output_type": "stream",
     "text": [
      "Moviepy - Building video ../storage/datasets/debug/selamat pagi_47.mp4.\n",
      "Moviepy - Writing video ../storage/datasets/debug/selamat pagi_47.mp4\n",
      "\n"
     ]
    },
    {
     "name": "stderr",
     "output_type": "stream",
     "text": [
      "t:  92%|█████████▏| 56/61 [00:00<00:00, 155.83it/s, now=None]"
     ]
    },
    {
     "name": "stdout",
     "output_type": "stream",
     "text": [
      "Moviepy - Building video ../storage/datasets/debug/selamat pagi_43.mp4.\n",
      "Moviepy - Writing video ../storage/datasets/debug/selamat pagi_43.mp4\n",
      "\n"
     ]
    },
    {
     "name": "stderr",
     "output_type": "stream",
     "text": [
      "                                                             \n",
      "                                                             \n",
      "t:  92%|█████████▏| 56/61 [00:00<00:00, 155.83it/s, now=None]"
     ]
    },
    {
     "name": "stdout",
     "output_type": "stream",
     "text": [
      "Moviepy - Building video ../storage/datasets/debug/selamat pagi_46.mp4.\n",
      "Moviepy - Writing video ../storage/datasets/debug/selamat pagi_46.mp4\n",
      "\n"
     ]
    },
    {
     "name": "stderr",
     "output_type": "stream",
     "text": [
      "\n",
      "                                                             \n",
      "\u001b[A                                                        \n",
      "\n",
      "t:  92%|█████████▏| 56/61 [00:00<00:00, 155.83it/s, now=None]\n",
      "                                                             \n",
      "\u001b[A                                                        \n",
      "\n",
      "t:  92%|█████████▏| 56/61 [00:00<00:00, 155.83it/s, now=None]\n",
      "\u001b[A"
     ]
    },
    {
     "name": "stdout",
     "output_type": "stream",
     "text": [
      "Moviepy - Building video ../storage/datasets/debug/selamat pagi_45.mp4.\n",
      "Moviepy - Writing video ../storage/datasets/debug/selamat pagi_45.mp4\n",
      "\n"
     ]
    },
    {
     "name": "stderr",
     "output_type": "stream",
     "text": [
      "\n",
      "\n",
      "                                                             \n",
      "\u001b[A                                                        \n",
      "\n",
      "\u001b[A\u001b[A                                                     \n",
      "\n",
      "\n",
      "t:  92%|█████████▏| 56/61 [00:00<00:00, 155.83it/s, now=None]\n",
      "\u001b[A\n",
      "\n",
      "                                                             \n",
      "\u001b[A                                                        \n",
      "\n",
      "\u001b[A\u001b[A                                                     \n",
      "\n",
      "\n",
      "t:  92%|█████████▏| 56/61 [00:00<00:00, 155.83it/s, now=None]\n",
      "\u001b[A\n",
      "\n",
      "\u001b[A\u001b[A"
     ]
    },
    {
     "name": "stdout",
     "output_type": "stream",
     "text": [
      "Moviepy - Building video ../storage/datasets/debug/selamat pagi_44.mp4.\n",
      "Moviepy - Writing video ../storage/datasets/debug/selamat pagi_44.mp4\n",
      "\n"
     ]
    },
    {
     "name": "stderr",
     "output_type": "stream",
     "text": [
      "\n",
      "\n",
      "\n",
      "                                                             \n",
      "\u001b[A                                                        \n",
      "\n",
      "\u001b[A\u001b[A                                                     \n",
      "\n",
      "\n",
      "\u001b[A\u001b[A\u001b[A                                                  \n",
      "\n",
      "\n",
      "\n",
      "t:  92%|█████████▏| 56/61 [00:01<00:00, 155.83it/s, now=None]\n",
      "\u001b[A\n",
      "\n",
      "\u001b[A\u001b[A\n",
      "\n",
      "\n",
      "                                                             \n",
      "\u001b[A                                                        \n",
      "\n",
      "\u001b[A\u001b[A                                                     \n",
      "\n",
      "\n",
      "\u001b[A\u001b[A\u001b[A                                                  \n",
      "\n",
      "\n",
      "\n",
      "t:  92%|█████████▏| 56/61 [00:01<00:00, 155.83it/s, now=None]\n",
      "\u001b[A\n",
      "\n",
      "\u001b[A\u001b[A\n",
      "\n",
      "\n",
      "\u001b[A\u001b[A\u001b[A"
     ]
    },
    {
     "name": "stdout",
     "output_type": "stream",
     "text": [
      "Moviepy - Building video ../storage/datasets/debug/selamat pagi_41.mp4.\n",
      "Moviepy - Writing video ../storage/datasets/debug/selamat pagi_41.mp4\n",
      "\n"
     ]
    },
    {
     "name": "stderr",
     "output_type": "stream",
     "text": [
      "\n",
      "\n",
      "\n",
      "\n",
      "\u001b[A\u001b[A\u001b[A\u001b[A\n",
      "                                                             \n",
      "\u001b[A                                                        \n",
      "\n",
      "\u001b[A\u001b[A                                                     \n",
      "\n",
      "\n",
      "\u001b[A\u001b[A\u001b[A                                                  \n",
      "\n",
      "\n",
      "\n",
      "\u001b[A\u001b[A\u001b[A\u001b[A                                               \n",
      "\n",
      "\n",
      "\n",
      "\n",
      "t:  92%|█████████▏| 56/61 [00:01<00:00, 155.83it/s, now=None]\n",
      "\u001b[A\n",
      "\n",
      "\u001b[A\u001b[A\n",
      "\n",
      "\n",
      "\u001b[A\u001b[A\u001b[A\n",
      "\n",
      "\n",
      "\n",
      "                                                             \n",
      "\u001b[A                                                        \n",
      "\n",
      "\u001b[A\u001b[A                                                     \n",
      "\n",
      "\n",
      "\u001b[A\u001b[A\u001b[A                                                  \n",
      "\n",
      "\n",
      "\n",
      "\u001b[A\u001b[A\u001b[A\u001b[A                                               \n",
      "\n",
      "\n",
      "\n",
      "\n",
      "t:  92%|█████████▏| 56/61 [00:01<00:00, 155.83it/s, now=None]\n",
      "\u001b[A\n",
      "\n",
      "\u001b[A\u001b[A\n",
      "\n",
      "\n",
      "\u001b[A\u001b[A\u001b[A\n",
      "\n",
      "\n",
      "\n",
      "\u001b[A\u001b[A\u001b[A\u001b[A\n",
      "\n",
      "\u001b[A\u001b[A\n",
      "\n",
      "\n",
      "\n",
      "\n"
     ]
    },
    {
     "name": "stdout",
     "output_type": "stream",
     "text": [
      "Moviepy - Building video ../storage/datasets/debug/selamat pagi_40.mp4.\n",
      "Moviepy - Writing video ../storage/datasets/debug/selamat pagi_40.mp4\n",
      "\n"
     ]
    },
    {
     "name": "stderr",
     "output_type": "stream",
     "text": [
      "t:   3%|▎         | 2/61 [00:00<00:16,  3.66it/s, now=None]\u001b[A\u001b[A\u001b[A\u001b[A\u001b[A\n",
      "\n",
      "\n",
      "\n",
      "\n",
      "\u001b[A\u001b[A\u001b[A\u001b[A\u001b[A\n",
      "\n",
      "\n",
      "\u001b[A\u001b[A\u001b[A\n",
      "\u001b[A\n",
      "\n",
      "\u001b[A\u001b[A\n",
      "\n",
      "\n",
      "\n",
      "\u001b[A\u001b[A\u001b[A\u001b[A\n",
      "\u001b[A\n",
      "\n",
      "\n",
      "\n",
      "\n",
      "\u001b[A\u001b[A\u001b[A\u001b[A\u001b[A\n",
      "\n",
      "\n",
      "\u001b[A\u001b[A\u001b[A\n",
      "\u001b[A\n",
      "\n",
      "\u001b[A\u001b[A\n",
      "\n",
      "\u001b[A\u001b[A\n",
      "\n",
      "\n",
      "\n",
      "\u001b[A\u001b[A\u001b[A\u001b[A\n",
      "\n",
      "\n",
      "\n",
      "\u001b[A\u001b[A\u001b[A\u001b[A\n",
      "\u001b[A\n",
      "\n",
      "\n",
      "\u001b[A\u001b[A\u001b[A\n",
      "\n",
      "\n",
      "\n",
      "\n",
      "\u001b[A\u001b[A\u001b[A\u001b[A\u001b[A\n",
      "\n",
      "\n",
      "\u001b[A\u001b[A\u001b[A\n",
      "\n",
      "\u001b[A\u001b[A\n",
      "\n",
      "\n",
      "\n",
      "\n",
      "\u001b[A\u001b[A\u001b[A\u001b[A\u001b[A\n",
      "\n",
      "\n",
      "\n",
      "\u001b[A\u001b[A\u001b[A\u001b[A\n",
      "\n",
      "\n",
      "\n",
      "\n",
      "\u001b[A\u001b[A\u001b[A\u001b[A\u001b[A\n",
      "\n",
      "\n",
      "\u001b[A\u001b[A\u001b[A\n",
      "\n",
      "\n",
      "\n",
      "\u001b[A\u001b[A\u001b[A\u001b[A\n",
      "                                                             \n",
      "\n",
      "\n",
      "\n",
      "\n",
      "\u001b[A\u001b[A\u001b[A\u001b[A\u001b[A\n",
      "\n",
      "\n",
      "\n",
      "\n",
      "\u001b[A\u001b[A\u001b[A\u001b[A\u001b[A\n",
      "\n",
      "\n",
      "\u001b[A\u001b[A\u001b[A\n",
      "\u001b[A\n",
      "\n",
      "\n",
      "\u001b[A\u001b[A\u001b[A\n",
      "\n",
      "\n",
      "\n",
      "\u001b[A\u001b[A\u001b[A\u001b[A\n",
      "\n",
      "\u001b[A\u001b[A\n",
      "\n",
      "\u001b[A\u001b[A"
     ]
    },
    {
     "name": "stdout",
     "output_type": "stream",
     "text": [
      "Moviepy - Done !\n",
      "Moviepy - video ready ../storage/datasets/debug/selamat pagi_42.mp4\n",
      "Moviepy - Building video ../storage/datasets/debug/selamat pagi_42.mp4.\n",
      "Moviepy - Writing video ../storage/datasets/debug/selamat pagi_42.mp4\n",
      "\n"
     ]
    },
    {
     "name": "stderr",
     "output_type": "stream",
     "text": [
      "t:  93%|█████████▎| 57/61 [00:01<00:00, 141.15it/s, now=None]"
     ]
    },
    {
     "name": "stdout",
     "output_type": "stream",
     "text": [
      "Moviepy - Done !\n",
      "Moviepy - video ready ../storage/datasets/debug/selamat pagi_47.mp4\n"
     ]
    },
    {
     "name": "stderr",
     "output_type": "stream",
     "text": [
      "t:  93%|█████████▎| 57/61 [00:02<00:00, 141.15it/s, now=None]"
     ]
    },
    {
     "name": "stdout",
     "output_type": "stream",
     "text": [
      "Moviepy - Done !\n",
      "Moviepy - video ready ../storage/datasets/debug/selamat pagi_45.mp4\n"
     ]
    },
    {
     "name": "stderr",
     "output_type": "stream",
     "text": [
      "                                                             \r"
     ]
    },
    {
     "name": "stdout",
     "output_type": "stream",
     "text": [
      "Moviepy - Done !\n",
      "Moviepy - video ready ../storage/datasets/debug/selamat pagi_44.mp4\n",
      "Moviepy - Done !\n",
      "Moviepy - video ready ../storage/datasets/debug/selamat pagi_41.mp4\n",
      "Moviepy - Done !\n",
      "Moviepy - video ready ../storage/datasets/debug/selamat pagi_43.mp4\n",
      "Moviepy - Done !\n",
      "Moviepy - video ready ../storage/datasets/debug/selamat pagi_40.mp4\n",
      "[selamat pagi]\t48\n",
      "Moviepy - Done !\n",
      "Moviepy - video ready ../storage/datasets/debug/selamat pagi_46.mp4\n",
      "Moviepy - Done !\n",
      "Moviepy - video ready ../storage/datasets/debug/selamat pagi_42.mp4\n",
      "[selamat pagi]\t49\n",
      "Moviepy - Building video ../storage/datasets/debug/selamat pagi_47.mp4.\n",
      "Moviepy - Writing video ../storage/datasets/debug/selamat pagi_47.mp4\n",
      "\n"
     ]
    },
    {
     "name": "stderr",
     "output_type": "stream",
     "text": [
      "                                                             \r"
     ]
    },
    {
     "name": "stdout",
     "output_type": "stream",
     "text": [
      "Moviepy - Done !\n",
      "Moviepy - video ready ../storage/datasets/debug/selamat pagi_47.mp4\n",
      "[selamat pagi]\t50\n",
      "Moviepy - Building video ../storage/datasets/debug/selamat pagi_45.mp4.\n",
      "Moviepy - Writing video ../storage/datasets/debug/selamat pagi_45.mp4\n",
      "\n"
     ]
    },
    {
     "name": "stderr",
     "output_type": "stream",
     "text": [
      "                                                             \r"
     ]
    },
    {
     "name": "stdout",
     "output_type": "stream",
     "text": [
      "Moviepy - Done !\n",
      "Moviepy - video ready ../storage/datasets/debug/selamat pagi_45.mp4\n",
      "[selamat pagi]\t51\n",
      "Moviepy - Building video ../storage/datasets/debug/selamat pagi_44.mp4.\n",
      "Moviepy - Writing video ../storage/datasets/debug/selamat pagi_44.mp4\n",
      "\n"
     ]
    },
    {
     "name": "stderr",
     "output_type": "stream",
     "text": [
      "                                                             \r"
     ]
    },
    {
     "name": "stdout",
     "output_type": "stream",
     "text": [
      "Moviepy - Done !\n",
      "Moviepy - video ready ../storage/datasets/debug/selamat pagi_44.mp4\n",
      "[selamat pagi]\t52\n",
      "Moviepy - Building video ../storage/datasets/debug/selamat pagi_41.mp4.\n",
      "Moviepy - Writing video ../storage/datasets/debug/selamat pagi_41.mp4\n",
      "\n"
     ]
    },
    {
     "name": "stderr",
     "output_type": "stream",
     "text": [
      "                                                             \r"
     ]
    },
    {
     "name": "stdout",
     "output_type": "stream",
     "text": [
      "Moviepy - Done !\n",
      "Moviepy - video ready ../storage/datasets/debug/selamat pagi_41.mp4\n",
      "[selamat pagi]\t53\n",
      "Moviepy - Building video ../storage/datasets/debug/selamat pagi_43.mp4.\n",
      "Moviepy - Writing video ../storage/datasets/debug/selamat pagi_43.mp4\n",
      "\n"
     ]
    },
    {
     "name": "stderr",
     "output_type": "stream",
     "text": [
      "                                                             \r"
     ]
    },
    {
     "name": "stdout",
     "output_type": "stream",
     "text": [
      "Moviepy - Building video ../storage/datasets/debug/selamat pagi_48.mp4.\n",
      "Moviepy - Writing video ../storage/datasets/debug/selamat pagi_48.mp4\n",
      "\n"
     ]
    },
    {
     "name": "stderr",
     "output_type": "stream",
     "text": [
      "t:   3%|▎         | 2/61 [00:00<00:06,  9.08it/s, now=None]"
     ]
    },
    {
     "name": "stdout",
     "output_type": "stream",
     "text": [
      "Moviepy - Building video ../storage/datasets/debug/selamat pagi_46.mp4.\n",
      "Moviepy - Writing video ../storage/datasets/debug/selamat pagi_46.mp4\n",
      "\n"
     ]
    },
    {
     "name": "stderr",
     "output_type": "stream",
     "text": [
      "                                                            \n",
      "                                                            \n",
      "t:  89%|████████▊ | 54/61 [00:01<00:00, 55.86it/s, now=None]"
     ]
    },
    {
     "name": "stdout",
     "output_type": "stream",
     "text": [
      "Moviepy - Building video ../storage/datasets/debug/selamat pagi_49.mp4.\n",
      "Moviepy - Writing video ../storage/datasets/debug/selamat pagi_49.mp4\n",
      "\n"
     ]
    },
    {
     "name": "stderr",
     "output_type": "stream",
     "text": [
      "\n",
      "\u001b[A\n",
      "\u001b[A\n",
      "\u001b[A\n",
      "\u001b[A\n",
      "                                                            \n",
      "\u001b[A\n",
      "\n",
      "\u001b[A\u001b[A                                                      \n",
      "\u001b[A\n",
      "\n",
      "\u001b[A\u001b[A                                                      \n",
      "\u001b[A"
     ]
    },
    {
     "name": "stdout",
     "output_type": "stream",
     "text": [
      "Moviepy - Building video ../storage/datasets/debug/selamat pagi_50.mp4.\n",
      "Moviepy - Writing video ../storage/datasets/debug/selamat pagi_50.mp4\n",
      "\n"
     ]
    },
    {
     "name": "stderr",
     "output_type": "stream",
     "text": [
      "t:  79%|███████▊  | 48/61 [00:00<00:00, 99.84it/s, now=None] \n",
      "                                                            \r"
     ]
    },
    {
     "name": "stdout",
     "output_type": "stream",
     "text": [
      "Moviepy - Done !\n",
      "Moviepy - video ready ../storage/datasets/debug/selamat pagi_43.mp4\n",
      "[selamat pagi]\t54\n",
      "Moviepy - Building video ../storage/datasets/debug/selamat pagi_51.mp4.\n",
      "Moviepy - Writing video ../storage/datasets/debug/selamat pagi_51.mp4\n",
      "\n"
     ]
    },
    {
     "name": "stderr",
     "output_type": "stream",
     "text": [
      "t:  93%|█████████▎| 57/61 [00:01<00:00, 132.60it/s, now=None]"
     ]
    },
    {
     "name": "stdout",
     "output_type": "stream",
     "text": [
      "Moviepy - Building video ../storage/datasets/debug/selamat pagi_52.mp4.\n",
      "Moviepy - Writing video ../storage/datasets/debug/selamat pagi_52.mp4\n",
      "\n"
     ]
    },
    {
     "name": "stderr",
     "output_type": "stream",
     "text": [
      "                                                             \n",
      "\u001b[A                                                          \n",
      "\u001b[A                                                          "
     ]
    },
    {
     "name": "stdout",
     "output_type": "stream",
     "text": [
      "Moviepy - Building video ../storage/datasets/debug/selamat pagi_53.mp4.\n",
      "Moviepy - Writing video ../storage/datasets/debug/selamat pagi_53.mp4\n",
      "\n"
     ]
    },
    {
     "name": "stderr",
     "output_type": "stream",
     "text": [
      "                                                             \n",
      "\u001b[A                                                         \n",
      "\u001b[A                                                         "
     ]
    },
    {
     "name": "stdout",
     "output_type": "stream",
     "text": [
      "Moviepy - Building video ../storage/datasets/debug/selamat pagi_54.mp4.\n",
      "Moviepy - Writing video ../storage/datasets/debug/selamat pagi_54.mp4\n",
      "\n"
     ]
    },
    {
     "name": "stderr",
     "output_type": "stream",
     "text": [
      "t:  90%|█████████ | 55/61 [00:00<00:00, 156.08it/s, now=None]"
     ]
    },
    {
     "name": "stdout",
     "output_type": "stream",
     "text": [
      "Moviepy - Done !\n",
      "Moviepy - video ready ../storage/datasets/debug/selamat pagi_46.mp4\n",
      "[selamat pagi]\t55\n"
     ]
    },
    {
     "name": "stderr",
     "output_type": "stream",
     "text": [
      "t:  90%|█████████ | 55/61 [00:00<00:00, 156.08it/s, now=None]"
     ]
    },
    {
     "name": "stdout",
     "output_type": "stream",
     "text": [
      "Moviepy - Done !\n",
      "Moviepy - video ready ../storage/datasets/debug/selamat pagi_48.mp4\n"
     ]
    },
    {
     "name": "stderr",
     "output_type": "stream",
     "text": [
      "                                                             \r"
     ]
    },
    {
     "name": "stdout",
     "output_type": "stream",
     "text": [
      "Moviepy - Done !\n",
      "Moviepy - video ready ../storage/datasets/debug/selamat pagi_49.mp4\n",
      "Moviepy - Done !\n",
      "Moviepy - video ready ../storage/datasets/debug/selamat pagi_50.mp4\n",
      "Moviepy - Done !\n",
      "Moviepy - video ready ../storage/datasets/debug/selamat pagi_51.mp4\n",
      "Moviepy - Done !\n",
      "Moviepy - video ready ../storage/datasets/debug/selamat pagi_53.mp4\n",
      "Moviepy - Done !\n",
      "Moviepy - video ready ../storage/datasets/debug/selamat pagi_52.mp4\n",
      "Moviepy - Done !\n",
      "Moviepy - video ready ../storage/datasets/debug/selamat pagi_54.mp4\n",
      "Moviepy - Building video ../storage/datasets/debug/selamat pagi_55.mp4.\n",
      "Moviepy - Writing video ../storage/datasets/debug/selamat pagi_55.mp4\n",
      "\n"
     ]
    },
    {
     "name": "stderr",
     "output_type": "stream",
     "text": [
      "                                                             \r"
     ]
    },
    {
     "name": "stdout",
     "output_type": "stream",
     "text": [
      "Moviepy - Done !\n",
      "Moviepy - video ready ../storage/datasets/debug/selamat pagi_55.mp4\n",
      "Moviepy - Building video ../storage/datasets/debug/selamat pagi_48.mp4.\n",
      "Moviepy - Writing video ../storage/datasets/debug/selamat pagi_48.mp4\n",
      "\n"
     ]
    },
    {
     "name": "stderr",
     "output_type": "stream",
     "text": [
      "                                                             \r"
     ]
    },
    {
     "name": "stdout",
     "output_type": "stream",
     "text": [
      "Moviepy - Done !\n",
      "Moviepy - video ready ../storage/datasets/debug/selamat pagi_48.mp4\n",
      "[selamat pagi]\t56\n",
      "Moviepy - Building video ../storage/datasets/debug/selamat pagi_49.mp4.\n",
      "Moviepy - Writing video ../storage/datasets/debug/selamat pagi_49.mp4\n",
      "\n"
     ]
    },
    {
     "name": "stderr",
     "output_type": "stream",
     "text": [
      "t:  89%|████████▊ | 54/61 [00:00<00:00, 104.10it/s, now=None]"
     ]
    },
    {
     "name": "stdout",
     "output_type": "stream",
     "text": [
      "Moviepy - Building video ../storage/datasets/debug/selamat pagi_50.mp4.\n",
      "Moviepy - Writing video ../storage/datasets/debug/selamat pagi_50.mp4\n",
      "\n"
     ]
    },
    {
     "name": "stderr",
     "output_type": "stream",
     "text": [
      "                                                             "
     ]
    },
    {
     "name": "stdout",
     "output_type": "stream",
     "text": [
      "Moviepy - Done !\n",
      "Moviepy - video ready ../storage/datasets/debug/selamat pagi_49.mp4\n",
      "[selamat pagi]\t57\n",
      "Moviepy - Done !\n",
      "Moviepy - video ready ../storage/datasets/debug/selamat pagi_50.mp4\n",
      "[selamat pagi]\t58\n",
      "Moviepy - Building video ../storage/datasets/debug/selamat pagi_51.mp4.\n",
      "Moviepy - Writing video ../storage/datasets/debug/selamat pagi_51.mp4\n",
      "\n"
     ]
    },
    {
     "name": "stderr",
     "output_type": "stream",
     "text": [
      "t:  98%|█████████▊| 60/61 [00:01<00:00, 77.91it/s, now=None] "
     ]
    },
    {
     "name": "stdout",
     "output_type": "stream",
     "text": [
      "Moviepy - Building video ../storage/datasets/debug/selamat pagi_53.mp4.\n",
      "Moviepy - Writing video ../storage/datasets/debug/selamat pagi_53.mp4\n",
      "\n"
     ]
    },
    {
     "name": "stderr",
     "output_type": "stream",
     "text": [
      "\n",
      "t:  98%|█████████▊| 60/61 [00:02<00:00, 77.91it/s, now=None]\n",
      "t:  98%|█████████▊| 60/61 [00:03<00:00, 77.91it/s, now=None]"
     ]
    },
    {
     "name": "stdout",
     "output_type": "stream",
     "text": [
      "Moviepy - Building video ../storage/datasets/debug/selamat pagi_52.mp4.\n",
      "Moviepy - Writing video ../storage/datasets/debug/selamat pagi_52.mp4\n",
      "\n"
     ]
    },
    {
     "name": "stderr",
     "output_type": "stream",
     "text": [
      "\n",
      "\u001b[A\n",
      "\u001b[A\n",
      "\u001b[A\n",
      "\u001b[A\n",
      "\u001b[A\n",
      "\u001b[A                                                         \n",
      "\n",
      "                                                            \n",
      "t:  98%|█████████▊| 60/61 [00:04<00:00, 77.91it/s, now=None]\n",
      "\u001b[A                                                         \n",
      "\n",
      "                                                            \n",
      "t:  98%|█████████▊| 60/61 [00:04<00:00, 77.91it/s, now=None]"
     ]
    },
    {
     "name": "stdout",
     "output_type": "stream",
     "text": [
      "Moviepy - Building video ../storage/datasets/debug/selamat pagi_54.mp4.\n",
      "Moviepy - Writing video ../storage/datasets/debug/selamat pagi_54.mp4\n",
      "\n"
     ]
    },
    {
     "name": "stderr",
     "output_type": "stream",
     "text": [
      "\n",
      "\n",
      "\u001b[A\u001b[A\n",
      "\n",
      "\u001b[A\u001b[A\n",
      "\n",
      "\u001b[A\u001b[A\n",
      "\n",
      "                                                            \n",
      "\u001b[A                                                         \n",
      "\n",
      "\u001b[A\u001b[A                                                      \n",
      "\n",
      "\n",
      "\u001b[A\u001b[A\u001b[A                                                   \n",
      "\u001b[A\n",
      "\n",
      "\u001b[A\u001b[A\n",
      "\u001b[A                                                         \n",
      "\n",
      "\u001b[A\u001b[A                                                      \n",
      "\n",
      "\n",
      "\u001b[A\u001b[A\u001b[A                                                   \n",
      "\u001b[A\n",
      "\n",
      "\u001b[A\u001b[A"
     ]
    },
    {
     "name": "stdout",
     "output_type": "stream",
     "text": [
      "Moviepy - Building video ../storage/datasets/debug/selamat pagi_55.mp4.\n",
      "Moviepy - Writing video ../storage/datasets/debug/selamat pagi_55.mp4\n",
      "\n"
     ]
    },
    {
     "name": "stderr",
     "output_type": "stream",
     "text": [
      "                                                            \n",
      "\u001b[A                                                         \n",
      "\n",
      "\u001b[A\u001b[A                                                      \n",
      "\n",
      "\n",
      "\u001b[A\u001b[A\u001b[A                                                   \n",
      "\u001b[A\n",
      "\n",
      "\u001b[A\u001b[A\n",
      "\u001b[A                                                         \n",
      "\n",
      "\u001b[A\u001b[A                                                      \n",
      "\n",
      "\n",
      "\u001b[A\u001b[A\u001b[A                                                   \n",
      "\u001b[A\n",
      "\n",
      "\u001b[A\u001b[A"
     ]
    },
    {
     "name": "stdout",
     "output_type": "stream",
     "text": [
      "Moviepy - Building video ../storage/datasets/debug/selamat pagi_56.mp4.\n",
      "Moviepy - Writing video ../storage/datasets/debug/selamat pagi_56.mp4\n",
      "\n"
     ]
    },
    {
     "name": "stderr",
     "output_type": "stream",
     "text": [
      "t:   0%|          | 0/61 [00:00<?, ?it/s, now=None]\n",
      "t:  79%|███████▊  | 48/61 [00:00<00:00, 75.08it/s, now=None]\n",
      "\n",
      "\u001b[A\u001b[A\n",
      "\n",
      "\u001b[A\u001b[A                                                      \n",
      "\n",
      "\n",
      "                                                            \n",
      "\u001b[A\n",
      "\n",
      "t:  93%|█████████▎| 57/61 [00:03<00:00, 75.08it/s, now=None]\n",
      "\n",
      "\u001b[A\u001b[A                                                      \n",
      "\n",
      "\n",
      "                                                            \n",
      "\u001b[A\n",
      "\n",
      "t:  93%|█████████▎| 57/61 [00:03<00:00, 75.08it/s, now=None]"
     ]
    },
    {
     "name": "stdout",
     "output_type": "stream",
     "text": [
      "Moviepy - Building video ../storage/datasets/debug/selamat pagi_57.mp4.\n",
      "Moviepy - Writing video ../storage/datasets/debug/selamat pagi_57.mp4\n",
      "\n"
     ]
    },
    {
     "name": "stderr",
     "output_type": "stream",
     "text": [
      "\n",
      "\n",
      "\u001b[A\u001b[A                                                      \n",
      "\n",
      "\n",
      "                                                            \n",
      "\u001b[A                                                \n",
      "\u001b[A\n",
      "\n",
      "t:  93%|█████████▎| 57/61 [00:03<00:00, 75.08it/s, now=None]\n",
      "\n",
      "\u001b[A\u001b[A                                                      \n",
      "\n",
      "\n",
      "                                                            \n",
      "\u001b[A                                                        \n",
      "\u001b[A\n",
      "\n",
      "t:  93%|█████████▎| 57/61 [00:03<00:00, 75.08it/s, now=None]"
     ]
    },
    {
     "name": "stdout",
     "output_type": "stream",
     "text": [
      "Moviepy - Building video ../storage/datasets/debug/selamat pagi_58.mp4.\n",
      "Moviepy - Writing video ../storage/datasets/debug/selamat pagi_58.mp4\n",
      "\n"
     ]
    },
    {
     "name": "stderr",
     "output_type": "stream",
     "text": [
      "\n",
      "\n",
      "\n",
      "\u001b[A\u001b[A\u001b[A\n",
      "\n",
      "\n",
      "\u001b[A\u001b[A\u001b[A\n",
      "\n",
      "\n",
      "\u001b[A\u001b[A\u001b[A\n",
      "\n",
      "\n",
      "\u001b[A\u001b[A\u001b[A\n",
      "\n",
      "                                                            \n",
      "\u001b[A\n",
      "\n",
      "\n",
      "\u001b[A\u001b[A\u001b[A"
     ]
    },
    {
     "name": "stdout",
     "output_type": "stream",
     "text": [
      "Moviepy - Done !\n",
      "Moviepy - video ready ../storage/datasets/debug/selamat pagi_51.mp4\n",
      "[selamat pagi]\t59\n",
      "Moviepy - Done !\n",
      "Moviepy - video ready ../storage/datasets/debug/selamat pagi_55.mp4\n",
      "Moviepy - Done !\n",
      "Moviepy - video ready ../storage/datasets/debug/selamat pagi_52.mp4\n",
      "Moviepy - Done !\n",
      "Moviepy - video ready ../storage/datasets/debug/selamat pagi_53.mp4\n",
      "Moviepy - Building video ../storage/datasets/debug/selamat pagi_59.mp4.\n",
      "Moviepy - Writing video ../storage/datasets/debug/selamat pagi_59.mp4\n",
      "\n"
     ]
    },
    {
     "name": "stderr",
     "output_type": "stream",
     "text": [
      "t:  89%|████████▊ | 54/61 [00:00<00:00, 126.50it/s, now=None]"
     ]
    },
    {
     "name": "stdout",
     "output_type": "stream",
     "text": [
      "Moviepy - Done !\n",
      "Moviepy - video ready ../storage/datasets/debug/selamat pagi_57.mp4\n",
      "Moviepy - Done !\n",
      "Moviepy - video ready ../storage/datasets/debug/selamat pagi_56.mp4\n"
     ]
    },
    {
     "name": "stderr",
     "output_type": "stream",
     "text": [
      "t:  89%|████████▊ | 54/61 [00:02<00:00, 126.50it/s, now=None]"
     ]
    },
    {
     "name": "stdout",
     "output_type": "stream",
     "text": [
      "Moviepy - Done !\n",
      "Moviepy - video ready ../storage/datasets/debug/selamat pagi_58.mp4\n"
     ]
    },
    {
     "name": "stderr",
     "output_type": "stream",
     "text": [
      "t:  89%|████████▊ | 54/61 [00:03<00:00, 126.50it/s, now=None]"
     ]
    },
    {
     "name": "stdout",
     "output_type": "stream",
     "text": [
      "Moviepy - Done !\n",
      "Moviepy - video ready ../storage/datasets/debug/selamat pagi_54.mp4\n"
     ]
    },
    {
     "name": "stderr",
     "output_type": "stream",
     "text": [
      "                                                             \r"
     ]
    },
    {
     "name": "stdout",
     "output_type": "stream",
     "text": [
      "Moviepy - Done !\n",
      "Moviepy - video ready ../storage/datasets/debug/selamat pagi_59.mp4\n",
      "Moviepy - Building video ../storage/datasets/debug/selamat pagi_57.mp4.\n",
      "Moviepy - Writing video ../storage/datasets/debug/selamat pagi_57.mp4\n",
      "\n"
     ]
    },
    {
     "name": "stderr",
     "output_type": "stream",
     "text": [
      "                                                             \r"
     ]
    },
    {
     "name": "stdout",
     "output_type": "stream",
     "text": [
      "Moviepy - Done !\n",
      "Moviepy - video ready ../storage/datasets/debug/selamat pagi_57.mp4\n",
      "Moviepy - Building video ../storage/datasets/debug/selamat pagi_56.mp4.\n",
      "Moviepy - Writing video ../storage/datasets/debug/selamat pagi_56.mp4\n",
      "\n"
     ]
    },
    {
     "name": "stderr",
     "output_type": "stream",
     "text": [
      "                                                             \r"
     ]
    },
    {
     "name": "stdout",
     "output_type": "stream",
     "text": [
      "Moviepy - Building video ../storage/datasets/debug/selamat pagi_58.mp4.\n",
      "Moviepy - Writing video ../storage/datasets/debug/selamat pagi_58.mp4\n",
      "\n"
     ]
    },
    {
     "name": "stderr",
     "output_type": "stream",
     "text": [
      "                                                             \r"
     ]
    },
    {
     "name": "stdout",
     "output_type": "stream",
     "text": [
      "Moviepy - Building video ../storage/datasets/debug/selamat pagi_59.mp4.\n",
      "Moviepy - Writing video ../storage/datasets/debug/selamat pagi_59.mp4\n",
      "\n"
     ]
    },
    {
     "name": "stderr",
     "output_type": "stream",
     "text": [
      "                                                             \r"
     ]
    },
    {
     "name": "stdout",
     "output_type": "stream",
     "text": [
      "Moviepy - Done !\n",
      "Moviepy - video ready ../storage/datasets/debug/selamat pagi_56.mp4\n",
      "Moviepy - Done !\n",
      "Moviepy - video ready ../storage/datasets/debug/selamat pagi_58.mp4\n",
      "Moviepy - Done !\n",
      "Moviepy - video ready ../storage/datasets/debug/selamat pagi_59.mp4\n"
     ]
    }
   ],
   "source": [
    "def process_action_frame(label, frame, log):\n",
    "    print(f\"[{label}]\\t{frame}\")\n",
    "    result1 = process_video(label, frame, False, frame)  # without flip\n",
    "\n",
    "    # the flip image should start at 120th video\n",
    "    # so in the end we have 240 data on each action\n",
    "    result2 = process_video(label, frame, True, videos_per_label + frame)  # with fip image\n",
    "\n",
    "    if not result1 or not result2:\n",
    "        return None\n",
    "\n",
    "    log.append([result1, result2])\n",
    "\n",
    "    return log\n",
    "\n",
    "\n",
    "with concurrent.futures.ThreadPoolExecutor() as executor:\n",
    "    future_to_action = {\n",
    "        executor.submit(process_action_frame, action[\"action\"], action[\"frame\"], log): action\n",
    "        for action in actions\n",
    "    }\n",
    "\n",
    "    for future in concurrent.futures.as_completed(future_to_action):\n",
    "        log = future.result()\n",
    "\n",
    "        if not log:\n",
    "            break"
   ]
  }
 ],
 "metadata": {
  "kernelspec": {
   "display_name": "venv",
   "language": "python",
   "name": "python3"
  },
  "language_info": {
   "codemirror_mode": {
    "name": "ipython",
    "version": 3
   },
   "file_extension": ".py",
   "mimetype": "text/x-python",
   "name": "python",
   "nbconvert_exporter": "python",
   "pygments_lexer": "ipython3",
   "version": "3.9.2"
  }
 },
 "nbformat": 4,
 "nbformat_minor": 2
}
