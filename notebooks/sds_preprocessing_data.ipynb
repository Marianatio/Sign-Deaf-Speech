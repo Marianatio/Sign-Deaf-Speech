{
 "cells": [
  {
   "cell_type": "code",
   "execution_count": 16,
   "metadata": {},
   "outputs": [],
   "source": [
    "import concurrent.futures\n",
    "import os\n",
    "import shutil\n",
    "import time\n",
    "\n",
    "import mediapipe as mp\n",
    "import numpy as np\n",
    "from mediapipe.framework.formats import landmark_pb2\n",
    "from mediapipe.tasks import python\n",
    "from mediapipe.tasks.python import vision\n",
    "from moviepy.editor import VideoFileClip, ImageSequenceClip"
   ]
  },
  {
   "cell_type": "markdown",
   "metadata": {},
   "source": [
    "#### Setting Task vision\n",
    "\n",
    "documentations for hand :\n",
    "- https://ai.google.dev/edge/mediapipe/solutions/vision/hand_landmarker/python#configuration_options\n",
    "- https://github.com/google-ai-edge/mediapipe-samples/blob/main/examples/hand_landmarker/python/hand_landmarker.ipynb\n",
    "\n",
    "documentations for pose :\n",
    "- https://ai.google.dev/edge/mediapipe/solutions/vision/pose_landmarker#configurations_options\n",
    "- https://github.com/google-ai-edge/mediapipe-samples/blob/main/examples/pose_landmarker/python/%5BMediaPipe_Python_Tasks%5D_Pose_Landmarker.ipynb"
   ]
  },
  {
   "cell_type": "code",
   "execution_count": 17,
   "metadata": {},
   "outputs": [],
   "source": [
    "drawer = mp.solutions.drawing_utils  # drawing utilities\n",
    "VisionRunningMode = mp.tasks.vision.RunningMode\n",
    "\n",
    "# base options for hand and pose detection models\n",
    "hand_base_options = python.BaseOptions(\n",
    "    model_asset_path=\"./tasks/hand_landmarker.task\"\n",
    ")\n",
    "pose_base_options = python.BaseOptions(\n",
    "    model_asset_path=\"./tasks/pose_landmarker.task\"\n",
    ")\n",
    "\n",
    "# options for hand detection\n",
    "hand_options = vision.HandLandmarkerOptions(\n",
    "    base_options=hand_base_options,\n",
    "    num_hands=2,\n",
    "    min_hand_detection_confidence=0.6,\n",
    "    min_hand_presence_confidence=0.6,\n",
    "    min_tracking_confidence=0.1,\n",
    "    running_mode=VisionRunningMode.IMAGE,\n",
    ")\n",
    "\n",
    "# options for pose detection\n",
    "pose_options = vision.PoseLandmarkerOptions(\n",
    "    base_options=pose_base_options,\n",
    "    output_segmentation_masks=True,\n",
    "    min_pose_detection_confidence=0.6,\n",
    "    min_pose_presence_confidence=0.6,\n",
    "    min_tracking_confidence=0.1,\n",
    "    running_mode=VisionRunningMode.IMAGE,\n",
    ")\n",
    "\n",
    "# create detectors\n",
    "hand_detector = vision.HandLandmarker.create_from_options(hand_options)\n",
    "pose_detector = vision.PoseLandmarker.create_from_options(pose_options)"
   ]
  },
  {
   "cell_type": "markdown",
   "metadata": {},
   "source": [
    "#### Setting up for dataset preprocessing\n",
    "\n",
    "Reference for how to do the sign language in [youtube](https://www.youtube.com/watch?v=0FcwzMq4iWg)"
   ]
  },
  {
   "cell_type": "code",
   "execution_count": 18,
   "metadata": {},
   "outputs": [],
   "source": [
    "# the dataset path for saving the preprocessed raw data (video)\n",
    "DATASET_PATH = os.path.join(\"../storage/datasets/cleaned\")\n",
    "DATASET_PATH_RAW = os.path.join(\"../storage/datasets/raw\")\n",
    "\n",
    "# action lables\n",
    "ACTIONS = [\n",
    "      \"tolong\", \"maaf\", \"sama-sama\"\n",
    "]\n",
    "\n",
    "# number of videos and actions per video\n",
    "videos_per_label = 60 # change it to how many videos you have\n",
    "frames_per_video = 60"
   ]
  },
  {
   "cell_type": "code",
   "execution_count": 19,
   "metadata": {},
   "outputs": [
    {
     "data": {
      "text/plain": [
       "['tolong', 'maaf', 'sama-sama']"
      ]
     },
     "execution_count": 19,
     "metadata": {},
     "output_type": "execute_result"
    }
   ],
   "source": [
    "ACTIONS"
   ]
  },
  {
   "cell_type": "code",
   "execution_count": 20,
   "metadata": {},
   "outputs": [
    {
     "name": "stdout",
     "output_type": "stream",
     "text": [
      "[CREATED] tolong\n",
      "[CREATED] maaf\n",
      "[CREATED] sama-sama\n"
     ]
    }
   ],
   "source": [
    "# create dataset directories if they do not exist\n",
    "try:\n",
    "    try:\n",
    "        shutil.rmtree(DATASET_PATH)\n",
    "    except:\n",
    "        pass\n",
    "\n",
    "    os.makedirs(DATASET_PATH)\n",
    "except FileExistsError:\n",
    "    print(\"Dataset folder exists, skipping creation\")\n",
    "    print(\"========================================\")\n",
    "\n",
    "for action in ACTIONS:\n",
    "    os.makedirs(os.path.join(DATASET_PATH, action))\n",
    "\n",
    "    print(f\"[CREATED] {action}\")"
   ]
  },
  {
   "cell_type": "markdown",
   "metadata": {},
   "source": [
    "#### Setting up for extracting the Mediapipe Landmaker"
   ]
  },
  {
   "cell_type": "markdown",
   "metadata": {},
   "source": [
    "##### Landmarker (drawing)"
   ]
  },
  {
   "cell_type": "code",
   "execution_count": 21,
   "metadata": {},
   "outputs": [],
   "source": [
    "LandmarkList = landmark_pb2.NormalizedLandmarkList  # aliases for landmark types\n",
    "NormalizedLandmark = landmark_pb2.NormalizedLandmark  # aliases for landmark types\n",
    "\n",
    "\n",
    "def to_landmark_list(landmarks):\n",
    "    \"\"\"\n",
    "    Create a LandmarkList from a list of landmarks or fill with empty values if no landmarks are provided.\n",
    "    \"\"\"\n",
    "    return LandmarkList(\n",
    "        landmark=([NormalizedLandmark(x=lm.x, y=lm.y, z=lm.z) for lm in landmarks])\n",
    "    )\n",
    "\n",
    "\n",
    "empty_pose_landmarks = to_landmark_list(\n",
    "    [NormalizedLandmark(x=0.0, y=0.0, z=0.0) for _ in range(33 * 3)]\n",
    ")\n",
    "\n",
    "empty_hand_landmarks = to_landmark_list(\n",
    "    [NormalizedLandmark(x=0.0, y=0.0, z=0.0) for _ in range(21 * 3)]\n",
    ")\n",
    "\n",
    "\n",
    "def to_drawing_landmark(hand_results, pose_results):\n",
    "    \"\"\"\n",
    "    Convert pose and hand landmarks to LandmarkList for drawing.\n",
    "    \"\"\"\n",
    "\n",
    "    pose_landmarks = (\n",
    "        to_landmark_list(pose_results.pose_landmarks[0])\n",
    "        if pose_results.pose_landmarks\n",
    "        else empty_pose_landmarks\n",
    "    )\n",
    "\n",
    "    hand_landmarks = [empty_hand_landmarks, empty_hand_landmarks]\n",
    "\n",
    "    if not hand_results:\n",
    "        return pose_landmarks, None\n",
    "\n",
    "    # iterate over the detected hand landmarks\n",
    "    for index, hand_landmark in enumerate(hand_results.hand_landmarks):\n",
    "        # determine the hand index (0 for right hand, 1 for left hand) using handedness information\n",
    "        handedness = hand_results.handedness[index][0].index\n",
    "\n",
    "        # extract the keypoints for the current hand and assign them to the appropriate index\n",
    "        hand_landmarks[handedness] = to_landmark_list(hand_landmark)\n",
    "\n",
    "    return hand_landmarks, pose_landmarks\n",
    "\n",
    "\n",
    "def draw_landmark(image, hand_landmarks, pose_landmarks):\n",
    "    \"\"\"\n",
    "    Draw detected landmarks on the image.\n",
    "    \"\"\"\n",
    "    drawer.draw_landmarks(\n",
    "        image,\n",
    "        pose_landmarks,\n",
    "        mp.solutions.pose.POSE_CONNECTIONS,\n",
    "        drawer.DrawingSpec(color=(80, 22, 10), thickness=2, circle_radius=3),\n",
    "        drawer.DrawingSpec(color=(80, 44, 121), thickness=2, circle_radius=2),\n",
    "    )\n",
    "\n",
    "    if not hand_landmarks:\n",
    "        return\n",
    "\n",
    "    for hand_landmarks in hand_landmarks:\n",
    "        drawer.draw_landmarks(\n",
    "            image,\n",
    "            hand_landmarks,\n",
    "            mp.solutions.hands.HAND_CONNECTIONS,\n",
    "            drawer.DrawingSpec(color=(121, 22, 76), thickness=2, circle_radius=2),\n",
    "            drawer.DrawingSpec(color=(121, 44, 250), thickness=2, circle_radius=2),\n",
    "        )"
   ]
  },
  {
   "cell_type": "markdown",
   "metadata": {},
   "source": [
    "##### Landmarker (dataset)"
   ]
  },
  {
   "cell_type": "code",
   "execution_count": 22,
   "metadata": {},
   "outputs": [],
   "source": [
    "empty_hand_landmark = np.zeros((2, 21, 3))  # right hand and left hand\n",
    "empty_pose_landmark = np.zeros(33 * 3)\n",
    "\n",
    "\n",
    "def to_landmark_data(\n",
    "    hand_results: vision.HandLandmarkerResult, pose_results: vision.PoseLandmarkerResult\n",
    "):\n",
    "    \"\"\"\n",
    "    Extract keypoints from pose and hand results for dataset creation.\n",
    "    \"\"\"\n",
    "    pose_landmark = empty_pose_landmark\n",
    "    hand_landmark = empty_hand_landmark\n",
    "\n",
    "    if pose_results.pose_world_landmarks:\n",
    "        pose_landmark = np.array(\n",
    "            [[lm.x, lm.y, lm.z] for lm in pose_results.pose_world_landmarks[0]]\n",
    "        ).flatten()\n",
    "\n",
    "    # if no hand results are available, return the empty hand keypoints\n",
    "    # and concatenate it with face and pose keypoints\n",
    "    if not hand_results:\n",
    "        return np.concatenate([pose_landmark, hand_landmark.flatten()])\n",
    "\n",
    "    # iterate over the detected hand landmarks\n",
    "    for index, hlm in enumerate(hand_results.hand_world_landmarks):\n",
    "        # determine the hand index (0 for right hand, 1 for left hand) using handedness information\n",
    "        handedness = hand_results.handedness[index][0].index\n",
    "\n",
    "        # extract the keypoints for the current hand and assign them to the appropriate index\n",
    "        hand_landmark[handedness] = np.array([[lm.x, lm.y, lm.z] for lm in hlm])\n",
    "\n",
    "    return np.concatenate([pose_landmark, hand_landmark.flatten()])"
   ]
  },
  {
   "cell_type": "markdown",
   "metadata": {},
   "source": [
    "##### Saving the landmarker data"
   ]
  },
  {
   "cell_type": "code",
   "execution_count": 23,
   "metadata": {},
   "outputs": [],
   "source": [
    "def save_cleaned_landmark(action: str, sequence: int, keypoints: np.ndarray):\n",
    "    np_path = os.path.join(DATASET_PATH, action, str(sequence))\n",
    "\n",
    "    np.save(np_path, keypoints)"
   ]
  },
  {
   "cell_type": "markdown",
   "metadata": {},
   "source": [
    "#### Read the raw data and process it using mediapipe"
   ]
  },
  {
   "cell_type": "code",
   "execution_count": 24,
   "metadata": {},
   "outputs": [],
   "source": [
    "image_landmark_debug = True\n",
    "\n",
    "\n",
    "def save_video_with_landmark(image_list, fps, label, video_num):\n",
    "    images = [image for _, image, _ in image_list]\n",
    "\n",
    "    new_clip = ImageSequenceClip(images, fps=fps)\n",
    "\n",
    "    output_path = f\"../storage/datasets/debug/{label}_{video_num}.mp4\"\n",
    "\n",
    "    new_clip.write_videofile(output_path, codec=\"libx264\")"
   ]
  },
  {
   "cell_type": "code",
   "execution_count": 25,
   "metadata": {},
   "outputs": [],
   "source": [
    "def process_frame(label, video_num, frame, image, flip_frame, is_debug):\n",
    "    # start time for performance tracking\n",
    "    start_time = time.time()\n",
    "\n",
    "    # flip the image horizontally for a selfie-view display\n",
    "    if flip_frame: image = np.fliplr(image)\n",
    "\n",
    "    try:\n",
    "        image = image.astype(np.uint8)\n",
    "\n",
    "        # convert image to mediapipe image format\n",
    "        mp_image = mp.Image(image_format=mp.ImageFormat.SRGB, data=image)\n",
    "\n",
    "        # detect hands and pose\n",
    "        hand_results = hand_detector.detect(image=mp_image)\n",
    "\n",
    "        pose_results = pose_detector.detect(image=mp_image)\n",
    "\n",
    "        # convert results to landmarks\n",
    "        keypoints = to_landmark_data(hand_results, pose_results)\n",
    "\n",
    "        if is_debug:\n",
    "            hand, pose = to_drawing_landmark(hand_results, pose_results)\n",
    "            draw_landmark(image, hand, pose)\n",
    "\n",
    "    except Exception as e:\n",
    "        print(f\"Error processing {label} video {video_num} frame {frame}: {e}\")\n",
    "        return frame, None, None, time.time() - start_time\n",
    "\n",
    "    if is_debug:\n",
    "        return frame, image, keypoints, time.time() - start_time\n",
    "\n",
    "    return frame, None, keypoints, time.time() - start_time\n",
    "\n",
    "\n",
    "def process_video(label: str, video_num: int, flip_frame: bool, video_start: int = 0):\n",
    "    video_path = os.path.join(DATASET_PATH_RAW, label, f\"{video_num}.avi\")\n",
    "\n",
    "    video_counter = video_start\n",
    "\n",
    "    try:\n",
    "        clip = VideoFileClip(video_path)\n",
    "    except OSError:\n",
    "        print(f\"Error: Could not open video file {video_path}\")\n",
    "        return f\"[{label}] ({video_num}) error opening video file\"\n",
    "\n",
    "    avg_exec_time = []\n",
    "    results = []\n",
    "\n",
    "    # use ThreadPoolExecutor to process frames concurrently\n",
    "    with concurrent.futures.ThreadPoolExecutor() as executor:\n",
    "        future_to_frame = {\n",
    "            executor.submit(\n",
    "                process_frame,\n",
    "                label,\n",
    "                video_num,\n",
    "                frame,\n",
    "                image,\n",
    "                flip_frame,\n",
    "                image_landmark_debug\n",
    "            ): frame\n",
    "            for frame, image in enumerate(clip.iter_frames(fps=clip.fps))\n",
    "        }\n",
    "\n",
    "        for future in concurrent.futures.as_completed(future_to_frame):\n",
    "            frame, image, keypoints, exec_time = future.result()\n",
    "\n",
    "            if keypoints is not None:\n",
    "                results.append((frame, image, keypoints))\n",
    "\n",
    "            avg_exec_time.append(exec_time)\n",
    "\n",
    "    start_time = time.time()\n",
    "    results.sort(key=lambda x: x[0])\n",
    "\n",
    "    if image_landmark_debug:\n",
    "        save_video_with_landmark(results, clip.fps, label, video_num)\n",
    "\n",
    "    if len(results) == 60:\n",
    "        # combine all landmark sequences into a single numpy array\n",
    "        keypoints = np.array([landmark for _, _, landmark in results])\n",
    "\n",
    "        save_cleaned_landmark(label, video_counter, keypoints)\n",
    "\n",
    "        end_time = time.time() - start_time\n",
    "        avg_exec_time = {\n",
    "            \"avg_video_exec\": avg_exec_time,\n",
    "            \"save_exec\": end_time,\n",
    "        }\n",
    "\n",
    "        return avg_exec_time, label, video_num, frame\n",
    "\n",
    "    return None"
   ]
  },
  {
   "cell_type": "code",
   "execution_count": 26,
   "metadata": {},
   "outputs": [],
   "source": [
    "actions = [\n",
    "    {\"action\": word, \"frame\": i} for word in ACTIONS for i in range(videos_per_label)\n",
    "]\n",
    "\n",
    "log = []"
   ]
  },
  {
   "cell_type": "code",
   "execution_count": 27,
   "metadata": {},
   "outputs": [],
   "source": [
    "all_first_59 = [actions[i: i + 59] for i in range(0, len(actions), videos_per_label)]\n",
    "all_first_1 = [actions[i] for i in range(0, len(actions), videos_per_label)]"
   ]
  },
  {
   "cell_type": "code",
   "execution_count": 28,
   "metadata": {},
   "outputs": [
    {
     "data": {
      "text/plain": [
       "True"
      ]
     },
     "execution_count": 28,
     "metadata": {},
     "output_type": "execute_result"
    }
   ],
   "source": [
    "image_landmark_debug"
   ]
  },
  {
   "cell_type": "code",
   "execution_count": 29,
   "metadata": {},
   "outputs": [
    {
     "name": "stdout",
     "output_type": "stream",
     "text": [
      "[tolong]\t0\n",
      "[tolong]\t1\n",
      "[tolong]\t2\n",
      "[tolong]\t3\n",
      "[tolong]\t4\n",
      "[tolong]\t5\n",
      "[tolong]\t6\n",
      "[tolong]\t7\n",
      "Moviepy - Building video ../storage/datasets/debug/tolong_6.mp4.\n",
      "Moviepy - Writing video ../storage/datasets/debug/tolong_6.mp4\n",
      "\n"
     ]
    },
    {
     "name": "stderr",
     "output_type": "stream",
     "text": [
      "t:   5%|▍         | 3/61 [00:00<00:03, 18.50it/s, now=None]"
     ]
    },
    {
     "name": "stdout",
     "output_type": "stream",
     "text": [
      "Moviepy - Building video ../storage/datasets/debug/tolong_2.mp4.\n",
      "Moviepy - Writing video ../storage/datasets/debug/tolong_2.mp4\n",
      "\n"
     ]
    },
    {
     "name": "stderr",
     "output_type": "stream",
     "text": [
      "                                                            \n",
      "                                                            \n",
      "t:  43%|████▎     | 26/61 [00:00<00:00, 57.62it/s, now=None]"
     ]
    },
    {
     "name": "stdout",
     "output_type": "stream",
     "text": [
      "Moviepy - Building video ../storage/datasets/debug/tolong_5.mp4.\n",
      "Moviepy - Writing video ../storage/datasets/debug/tolong_5.mp4\n",
      "\n"
     ]
    },
    {
     "name": "stderr",
     "output_type": "stream",
     "text": [
      "\n",
      "t:  48%|████▊     | 29/61 [00:00<00:00, 104.39it/s, now=None]\n",
      "\u001b[A\n",
      "                                                             \n",
      "\u001b[A                                                          \n",
      "\n",
      "t:  80%|████████  | 49/61 [00:00<00:00, 76.03it/s, now=None]\n",
      "                                                            \n",
      "\u001b[A                                                          \n",
      "\n",
      "t:  82%|████████▏ | 50/61 [00:00<00:00, 76.03it/s, now=None]\n",
      "                                                            \n",
      "\u001b[A                                                          \n",
      "\n",
      "t:  82%|████████▏ | 50/61 [00:00<00:00, 76.03it/s, now=None]\n",
      "                                                            \n",
      "\u001b[A                                                          \n",
      "\n",
      "t:  82%|████████▏ | 50/61 [00:00<00:00, 76.03it/s, now=None]\n",
      "\u001b[A"
     ]
    },
    {
     "name": "stdout",
     "output_type": "stream",
     "text": [
      "Moviepy - Building video ../storage/datasets/debug/tolong_7.mp4.\n",
      "Moviepy - Writing video ../storage/datasets/debug/tolong_7.mp4\n",
      "\n",
      "Moviepy - Building video ../storage/datasets/debug/tolong_4.mp4.\n",
      "Moviepy - Writing video ../storage/datasets/debug/tolong_4.mp4\n",
      "\n"
     ]
    },
    {
     "name": "stderr",
     "output_type": "stream",
     "text": [
      "\n",
      "\n",
      "\u001b[A\u001b[A\n",
      "\u001b[A\n",
      "\n",
      "\n",
      "                                                            \n",
      "\u001b[A                                                          \n",
      "\n",
      "\u001b[A\u001b[A                                                      \n",
      "\n",
      "\n",
      "\u001b[A\u001b[A\u001b[A                                          \n",
      "\n",
      "\n",
      "\n",
      "\u001b[A\u001b[A\u001b[A\u001b[A                                       "
     ]
    },
    {
     "name": "stdout",
     "output_type": "stream",
     "text": [
      "Moviepy - Building video ../storage/datasets/debug/tolong_0.mp4."
     ]
    },
    {
     "name": "stderr",
     "output_type": "stream",
     "text": [
      "t:  82%|████████▏ | 50/61 [00:00<00:00, 76.03it/s, now=None]\n",
      "\u001b[A\n",
      "\n",
      "\u001b[A\u001b[A\n",
      "\n",
      "\n",
      "                                                            \n",
      "\u001b[A                                                          \n",
      "\n",
      "\u001b[A\u001b[A                                                      \n",
      "\n",
      "\n",
      "\u001b[A\u001b[A\u001b[A                                                  \n",
      "\n",
      "\n",
      "\n",
      "t:  82%|████████▏ | 50/61 [00:00<00:00, 76.03it/s, now=None]\n",
      "\u001b[A\n",
      "\n",
      "\u001b[A\u001b[A\n",
      "\n",
      "\n",
      "\u001b[A\u001b[A\u001b[A"
     ]
    },
    {
     "name": "stdout",
     "output_type": "stream",
     "text": [
      "\n",
      "Moviepy - Writing video ../storage/datasets/debug/tolong_0.mp4\n",
      "\n"
     ]
    },
    {
     "name": "stderr",
     "output_type": "stream",
     "text": [
      "\n",
      "\n",
      "\n",
      "\n",
      "\u001b[A\u001b[A\u001b[A\u001b[A\n",
      "\u001b[A\n",
      "\u001b[A                                                          \n",
      "\n",
      "\n",
      "\u001b[A\u001b[A\u001b[A                                                  \n",
      "\n",
      "\n",
      "\n",
      "\u001b[A\u001b[A\u001b[A\u001b[A                                               \n",
      "\n",
      "\n",
      "\n",
      "\n",
      "                                                            \n",
      "\n",
      "\u001b[A\u001b[A                                                      \n",
      "\n",
      "\u001b[A\u001b[A\n",
      "\n",
      "\n",
      "\u001b[A\u001b[A\u001b[A\n",
      "\n",
      "\n",
      "\n",
      "t:  82%|████████▏ | 50/61 [00:01<00:00, 76.03it/s, now=None]\n",
      "\u001b[A\n",
      "\u001b[A                                                          \n",
      "\n",
      "\n",
      "\u001b[A\u001b[A\u001b[A                                                  \n",
      "\n",
      "\n",
      "\n",
      "\u001b[A\u001b[A\u001b[A\u001b[A                                               \n",
      "\n",
      "\n",
      "\n",
      "\n",
      "                                                            \n",
      "\n",
      "\u001b[A\u001b[A                                                      \n",
      "\n",
      "\u001b[A\u001b[A\n",
      "\n",
      "\n",
      "\u001b[A\u001b[A\u001b[A\n",
      "\n",
      "\n",
      "\n",
      "t:  82%|████████▏ | 50/61 [00:01<00:00, 76.03it/s, now=None]\n",
      "\u001b[A\n",
      "\u001b[A\n",
      "\u001b[A                                                          \n",
      "\n",
      "\n",
      "\u001b[A\u001b[A\u001b[A                                                  \n",
      "\n",
      "\n",
      "\n",
      "\u001b[A\u001b[A\u001b[A\u001b[A                                               \n",
      "\n",
      "\n",
      "\n",
      "\n",
      "                                                            \n",
      "\n",
      "\u001b[A\u001b[A                                                      \n",
      "\n",
      "\u001b[A\u001b[A\n",
      "\n",
      "\n",
      "\u001b[A\u001b[A\u001b[A\n",
      "\n",
      "\n",
      "\n",
      "t:  82%|████████▏ | 50/61 [00:01<00:00, 76.03it/s, now=None]"
     ]
    },
    {
     "name": "stdout",
     "output_type": "stream",
     "text": [
      "Moviepy - Building video ../storage/datasets/debug/tolong_3.mp4.\n",
      "Moviepy - Writing video ../storage/datasets/debug/tolong_3.mp4\n",
      "\n",
      "Moviepy - Building video ../storage/datasets/debug/tolong_1.mp4.\n"
     ]
    },
    {
     "name": "stderr",
     "output_type": "stream",
     "text": [
      "\n",
      "\u001b[A\n",
      "\u001b[A                                                          \n",
      "\n",
      "\n",
      "\u001b[A\u001b[A\u001b[A                                                  \n",
      "\n",
      "\n",
      "\n",
      "\u001b[A\u001b[A\u001b[A\u001b[A                                               \n",
      "\n",
      "\n",
      "\n",
      "\n",
      "                                                            \n",
      "\n",
      "\u001b[A\u001b[A                                                      \n",
      "\n",
      "\u001b[A\u001b[A\n",
      "\n",
      "\n",
      "\u001b[A\u001b[A\u001b[A\n",
      "\n",
      "\n",
      "\n",
      "t:  82%|████████▏ | 50/61 [00:01<00:00, 76.03it/s, now=None]\n",
      "\u001b[A"
     ]
    },
    {
     "name": "stdout",
     "output_type": "stream",
     "text": [
      "Moviepy - Writing video ../storage/datasets/debug/tolong_1.mp4\n",
      "\n"
     ]
    },
    {
     "name": "stderr",
     "output_type": "stream",
     "text": [
      "\n",
      "\n",
      "\n",
      "\n",
      "\n",
      "\u001b[A\u001b[A\u001b[A\u001b[A\u001b[A\n",
      "\n",
      "\n",
      "\n",
      "\n",
      "\n",
      "\u001b[A\u001b[A\u001b[A\u001b[A\u001b[A\u001b[A\n",
      "\n",
      "\n",
      "\u001b[A\u001b[A\u001b[A\n",
      "\n",
      "\u001b[A\u001b[A\n",
      "\u001b[A\n",
      "\n",
      "\n",
      "\u001b[A\u001b[A\u001b[A\n",
      "\n",
      "\n",
      "\n",
      "\u001b[A\u001b[A\u001b[A\u001b[A\n",
      "\n",
      "\n",
      "\n",
      "\n",
      "\u001b[A\u001b[A\u001b[A\u001b[A\u001b[A\n",
      "\n",
      "\u001b[A\u001b[A\n",
      "\n",
      "\n",
      "\u001b[A\u001b[A\u001b[A\n",
      "\n",
      "\n",
      "\n",
      "\n",
      "\n",
      "\u001b[A\u001b[A\u001b[A\u001b[A\u001b[A\u001b[A\n",
      "\n",
      "\n",
      "\n",
      "\u001b[A\u001b[A\u001b[A\u001b[A\n",
      "\n",
      "\u001b[A\u001b[A\n",
      "\n",
      "\n",
      "\u001b[A\u001b[A\u001b[A\n",
      "\n",
      "\n",
      "\n",
      "\n",
      "\u001b[A\u001b[A\u001b[A\u001b[A\u001b[A\n",
      "\n",
      "\n",
      "\n",
      "\u001b[A\u001b[A\u001b[A\u001b[A\n",
      "\n",
      "\n",
      "\n",
      "\n",
      "\n",
      "\u001b[A\u001b[A\u001b[A\u001b[A\u001b[A\u001b[A\n",
      "\n",
      "\u001b[A\u001b[A\n",
      "\n",
      "\n",
      "\n",
      "\u001b[A\u001b[A\u001b[A\u001b[A\n",
      "\n",
      "\n",
      "\n",
      "\n",
      "\u001b[A\u001b[A\u001b[A\u001b[A\u001b[A\n",
      "\n",
      "\u001b[A\u001b[A\n",
      "\n",
      "\n",
      "\n",
      "\u001b[A\u001b[A\u001b[A\u001b[A\n",
      "\n",
      "\n",
      "\n",
      "\n",
      "\u001b[A\u001b[A\u001b[A\u001b[A\u001b[A\n",
      "\n",
      "\n",
      "\n",
      "\n",
      "\n",
      "\u001b[A\u001b[A\u001b[A\u001b[A\u001b[A\u001b[A\n",
      "\n",
      "\n",
      "\u001b[A\u001b[A\u001b[A\n",
      "\n",
      "\n",
      "\n",
      "\n",
      "\n",
      "\u001b[A\u001b[A\u001b[A\u001b[A\u001b[A\u001b[A\n",
      "\n",
      "\u001b[A\u001b[A\n",
      "\n",
      "\n",
      "\n",
      "\u001b[A\u001b[A\u001b[A\u001b[A\n",
      "\n",
      "\n",
      "\n",
      "\n",
      "\u001b[A\u001b[A\u001b[A\u001b[A\u001b[A\n",
      "\n",
      "\n",
      "\n",
      "\n",
      "\n",
      "\u001b[A\u001b[A\u001b[A\u001b[A\u001b[A\u001b[A\n",
      "\u001b[A\n",
      "\n",
      "\u001b[A\u001b[A\n",
      "\n",
      "\n",
      "\u001b[A\u001b[A\u001b[A\n",
      "\n",
      "\n",
      "\n",
      "\n",
      "\u001b[A\u001b[A\u001b[A\u001b[A\u001b[A\n",
      "\n",
      "\n",
      "\n",
      "\u001b[A\u001b[A\u001b[A\u001b[A\n",
      "\n",
      "\u001b[A\u001b[A\n",
      "t:  93%|█████████▎| 57/61 [00:03<00:00, 10.59it/s, now=None]\n",
      "\n",
      "\n",
      "\n",
      "\n",
      "\u001b[A\u001b[A\u001b[A\u001b[A\u001b[A\n",
      "\n",
      "\n",
      "\n",
      "\n",
      "\n",
      "\u001b[A\u001b[A\u001b[A\u001b[A\u001b[A\u001b[A\n",
      "\n",
      "\n",
      "\n",
      "\n",
      "\n",
      "\u001b[A\u001b[A\u001b[A\u001b[A\u001b[A\u001b[A\n",
      "\u001b[A\n",
      "\n",
      "\u001b[A\u001b[A\n",
      "\n",
      "\n",
      "                                                            \n",
      "\n",
      "\n",
      "\n",
      "\u001b[A\u001b[A\u001b[A\u001b[A"
     ]
    },
    {
     "name": "stdout",
     "output_type": "stream",
     "text": [
      "Moviepy - Done !\n",
      "Moviepy - video ready ../storage/datasets/debug/tolong_7.mp4\n",
      "Moviepy - Done !\n",
      "Moviepy - video ready ../storage/datasets/debug/tolong_1.mp4\n",
      "Moviepy - Done !\n",
      "Moviepy - video ready ../storage/datasets/debug/tolong_3.mp4\n",
      "Moviepy - Done !\n",
      "Moviepy - video ready ../storage/datasets/debug/tolong_6.mp4\n",
      "Moviepy - Done !\n",
      "Moviepy - video ready ../storage/datasets/debug/tolong_2.mp4\n",
      "Moviepy - Done !\n",
      "Moviepy - video ready ../storage/datasets/debug/tolong_4.mp4\n",
      "Moviepy - Done !\n",
      "Moviepy - video ready ../storage/datasets/debug/tolong_5.mp4\n",
      "Moviepy - Done !\n",
      "Moviepy - video ready ../storage/datasets/debug/tolong_0.mp4\n",
      "Moviepy - Building video ../storage/datasets/debug/tolong_1.mp4.\n",
      "Moviepy - Writing video ../storage/datasets/debug/tolong_1.mp4\n",
      "\n"
     ]
    },
    {
     "name": "stderr",
     "output_type": "stream",
     "text": [
      "                                                             \r"
     ]
    },
    {
     "name": "stdout",
     "output_type": "stream",
     "text": [
      "Moviepy - Done !\n",
      "Moviepy - video ready ../storage/datasets/debug/tolong_1.mp4\n",
      "[tolong]\t8\n",
      "Moviepy - Building video ../storage/datasets/debug/tolong_7.mp4.\n",
      "Moviepy - Writing video ../storage/datasets/debug/tolong_7.mp4\n",
      "\n"
     ]
    },
    {
     "name": "stderr",
     "output_type": "stream",
     "text": [
      "                                                            \r"
     ]
    },
    {
     "name": "stdout",
     "output_type": "stream",
     "text": [
      "Moviepy - Building video ../storage/datasets/debug/tolong_3.mp4.\n",
      "Moviepy - Writing video ../storage/datasets/debug/tolong_3.mp4\n",
      "\n"
     ]
    },
    {
     "name": "stderr",
     "output_type": "stream",
     "text": [
      "t:   2%|▏         | 1/61 [00:00<00:00, 72.45it/s, now=None] "
     ]
    },
    {
     "name": "stdout",
     "output_type": "stream",
     "text": [
      "Moviepy - Done !\n",
      "Moviepy - video ready ../storage/datasets/debug/tolong_7.mp4\n",
      "[tolong]\t9\n"
     ]
    },
    {
     "name": "stderr",
     "output_type": "stream",
     "text": [
      "                                                             \r"
     ]
    },
    {
     "name": "stdout",
     "output_type": "stream",
     "text": [
      "Moviepy - Done !\n",
      "Moviepy - video ready ../storage/datasets/debug/tolong_3.mp4\n",
      "[tolong]\t10\n",
      "Moviepy - Building video ../storage/datasets/debug/tolong_6.mp4.\n",
      "Moviepy - Writing video ../storage/datasets/debug/tolong_6.mp4\n",
      "\n"
     ]
    },
    {
     "name": "stderr",
     "output_type": "stream",
     "text": [
      "t:  98%|█████████▊| 60/61 [00:00<00:00, 71.87it/s, now=None] "
     ]
    },
    {
     "name": "stdout",
     "output_type": "stream",
     "text": [
      "Moviepy - Building video ../storage/datasets/debug/tolong_2.mp4.\n",
      "Moviepy - Writing video ../storage/datasets/debug/tolong_2.mp4\n",
      "\n"
     ]
    },
    {
     "name": "stderr",
     "output_type": "stream",
     "text": [
      "                                                            \n",
      "\u001b[A                                                          \n",
      "\u001b[A                                                          "
     ]
    },
    {
     "name": "stdout",
     "output_type": "stream",
     "text": [
      "Moviepy - Building video ../storage/datasets/debug/tolong_4.mp4.\n",
      "Moviepy - Writing video ../storage/datasets/debug/tolong_4.mp4\n",
      "\n"
     ]
    },
    {
     "name": "stderr",
     "output_type": "stream",
     "text": [
      "                                                             \n",
      "                                                             \n",
      "t:  87%|████████▋ | 53/61 [00:00<00:00, 126.04it/s, now=None]"
     ]
    },
    {
     "name": "stdout",
     "output_type": "stream",
     "text": [
      "Moviepy - Building video ../storage/datasets/debug/tolong_5.mp4.\n",
      "Moviepy - Writing video ../storage/datasets/debug/tolong_5.mp4\n",
      "\n"
     ]
    },
    {
     "name": "stderr",
     "output_type": "stream",
     "text": [
      "\n",
      "\u001b[A\n",
      "t:  90%|█████████ | 55/61 [00:01<00:00, 39.16it/s, now=None] \n",
      "\u001b[A\n",
      "\u001b[A\n",
      "                                                            \n",
      "\u001b[A                                                         \n",
      "\n",
      "t:  97%|█████████▋| 59/61 [00:01<00:00, 39.16it/s, now=None]\n",
      "                                                            \n",
      "\u001b[A                                                         \n",
      "\n",
      "t:  97%|█████████▋| 59/61 [00:01<00:00, 39.16it/s, now=None]\n",
      "\u001b[A"
     ]
    },
    {
     "name": "stdout",
     "output_type": "stream",
     "text": [
      "Moviepy - Building video ../storage/datasets/debug/tolong_0.mp4.\n",
      "Moviepy - Writing video ../storage/datasets/debug/tolong_0.mp4\n",
      "\n"
     ]
    },
    {
     "name": "stderr",
     "output_type": "stream",
     "text": [
      "\n",
      "\n",
      "\u001b[A\u001b[A\n",
      "\n",
      "\u001b[A\u001b[A\n",
      "\n",
      "\u001b[A\u001b[A\n",
      "\n",
      "                                                            \n",
      "\u001b[A\n",
      "\n",
      "\u001b[A\u001b[A\n",
      "\n",
      "\u001b[A\u001b[A\n",
      "\u001b[A"
     ]
    },
    {
     "name": "stdout",
     "output_type": "stream",
     "text": [
      "Moviepy - Done !\n",
      "Moviepy - video ready ../storage/datasets/debug/tolong_6.mp4\n",
      "[tolong]\t11\n",
      "Moviepy - Done !\n",
      "Moviepy - video ready ../storage/datasets/debug/tolong_2.mp4\n",
      "[tolong]\t12\n",
      "Moviepy - Done !\n",
      "Moviepy - video ready ../storage/datasets/debug/tolong_4.mp4\n",
      "[tolong]\t13\n",
      "Moviepy - Done !\n",
      "Moviepy - video ready ../storage/datasets/debug/tolong_5.mp4\n",
      "[tolong]\t14\n",
      "Moviepy - Done !\n",
      "Moviepy - video ready ../storage/datasets/debug/tolong_0.mp4\n",
      "[tolong]\t15\n",
      "Moviepy - Building video ../storage/datasets/debug/tolong_8.mp4.\n",
      "Moviepy - Writing video ../storage/datasets/debug/tolong_8.mp4\n",
      "\n"
     ]
    },
    {
     "name": "stderr",
     "output_type": "stream",
     "text": [
      "                                                             \r"
     ]
    },
    {
     "name": "stdout",
     "output_type": "stream",
     "text": [
      "Moviepy - Done !\n",
      "Moviepy - video ready ../storage/datasets/debug/tolong_8.mp4\n",
      "Moviepy - Building video ../storage/datasets/debug/tolong_9.mp4.\n",
      "Moviepy - Writing video ../storage/datasets/debug/tolong_9.mp4\n",
      "\n"
     ]
    },
    {
     "name": "stderr",
     "output_type": "stream",
     "text": [
      "                                                             \r"
     ]
    },
    {
     "name": "stdout",
     "output_type": "stream",
     "text": [
      "Moviepy - Building video ../storage/datasets/debug/tolong_10.mp4.\n",
      "Moviepy - Writing video ../storage/datasets/debug/tolong_10.mp4\n",
      "\n"
     ]
    },
    {
     "name": "stderr",
     "output_type": "stream",
     "text": [
      "                                                             \r"
     ]
    },
    {
     "name": "stdout",
     "output_type": "stream",
     "text": [
      "Moviepy - Done !\n",
      "Moviepy - video ready ../storage/datasets/debug/tolong_9.mp4\n",
      "Moviepy - Done !\n",
      "Moviepy - video ready ../storage/datasets/debug/tolong_10.mp4\n",
      "Moviepy - Building video ../storage/datasets/debug/tolong_11.mp4.\n",
      "Moviepy - Writing video ../storage/datasets/debug/tolong_11.mp4\n",
      "\n"
     ]
    },
    {
     "name": "stderr",
     "output_type": "stream",
     "text": [
      "                                                             \r"
     ]
    },
    {
     "name": "stdout",
     "output_type": "stream",
     "text": [
      "Moviepy - Done !\n",
      "Moviepy - video ready ../storage/datasets/debug/tolong_11.mp4\n",
      "Moviepy - Building video ../storage/datasets/debug/tolong_12.mp4.\n",
      "Moviepy - Writing video ../storage/datasets/debug/tolong_12.mp4\n",
      "\n"
     ]
    },
    {
     "name": "stderr",
     "output_type": "stream",
     "text": [
      "                                                             \r"
     ]
    },
    {
     "name": "stdout",
     "output_type": "stream",
     "text": [
      "Moviepy - Building video ../storage/datasets/debug/tolong_13.mp4.\n",
      "Moviepy - Writing video ../storage/datasets/debug/tolong_13.mp4\n",
      "\n"
     ]
    },
    {
     "name": "stderr",
     "output_type": "stream",
     "text": [
      "t:  98%|█████████▊| 60/61 [00:01<00:00, 44.36it/s, now=None] "
     ]
    },
    {
     "name": "stdout",
     "output_type": "stream",
     "text": [
      "Moviepy - Done !\n",
      "Moviepy - video ready ../storage/datasets/debug/tolong_12.mp4\n"
     ]
    },
    {
     "name": "stderr",
     "output_type": "stream",
     "text": [
      "t:  98%|█████████▊| 60/61 [00:01<00:00, 44.36it/s, now=None]"
     ]
    },
    {
     "name": "stdout",
     "output_type": "stream",
     "text": [
      "Moviepy - Building video ../storage/datasets/debug/tolong_14.mp4.\n",
      "Moviepy - Writing video ../storage/datasets/debug/tolong_14.mp4\n",
      "\n"
     ]
    },
    {
     "name": "stderr",
     "output_type": "stream",
     "text": [
      "                                                            \n",
      "\u001b[A                                                         \n",
      "\u001b[A                                                         "
     ]
    },
    {
     "name": "stdout",
     "output_type": "stream",
     "text": [
      "Moviepy - Building video ../storage/datasets/debug/tolong_15.mp4.\n",
      "Moviepy - Writing video ../storage/datasets/debug/tolong_15.mp4\n",
      "\n"
     ]
    },
    {
     "name": "stderr",
     "output_type": "stream",
     "text": [
      "                                                             "
     ]
    },
    {
     "name": "stdout",
     "output_type": "stream",
     "text": [
      "Moviepy - Done !\n",
      "Moviepy - video ready ../storage/datasets/debug/tolong_13.mp4\n",
      "Moviepy - Done !\n",
      "Moviepy - video ready ../storage/datasets/debug/tolong_14.mp4\n",
      "Moviepy - Done !\n",
      "Moviepy - video ready ../storage/datasets/debug/tolong_15.mp4\n",
      "Moviepy - Building video ../storage/datasets/debug/tolong_8.mp4.\n",
      "Moviepy - Writing video ../storage/datasets/debug/tolong_8.mp4\n",
      "\n"
     ]
    },
    {
     "name": "stderr",
     "output_type": "stream",
     "text": [
      "                                                            \r"
     ]
    },
    {
     "name": "stdout",
     "output_type": "stream",
     "text": [
      "Moviepy - Done !\n",
      "Moviepy - video ready ../storage/datasets/debug/tolong_8.mp4\n",
      "[tolong]\t16\n",
      "Moviepy - Building video ../storage/datasets/debug/tolong_9.mp4.\n",
      "Moviepy - Writing video ../storage/datasets/debug/tolong_9.mp4\n",
      "\n"
     ]
    },
    {
     "name": "stderr",
     "output_type": "stream",
     "text": [
      "                                                             \r"
     ]
    },
    {
     "name": "stdout",
     "output_type": "stream",
     "text": [
      "Moviepy - Building video ../storage/datasets/debug/tolong_10.mp4.\n",
      "Moviepy - Writing video ../storage/datasets/debug/tolong_10.mp4\n",
      "\n"
     ]
    },
    {
     "name": "stderr",
     "output_type": "stream",
     "text": [
      "                                                             \r"
     ]
    },
    {
     "name": "stdout",
     "output_type": "stream",
     "text": [
      "Moviepy - Done !\n",
      "Moviepy - video ready ../storage/datasets/debug/tolong_9.mp4\n",
      "[tolong]\t17\n",
      "Moviepy - Done !\n",
      "Moviepy - video ready ../storage/datasets/debug/tolong_10.mp4\n",
      "[tolong]\t18\n",
      "Moviepy - Building video ../storage/datasets/debug/tolong_11.mp4.\n",
      "Moviepy - Writing video ../storage/datasets/debug/tolong_11.mp4\n",
      "\n"
     ]
    },
    {
     "name": "stderr",
     "output_type": "stream",
     "text": [
      "                                                             \r"
     ]
    },
    {
     "name": "stdout",
     "output_type": "stream",
     "text": [
      "Moviepy - Done !\n",
      "Moviepy - video ready ../storage/datasets/debug/tolong_11.mp4\n",
      "[tolong]\t19\n",
      "Moviepy - Building video ../storage/datasets/debug/tolong_12.mp4.\n",
      "Moviepy - Writing video ../storage/datasets/debug/tolong_12.mp4\n",
      "\n"
     ]
    },
    {
     "name": "stderr",
     "output_type": "stream",
     "text": [
      "                                                             \r"
     ]
    },
    {
     "name": "stdout",
     "output_type": "stream",
     "text": [
      "Moviepy - Done !\n",
      "Moviepy - video ready ../storage/datasets/debug/tolong_12.mp4\n",
      "[tolong]\t20\n",
      "Moviepy - Building video ../storage/datasets/debug/tolong_13.mp4.\n",
      "Moviepy - Writing video ../storage/datasets/debug/tolong_13.mp4\n",
      "\n"
     ]
    },
    {
     "name": "stderr",
     "output_type": "stream",
     "text": [
      "                                                             \r"
     ]
    },
    {
     "name": "stdout",
     "output_type": "stream",
     "text": [
      "Moviepy - Done !\n",
      "Moviepy - video ready ../storage/datasets/debug/tolong_13.mp4\n",
      "[tolong]\t21\n",
      "Moviepy - Building video ../storage/datasets/debug/tolong_14.mp4.\n",
      "Moviepy - Writing video ../storage/datasets/debug/tolong_14.mp4\n",
      "\n"
     ]
    },
    {
     "name": "stderr",
     "output_type": "stream",
     "text": [
      "t:  44%|████▍     | 27/61 [00:00<00:00, 115.01it/s, now=None]"
     ]
    },
    {
     "name": "stdout",
     "output_type": "stream",
     "text": [
      "Moviepy - Building video ../storage/datasets/debug/tolong_15.mp4.\n",
      "Moviepy - Writing video ../storage/datasets/debug/tolong_15.mp4\n",
      "\n"
     ]
    },
    {
     "name": "stderr",
     "output_type": "stream",
     "text": [
      "                                                             \n",
      "\u001b[A                                                         \n",
      "\u001b[A                                                         "
     ]
    },
    {
     "name": "stdout",
     "output_type": "stream",
     "text": [
      "Moviepy - Building video ../storage/datasets/debug/tolong_16.mp4.\n",
      "Moviepy - Writing video ../storage/datasets/debug/tolong_16.mp4\n",
      "\n"
     ]
    },
    {
     "name": "stderr",
     "output_type": "stream",
     "text": [
      "                                                            \r"
     ]
    },
    {
     "name": "stdout",
     "output_type": "stream",
     "text": [
      "Moviepy - Done !\n",
      "Moviepy - video ready ../storage/datasets/debug/tolong_14.mp4\n",
      "[tolong]\t22\n",
      "Moviepy - Done !\n",
      "Moviepy - video ready ../storage/datasets/debug/tolong_16.mp4\n",
      "Moviepy - Done !\n",
      "Moviepy - video ready ../storage/datasets/debug/tolong_15.mp4\n",
      "[tolong]\t23\n",
      "Moviepy - Building video ../storage/datasets/debug/tolong_17.mp4.\n",
      "Moviepy - Writing video ../storage/datasets/debug/tolong_17.mp4\n",
      "\n"
     ]
    },
    {
     "name": "stderr",
     "output_type": "stream",
     "text": [
      "                                                            \r"
     ]
    },
    {
     "name": "stdout",
     "output_type": "stream",
     "text": [
      "Moviepy - Building video ../storage/datasets/debug/tolong_18.mp4.\n",
      "Moviepy - Writing video ../storage/datasets/debug/tolong_18.mp4\n",
      "\n"
     ]
    },
    {
     "name": "stderr",
     "output_type": "stream",
     "text": [
      "                                                             \r"
     ]
    },
    {
     "name": "stdout",
     "output_type": "stream",
     "text": [
      "Moviepy - Done !\n",
      "Moviepy - video ready ../storage/datasets/debug/tolong_17.mp4\n",
      "Moviepy - Done !\n",
      "Moviepy - video ready ../storage/datasets/debug/tolong_18.mp4\n",
      "Moviepy - Building video ../storage/datasets/debug/tolong_19.mp4.\n",
      "Moviepy - Writing video ../storage/datasets/debug/tolong_19.mp4\n",
      "\n"
     ]
    },
    {
     "name": "stderr",
     "output_type": "stream",
     "text": [
      "                                                             \r"
     ]
    },
    {
     "name": "stdout",
     "output_type": "stream",
     "text": [
      "Moviepy - Done !\n",
      "Moviepy - video ready ../storage/datasets/debug/tolong_19.mp4\n",
      "Moviepy - Building video ../storage/datasets/debug/tolong_20.mp4.\n",
      "Moviepy - Writing video ../storage/datasets/debug/tolong_20.mp4\n",
      "\n"
     ]
    },
    {
     "name": "stderr",
     "output_type": "stream",
     "text": [
      "                                                             \r"
     ]
    },
    {
     "name": "stdout",
     "output_type": "stream",
     "text": [
      "Moviepy - Done !\n",
      "Moviepy - video ready ../storage/datasets/debug/tolong_20.mp4\n",
      "Moviepy - Building video ../storage/datasets/debug/tolong_21.mp4.\n",
      "Moviepy - Writing video ../storage/datasets/debug/tolong_21.mp4\n",
      "\n"
     ]
    },
    {
     "name": "stderr",
     "output_type": "stream",
     "text": [
      "                                                             \r"
     ]
    },
    {
     "name": "stdout",
     "output_type": "stream",
     "text": [
      "Moviepy - Done !\n",
      "Moviepy - video ready ../storage/datasets/debug/tolong_21.mp4\n",
      "Moviepy - Building video ../storage/datasets/debug/tolong_22.mp4.\n",
      "Moviepy - Writing video ../storage/datasets/debug/tolong_22.mp4\n",
      "\n"
     ]
    },
    {
     "name": "stderr",
     "output_type": "stream",
     "text": [
      "                                                             \r"
     ]
    },
    {
     "name": "stdout",
     "output_type": "stream",
     "text": [
      "Moviepy - Building video ../storage/datasets/debug/tolong_16.mp4.\n",
      "Moviepy - Writing video ../storage/datasets/debug/tolong_16.mp4\n",
      "\n"
     ]
    },
    {
     "name": "stderr",
     "output_type": "stream",
     "text": [
      "                                                             \r"
     ]
    },
    {
     "name": "stdout",
     "output_type": "stream",
     "text": [
      "Moviepy - Building video ../storage/datasets/debug/tolong_23.mp4.\n",
      "Moviepy - Writing video ../storage/datasets/debug/tolong_23.mp4\n",
      "\n"
     ]
    },
    {
     "name": "stderr",
     "output_type": "stream",
     "text": [
      "t: 100%|██████████| 61/61 [00:01<00:00, 83.46it/s, now=None] "
     ]
    },
    {
     "name": "stdout",
     "output_type": "stream",
     "text": [
      "Moviepy - Done !\n",
      "Moviepy - video ready ../storage/datasets/debug/tolong_22.mp4\n"
     ]
    },
    {
     "name": "stderr",
     "output_type": "stream",
     "text": [
      "                                                            \r"
     ]
    },
    {
     "name": "stdout",
     "output_type": "stream",
     "text": [
      "Moviepy - Building video ../storage/datasets/debug/tolong_17.mp4.\n",
      "Moviepy - Writing video ../storage/datasets/debug/tolong_17.mp4\n",
      "\n"
     ]
    },
    {
     "name": "stderr",
     "output_type": "stream",
     "text": [
      "                                                             \r"
     ]
    },
    {
     "name": "stdout",
     "output_type": "stream",
     "text": [
      "Moviepy - Building video ../storage/datasets/debug/tolong_18.mp4.\n",
      "Moviepy - Writing video ../storage/datasets/debug/tolong_18.mp4\n",
      "\n"
     ]
    },
    {
     "name": "stderr",
     "output_type": "stream",
     "text": [
      "t:  97%|█████████▋| 59/61 [00:01<00:00, 77.15it/s, now=None] "
     ]
    },
    {
     "name": "stdout",
     "output_type": "stream",
     "text": [
      "Moviepy - Done !\n",
      "Moviepy - video ready ../storage/datasets/debug/tolong_16.mp4\n",
      "[tolong]\t24\n"
     ]
    },
    {
     "name": "stderr",
     "output_type": "stream",
     "text": [
      "                                                            \r"
     ]
    },
    {
     "name": "stdout",
     "output_type": "stream",
     "text": [
      "Moviepy - Done !\n",
      "Moviepy - video ready ../storage/datasets/debug/tolong_23.mp4\n",
      "Moviepy - Building video ../storage/datasets/debug/tolong_19.mp4.\n",
      "Moviepy - Writing video ../storage/datasets/debug/tolong_19.mp4\n",
      "\n"
     ]
    },
    {
     "name": "stderr",
     "output_type": "stream",
     "text": [
      "                                                             \r"
     ]
    },
    {
     "name": "stdout",
     "output_type": "stream",
     "text": [
      "Moviepy - Done !\n",
      "Moviepy - video ready ../storage/datasets/debug/tolong_17.mp4\n",
      "[tolong]\t25\n",
      "Moviepy - Building video ../storage/datasets/debug/tolong_20.mp4.\n",
      "Moviepy - Writing video ../storage/datasets/debug/tolong_20.mp4\n",
      "\n"
     ]
    },
    {
     "name": "stderr",
     "output_type": "stream",
     "text": [
      "t:  95%|█████████▌| 58/61 [00:00<00:00, 90.23it/s, now=None] "
     ]
    },
    {
     "name": "stdout",
     "output_type": "stream",
     "text": [
      "Moviepy - Done !\n",
      "Moviepy - video ready ../storage/datasets/debug/tolong_18.mp4\n",
      "[tolong]\t26\n"
     ]
    },
    {
     "name": "stderr",
     "output_type": "stream",
     "text": [
      "                                                            \r"
     ]
    },
    {
     "name": "stdout",
     "output_type": "stream",
     "text": [
      "Moviepy - Done !\n",
      "Moviepy - video ready ../storage/datasets/debug/tolong_19.mp4\n",
      "[tolong]\t27\n",
      "Moviepy - Done !\n",
      "Moviepy - video ready ../storage/datasets/debug/tolong_20.mp4\n",
      "[tolong]\t28\n",
      "Moviepy - Building video ../storage/datasets/debug/tolong_21.mp4.\n",
      "Moviepy - Writing video ../storage/datasets/debug/tolong_21.mp4\n",
      "\n"
     ]
    },
    {
     "name": "stderr",
     "output_type": "stream",
     "text": [
      "                                                             \r"
     ]
    },
    {
     "name": "stdout",
     "output_type": "stream",
     "text": [
      "Moviepy - Done !\n",
      "Moviepy - video ready ../storage/datasets/debug/tolong_21.mp4\n",
      "[tolong]\t29\n",
      "Moviepy - Building video ../storage/datasets/debug/tolong_22.mp4.\n",
      "Moviepy - Writing video ../storage/datasets/debug/tolong_22.mp4\n",
      "\n"
     ]
    },
    {
     "name": "stderr",
     "output_type": "stream",
     "text": [
      "                                                             \r"
     ]
    },
    {
     "name": "stdout",
     "output_type": "stream",
     "text": [
      "Moviepy - Done !\n",
      "Moviepy - video ready ../storage/datasets/debug/tolong_22.mp4\n",
      "[tolong]\t30\n",
      "Moviepy - Building video ../storage/datasets/debug/tolong_24.mp4.\n",
      "Moviepy - Writing video ../storage/datasets/debug/tolong_24.mp4\n",
      "\n"
     ]
    },
    {
     "name": "stderr",
     "output_type": "stream",
     "text": [
      "                                                             \r"
     ]
    },
    {
     "name": "stdout",
     "output_type": "stream",
     "text": [
      "Moviepy - Done !\n",
      "Moviepy - video ready ../storage/datasets/debug/tolong_24.mp4\n",
      "Moviepy - Building video ../storage/datasets/debug/tolong_23.mp4.\n",
      "Moviepy - Writing video ../storage/datasets/debug/tolong_23.mp4\n",
      "\n"
     ]
    },
    {
     "name": "stderr",
     "output_type": "stream",
     "text": [
      "                                                             \r"
     ]
    },
    {
     "name": "stdout",
     "output_type": "stream",
     "text": [
      "Moviepy - Done !\n",
      "Moviepy - video ready ../storage/datasets/debug/tolong_23.mp4\n",
      "[tolong]\t31\n",
      "Moviepy - Building video ../storage/datasets/debug/tolong_25.mp4.\n",
      "Moviepy - Writing video ../storage/datasets/debug/tolong_25.mp4\n",
      "\n"
     ]
    },
    {
     "name": "stderr",
     "output_type": "stream",
     "text": [
      "                                                            \r"
     ]
    },
    {
     "name": "stdout",
     "output_type": "stream",
     "text": [
      "Moviepy - Done !\n",
      "Moviepy - video ready ../storage/datasets/debug/tolong_25.mp4\n",
      "Moviepy - Building video ../storage/datasets/debug/tolong_26.mp4.\n",
      "Moviepy - Writing video ../storage/datasets/debug/tolong_26.mp4\n",
      "\n"
     ]
    },
    {
     "name": "stderr",
     "output_type": "stream",
     "text": [
      "                                                             \r"
     ]
    },
    {
     "name": "stdout",
     "output_type": "stream",
     "text": [
      "Moviepy - Done !\n",
      "Moviepy - video ready ../storage/datasets/debug/tolong_26.mp4\n",
      "Moviepy - Building video ../storage/datasets/debug/tolong_27.mp4.\n",
      "Moviepy - Writing video ../storage/datasets/debug/tolong_27.mp4\n",
      "\n"
     ]
    },
    {
     "name": "stderr",
     "output_type": "stream",
     "text": [
      "t:  75%|███████▌  | 46/61 [00:00<00:00, 109.30it/s, now=None]"
     ]
    },
    {
     "name": "stdout",
     "output_type": "stream",
     "text": [
      "Moviepy - Building video ../storage/datasets/debug/tolong_28.mp4.\n",
      "Moviepy - Writing video ../storage/datasets/debug/tolong_28.mp4\n",
      "\n"
     ]
    },
    {
     "name": "stderr",
     "output_type": "stream",
     "text": [
      "                                                             "
     ]
    },
    {
     "name": "stdout",
     "output_type": "stream",
     "text": [
      "Moviepy - Done !\n",
      "Moviepy - video ready ../storage/datasets/debug/tolong_27.mp4\n",
      "Moviepy - Done !\n",
      "Moviepy - video ready ../storage/datasets/debug/tolong_28.mp4\n",
      "Moviepy - Building video ../storage/datasets/debug/tolong_29.mp4.\n",
      "Moviepy - Writing video ../storage/datasets/debug/tolong_29.mp4\n",
      "\n"
     ]
    },
    {
     "name": "stderr",
     "output_type": "stream",
     "text": [
      "                                                             \r"
     ]
    },
    {
     "name": "stdout",
     "output_type": "stream",
     "text": [
      "Moviepy - Done !\n",
      "Moviepy - video ready ../storage/datasets/debug/tolong_29.mp4\n",
      "Moviepy - Building video ../storage/datasets/debug/tolong_30.mp4.\n",
      "Moviepy - Writing video ../storage/datasets/debug/tolong_30.mp4\n",
      "\n"
     ]
    },
    {
     "name": "stderr",
     "output_type": "stream",
     "text": [
      "                                                             \r"
     ]
    },
    {
     "name": "stdout",
     "output_type": "stream",
     "text": [
      "Moviepy - Done !\n",
      "Moviepy - video ready ../storage/datasets/debug/tolong_30.mp4\n",
      "Moviepy - Building video ../storage/datasets/debug/tolong_24.mp4.\n",
      "Moviepy - Writing video ../storage/datasets/debug/tolong_24.mp4\n",
      "\n"
     ]
    },
    {
     "name": "stderr",
     "output_type": "stream",
     "text": [
      "                                                             \r"
     ]
    },
    {
     "name": "stdout",
     "output_type": "stream",
     "text": [
      "Moviepy - Done !\n",
      "Moviepy - video ready ../storage/datasets/debug/tolong_24.mp4\n",
      "[tolong]\t32\n",
      "Moviepy - Building video ../storage/datasets/debug/tolong_31.mp4.\n",
      "Moviepy - Writing video ../storage/datasets/debug/tolong_31.mp4\n",
      "\n"
     ]
    },
    {
     "name": "stderr",
     "output_type": "stream",
     "text": [
      "                                                             \r"
     ]
    },
    {
     "name": "stdout",
     "output_type": "stream",
     "text": [
      "Moviepy - Building video ../storage/datasets/debug/tolong_25.mp4.\n",
      "Moviepy - Writing video ../storage/datasets/debug/tolong_25.mp4\n",
      "\n"
     ]
    },
    {
     "name": "stderr",
     "output_type": "stream",
     "text": [
      "                                                             \r"
     ]
    },
    {
     "name": "stdout",
     "output_type": "stream",
     "text": [
      "Moviepy - Done !\n",
      "Moviepy - video ready ../storage/datasets/debug/tolong_31.mp4\n",
      "Moviepy - Done !\n",
      "Moviepy - video ready ../storage/datasets/debug/tolong_25.mp4\n",
      "[tolong]\t33\n",
      "Moviepy - Building video ../storage/datasets/debug/tolong_26.mp4.\n",
      "Moviepy - Writing video ../storage/datasets/debug/tolong_26.mp4\n",
      "\n"
     ]
    },
    {
     "name": "stderr",
     "output_type": "stream",
     "text": [
      "                                                             \r"
     ]
    },
    {
     "name": "stdout",
     "output_type": "stream",
     "text": [
      "Moviepy - Done !\n",
      "Moviepy - video ready ../storage/datasets/debug/tolong_26.mp4\n",
      "[tolong]\t34\n",
      "Moviepy - Building video ../storage/datasets/debug/tolong_27.mp4.\n",
      "Moviepy - Writing video ../storage/datasets/debug/tolong_27.mp4\n",
      "\n"
     ]
    },
    {
     "name": "stderr",
     "output_type": "stream",
     "text": [
      "                                                             \r"
     ]
    },
    {
     "name": "stdout",
     "output_type": "stream",
     "text": [
      "Moviepy - Done !\n",
      "Moviepy - video ready ../storage/datasets/debug/tolong_27.mp4\n",
      "[tolong]\t35\n",
      "Moviepy - Building video ../storage/datasets/debug/tolong_28.mp4.\n",
      "Moviepy - Writing video ../storage/datasets/debug/tolong_28.mp4\n",
      "\n"
     ]
    },
    {
     "name": "stderr",
     "output_type": "stream",
     "text": [
      "t: 100%|██████████| 61/61 [00:00<00:00, 90.68it/s, now=None] "
     ]
    },
    {
     "name": "stdout",
     "output_type": "stream",
     "text": [
      "Moviepy - Building video ../storage/datasets/debug/tolong_29.mp4.\n",
      "Moviepy - Writing video ../storage/datasets/debug/tolong_29.mp4\n",
      "\n"
     ]
    },
    {
     "name": "stderr",
     "output_type": "stream",
     "text": [
      "                                                            "
     ]
    },
    {
     "name": "stdout",
     "output_type": "stream",
     "text": [
      "Moviepy - Done !\n",
      "Moviepy - video ready ../storage/datasets/debug/tolong_28.mp4\n",
      "[tolong]\t36\n",
      "Moviepy - Done !\n",
      "Moviepy - video ready ../storage/datasets/debug/tolong_29.mp4\n",
      "[tolong]\t37\n",
      "Moviepy - Building video ../storage/datasets/debug/tolong_30.mp4.\n",
      "Moviepy - Writing video ../storage/datasets/debug/tolong_30.mp4\n",
      "\n"
     ]
    },
    {
     "name": "stderr",
     "output_type": "stream",
     "text": [
      "                                                             \r"
     ]
    },
    {
     "name": "stdout",
     "output_type": "stream",
     "text": [
      "Moviepy - Done !\n",
      "Moviepy - video ready ../storage/datasets/debug/tolong_30.mp4\n",
      "[tolong]\t38\n",
      "Moviepy - Building video ../storage/datasets/debug/tolong_32.mp4.\n",
      "Moviepy - Writing video ../storage/datasets/debug/tolong_32.mp4\n",
      "\n"
     ]
    },
    {
     "name": "stderr",
     "output_type": "stream",
     "text": [
      "                                                             \r"
     ]
    },
    {
     "name": "stdout",
     "output_type": "stream",
     "text": [
      "Moviepy - Done !\n",
      "Moviepy - video ready ../storage/datasets/debug/tolong_32.mp4\n",
      "Moviepy - Building video ../storage/datasets/debug/tolong_31.mp4.\n",
      "Moviepy - Writing video ../storage/datasets/debug/tolong_31.mp4\n",
      "\n"
     ]
    },
    {
     "name": "stderr",
     "output_type": "stream",
     "text": [
      "                                                             \r"
     ]
    },
    {
     "name": "stdout",
     "output_type": "stream",
     "text": [
      "Moviepy - Done !\n",
      "Moviepy - video ready ../storage/datasets/debug/tolong_31.mp4\n",
      "[tolong]\t39\n",
      "Moviepy - Building video ../storage/datasets/debug/tolong_33.mp4.\n",
      "Moviepy - Writing video ../storage/datasets/debug/tolong_33.mp4\n",
      "\n"
     ]
    },
    {
     "name": "stderr",
     "output_type": "stream",
     "text": [
      "                                                             \r"
     ]
    },
    {
     "name": "stdout",
     "output_type": "stream",
     "text": [
      "Moviepy - Done !\n",
      "Moviepy - video ready ../storage/datasets/debug/tolong_33.mp4\n",
      "Moviepy - Building video ../storage/datasets/debug/tolong_34.mp4.\n",
      "Moviepy - Writing video ../storage/datasets/debug/tolong_34.mp4\n",
      "\n"
     ]
    },
    {
     "name": "stderr",
     "output_type": "stream",
     "text": [
      "                                                             \r"
     ]
    },
    {
     "name": "stdout",
     "output_type": "stream",
     "text": [
      "Moviepy - Building video ../storage/datasets/debug/tolong_35.mp4.\n",
      "Moviepy - Writing video ../storage/datasets/debug/tolong_35.mp4\n",
      "\n"
     ]
    },
    {
     "name": "stderr",
     "output_type": "stream",
     "text": [
      "                                                             \r"
     ]
    },
    {
     "name": "stdout",
     "output_type": "stream",
     "text": [
      "Moviepy - Done !\n",
      "Moviepy - video ready ../storage/datasets/debug/tolong_34.mp4\n",
      "Moviepy - Done !\n",
      "Moviepy - video ready ../storage/datasets/debug/tolong_35.mp4\n",
      "Moviepy - Building video ../storage/datasets/debug/tolong_36.mp4.\n",
      "Moviepy - Writing video ../storage/datasets/debug/tolong_36.mp4\n",
      "\n"
     ]
    },
    {
     "name": "stderr",
     "output_type": "stream",
     "text": [
      "                                                             \r"
     ]
    },
    {
     "name": "stdout",
     "output_type": "stream",
     "text": [
      "Moviepy - Done !\n",
      "Moviepy - video ready ../storage/datasets/debug/tolong_36.mp4\n",
      "Moviepy - Building video ../storage/datasets/debug/tolong_37.mp4.\n",
      "Moviepy - Writing video ../storage/datasets/debug/tolong_37.mp4\n",
      "\n"
     ]
    },
    {
     "name": "stderr",
     "output_type": "stream",
     "text": [
      "                                                             \r"
     ]
    },
    {
     "name": "stdout",
     "output_type": "stream",
     "text": [
      "Moviepy - Done !\n",
      "Moviepy - video ready ../storage/datasets/debug/tolong_37.mp4\n",
      "Moviepy - Building video ../storage/datasets/debug/tolong_38.mp4.\n",
      "Moviepy - Writing video ../storage/datasets/debug/tolong_38.mp4\n",
      "\n"
     ]
    },
    {
     "name": "stderr",
     "output_type": "stream",
     "text": [
      "                                                             \r"
     ]
    },
    {
     "name": "stdout",
     "output_type": "stream",
     "text": [
      "Moviepy - Done !\n",
      "Moviepy - video ready ../storage/datasets/debug/tolong_38.mp4\n",
      "Moviepy - Building video ../storage/datasets/debug/tolong_32.mp4.\n",
      "Moviepy - Writing video ../storage/datasets/debug/tolong_32.mp4\n",
      "\n"
     ]
    },
    {
     "name": "stderr",
     "output_type": "stream",
     "text": [
      "                                                             \r"
     ]
    },
    {
     "name": "stdout",
     "output_type": "stream",
     "text": [
      "Moviepy - Done !\n",
      "Moviepy - video ready ../storage/datasets/debug/tolong_32.mp4\n",
      "[tolong]\t40\n",
      "Moviepy - Building video ../storage/datasets/debug/tolong_39.mp4.\n",
      "Moviepy - Writing video ../storage/datasets/debug/tolong_39.mp4\n",
      "\n"
     ]
    },
    {
     "name": "stderr",
     "output_type": "stream",
     "text": [
      "                                                             \r"
     ]
    },
    {
     "name": "stdout",
     "output_type": "stream",
     "text": [
      "Moviepy - Building video ../storage/datasets/debug/tolong_33.mp4.\n",
      "Moviepy - Writing video ../storage/datasets/debug/tolong_33.mp4\n",
      "\n"
     ]
    },
    {
     "name": "stderr",
     "output_type": "stream",
     "text": [
      "                                                            \r"
     ]
    },
    {
     "name": "stdout",
     "output_type": "stream",
     "text": [
      "Moviepy - Done !\n",
      "Moviepy - video ready ../storage/datasets/debug/tolong_39.mp4\n",
      "Moviepy - Done !\n",
      "Moviepy - video ready ../storage/datasets/debug/tolong_33.mp4\n",
      "[tolong]\t41\n",
      "Moviepy - Building video ../storage/datasets/debug/tolong_34.mp4.\n",
      "Moviepy - Writing video ../storage/datasets/debug/tolong_34.mp4\n",
      "\n"
     ]
    },
    {
     "name": "stderr",
     "output_type": "stream",
     "text": [
      "t:  44%|████▍     | 27/61 [00:00<00:00, 123.89it/s, now=None]"
     ]
    },
    {
     "name": "stdout",
     "output_type": "stream",
     "text": [
      "Moviepy - Building video ../storage/datasets/debug/tolong_35.mp4.\n",
      "Moviepy - Writing video ../storage/datasets/debug/tolong_35.mp4\n",
      "\n"
     ]
    },
    {
     "name": "stderr",
     "output_type": "stream",
     "text": [
      "                                                             \r"
     ]
    },
    {
     "name": "stdout",
     "output_type": "stream",
     "text": [
      "Moviepy - Done !\n",
      "Moviepy - video ready ../storage/datasets/debug/tolong_35.mp4\n",
      "[tolong]\t42\n",
      "Moviepy - Done !\n",
      "Moviepy - video ready ../storage/datasets/debug/tolong_34.mp4\n",
      "[tolong]\t43\n",
      "Moviepy - Building video ../storage/datasets/debug/tolong_36.mp4.\n",
      "Moviepy - Writing video ../storage/datasets/debug/tolong_36.mp4\n",
      "\n"
     ]
    },
    {
     "name": "stderr",
     "output_type": "stream",
     "text": [
      "                                                             \r"
     ]
    },
    {
     "name": "stdout",
     "output_type": "stream",
     "text": [
      "Moviepy - Done !\n",
      "Moviepy - video ready ../storage/datasets/debug/tolong_36.mp4\n",
      "[tolong]\t44\n",
      "Moviepy - Building video ../storage/datasets/debug/tolong_37.mp4.\n",
      "Moviepy - Writing video ../storage/datasets/debug/tolong_37.mp4\n",
      "\n"
     ]
    },
    {
     "name": "stderr",
     "output_type": "stream",
     "text": [
      "                                                             \r"
     ]
    },
    {
     "name": "stdout",
     "output_type": "stream",
     "text": [
      "Moviepy - Done !\n",
      "Moviepy - video ready ../storage/datasets/debug/tolong_37.mp4\n",
      "[tolong]\t45\n",
      "Moviepy - Building video ../storage/datasets/debug/tolong_38.mp4.\n",
      "Moviepy - Writing video ../storage/datasets/debug/tolong_38.mp4\n",
      "\n"
     ]
    },
    {
     "name": "stderr",
     "output_type": "stream",
     "text": [
      "                                                             \r"
     ]
    },
    {
     "name": "stdout",
     "output_type": "stream",
     "text": [
      "Moviepy - Done !\n",
      "Moviepy - video ready ../storage/datasets/debug/tolong_38.mp4\n",
      "[tolong]\t46\n",
      "Moviepy - Building video ../storage/datasets/debug/tolong_40.mp4.\n",
      "Moviepy - Writing video ../storage/datasets/debug/tolong_40.mp4\n",
      "\n"
     ]
    },
    {
     "name": "stderr",
     "output_type": "stream",
     "text": [
      "                                                            \r"
     ]
    },
    {
     "name": "stdout",
     "output_type": "stream",
     "text": [
      "Moviepy - Done !\n",
      "Moviepy - video ready ../storage/datasets/debug/tolong_40.mp4\n",
      "Moviepy - Building video ../storage/datasets/debug/tolong_39.mp4.\n",
      "Moviepy - Writing video ../storage/datasets/debug/tolong_39.mp4\n",
      "\n"
     ]
    },
    {
     "name": "stderr",
     "output_type": "stream",
     "text": [
      "                                                             \r"
     ]
    },
    {
     "name": "stdout",
     "output_type": "stream",
     "text": [
      "Moviepy - Building video ../storage/datasets/debug/tolong_41.mp4.\n",
      "Moviepy - Writing video ../storage/datasets/debug/tolong_41.mp4\n",
      "\n"
     ]
    },
    {
     "name": "stderr",
     "output_type": "stream",
     "text": [
      "                                                             \r"
     ]
    },
    {
     "name": "stdout",
     "output_type": "stream",
     "text": [
      "Moviepy - Done !\n",
      "Moviepy - video ready ../storage/datasets/debug/tolong_39.mp4\n",
      "[tolong]\t47\n",
      "Moviepy - Done !\n",
      "Moviepy - video ready ../storage/datasets/debug/tolong_41.mp4\n",
      "Moviepy - Building video ../storage/datasets/debug/tolong_42.mp4.\n",
      "Moviepy - Writing video ../storage/datasets/debug/tolong_42.mp4\n",
      "\n"
     ]
    },
    {
     "name": "stderr",
     "output_type": "stream",
     "text": [
      "                                                             \r"
     ]
    },
    {
     "name": "stdout",
     "output_type": "stream",
     "text": [
      "Moviepy - Building video ../storage/datasets/debug/tolong_43.mp4.\n",
      "Moviepy - Writing video ../storage/datasets/debug/tolong_43.mp4\n",
      "\n"
     ]
    },
    {
     "name": "stderr",
     "output_type": "stream",
     "text": [
      "                                                             \r"
     ]
    },
    {
     "name": "stdout",
     "output_type": "stream",
     "text": [
      "Moviepy - Done !\n",
      "Moviepy - video ready ../storage/datasets/debug/tolong_42.mp4\n",
      "Moviepy - Done !\n",
      "Moviepy - video ready ../storage/datasets/debug/tolong_43.mp4\n",
      "Moviepy - Building video ../storage/datasets/debug/tolong_44.mp4.\n",
      "Moviepy - Writing video ../storage/datasets/debug/tolong_44.mp4\n",
      "\n"
     ]
    },
    {
     "name": "stderr",
     "output_type": "stream",
     "text": [
      "t:  87%|████████▋ | 53/61 [00:00<00:00, 65.03it/s, now=None]"
     ]
    },
    {
     "name": "stdout",
     "output_type": "stream",
     "text": [
      "Moviepy - Building video ../storage/datasets/debug/tolong_45.mp4.\n",
      "Moviepy - Writing video ../storage/datasets/debug/tolong_45.mp4\n",
      "\n"
     ]
    },
    {
     "name": "stderr",
     "output_type": "stream",
     "text": [
      "                                                            "
     ]
    },
    {
     "name": "stdout",
     "output_type": "stream",
     "text": [
      "Moviepy - Done !\n",
      "Moviepy - video ready ../storage/datasets/debug/tolong_44.mp4\n",
      "Moviepy - Done !\n",
      "Moviepy - video ready ../storage/datasets/debug/tolong_45.mp4\n",
      "Moviepy - Building video ../storage/datasets/debug/tolong_46.mp4.\n",
      "Moviepy - Writing video ../storage/datasets/debug/tolong_46.mp4\n",
      "\n"
     ]
    },
    {
     "name": "stderr",
     "output_type": "stream",
     "text": [
      "                                                            \r"
     ]
    },
    {
     "name": "stdout",
     "output_type": "stream",
     "text": [
      "Moviepy - Done !\n",
      "Moviepy - video ready ../storage/datasets/debug/tolong_46.mp4\n",
      "Moviepy - Building video ../storage/datasets/debug/tolong_40.mp4.\n",
      "Moviepy - Writing video ../storage/datasets/debug/tolong_40.mp4\n",
      "\n"
     ]
    },
    {
     "name": "stderr",
     "output_type": "stream",
     "text": [
      "                                                             \r"
     ]
    },
    {
     "name": "stdout",
     "output_type": "stream",
     "text": [
      "Moviepy - Done !\n",
      "Moviepy - video ready ../storage/datasets/debug/tolong_40.mp4\n",
      "[tolong]\t48\n",
      "Moviepy - Building video ../storage/datasets/debug/tolong_47.mp4.\n",
      "Moviepy - Writing video ../storage/datasets/debug/tolong_47.mp4\n",
      "\n"
     ]
    },
    {
     "name": "stderr",
     "output_type": "stream",
     "text": [
      "                                                             \r"
     ]
    },
    {
     "name": "stdout",
     "output_type": "stream",
     "text": [
      "Moviepy - Done !\n",
      "Moviepy - video ready ../storage/datasets/debug/tolong_47.mp4\n",
      "Moviepy - Building video ../storage/datasets/debug/tolong_41.mp4.\n",
      "Moviepy - Writing video ../storage/datasets/debug/tolong_41.mp4\n",
      "\n"
     ]
    },
    {
     "name": "stderr",
     "output_type": "stream",
     "text": [
      "                                                             \r"
     ]
    },
    {
     "name": "stdout",
     "output_type": "stream",
     "text": [
      "Moviepy - Done !\n",
      "Moviepy - video ready ../storage/datasets/debug/tolong_41.mp4\n",
      "[tolong]\t49\n",
      "Moviepy - Building video ../storage/datasets/debug/tolong_42.mp4.\n",
      "Moviepy - Writing video ../storage/datasets/debug/tolong_42.mp4\n",
      "\n"
     ]
    },
    {
     "name": "stderr",
     "output_type": "stream",
     "text": [
      "                                                             \r"
     ]
    },
    {
     "name": "stdout",
     "output_type": "stream",
     "text": [
      "Moviepy - Done !\n",
      "Moviepy - video ready ../storage/datasets/debug/tolong_42.mp4\n",
      "[tolong]\t50\n",
      "Moviepy - Building video ../storage/datasets/debug/tolong_43.mp4.\n",
      "Moviepy - Writing video ../storage/datasets/debug/tolong_43.mp4\n",
      "\n"
     ]
    },
    {
     "name": "stderr",
     "output_type": "stream",
     "text": [
      "                                                            \r"
     ]
    },
    {
     "name": "stdout",
     "output_type": "stream",
     "text": [
      "Moviepy - Done !\n",
      "Moviepy - video ready ../storage/datasets/debug/tolong_43.mp4\n",
      "[tolong]\t51\n",
      "Moviepy - Building video ../storage/datasets/debug/tolong_44.mp4.\n",
      "Moviepy - Writing video ../storage/datasets/debug/tolong_44.mp4\n",
      "\n"
     ]
    },
    {
     "name": "stderr",
     "output_type": "stream",
     "text": [
      "                                                             \r"
     ]
    },
    {
     "name": "stdout",
     "output_type": "stream",
     "text": [
      "Moviepy - Done !\n",
      "Moviepy - video ready ../storage/datasets/debug/tolong_44.mp4\n",
      "[tolong]\t52\n",
      "Moviepy - Building video ../storage/datasets/debug/tolong_45.mp4.\n",
      "Moviepy - Writing video ../storage/datasets/debug/tolong_45.mp4\n",
      "\n"
     ]
    },
    {
     "name": "stderr",
     "output_type": "stream",
     "text": [
      "t:  46%|████▌     | 28/61 [00:00<00:00, 101.09it/s, now=None]"
     ]
    },
    {
     "name": "stdout",
     "output_type": "stream",
     "text": [
      "Moviepy - Building video ../storage/datasets/debug/tolong_46.mp4.\n",
      "Moviepy - Writing video ../storage/datasets/debug/tolong_46.mp4\n",
      "\n"
     ]
    },
    {
     "name": "stderr",
     "output_type": "stream",
     "text": [
      "                                                             "
     ]
    },
    {
     "name": "stdout",
     "output_type": "stream",
     "text": [
      "Moviepy - Done !\n",
      "Moviepy - video ready ../storage/datasets/debug/tolong_45.mp4\n",
      "[tolong]\t53\n",
      "Moviepy - Building video ../storage/datasets/debug/tolong_48.mp4.\n",
      "Moviepy - Writing video ../storage/datasets/debug/tolong_48.mp4\n",
      "\n"
     ]
    },
    {
     "name": "stderr",
     "output_type": "stream",
     "text": [
      "t:  61%|██████    | 37/61 [00:00<00:00, 94.74it/s, now=None]"
     ]
    },
    {
     "name": "stdout",
     "output_type": "stream",
     "text": [
      "Moviepy - Done !\n",
      "Moviepy - video ready ../storage/datasets/debug/tolong_46.mp4\n",
      "[tolong]\t54\n"
     ]
    },
    {
     "name": "stderr",
     "output_type": "stream",
     "text": [
      "                                                            \r"
     ]
    },
    {
     "name": "stdout",
     "output_type": "stream",
     "text": [
      "Moviepy - Done !\n",
      "Moviepy - video ready ../storage/datasets/debug/tolong_48.mp4\n",
      "Moviepy - Building video ../storage/datasets/debug/tolong_47.mp4.\n",
      "Moviepy - Writing video ../storage/datasets/debug/tolong_47.mp4\n",
      "\n"
     ]
    },
    {
     "name": "stderr",
     "output_type": "stream",
     "text": [
      "                                                             \r"
     ]
    },
    {
     "name": "stdout",
     "output_type": "stream",
     "text": [
      "Moviepy - Building video ../storage/datasets/debug/tolong_49.mp4.\n",
      "Moviepy - Writing video ../storage/datasets/debug/tolong_49.mp4\n",
      "\n"
     ]
    },
    {
     "name": "stderr",
     "output_type": "stream",
     "text": [
      "t:   2%|▏         | 1/61 [00:00<00:03, 16.69it/s, now=None]"
     ]
    },
    {
     "name": "stdout",
     "output_type": "stream",
     "text": [
      "Moviepy - Done !\n",
      "Moviepy - video ready ../storage/datasets/debug/tolong_47.mp4\n",
      "[tolong]\t55\n"
     ]
    },
    {
     "name": "stderr",
     "output_type": "stream",
     "text": [
      "                                                            \r"
     ]
    },
    {
     "name": "stdout",
     "output_type": "stream",
     "text": [
      "Moviepy - Done !\n",
      "Moviepy - video ready ../storage/datasets/debug/tolong_49.mp4\n",
      "Moviepy - Building video ../storage/datasets/debug/tolong_50.mp4.\n",
      "Moviepy - Writing video ../storage/datasets/debug/tolong_50.mp4\n",
      "\n"
     ]
    },
    {
     "name": "stderr",
     "output_type": "stream",
     "text": [
      "                                                             \r"
     ]
    },
    {
     "name": "stdout",
     "output_type": "stream",
     "text": [
      "Moviepy - Done !\n",
      "Moviepy - video ready ../storage/datasets/debug/tolong_50.mp4\n",
      "Moviepy - Building video ../storage/datasets/debug/tolong_51.mp4.\n",
      "Moviepy - Writing video ../storage/datasets/debug/tolong_51.mp4\n",
      "\n"
     ]
    },
    {
     "name": "stderr",
     "output_type": "stream",
     "text": [
      "                                                             \r"
     ]
    },
    {
     "name": "stdout",
     "output_type": "stream",
     "text": [
      "Moviepy - Done !\n",
      "Moviepy - video ready ../storage/datasets/debug/tolong_51.mp4\n",
      "Moviepy - Building video ../storage/datasets/debug/tolong_52.mp4.\n",
      "Moviepy - Writing video ../storage/datasets/debug/tolong_52.mp4\n",
      "\n"
     ]
    },
    {
     "name": "stderr",
     "output_type": "stream",
     "text": [
      "                                                             \r"
     ]
    },
    {
     "name": "stdout",
     "output_type": "stream",
     "text": [
      "Moviepy - Done !\n",
      "Moviepy - video ready ../storage/datasets/debug/tolong_52.mp4\n",
      "Moviepy - Building video ../storage/datasets/debug/tolong_53.mp4.\n",
      "Moviepy - Writing video ../storage/datasets/debug/tolong_53.mp4\n",
      "\n"
     ]
    },
    {
     "name": "stderr",
     "output_type": "stream",
     "text": [
      "                                                             \r"
     ]
    },
    {
     "name": "stdout",
     "output_type": "stream",
     "text": [
      "Moviepy - Done !\n",
      "Moviepy - video ready ../storage/datasets/debug/tolong_53.mp4\n",
      "Moviepy - Building video ../storage/datasets/debug/tolong_54.mp4.\n",
      "Moviepy - Writing video ../storage/datasets/debug/tolong_54.mp4\n",
      "\n"
     ]
    },
    {
     "name": "stderr",
     "output_type": "stream",
     "text": [
      "t:  84%|████████▎ | 51/61 [00:01<00:00, 99.92it/s, now=None]"
     ]
    },
    {
     "name": "stdout",
     "output_type": "stream",
     "text": [
      "Moviepy - Building video ../storage/datasets/debug/tolong_48.mp4.\n",
      "Moviepy - Writing video ../storage/datasets/debug/tolong_48.mp4\n",
      "\n"
     ]
    },
    {
     "name": "stderr",
     "output_type": "stream",
     "text": [
      "                                                            "
     ]
    },
    {
     "name": "stdout",
     "output_type": "stream",
     "text": [
      "Moviepy - Done !\n",
      "Moviepy - video ready ../storage/datasets/debug/tolong_54.mp4\n",
      "Moviepy - Done !\n",
      "Moviepy - video ready ../storage/datasets/debug/tolong_48.mp4\n",
      "[tolong]\t56\n",
      "Moviepy - Building video ../storage/datasets/debug/tolong_55.mp4.\n",
      "Moviepy - Writing video ../storage/datasets/debug/tolong_55.mp4\n",
      "\n"
     ]
    },
    {
     "name": "stderr",
     "output_type": "stream",
     "text": [
      "                                                             \r"
     ]
    },
    {
     "name": "stdout",
     "output_type": "stream",
     "text": [
      "Moviepy - Building video ../storage/datasets/debug/tolong_49.mp4.\n",
      "Moviepy - Writing video ../storage/datasets/debug/tolong_49.mp4\n",
      "\n"
     ]
    },
    {
     "name": "stderr",
     "output_type": "stream",
     "text": [
      "                                                             \r"
     ]
    },
    {
     "name": "stdout",
     "output_type": "stream",
     "text": [
      "Moviepy - Done !\n",
      "Moviepy - video ready ../storage/datasets/debug/tolong_55.mp4\n",
      "Moviepy - Done !\n",
      "Moviepy - video ready ../storage/datasets/debug/tolong_49.mp4\n",
      "[tolong]\t57\n",
      "Moviepy - Building video ../storage/datasets/debug/tolong_50.mp4.\n",
      "Moviepy - Writing video ../storage/datasets/debug/tolong_50.mp4\n",
      "\n"
     ]
    },
    {
     "name": "stderr",
     "output_type": "stream",
     "text": [
      "                                                             \r"
     ]
    },
    {
     "name": "stdout",
     "output_type": "stream",
     "text": [
      "Moviepy - Done !\n",
      "Moviepy - video ready ../storage/datasets/debug/tolong_50.mp4\n",
      "[tolong]\t58\n",
      "Moviepy - Building video ../storage/datasets/debug/tolong_51.mp4.\n",
      "Moviepy - Writing video ../storage/datasets/debug/tolong_51.mp4\n",
      "\n"
     ]
    },
    {
     "name": "stderr",
     "output_type": "stream",
     "text": [
      "                                                             \r"
     ]
    },
    {
     "name": "stdout",
     "output_type": "stream",
     "text": [
      "Moviepy - Done !\n",
      "Moviepy - video ready ../storage/datasets/debug/tolong_51.mp4\n",
      "[tolong]\t59\n",
      "Moviepy - Building video ../storage/datasets/debug/tolong_52.mp4.\n",
      "Moviepy - Writing video ../storage/datasets/debug/tolong_52.mp4\n",
      "\n"
     ]
    },
    {
     "name": "stderr",
     "output_type": "stream",
     "text": [
      "                                                             \r"
     ]
    },
    {
     "name": "stdout",
     "output_type": "stream",
     "text": [
      "Moviepy - Done !\n",
      "Moviepy - video ready ../storage/datasets/debug/tolong_52.mp4\n",
      "[maaf]\t0\n",
      "Moviepy - Building video ../storage/datasets/debug/tolong_53.mp4.\n",
      "Moviepy - Writing video ../storage/datasets/debug/tolong_53.mp4\n",
      "\n"
     ]
    },
    {
     "name": "stderr",
     "output_type": "stream",
     "text": [
      "                                                             \r"
     ]
    },
    {
     "name": "stdout",
     "output_type": "stream",
     "text": [
      "Moviepy - Done !\n",
      "Moviepy - video ready ../storage/datasets/debug/tolong_53.mp4\n",
      "[maaf]\t1\n",
      "Moviepy - Building video ../storage/datasets/debug/tolong_54.mp4.\n",
      "Moviepy - Writing video ../storage/datasets/debug/tolong_54.mp4\n",
      "\n"
     ]
    },
    {
     "name": "stderr",
     "output_type": "stream",
     "text": [
      "                                                             \r"
     ]
    },
    {
     "name": "stdout",
     "output_type": "stream",
     "text": [
      "Moviepy - Done !\n",
      "Moviepy - video ready ../storage/datasets/debug/tolong_54.mp4\n",
      "[maaf]\t2\n",
      "Moviepy - Building video ../storage/datasets/debug/tolong_56.mp4.\n",
      "Moviepy - Writing video ../storage/datasets/debug/tolong_56.mp4\n",
      "\n"
     ]
    },
    {
     "name": "stderr",
     "output_type": "stream",
     "text": [
      "                                                             \r"
     ]
    },
    {
     "name": "stdout",
     "output_type": "stream",
     "text": [
      "Moviepy - Done !\n",
      "Moviepy - video ready ../storage/datasets/debug/tolong_56.mp4\n",
      "Moviepy - Building video ../storage/datasets/debug/tolong_55.mp4.\n",
      "Moviepy - Writing video ../storage/datasets/debug/tolong_55.mp4\n",
      "\n"
     ]
    },
    {
     "name": "stderr",
     "output_type": "stream",
     "text": [
      "                                                             \r"
     ]
    },
    {
     "name": "stdout",
     "output_type": "stream",
     "text": [
      "Moviepy - Building video ../storage/datasets/debug/tolong_57.mp4.\n",
      "Moviepy - Writing video ../storage/datasets/debug/tolong_57.mp4\n",
      "\n"
     ]
    },
    {
     "name": "stderr",
     "output_type": "stream",
     "text": [
      "                                                             \r"
     ]
    },
    {
     "name": "stdout",
     "output_type": "stream",
     "text": [
      "Moviepy - Done !\n",
      "Moviepy - video ready ../storage/datasets/debug/tolong_55.mp4\n",
      "[maaf]\t3\n",
      "Moviepy - Done !\n",
      "Moviepy - video ready ../storage/datasets/debug/tolong_57.mp4\n",
      "Moviepy - Building video ../storage/datasets/debug/tolong_58.mp4.\n",
      "Moviepy - Writing video ../storage/datasets/debug/tolong_58.mp4\n",
      "\n"
     ]
    },
    {
     "name": "stderr",
     "output_type": "stream",
     "text": [
      "                                                             \r"
     ]
    },
    {
     "name": "stdout",
     "output_type": "stream",
     "text": [
      "Moviepy - Building video ../storage/datasets/debug/tolong_59.mp4.\n",
      "Moviepy - Writing video ../storage/datasets/debug/tolong_59.mp4\n",
      "\n"
     ]
    },
    {
     "name": "stderr",
     "output_type": "stream",
     "text": [
      "                                                             \r"
     ]
    },
    {
     "name": "stdout",
     "output_type": "stream",
     "text": [
      "Moviepy - Done !\n",
      "Moviepy - video ready ../storage/datasets/debug/tolong_58.mp4\n",
      "Moviepy - Done !\n",
      "Moviepy - video ready ../storage/datasets/debug/tolong_59.mp4\n",
      "Moviepy - Building video ../storage/datasets/debug/maaf_0.mp4.\n",
      "Moviepy - Writing video ../storage/datasets/debug/maaf_0.mp4\n",
      "\n"
     ]
    },
    {
     "name": "stderr",
     "output_type": "stream",
     "text": [
      "                                                             \r"
     ]
    },
    {
     "name": "stdout",
     "output_type": "stream",
     "text": [
      "Moviepy - Done !\n",
      "Moviepy - video ready ../storage/datasets/debug/maaf_0.mp4\n",
      "Moviepy - Building video ../storage/datasets/debug/maaf_1.mp4.\n",
      "Moviepy - Writing video ../storage/datasets/debug/maaf_1.mp4\n",
      "\n"
     ]
    },
    {
     "name": "stderr",
     "output_type": "stream",
     "text": [
      "                                                             \r"
     ]
    },
    {
     "name": "stdout",
     "output_type": "stream",
     "text": [
      "Moviepy - Done !\n",
      "Moviepy - video ready ../storage/datasets/debug/maaf_1.mp4\n",
      "Moviepy - Building video ../storage/datasets/debug/maaf_2.mp4.\n",
      "Moviepy - Writing video ../storage/datasets/debug/maaf_2.mp4\n",
      "\n"
     ]
    },
    {
     "name": "stderr",
     "output_type": "stream",
     "text": [
      "                                                            \r"
     ]
    },
    {
     "name": "stdout",
     "output_type": "stream",
     "text": [
      "Moviepy - Done !\n",
      "Moviepy - video ready ../storage/datasets/debug/maaf_2.mp4\n",
      "Moviepy - Building video ../storage/datasets/debug/tolong_56.mp4.\n",
      "Moviepy - Writing video ../storage/datasets/debug/tolong_56.mp4\n",
      "\n"
     ]
    },
    {
     "name": "stderr",
     "output_type": "stream",
     "text": [
      "                                                             \r"
     ]
    },
    {
     "name": "stdout",
     "output_type": "stream",
     "text": [
      "Moviepy - Done !\n",
      "Moviepy - video ready ../storage/datasets/debug/tolong_56.mp4\n",
      "[maaf]\t4\n",
      "Moviepy - Building video ../storage/datasets/debug/maaf_3.mp4.\n",
      "Moviepy - Writing video ../storage/datasets/debug/maaf_3.mp4\n",
      "\n"
     ]
    },
    {
     "name": "stderr",
     "output_type": "stream",
     "text": [
      "                                                             \r"
     ]
    },
    {
     "name": "stdout",
     "output_type": "stream",
     "text": [
      "Moviepy - Building video ../storage/datasets/debug/tolong_57.mp4.\n",
      "Moviepy - Writing video ../storage/datasets/debug/tolong_57.mp4\n",
      "\n"
     ]
    },
    {
     "name": "stderr",
     "output_type": "stream",
     "text": [
      "t:  48%|████▊     | 29/61 [00:00<00:00, 89.07it/s, now=None]"
     ]
    },
    {
     "name": "stdout",
     "output_type": "stream",
     "text": [
      "Moviepy - Done !\n",
      "Moviepy - video ready ../storage/datasets/debug/maaf_3.mp4\n"
     ]
    },
    {
     "name": "stderr",
     "output_type": "stream",
     "text": [
      "                                                             \r"
     ]
    },
    {
     "name": "stdout",
     "output_type": "stream",
     "text": [
      "Moviepy - Done !\n",
      "Moviepy - video ready ../storage/datasets/debug/tolong_57.mp4\n",
      "[maaf]\t5\n",
      "Moviepy - Building video ../storage/datasets/debug/tolong_58.mp4.\n",
      "Moviepy - Writing video ../storage/datasets/debug/tolong_58.mp4\n",
      "\n"
     ]
    },
    {
     "name": "stderr",
     "output_type": "stream",
     "text": [
      "                                                             \r"
     ]
    },
    {
     "name": "stdout",
     "output_type": "stream",
     "text": [
      "Moviepy - Building video ../storage/datasets/debug/tolong_59.mp4.\n",
      "Moviepy - Writing video ../storage/datasets/debug/tolong_59.mp4\n",
      "\n"
     ]
    },
    {
     "name": "stderr",
     "output_type": "stream",
     "text": [
      "t:  95%|█████████▌| 58/61 [00:00<00:00, 83.58it/s, now=None] "
     ]
    },
    {
     "name": "stdout",
     "output_type": "stream",
     "text": [
      "Moviepy - Done !\n",
      "Moviepy - video ready ../storage/datasets/debug/tolong_58.mp4\n",
      "[maaf]\t6\n"
     ]
    },
    {
     "name": "stderr",
     "output_type": "stream",
     "text": [
      "                                                            \r"
     ]
    },
    {
     "name": "stdout",
     "output_type": "stream",
     "text": [
      "Moviepy - Done !\n",
      "Moviepy - video ready ../storage/datasets/debug/tolong_59.mp4\n",
      "[maaf]\t7\n",
      "Moviepy - Building video ../storage/datasets/debug/maaf_0.mp4.\n",
      "Moviepy - Writing video ../storage/datasets/debug/maaf_0.mp4\n",
      "\n"
     ]
    },
    {
     "name": "stderr",
     "output_type": "stream",
     "text": [
      "                                                            \r"
     ]
    },
    {
     "name": "stdout",
     "output_type": "stream",
     "text": [
      "Moviepy - Done !\n",
      "Moviepy - video ready ../storage/datasets/debug/maaf_0.mp4\n",
      "[maaf]\t8\n",
      "Moviepy - Building video ../storage/datasets/debug/maaf_1.mp4.\n",
      "Moviepy - Writing video ../storage/datasets/debug/maaf_1.mp4\n",
      "\n"
     ]
    },
    {
     "name": "stderr",
     "output_type": "stream",
     "text": [
      "                                                             \r"
     ]
    },
    {
     "name": "stdout",
     "output_type": "stream",
     "text": [
      "Moviepy - Done !\n",
      "Moviepy - video ready ../storage/datasets/debug/maaf_1.mp4\n",
      "[maaf]\t9\n",
      "Moviepy - Building video ../storage/datasets/debug/maaf_2.mp4.\n",
      "Moviepy - Writing video ../storage/datasets/debug/maaf_2.mp4\n",
      "\n"
     ]
    },
    {
     "name": "stderr",
     "output_type": "stream",
     "text": [
      "                                                             \r"
     ]
    },
    {
     "name": "stdout",
     "output_type": "stream",
     "text": [
      "Moviepy - Done !\n",
      "Moviepy - video ready ../storage/datasets/debug/maaf_2.mp4\n",
      "[maaf]\t10\n",
      "Moviepy - Building video ../storage/datasets/debug/maaf_4.mp4.\n",
      "Moviepy - Writing video ../storage/datasets/debug/maaf_4.mp4\n",
      "\n"
     ]
    },
    {
     "name": "stderr",
     "output_type": "stream",
     "text": [
      "                                                             \r"
     ]
    },
    {
     "name": "stdout",
     "output_type": "stream",
     "text": [
      "Moviepy - Done !\n",
      "Moviepy - video ready ../storage/datasets/debug/maaf_4.mp4\n",
      "Moviepy - Building video ../storage/datasets/debug/maaf_3.mp4.\n",
      "Moviepy - Writing video ../storage/datasets/debug/maaf_3.mp4\n",
      "\n"
     ]
    },
    {
     "name": "stderr",
     "output_type": "stream",
     "text": [
      "                                                             \r"
     ]
    },
    {
     "name": "stdout",
     "output_type": "stream",
     "text": [
      "Moviepy - Building video ../storage/datasets/debug/maaf_5.mp4.\n",
      "Moviepy - Writing video ../storage/datasets/debug/maaf_5.mp4\n",
      "\n"
     ]
    },
    {
     "name": "stderr",
     "output_type": "stream",
     "text": [
      "t:  66%|██████▌   | 40/61 [00:00<00:00, 116.54it/s, now=None]"
     ]
    },
    {
     "name": "stdout",
     "output_type": "stream",
     "text": [
      "Moviepy - Done !\n",
      "Moviepy - video ready ../storage/datasets/debug/maaf_3.mp4\n",
      "[maaf]\t11\n"
     ]
    },
    {
     "name": "stderr",
     "output_type": "stream",
     "text": [
      "                                                             \r"
     ]
    },
    {
     "name": "stdout",
     "output_type": "stream",
     "text": [
      "Moviepy - Done !\n",
      "Moviepy - video ready ../storage/datasets/debug/maaf_5.mp4\n",
      "Moviepy - Building video ../storage/datasets/debug/maaf_6.mp4.\n",
      "Moviepy - Writing video ../storage/datasets/debug/maaf_6.mp4\n",
      "\n"
     ]
    },
    {
     "name": "stderr",
     "output_type": "stream",
     "text": [
      "                                                            \r"
     ]
    },
    {
     "name": "stdout",
     "output_type": "stream",
     "text": [
      "Moviepy - Done !\n",
      "Moviepy - video ready ../storage/datasets/debug/maaf_6.mp4\n",
      "Moviepy - Building video ../storage/datasets/debug/maaf_7.mp4.\n",
      "Moviepy - Writing video ../storage/datasets/debug/maaf_7.mp4\n",
      "\n"
     ]
    },
    {
     "name": "stderr",
     "output_type": "stream",
     "text": [
      "                                                            \r"
     ]
    },
    {
     "name": "stdout",
     "output_type": "stream",
     "text": [
      "Moviepy - Done !\n",
      "Moviepy - video ready ../storage/datasets/debug/maaf_7.mp4\n",
      "Moviepy - Building video ../storage/datasets/debug/maaf_8.mp4.\n",
      "Moviepy - Writing video ../storage/datasets/debug/maaf_8.mp4\n",
      "\n"
     ]
    },
    {
     "name": "stderr",
     "output_type": "stream",
     "text": [
      "                                                             \r"
     ]
    },
    {
     "name": "stdout",
     "output_type": "stream",
     "text": [
      "Moviepy - Done !\n",
      "Moviepy - video ready ../storage/datasets/debug/maaf_8.mp4\n",
      "Moviepy - Building video ../storage/datasets/debug/maaf_9.mp4.\n",
      "Moviepy - Writing video ../storage/datasets/debug/maaf_9.mp4\n",
      "\n"
     ]
    },
    {
     "name": "stderr",
     "output_type": "stream",
     "text": [
      "                                                             \r"
     ]
    },
    {
     "name": "stdout",
     "output_type": "stream",
     "text": [
      "Moviepy - Done !\n",
      "Moviepy - video ready ../storage/datasets/debug/maaf_9.mp4\n",
      "Moviepy - Building video ../storage/datasets/debug/maaf_10.mp4.\n",
      "Moviepy - Writing video ../storage/datasets/debug/maaf_10.mp4\n",
      "\n"
     ]
    },
    {
     "name": "stderr",
     "output_type": "stream",
     "text": [
      "                                                             \r"
     ]
    },
    {
     "name": "stdout",
     "output_type": "stream",
     "text": [
      "Moviepy - Building video ../storage/datasets/debug/maaf_4.mp4.\n",
      "Moviepy - Writing video ../storage/datasets/debug/maaf_4.mp4\n",
      "\n"
     ]
    },
    {
     "name": "stderr",
     "output_type": "stream",
     "text": [
      "                                                             \r"
     ]
    },
    {
     "name": "stdout",
     "output_type": "stream",
     "text": [
      "Moviepy - Done !\n",
      "Moviepy - video ready ../storage/datasets/debug/maaf_10.mp4\n",
      "Moviepy - Done !\n",
      "Moviepy - video ready ../storage/datasets/debug/maaf_4.mp4\n",
      "[maaf]\t12\n",
      "Moviepy - Building video ../storage/datasets/debug/maaf_11.mp4.\n",
      "Moviepy - Writing video ../storage/datasets/debug/maaf_11.mp4\n",
      "\n"
     ]
    },
    {
     "name": "stderr",
     "output_type": "stream",
     "text": [
      "                                                             \r"
     ]
    },
    {
     "name": "stdout",
     "output_type": "stream",
     "text": [
      "Moviepy - Building video ../storage/datasets/debug/maaf_5.mp4.\n",
      "Moviepy - Writing video ../storage/datasets/debug/maaf_5.mp4\n",
      "\n"
     ]
    },
    {
     "name": "stderr",
     "output_type": "stream",
     "text": [
      "t:   2%|▏         | 1/61 [00:00<00:00, 86.79it/s, now=None] "
     ]
    },
    {
     "name": "stdout",
     "output_type": "stream",
     "text": [
      "Moviepy - Done !\n",
      "Moviepy - video ready ../storage/datasets/debug/maaf_11.mp4\n"
     ]
    },
    {
     "name": "stderr",
     "output_type": "stream",
     "text": [
      "                                                            \r"
     ]
    },
    {
     "name": "stdout",
     "output_type": "stream",
     "text": [
      "Moviepy - Done !\n",
      "Moviepy - video ready ../storage/datasets/debug/maaf_5.mp4\n",
      "[maaf]\t13\n",
      "Moviepy - Building video ../storage/datasets/debug/maaf_6.mp4.\n",
      "Moviepy - Writing video ../storage/datasets/debug/maaf_6.mp4\n",
      "\n"
     ]
    },
    {
     "name": "stderr",
     "output_type": "stream",
     "text": [
      "                                                            \r"
     ]
    },
    {
     "name": "stdout",
     "output_type": "stream",
     "text": [
      "Moviepy - Done !\n",
      "Moviepy - video ready ../storage/datasets/debug/maaf_6.mp4\n",
      "[maaf]\t14\n",
      "Moviepy - Building video ../storage/datasets/debug/maaf_7.mp4.\n",
      "Moviepy - Writing video ../storage/datasets/debug/maaf_7.mp4\n",
      "\n"
     ]
    },
    {
     "name": "stderr",
     "output_type": "stream",
     "text": [
      "                                                             \r"
     ]
    },
    {
     "name": "stdout",
     "output_type": "stream",
     "text": [
      "Moviepy - Building video ../storage/datasets/debug/maaf_8.mp4.\n",
      "Moviepy - Writing video ../storage/datasets/debug/maaf_8.mp4\n",
      "\n"
     ]
    },
    {
     "name": "stderr",
     "output_type": "stream",
     "text": [
      "                                                             \r"
     ]
    },
    {
     "name": "stdout",
     "output_type": "stream",
     "text": [
      "Moviepy - Done !\n",
      "Moviepy - video ready ../storage/datasets/debug/maaf_7.mp4\n",
      "[maaf]\t15\n",
      "Moviepy - Done !\n",
      "Moviepy - video ready ../storage/datasets/debug/maaf_8.mp4\n",
      "[maaf]\t16\n",
      "Moviepy - Building video ../storage/datasets/debug/maaf_9.mp4.\n",
      "Moviepy - Writing video ../storage/datasets/debug/maaf_9.mp4\n",
      "\n"
     ]
    },
    {
     "name": "stderr",
     "output_type": "stream",
     "text": [
      "                                                            \r"
     ]
    },
    {
     "name": "stdout",
     "output_type": "stream",
     "text": [
      "Moviepy - Done !\n",
      "Moviepy - video ready ../storage/datasets/debug/maaf_9.mp4\n",
      "[maaf]\t17\n",
      "Moviepy - Building video ../storage/datasets/debug/maaf_10.mp4.\n",
      "Moviepy - Writing video ../storage/datasets/debug/maaf_10.mp4\n",
      "\n"
     ]
    },
    {
     "name": "stderr",
     "output_type": "stream",
     "text": [
      "                                                             \r"
     ]
    },
    {
     "name": "stdout",
     "output_type": "stream",
     "text": [
      "Moviepy - Done !\n",
      "Moviepy - video ready ../storage/datasets/debug/maaf_10.mp4\n",
      "[maaf]\t18\n",
      "Moviepy - Building video ../storage/datasets/debug/maaf_12.mp4.\n",
      "Moviepy - Writing video ../storage/datasets/debug/maaf_12.mp4\n",
      "\n"
     ]
    },
    {
     "name": "stderr",
     "output_type": "stream",
     "text": [
      "                                                             \r"
     ]
    },
    {
     "name": "stdout",
     "output_type": "stream",
     "text": [
      "Moviepy - Done !\n",
      "Moviepy - video ready ../storage/datasets/debug/maaf_12.mp4\n",
      "Moviepy - Building video ../storage/datasets/debug/maaf_11.mp4.\n",
      "Moviepy - Writing video ../storage/datasets/debug/maaf_11.mp4\n",
      "\n"
     ]
    },
    {
     "name": "stderr",
     "output_type": "stream",
     "text": [
      "                                                             \r"
     ]
    },
    {
     "name": "stdout",
     "output_type": "stream",
     "text": [
      "Moviepy - Building video ../storage/datasets/debug/maaf_13.mp4.\n",
      "Moviepy - Writing video ../storage/datasets/debug/maaf_13.mp4\n",
      "\n"
     ]
    },
    {
     "name": "stderr",
     "output_type": "stream",
     "text": [
      "                                                             \r"
     ]
    },
    {
     "name": "stdout",
     "output_type": "stream",
     "text": [
      "Moviepy - Done !\n",
      "Moviepy - video ready ../storage/datasets/debug/maaf_11.mp4\n",
      "[maaf]\t19\n",
      "Moviepy - Done !\n",
      "Moviepy - video ready ../storage/datasets/debug/maaf_13.mp4\n",
      "Moviepy - Building video ../storage/datasets/debug/maaf_14.mp4.\n",
      "Moviepy - Writing video ../storage/datasets/debug/maaf_14.mp4\n",
      "\n"
     ]
    },
    {
     "name": "stderr",
     "output_type": "stream",
     "text": [
      "                                                             \r"
     ]
    },
    {
     "name": "stdout",
     "output_type": "stream",
     "text": [
      "Moviepy - Done !\n",
      "Moviepy - video ready ../storage/datasets/debug/maaf_14.mp4\n",
      "Moviepy - Building video ../storage/datasets/debug/maaf_15.mp4.\n",
      "Moviepy - Writing video ../storage/datasets/debug/maaf_15.mp4\n",
      "\n"
     ]
    },
    {
     "name": "stderr",
     "output_type": "stream",
     "text": [
      "                                                             \r"
     ]
    },
    {
     "name": "stdout",
     "output_type": "stream",
     "text": [
      "Moviepy - Done !\n",
      "Moviepy - video ready ../storage/datasets/debug/maaf_15.mp4\n",
      "Moviepy - Building video ../storage/datasets/debug/maaf_16.mp4.\n",
      "Moviepy - Writing video ../storage/datasets/debug/maaf_16.mp4\n",
      "\n"
     ]
    },
    {
     "name": "stderr",
     "output_type": "stream",
     "text": [
      "                                                             \r"
     ]
    },
    {
     "name": "stdout",
     "output_type": "stream",
     "text": [
      "Moviepy - Building video ../storage/datasets/debug/maaf_17.mp4.\n",
      "Moviepy - Writing video ../storage/datasets/debug/maaf_17.mp4\n",
      "\n"
     ]
    },
    {
     "name": "stderr",
     "output_type": "stream",
     "text": [
      "t:   2%|▏         | 1/61 [00:00<00:02, 29.40it/s, now=None]"
     ]
    },
    {
     "name": "stdout",
     "output_type": "stream",
     "text": [
      "Moviepy - Done !\n",
      "Moviepy - video ready ../storage/datasets/debug/maaf_16.mp4\n"
     ]
    },
    {
     "name": "stderr",
     "output_type": "stream",
     "text": [
      "                                                             \r"
     ]
    },
    {
     "name": "stdout",
     "output_type": "stream",
     "text": [
      "Moviepy - Done !\n",
      "Moviepy - video ready ../storage/datasets/debug/maaf_17.mp4\n",
      "Moviepy - Building video ../storage/datasets/debug/maaf_18.mp4.\n",
      "Moviepy - Writing video ../storage/datasets/debug/maaf_18.mp4\n",
      "\n"
     ]
    },
    {
     "name": "stderr",
     "output_type": "stream",
     "text": [
      "                                                             \r"
     ]
    },
    {
     "name": "stdout",
     "output_type": "stream",
     "text": [
      "Moviepy - Done !\n",
      "Moviepy - video ready ../storage/datasets/debug/maaf_18.mp4\n",
      "Moviepy - Building video ../storage/datasets/debug/maaf_12.mp4.\n",
      "Moviepy - Writing video ../storage/datasets/debug/maaf_12.mp4\n",
      "\n"
     ]
    },
    {
     "name": "stderr",
     "output_type": "stream",
     "text": [
      "                                                             \r"
     ]
    },
    {
     "name": "stdout",
     "output_type": "stream",
     "text": [
      "Moviepy - Done !\n",
      "Moviepy - video ready ../storage/datasets/debug/maaf_12.mp4\n",
      "[maaf]\t20\n",
      "Moviepy - Building video ../storage/datasets/debug/maaf_19.mp4.\n",
      "Moviepy - Writing video ../storage/datasets/debug/maaf_19.mp4\n",
      "\n"
     ]
    },
    {
     "name": "stderr",
     "output_type": "stream",
     "text": [
      "                                                             \r"
     ]
    },
    {
     "name": "stdout",
     "output_type": "stream",
     "text": [
      "Moviepy - Done !\n",
      "Moviepy - video ready ../storage/datasets/debug/maaf_19.mp4\n",
      "Moviepy - Building video ../storage/datasets/debug/maaf_13.mp4.\n",
      "Moviepy - Writing video ../storage/datasets/debug/maaf_13.mp4\n",
      "\n"
     ]
    },
    {
     "name": "stderr",
     "output_type": "stream",
     "text": [
      "                                                             \r"
     ]
    },
    {
     "name": "stdout",
     "output_type": "stream",
     "text": [
      "Moviepy - Building video ../storage/datasets/debug/maaf_14.mp4.\n",
      "Moviepy - Writing video ../storage/datasets/debug/maaf_14.mp4\n",
      "\n"
     ]
    },
    {
     "name": "stderr",
     "output_type": "stream",
     "text": [
      "                                                             "
     ]
    },
    {
     "name": "stdout",
     "output_type": "stream",
     "text": [
      "Moviepy - Done !\n",
      "Moviepy - video ready ../storage/datasets/debug/maaf_13.mp4\n",
      "[maaf]\t21\n"
     ]
    },
    {
     "name": "stderr",
     "output_type": "stream",
     "text": [
      "\r"
     ]
    },
    {
     "name": "stdout",
     "output_type": "stream",
     "text": [
      "Moviepy - Done !\n",
      "Moviepy - video ready ../storage/datasets/debug/maaf_14.mp4\n",
      "[maaf]\t22\n",
      "Moviepy - Building video ../storage/datasets/debug/maaf_15.mp4.\n",
      "Moviepy - Writing video ../storage/datasets/debug/maaf_15.mp4\n",
      "\n"
     ]
    },
    {
     "name": "stderr",
     "output_type": "stream",
     "text": [
      "                                                            \r"
     ]
    },
    {
     "name": "stdout",
     "output_type": "stream",
     "text": [
      "Moviepy - Done !\n",
      "Moviepy - video ready ../storage/datasets/debug/maaf_15.mp4\n",
      "[maaf]\t23\n",
      "Moviepy - Building video ../storage/datasets/debug/maaf_16.mp4.\n",
      "Moviepy - Writing video ../storage/datasets/debug/maaf_16.mp4\n",
      "\n"
     ]
    },
    {
     "name": "stderr",
     "output_type": "stream",
     "text": [
      "                                                            \r"
     ]
    },
    {
     "name": "stdout",
     "output_type": "stream",
     "text": [
      "Moviepy - Building video ../storage/datasets/debug/maaf_17.mp4.\n",
      "Moviepy - Writing video ../storage/datasets/debug/maaf_17.mp4\n",
      "\n"
     ]
    },
    {
     "name": "stderr",
     "output_type": "stream",
     "text": [
      "t:  89%|████████▊ | 54/61 [00:00<00:00, 148.76it/s, now=None]"
     ]
    },
    {
     "name": "stdout",
     "output_type": "stream",
     "text": [
      "Moviepy - Done !\n",
      "Moviepy - video ready ../storage/datasets/debug/maaf_16.mp4\n",
      "[maaf]\t24\n"
     ]
    },
    {
     "name": "stderr",
     "output_type": "stream",
     "text": [
      "                                                             \r"
     ]
    },
    {
     "name": "stdout",
     "output_type": "stream",
     "text": [
      "Moviepy - Done !\n",
      "Moviepy - video ready ../storage/datasets/debug/maaf_17.mp4\n",
      "[maaf]\t25\n",
      "Moviepy - Building video ../storage/datasets/debug/maaf_18.mp4.\n",
      "Moviepy - Writing video ../storage/datasets/debug/maaf_18.mp4\n",
      "\n"
     ]
    },
    {
     "name": "stderr",
     "output_type": "stream",
     "text": [
      "                                                             \r"
     ]
    },
    {
     "name": "stdout",
     "output_type": "stream",
     "text": [
      "Moviepy - Done !\n",
      "Moviepy - video ready ../storage/datasets/debug/maaf_18.mp4\n",
      "[maaf]\t26\n",
      "Moviepy - Building video ../storage/datasets/debug/maaf_20.mp4.\n",
      "Moviepy - Writing video ../storage/datasets/debug/maaf_20.mp4\n",
      "\n"
     ]
    },
    {
     "name": "stderr",
     "output_type": "stream",
     "text": [
      "                                                             \r"
     ]
    },
    {
     "name": "stdout",
     "output_type": "stream",
     "text": [
      "Moviepy - Done !\n",
      "Moviepy - video ready ../storage/datasets/debug/maaf_20.mp4\n",
      "Moviepy - Building video ../storage/datasets/debug/maaf_19.mp4.\n",
      "Moviepy - Writing video ../storage/datasets/debug/maaf_19.mp4\n",
      "\n"
     ]
    },
    {
     "name": "stderr",
     "output_type": "stream",
     "text": [
      "                                                            \r"
     ]
    },
    {
     "name": "stdout",
     "output_type": "stream",
     "text": [
      "Moviepy - Done !\n",
      "Moviepy - video ready ../storage/datasets/debug/maaf_19.mp4\n",
      "[maaf]\t27\n",
      "Moviepy - Building video ../storage/datasets/debug/maaf_21.mp4.\n",
      "Moviepy - Writing video ../storage/datasets/debug/maaf_21.mp4\n",
      "\n"
     ]
    },
    {
     "name": "stderr",
     "output_type": "stream",
     "text": [
      "                                                             \r"
     ]
    },
    {
     "name": "stdout",
     "output_type": "stream",
     "text": [
      "Moviepy - Done !\n",
      "Moviepy - video ready ../storage/datasets/debug/maaf_21.mp4\n",
      "Moviepy - Building video ../storage/datasets/debug/maaf_22.mp4.\n",
      "Moviepy - Writing video ../storage/datasets/debug/maaf_22.mp4\n",
      "\n"
     ]
    },
    {
     "name": "stderr",
     "output_type": "stream",
     "text": [
      "                                                             \r"
     ]
    },
    {
     "name": "stdout",
     "output_type": "stream",
     "text": [
      "Moviepy - Building video ../storage/datasets/debug/maaf_23.mp4.\n",
      "Moviepy - Writing video ../storage/datasets/debug/maaf_23.mp4\n",
      "\n"
     ]
    },
    {
     "name": "stderr",
     "output_type": "stream",
     "text": [
      "t:   2%|▏         | 1/61 [00:00<00:02, 21.36it/s, now=None]"
     ]
    },
    {
     "name": "stdout",
     "output_type": "stream",
     "text": [
      "Moviepy - Done !\n",
      "Moviepy - video ready ../storage/datasets/debug/maaf_22.mp4\n"
     ]
    },
    {
     "name": "stderr",
     "output_type": "stream",
     "text": [
      "                                                            \r"
     ]
    },
    {
     "name": "stdout",
     "output_type": "stream",
     "text": [
      "Moviepy - Done !\n",
      "Moviepy - video ready ../storage/datasets/debug/maaf_23.mp4\n",
      "Moviepy - Building video ../storage/datasets/debug/maaf_24.mp4.\n",
      "Moviepy - Writing video ../storage/datasets/debug/maaf_24.mp4\n",
      "\n"
     ]
    },
    {
     "name": "stderr",
     "output_type": "stream",
     "text": [
      "                                                             \r"
     ]
    },
    {
     "name": "stdout",
     "output_type": "stream",
     "text": [
      "Moviepy - Done !\n",
      "Moviepy - video ready ../storage/datasets/debug/maaf_24.mp4\n",
      "Moviepy - Building video ../storage/datasets/debug/maaf_25.mp4.\n",
      "Moviepy - Writing video ../storage/datasets/debug/maaf_25.mp4\n",
      "\n"
     ]
    },
    {
     "name": "stderr",
     "output_type": "stream",
     "text": [
      "                                                             \r"
     ]
    },
    {
     "name": "stdout",
     "output_type": "stream",
     "text": [
      "Moviepy - Done !\n",
      "Moviepy - video ready ../storage/datasets/debug/maaf_25.mp4\n",
      "Moviepy - Building video ../storage/datasets/debug/maaf_26.mp4.\n",
      "Moviepy - Writing video ../storage/datasets/debug/maaf_26.mp4\n",
      "\n"
     ]
    },
    {
     "name": "stderr",
     "output_type": "stream",
     "text": [
      "                                                             \r"
     ]
    },
    {
     "name": "stdout",
     "output_type": "stream",
     "text": [
      "Moviepy - Done !\n",
      "Moviepy - video ready ../storage/datasets/debug/maaf_26.mp4\n",
      "Moviepy - Building video ../storage/datasets/debug/maaf_20.mp4.\n",
      "Moviepy - Writing video ../storage/datasets/debug/maaf_20.mp4\n",
      "\n"
     ]
    },
    {
     "name": "stderr",
     "output_type": "stream",
     "text": [
      "                                                            \r"
     ]
    },
    {
     "name": "stdout",
     "output_type": "stream",
     "text": [
      "Moviepy - Done !\n",
      "Moviepy - video ready ../storage/datasets/debug/maaf_20.mp4\n",
      "[maaf]\t28\n",
      "Moviepy - Building video ../storage/datasets/debug/maaf_27.mp4.\n",
      "Moviepy - Writing video ../storage/datasets/debug/maaf_27.mp4\n",
      "\n"
     ]
    },
    {
     "name": "stderr",
     "output_type": "stream",
     "text": [
      "                                                             \r"
     ]
    },
    {
     "name": "stdout",
     "output_type": "stream",
     "text": [
      "Moviepy - Done !\n",
      "Moviepy - video ready ../storage/datasets/debug/maaf_27.mp4\n",
      "Moviepy - Building video ../storage/datasets/debug/maaf_21.mp4.\n",
      "Moviepy - Writing video ../storage/datasets/debug/maaf_21.mp4\n",
      "\n"
     ]
    },
    {
     "name": "stderr",
     "output_type": "stream",
     "text": [
      "                                                             \r"
     ]
    },
    {
     "name": "stdout",
     "output_type": "stream",
     "text": [
      "Moviepy - Done !\n",
      "Moviepy - video ready ../storage/datasets/debug/maaf_21.mp4\n",
      "[maaf]\t29\n",
      "Moviepy - Building video ../storage/datasets/debug/maaf_22.mp4.\n",
      "Moviepy - Writing video ../storage/datasets/debug/maaf_22.mp4\n",
      "\n"
     ]
    },
    {
     "name": "stderr",
     "output_type": "stream",
     "text": [
      "                                                            \r"
     ]
    },
    {
     "name": "stdout",
     "output_type": "stream",
     "text": [
      "Moviepy - Done !\n",
      "Moviepy - video ready ../storage/datasets/debug/maaf_22.mp4\n",
      "[maaf]\t30\n",
      "Moviepy - Building video ../storage/datasets/debug/maaf_23.mp4.\n",
      "Moviepy - Writing video ../storage/datasets/debug/maaf_23.mp4\n",
      "\n"
     ]
    },
    {
     "name": "stderr",
     "output_type": "stream",
     "text": [
      "                                                             \r"
     ]
    },
    {
     "name": "stdout",
     "output_type": "stream",
     "text": [
      "Moviepy - Done !\n",
      "Moviepy - video ready ../storage/datasets/debug/maaf_23.mp4\n",
      "[maaf]\t31\n",
      "Moviepy - Building video ../storage/datasets/debug/maaf_24.mp4.\n",
      "Moviepy - Writing video ../storage/datasets/debug/maaf_24.mp4\n",
      "\n"
     ]
    },
    {
     "name": "stderr",
     "output_type": "stream",
     "text": [
      "                                                            \r"
     ]
    },
    {
     "name": "stdout",
     "output_type": "stream",
     "text": [
      "Moviepy - Done !\n",
      "Moviepy - video ready ../storage/datasets/debug/maaf_24.mp4\n",
      "[maaf]\t32\n",
      "Moviepy - Building video ../storage/datasets/debug/maaf_25.mp4.\n",
      "Moviepy - Writing video ../storage/datasets/debug/maaf_25.mp4\n",
      "\n"
     ]
    },
    {
     "name": "stderr",
     "output_type": "stream",
     "text": [
      "                                                            \r"
     ]
    },
    {
     "name": "stdout",
     "output_type": "stream",
     "text": [
      "Moviepy - Done !\n",
      "Moviepy - video ready ../storage/datasets/debug/maaf_25.mp4\n",
      "[maaf]\t33\n",
      "Moviepy - Building video ../storage/datasets/debug/maaf_26.mp4.\n",
      "Moviepy - Writing video ../storage/datasets/debug/maaf_26.mp4\n",
      "\n"
     ]
    },
    {
     "name": "stderr",
     "output_type": "stream",
     "text": [
      "                                                             \r"
     ]
    },
    {
     "name": "stdout",
     "output_type": "stream",
     "text": [
      "Moviepy - Done !\n",
      "Moviepy - video ready ../storage/datasets/debug/maaf_26.mp4\n",
      "[maaf]\t34\n",
      "Moviepy - Building video ../storage/datasets/debug/maaf_28.mp4.\n",
      "Moviepy - Writing video ../storage/datasets/debug/maaf_28.mp4\n",
      "\n"
     ]
    },
    {
     "name": "stderr",
     "output_type": "stream",
     "text": [
      "                                                             \r"
     ]
    },
    {
     "name": "stdout",
     "output_type": "stream",
     "text": [
      "Moviepy - Done !\n",
      "Moviepy - video ready ../storage/datasets/debug/maaf_28.mp4\n",
      "Moviepy - Building video ../storage/datasets/debug/maaf_27.mp4.\n",
      "Moviepy - Writing video ../storage/datasets/debug/maaf_27.mp4\n",
      "\n"
     ]
    },
    {
     "name": "stderr",
     "output_type": "stream",
     "text": [
      "                                                             \r"
     ]
    },
    {
     "name": "stdout",
     "output_type": "stream",
     "text": [
      "Moviepy - Done !\n",
      "Moviepy - video ready ../storage/datasets/debug/maaf_27.mp4\n",
      "[maaf]\t35\n",
      "Moviepy - Building video ../storage/datasets/debug/maaf_29.mp4.\n",
      "Moviepy - Writing video ../storage/datasets/debug/maaf_29.mp4\n",
      "\n"
     ]
    },
    {
     "name": "stderr",
     "output_type": "stream",
     "text": [
      "                                                             \r"
     ]
    },
    {
     "name": "stdout",
     "output_type": "stream",
     "text": [
      "Moviepy - Done !\n",
      "Moviepy - video ready ../storage/datasets/debug/maaf_29.mp4\n",
      "Moviepy - Building video ../storage/datasets/debug/maaf_30.mp4.\n",
      "Moviepy - Writing video ../storage/datasets/debug/maaf_30.mp4\n",
      "\n"
     ]
    },
    {
     "name": "stderr",
     "output_type": "stream",
     "text": [
      "                                                            \r"
     ]
    },
    {
     "name": "stdout",
     "output_type": "stream",
     "text": [
      "Moviepy - Done !\n",
      "Moviepy - video ready ../storage/datasets/debug/maaf_30.mp4\n",
      "Moviepy - Building video ../storage/datasets/debug/maaf_31.mp4.\n",
      "Moviepy - Writing video ../storage/datasets/debug/maaf_31.mp4\n",
      "\n"
     ]
    },
    {
     "name": "stderr",
     "output_type": "stream",
     "text": [
      "                                                             \r"
     ]
    },
    {
     "name": "stdout",
     "output_type": "stream",
     "text": [
      "Moviepy - Done !\n",
      "Moviepy - video ready ../storage/datasets/debug/maaf_31.mp4\n",
      "Moviepy - Building video ../storage/datasets/debug/maaf_32.mp4.\n",
      "Moviepy - Writing video ../storage/datasets/debug/maaf_32.mp4\n",
      "\n"
     ]
    },
    {
     "name": "stderr",
     "output_type": "stream",
     "text": [
      "                                                            \r"
     ]
    },
    {
     "name": "stdout",
     "output_type": "stream",
     "text": [
      "Moviepy - Building video ../storage/datasets/debug/maaf_33.mp4.\n",
      "Moviepy - Writing video ../storage/datasets/debug/maaf_33.mp4\n",
      "\n"
     ]
    },
    {
     "name": "stderr",
     "output_type": "stream",
     "text": [
      "t:  48%|████▊     | 29/61 [00:00<00:00, 93.03it/s, now=None]"
     ]
    },
    {
     "name": "stdout",
     "output_type": "stream",
     "text": [
      "Moviepy - Done !\n",
      "Moviepy - video ready ../storage/datasets/debug/maaf_32.mp4\n"
     ]
    },
    {
     "name": "stderr",
     "output_type": "stream",
     "text": [
      "                                                            \r"
     ]
    },
    {
     "name": "stdout",
     "output_type": "stream",
     "text": [
      "Moviepy - Done !\n",
      "Moviepy - video ready ../storage/datasets/debug/maaf_33.mp4\n",
      "Moviepy - Building video ../storage/datasets/debug/maaf_34.mp4.\n",
      "Moviepy - Writing video ../storage/datasets/debug/maaf_34.mp4\n",
      "\n"
     ]
    },
    {
     "name": "stderr",
     "output_type": "stream",
     "text": [
      "                                                             \r"
     ]
    },
    {
     "name": "stdout",
     "output_type": "stream",
     "text": [
      "Moviepy - Done !\n",
      "Moviepy - video ready ../storage/datasets/debug/maaf_34.mp4\n",
      "Moviepy - Building video ../storage/datasets/debug/maaf_28.mp4.\n",
      "Moviepy - Writing video ../storage/datasets/debug/maaf_28.mp4\n",
      "\n"
     ]
    },
    {
     "name": "stderr",
     "output_type": "stream",
     "text": [
      "                                                             \r"
     ]
    },
    {
     "name": "stdout",
     "output_type": "stream",
     "text": [
      "Moviepy - Done !\n",
      "Moviepy - video ready ../storage/datasets/debug/maaf_28.mp4\n",
      "[maaf]\t36\n",
      "Moviepy - Building video ../storage/datasets/debug/maaf_35.mp4.\n",
      "Moviepy - Writing video ../storage/datasets/debug/maaf_35.mp4\n",
      "\n"
     ]
    },
    {
     "name": "stderr",
     "output_type": "stream",
     "text": [
      "                                                             \r"
     ]
    },
    {
     "name": "stdout",
     "output_type": "stream",
     "text": [
      "Moviepy - Done !\n",
      "Moviepy - video ready ../storage/datasets/debug/maaf_35.mp4\n",
      "Moviepy - Building video ../storage/datasets/debug/maaf_29.mp4.\n",
      "Moviepy - Writing video ../storage/datasets/debug/maaf_29.mp4\n",
      "\n"
     ]
    },
    {
     "name": "stderr",
     "output_type": "stream",
     "text": [
      "                                                             \r"
     ]
    },
    {
     "name": "stdout",
     "output_type": "stream",
     "text": [
      "Moviepy - Done !\n",
      "Moviepy - video ready ../storage/datasets/debug/maaf_29.mp4\n",
      "[maaf]\t37\n",
      "Moviepy - Building video ../storage/datasets/debug/maaf_30.mp4.\n",
      "Moviepy - Writing video ../storage/datasets/debug/maaf_30.mp4\n",
      "\n"
     ]
    },
    {
     "name": "stderr",
     "output_type": "stream",
     "text": [
      "                                                            \r"
     ]
    },
    {
     "name": "stdout",
     "output_type": "stream",
     "text": [
      "Moviepy - Done !\n",
      "Moviepy - video ready ../storage/datasets/debug/maaf_30.mp4\n",
      "[maaf]\t38\n",
      "Moviepy - Building video ../storage/datasets/debug/maaf_31.mp4.\n",
      "Moviepy - Writing video ../storage/datasets/debug/maaf_31.mp4\n",
      "\n"
     ]
    },
    {
     "name": "stderr",
     "output_type": "stream",
     "text": [
      "                                                            \r"
     ]
    },
    {
     "name": "stdout",
     "output_type": "stream",
     "text": [
      "Moviepy - Done !\n",
      "Moviepy - video ready ../storage/datasets/debug/maaf_31.mp4\n",
      "[maaf]\t39\n",
      "Moviepy - Building video ../storage/datasets/debug/maaf_32.mp4.\n",
      "Moviepy - Writing video ../storage/datasets/debug/maaf_32.mp4\n",
      "\n"
     ]
    },
    {
     "name": "stderr",
     "output_type": "stream",
     "text": [
      "                                                             \r"
     ]
    },
    {
     "name": "stdout",
     "output_type": "stream",
     "text": [
      "Moviepy - Building video ../storage/datasets/debug/maaf_33.mp4.\n",
      "Moviepy - Writing video ../storage/datasets/debug/maaf_33.mp4\n",
      "\n"
     ]
    },
    {
     "name": "stderr",
     "output_type": "stream",
     "text": [
      "t:  54%|█████▍    | 33/61 [00:00<00:00, 87.27it/s, now=None]"
     ]
    },
    {
     "name": "stdout",
     "output_type": "stream",
     "text": [
      "Moviepy - Done !\n",
      "Moviepy - video ready ../storage/datasets/debug/maaf_32.mp4\n",
      "[maaf]\t40\n"
     ]
    },
    {
     "name": "stderr",
     "output_type": "stream",
     "text": [
      "                                                            \r"
     ]
    },
    {
     "name": "stdout",
     "output_type": "stream",
     "text": [
      "Moviepy - Done !\n",
      "Moviepy - video ready ../storage/datasets/debug/maaf_33.mp4\n",
      "[maaf]\t41\n",
      "Moviepy - Building video ../storage/datasets/debug/maaf_34.mp4.\n",
      "Moviepy - Writing video ../storage/datasets/debug/maaf_34.mp4\n",
      "\n"
     ]
    },
    {
     "name": "stderr",
     "output_type": "stream",
     "text": [
      "                                                             \r"
     ]
    },
    {
     "name": "stdout",
     "output_type": "stream",
     "text": [
      "Moviepy - Done !\n",
      "Moviepy - video ready ../storage/datasets/debug/maaf_34.mp4\n",
      "[maaf]\t42\n",
      "Moviepy - Building video ../storage/datasets/debug/maaf_36.mp4.\n",
      "Moviepy - Writing video ../storage/datasets/debug/maaf_36.mp4\n",
      "\n"
     ]
    },
    {
     "name": "stderr",
     "output_type": "stream",
     "text": [
      "                                                             \r"
     ]
    },
    {
     "name": "stdout",
     "output_type": "stream",
     "text": [
      "Moviepy - Done !\n",
      "Moviepy - video ready ../storage/datasets/debug/maaf_36.mp4\n",
      "Moviepy - Building video ../storage/datasets/debug/maaf_35.mp4.\n",
      "Moviepy - Writing video ../storage/datasets/debug/maaf_35.mp4\n",
      "\n"
     ]
    },
    {
     "name": "stderr",
     "output_type": "stream",
     "text": [
      "                                                             \r"
     ]
    },
    {
     "name": "stdout",
     "output_type": "stream",
     "text": [
      "Moviepy - Done !\n",
      "Moviepy - video ready ../storage/datasets/debug/maaf_35.mp4\n",
      "[maaf]\t43\n",
      "Moviepy - Building video ../storage/datasets/debug/maaf_37.mp4.\n",
      "Moviepy - Writing video ../storage/datasets/debug/maaf_37.mp4\n",
      "\n"
     ]
    },
    {
     "name": "stderr",
     "output_type": "stream",
     "text": [
      "                                                             \r"
     ]
    },
    {
     "name": "stdout",
     "output_type": "stream",
     "text": [
      "Moviepy - Done !\n",
      "Moviepy - video ready ../storage/datasets/debug/maaf_37.mp4\n",
      "Moviepy - Building video ../storage/datasets/debug/maaf_38.mp4.\n",
      "Moviepy - Writing video ../storage/datasets/debug/maaf_38.mp4\n",
      "\n"
     ]
    },
    {
     "name": "stderr",
     "output_type": "stream",
     "text": [
      "                                                            \r"
     ]
    },
    {
     "name": "stdout",
     "output_type": "stream",
     "text": [
      "Moviepy - Done !\n",
      "Moviepy - video ready ../storage/datasets/debug/maaf_38.mp4\n",
      "Moviepy - Building video ../storage/datasets/debug/maaf_39.mp4.\n",
      "Moviepy - Writing video ../storage/datasets/debug/maaf_39.mp4\n",
      "\n"
     ]
    },
    {
     "name": "stderr",
     "output_type": "stream",
     "text": [
      "                                                             \r"
     ]
    },
    {
     "name": "stdout",
     "output_type": "stream",
     "text": [
      "Moviepy - Done !\n",
      "Moviepy - video ready ../storage/datasets/debug/maaf_39.mp4\n",
      "Moviepy - Building video ../storage/datasets/debug/maaf_40.mp4.\n",
      "Moviepy - Writing video ../storage/datasets/debug/maaf_40.mp4\n",
      "\n"
     ]
    },
    {
     "name": "stderr",
     "output_type": "stream",
     "text": [
      "t: 100%|██████████| 61/61 [00:00<00:00, 73.52it/s, now=None] "
     ]
    },
    {
     "name": "stdout",
     "output_type": "stream",
     "text": [
      "Moviepy - Building video ../storage/datasets/debug/maaf_41.mp4.\n",
      "Moviepy - Writing video ../storage/datasets/debug/maaf_41.mp4\n",
      "\n"
     ]
    },
    {
     "name": "stderr",
     "output_type": "stream",
     "text": [
      "                                                            "
     ]
    },
    {
     "name": "stdout",
     "output_type": "stream",
     "text": [
      "Moviepy - Done !\n",
      "Moviepy - video ready ../storage/datasets/debug/maaf_40.mp4\n",
      "Moviepy - Done !\n",
      "Moviepy - video ready ../storage/datasets/debug/maaf_41.mp4\n",
      "Moviepy - Building video ../storage/datasets/debug/maaf_42.mp4.\n",
      "Moviepy - Writing video ../storage/datasets/debug/maaf_42.mp4\n",
      "\n"
     ]
    },
    {
     "name": "stderr",
     "output_type": "stream",
     "text": [
      "                                                             \r"
     ]
    },
    {
     "name": "stdout",
     "output_type": "stream",
     "text": [
      "Moviepy - Done !\n",
      "Moviepy - video ready ../storage/datasets/debug/maaf_42.mp4\n",
      "Moviepy - Building video ../storage/datasets/debug/maaf_36.mp4.\n",
      "Moviepy - Writing video ../storage/datasets/debug/maaf_36.mp4\n",
      "\n"
     ]
    },
    {
     "name": "stderr",
     "output_type": "stream",
     "text": [
      "                                                             \r"
     ]
    },
    {
     "name": "stdout",
     "output_type": "stream",
     "text": [
      "Moviepy - Done !\n",
      "Moviepy - video ready ../storage/datasets/debug/maaf_36.mp4\n",
      "[maaf]\t44\n",
      "Moviepy - Building video ../storage/datasets/debug/maaf_43.mp4.\n",
      "Moviepy - Writing video ../storage/datasets/debug/maaf_43.mp4\n",
      "\n"
     ]
    },
    {
     "name": "stderr",
     "output_type": "stream",
     "text": [
      "                                                             \r"
     ]
    },
    {
     "name": "stdout",
     "output_type": "stream",
     "text": [
      "Moviepy - Done !\n",
      "Moviepy - video ready ../storage/datasets/debug/maaf_43.mp4\n",
      "Moviepy - Building video ../storage/datasets/debug/maaf_37.mp4.\n",
      "Moviepy - Writing video ../storage/datasets/debug/maaf_37.mp4\n",
      "\n"
     ]
    },
    {
     "name": "stderr",
     "output_type": "stream",
     "text": [
      "                                                             \r"
     ]
    },
    {
     "name": "stdout",
     "output_type": "stream",
     "text": [
      "Moviepy - Done !\n",
      "Moviepy - video ready ../storage/datasets/debug/maaf_37.mp4\n",
      "[maaf]\t45\n",
      "Moviepy - Building video ../storage/datasets/debug/maaf_38.mp4.\n",
      "Moviepy - Writing video ../storage/datasets/debug/maaf_38.mp4\n",
      "\n"
     ]
    },
    {
     "name": "stderr",
     "output_type": "stream",
     "text": [
      "                                                             \r"
     ]
    },
    {
     "name": "stdout",
     "output_type": "stream",
     "text": [
      "Moviepy - Done !\n",
      "Moviepy - video ready ../storage/datasets/debug/maaf_38.mp4\n",
      "[maaf]\t46\n",
      "Moviepy - Building video ../storage/datasets/debug/maaf_39.mp4.\n",
      "Moviepy - Writing video ../storage/datasets/debug/maaf_39.mp4\n",
      "\n"
     ]
    },
    {
     "name": "stderr",
     "output_type": "stream",
     "text": [
      "                                                             \r"
     ]
    },
    {
     "name": "stdout",
     "output_type": "stream",
     "text": [
      "Moviepy - Done !\n",
      "Moviepy - video ready ../storage/datasets/debug/maaf_39.mp4\n",
      "[maaf]\t47\n",
      "Moviepy - Building video ../storage/datasets/debug/maaf_40.mp4.\n",
      "Moviepy - Writing video ../storage/datasets/debug/maaf_40.mp4\n",
      "\n"
     ]
    },
    {
     "name": "stderr",
     "output_type": "stream",
     "text": [
      "                                                            \r"
     ]
    },
    {
     "name": "stdout",
     "output_type": "stream",
     "text": [
      "Moviepy - Done !\n",
      "Moviepy - video ready ../storage/datasets/debug/maaf_40.mp4\n",
      "[maaf]\t48\n",
      "Moviepy - Building video ../storage/datasets/debug/maaf_41.mp4.\n",
      "Moviepy - Writing video ../storage/datasets/debug/maaf_41.mp4\n",
      "\n"
     ]
    },
    {
     "name": "stderr",
     "output_type": "stream",
     "text": [
      "                                                            \r"
     ]
    },
    {
     "name": "stdout",
     "output_type": "stream",
     "text": [
      "Moviepy - Building video ../storage/datasets/debug/maaf_42.mp4.\n",
      "Moviepy - Writing video ../storage/datasets/debug/maaf_42.mp4\n",
      "\n"
     ]
    },
    {
     "name": "stderr",
     "output_type": "stream",
     "text": [
      "t:  82%|████████▏ | 50/61 [00:00<00:00, 117.83it/s, now=None]"
     ]
    },
    {
     "name": "stdout",
     "output_type": "stream",
     "text": [
      "Moviepy - Done !\n",
      "Moviepy - video ready ../storage/datasets/debug/maaf_41.mp4\n",
      "[maaf]\t49\n"
     ]
    },
    {
     "name": "stderr",
     "output_type": "stream",
     "text": [
      "                                                             \r"
     ]
    },
    {
     "name": "stdout",
     "output_type": "stream",
     "text": [
      "Moviepy - Building video ../storage/datasets/debug/maaf_44.mp4.\n",
      "Moviepy - Writing video ../storage/datasets/debug/maaf_44.mp4\n",
      "\n"
     ]
    },
    {
     "name": "stderr",
     "output_type": "stream",
     "text": [
      "t:  90%|█████████ | 55/61 [00:01<00:00, 47.49it/s, now=None] "
     ]
    },
    {
     "name": "stdout",
     "output_type": "stream",
     "text": [
      "Moviepy - Done !\n",
      "Moviepy - video ready ../storage/datasets/debug/maaf_42.mp4\n",
      "[maaf]\t50\n"
     ]
    },
    {
     "name": "stderr",
     "output_type": "stream",
     "text": [
      "                                                            \r"
     ]
    },
    {
     "name": "stdout",
     "output_type": "stream",
     "text": [
      "Moviepy - Done !\n",
      "Moviepy - video ready ../storage/datasets/debug/maaf_44.mp4\n",
      "Moviepy - Building video ../storage/datasets/debug/maaf_43.mp4.\n",
      "Moviepy - Writing video ../storage/datasets/debug/maaf_43.mp4\n",
      "\n"
     ]
    },
    {
     "name": "stderr",
     "output_type": "stream",
     "text": [
      "                                                             \r"
     ]
    },
    {
     "name": "stdout",
     "output_type": "stream",
     "text": [
      "Moviepy - Done !\n",
      "Moviepy - video ready ../storage/datasets/debug/maaf_43.mp4\n",
      "[maaf]\t51\n",
      "Moviepy - Building video ../storage/datasets/debug/maaf_45.mp4.\n",
      "Moviepy - Writing video ../storage/datasets/debug/maaf_45.mp4\n",
      "\n"
     ]
    },
    {
     "name": "stderr",
     "output_type": "stream",
     "text": [
      "                                                             \r"
     ]
    },
    {
     "name": "stdout",
     "output_type": "stream",
     "text": [
      "Moviepy - Done !\n",
      "Moviepy - video ready ../storage/datasets/debug/maaf_45.mp4\n",
      "Moviepy - Building video ../storage/datasets/debug/maaf_46.mp4.\n",
      "Moviepy - Writing video ../storage/datasets/debug/maaf_46.mp4\n",
      "\n"
     ]
    },
    {
     "name": "stderr",
     "output_type": "stream",
     "text": [
      "                                                            \r"
     ]
    },
    {
     "name": "stdout",
     "output_type": "stream",
     "text": [
      "Moviepy - Done !\n",
      "Moviepy - video ready ../storage/datasets/debug/maaf_46.mp4\n",
      "Moviepy - Building video ../storage/datasets/debug/maaf_47.mp4.\n",
      "Moviepy - Writing video ../storage/datasets/debug/maaf_47.mp4\n",
      "\n"
     ]
    },
    {
     "name": "stderr",
     "output_type": "stream",
     "text": [
      "                                                            \r"
     ]
    },
    {
     "name": "stdout",
     "output_type": "stream",
     "text": [
      "Moviepy - Done !\n",
      "Moviepy - video ready ../storage/datasets/debug/maaf_47.mp4\n",
      "Moviepy - Building video ../storage/datasets/debug/maaf_48.mp4.\n",
      "Moviepy - Writing video ../storage/datasets/debug/maaf_48.mp4\n",
      "\n"
     ]
    },
    {
     "name": "stderr",
     "output_type": "stream",
     "text": [
      "                                                             \r"
     ]
    },
    {
     "name": "stdout",
     "output_type": "stream",
     "text": [
      "Moviepy - Done !\n",
      "Moviepy - video ready ../storage/datasets/debug/maaf_48.mp4\n",
      "Moviepy - Building video ../storage/datasets/debug/maaf_49.mp4.\n",
      "Moviepy - Writing video ../storage/datasets/debug/maaf_49.mp4\n",
      "\n"
     ]
    },
    {
     "name": "stderr",
     "output_type": "stream",
     "text": [
      "                                                             \r"
     ]
    },
    {
     "name": "stdout",
     "output_type": "stream",
     "text": [
      "Moviepy - Done !\n",
      "Moviepy - video ready ../storage/datasets/debug/maaf_49.mp4\n",
      "Moviepy - Building video ../storage/datasets/debug/maaf_50.mp4.\n",
      "Moviepy - Writing video ../storage/datasets/debug/maaf_50.mp4\n",
      "\n"
     ]
    },
    {
     "name": "stderr",
     "output_type": "stream",
     "text": [
      "                                                             \r"
     ]
    },
    {
     "name": "stdout",
     "output_type": "stream",
     "text": [
      "Moviepy - Done !\n",
      "Moviepy - video ready ../storage/datasets/debug/maaf_50.mp4\n",
      "Moviepy - Building video ../storage/datasets/debug/maaf_44.mp4.\n",
      "Moviepy - Writing video ../storage/datasets/debug/maaf_44.mp4\n",
      "\n"
     ]
    },
    {
     "name": "stderr",
     "output_type": "stream",
     "text": [
      "                                                             \r"
     ]
    },
    {
     "name": "stdout",
     "output_type": "stream",
     "text": [
      "Moviepy - Done !\n",
      "Moviepy - video ready ../storage/datasets/debug/maaf_44.mp4\n",
      "[maaf]\t52\n",
      "Moviepy - Building video ../storage/datasets/debug/maaf_51.mp4.\n",
      "Moviepy - Writing video ../storage/datasets/debug/maaf_51.mp4\n",
      "\n"
     ]
    },
    {
     "name": "stderr",
     "output_type": "stream",
     "text": [
      "                                                             \r"
     ]
    },
    {
     "name": "stdout",
     "output_type": "stream",
     "text": [
      "Moviepy - Done !\n",
      "Moviepy - video ready ../storage/datasets/debug/maaf_51.mp4\n",
      "Moviepy - Building video ../storage/datasets/debug/maaf_45.mp4.\n",
      "Moviepy - Writing video ../storage/datasets/debug/maaf_45.mp4\n",
      "\n"
     ]
    },
    {
     "name": "stderr",
     "output_type": "stream",
     "text": [
      "                                                             \r"
     ]
    },
    {
     "name": "stdout",
     "output_type": "stream",
     "text": [
      "Moviepy - Done !\n",
      "Moviepy - video ready ../storage/datasets/debug/maaf_45.mp4\n",
      "[maaf]\t53\n",
      "Moviepy - Building video ../storage/datasets/debug/maaf_46.mp4.\n",
      "Moviepy - Writing video ../storage/datasets/debug/maaf_46.mp4\n",
      "\n"
     ]
    },
    {
     "name": "stderr",
     "output_type": "stream",
     "text": [
      "                                                            \r"
     ]
    },
    {
     "name": "stdout",
     "output_type": "stream",
     "text": [
      "Moviepy - Building video ../storage/datasets/debug/maaf_47.mp4.\n",
      "Moviepy - Writing video ../storage/datasets/debug/maaf_47.mp4\n",
      "\n"
     ]
    },
    {
     "name": "stderr",
     "output_type": "stream",
     "text": [
      "                                                             \r"
     ]
    },
    {
     "name": "stdout",
     "output_type": "stream",
     "text": [
      "Moviepy - Done !\n",
      "Moviepy - video ready ../storage/datasets/debug/maaf_46.mp4\n",
      "[maaf]\t54\n",
      "Moviepy - Done !\n",
      "Moviepy - video ready ../storage/datasets/debug/maaf_47.mp4\n",
      "[maaf]\t55\n",
      "Moviepy - Building video ../storage/datasets/debug/maaf_48.mp4.\n",
      "Moviepy - Writing video ../storage/datasets/debug/maaf_48.mp4\n",
      "\n"
     ]
    },
    {
     "name": "stderr",
     "output_type": "stream",
     "text": [
      "                                                             \r"
     ]
    },
    {
     "name": "stdout",
     "output_type": "stream",
     "text": [
      "Moviepy - Done !\n",
      "Moviepy - video ready ../storage/datasets/debug/maaf_48.mp4\n",
      "[maaf]\t56\n",
      "Moviepy - Building video ../storage/datasets/debug/maaf_49.mp4.\n",
      "Moviepy - Writing video ../storage/datasets/debug/maaf_49.mp4\n",
      "\n"
     ]
    },
    {
     "name": "stderr",
     "output_type": "stream",
     "text": [
      "                                                             \r"
     ]
    },
    {
     "name": "stdout",
     "output_type": "stream",
     "text": [
      "Moviepy - Done !\n",
      "Moviepy - video ready ../storage/datasets/debug/maaf_49.mp4\n",
      "[maaf]\t57\n",
      "Moviepy - Building video ../storage/datasets/debug/maaf_50.mp4.\n",
      "Moviepy - Writing video ../storage/datasets/debug/maaf_50.mp4\n",
      "\n"
     ]
    },
    {
     "name": "stderr",
     "output_type": "stream",
     "text": [
      "                                                            \r"
     ]
    },
    {
     "name": "stdout",
     "output_type": "stream",
     "text": [
      "Moviepy - Done !\n",
      "Moviepy - video ready ../storage/datasets/debug/maaf_50.mp4\n",
      "[maaf]\t58\n",
      "Moviepy - Building video ../storage/datasets/debug/maaf_52.mp4.\n",
      "Moviepy - Writing video ../storage/datasets/debug/maaf_52.mp4\n",
      "\n"
     ]
    },
    {
     "name": "stderr",
     "output_type": "stream",
     "text": [
      "                                                             \r"
     ]
    },
    {
     "name": "stdout",
     "output_type": "stream",
     "text": [
      "Moviepy - Done !\n",
      "Moviepy - video ready ../storage/datasets/debug/maaf_52.mp4\n",
      "Moviepy - Building video ../storage/datasets/debug/maaf_51.mp4.\n",
      "Moviepy - Writing video ../storage/datasets/debug/maaf_51.mp4\n",
      "\n"
     ]
    },
    {
     "name": "stderr",
     "output_type": "stream",
     "text": [
      "                                                             \r"
     ]
    },
    {
     "name": "stdout",
     "output_type": "stream",
     "text": [
      "Moviepy - Done !\n",
      "Moviepy - video ready ../storage/datasets/debug/maaf_51.mp4\n",
      "[maaf]\t59\n",
      "Moviepy - Building video ../storage/datasets/debug/maaf_53.mp4.\n",
      "Moviepy - Writing video ../storage/datasets/debug/maaf_53.mp4\n",
      "\n"
     ]
    },
    {
     "name": "stderr",
     "output_type": "stream",
     "text": [
      "                                                             \r"
     ]
    },
    {
     "name": "stdout",
     "output_type": "stream",
     "text": [
      "Moviepy - Done !\n",
      "Moviepy - video ready ../storage/datasets/debug/maaf_53.mp4\n",
      "Moviepy - Building video ../storage/datasets/debug/maaf_54.mp4.\n",
      "Moviepy - Writing video ../storage/datasets/debug/maaf_54.mp4\n",
      "\n"
     ]
    },
    {
     "name": "stderr",
     "output_type": "stream",
     "text": [
      "                                                             \r"
     ]
    },
    {
     "name": "stdout",
     "output_type": "stream",
     "text": [
      "Moviepy - Building video ../storage/datasets/debug/maaf_55.mp4.\n",
      "Moviepy - Writing video ../storage/datasets/debug/maaf_55.mp4\n",
      "\n",
      "Moviepy - Done !\n",
      "Moviepy - video ready ../storage/datasets/debug/maaf_54.mp4\n"
     ]
    },
    {
     "name": "stderr",
     "output_type": "stream",
     "text": [
      "                                                            \r"
     ]
    },
    {
     "name": "stdout",
     "output_type": "stream",
     "text": [
      "Moviepy - Done !\n",
      "Moviepy - video ready ../storage/datasets/debug/maaf_55.mp4\n",
      "Moviepy - Building video ../storage/datasets/debug/maaf_56.mp4.\n",
      "Moviepy - Writing video ../storage/datasets/debug/maaf_56.mp4\n",
      "\n"
     ]
    },
    {
     "name": "stderr",
     "output_type": "stream",
     "text": [
      "                                                             \r"
     ]
    },
    {
     "name": "stdout",
     "output_type": "stream",
     "text": [
      "Moviepy - Done !\n",
      "Moviepy - video ready ../storage/datasets/debug/maaf_56.mp4\n",
      "Moviepy - Building video ../storage/datasets/debug/maaf_57.mp4.\n",
      "Moviepy - Writing video ../storage/datasets/debug/maaf_57.mp4\n",
      "\n"
     ]
    },
    {
     "name": "stderr",
     "output_type": "stream",
     "text": [
      "                                                             \r"
     ]
    },
    {
     "name": "stdout",
     "output_type": "stream",
     "text": [
      "Moviepy - Done !\n",
      "Moviepy - video ready ../storage/datasets/debug/maaf_57.mp4\n",
      "Moviepy - Building video ../storage/datasets/debug/maaf_58.mp4.\n",
      "Moviepy - Writing video ../storage/datasets/debug/maaf_58.mp4\n",
      "\n"
     ]
    },
    {
     "name": "stderr",
     "output_type": "stream",
     "text": [
      "                                                             \r"
     ]
    },
    {
     "name": "stdout",
     "output_type": "stream",
     "text": [
      "Moviepy - Done !\n",
      "Moviepy - video ready ../storage/datasets/debug/maaf_58.mp4\n",
      "Moviepy - Building video ../storage/datasets/debug/maaf_52.mp4.\n",
      "Moviepy - Writing video ../storage/datasets/debug/maaf_52.mp4\n",
      "\n"
     ]
    },
    {
     "name": "stderr",
     "output_type": "stream",
     "text": [
      "                                                             \r"
     ]
    },
    {
     "name": "stdout",
     "output_type": "stream",
     "text": [
      "Moviepy - Done !\n",
      "Moviepy - video ready ../storage/datasets/debug/maaf_52.mp4\n",
      "[sama-sama]\t0\n",
      "Moviepy - Building video ../storage/datasets/debug/maaf_59.mp4.\n",
      "Moviepy - Writing video ../storage/datasets/debug/maaf_59.mp4\n",
      "\n"
     ]
    },
    {
     "name": "stderr",
     "output_type": "stream",
     "text": [
      "                                                             \r"
     ]
    },
    {
     "name": "stdout",
     "output_type": "stream",
     "text": [
      "Moviepy - Done !\n",
      "Moviepy - video ready ../storage/datasets/debug/maaf_59.mp4\n",
      "Moviepy - Building video ../storage/datasets/debug/maaf_53.mp4.\n",
      "Moviepy - Writing video ../storage/datasets/debug/maaf_53.mp4\n",
      "\n"
     ]
    },
    {
     "name": "stderr",
     "output_type": "stream",
     "text": [
      "                                                             \r"
     ]
    },
    {
     "name": "stdout",
     "output_type": "stream",
     "text": [
      "Moviepy - Done !\n",
      "Moviepy - video ready ../storage/datasets/debug/maaf_53.mp4\n",
      "[sama-sama]\t1\n",
      "Moviepy - Building video ../storage/datasets/debug/maaf_54.mp4.\n",
      "Moviepy - Writing video ../storage/datasets/debug/maaf_54.mp4\n",
      "\n"
     ]
    },
    {
     "name": "stderr",
     "output_type": "stream",
     "text": [
      "                                                             \r"
     ]
    },
    {
     "name": "stdout",
     "output_type": "stream",
     "text": [
      "Moviepy - Done !\n",
      "Moviepy - video ready ../storage/datasets/debug/maaf_54.mp4\n",
      "[sama-sama]\t2\n",
      "Moviepy - Building video ../storage/datasets/debug/maaf_55.mp4.\n",
      "Moviepy - Writing video ../storage/datasets/debug/maaf_55.mp4\n",
      "\n"
     ]
    },
    {
     "name": "stderr",
     "output_type": "stream",
     "text": [
      "                                                             \r"
     ]
    },
    {
     "name": "stdout",
     "output_type": "stream",
     "text": [
      "Moviepy - Done !\n",
      "Moviepy - video ready ../storage/datasets/debug/maaf_55.mp4\n",
      "[sama-sama]\t3\n",
      "Moviepy - Building video ../storage/datasets/debug/maaf_56.mp4.\n",
      "Moviepy - Writing video ../storage/datasets/debug/maaf_56.mp4\n",
      "\n"
     ]
    },
    {
     "name": "stderr",
     "output_type": "stream",
     "text": [
      "                                                             \r"
     ]
    },
    {
     "name": "stdout",
     "output_type": "stream",
     "text": [
      "Moviepy - Done !\n",
      "Moviepy - video ready ../storage/datasets/debug/maaf_56.mp4\n",
      "[sama-sama]\t4\n",
      "Moviepy - Building video ../storage/datasets/debug/maaf_57.mp4.\n",
      "Moviepy - Writing video ../storage/datasets/debug/maaf_57.mp4\n",
      "\n"
     ]
    },
    {
     "name": "stderr",
     "output_type": "stream",
     "text": [
      "                                                             \r"
     ]
    },
    {
     "name": "stdout",
     "output_type": "stream",
     "text": [
      "Moviepy - Done !\n",
      "Moviepy - video ready ../storage/datasets/debug/maaf_57.mp4\n",
      "[sama-sama]\t5\n",
      "Moviepy - Building video ../storage/datasets/debug/maaf_58.mp4.\n",
      "Moviepy - Writing video ../storage/datasets/debug/maaf_58.mp4\n",
      "\n"
     ]
    },
    {
     "name": "stderr",
     "output_type": "stream",
     "text": [
      "                                                             \r"
     ]
    },
    {
     "name": "stdout",
     "output_type": "stream",
     "text": [
      "Moviepy - Done !\n",
      "Moviepy - video ready ../storage/datasets/debug/maaf_58.mp4\n",
      "[sama-sama]\t6\n",
      "Moviepy - Building video ../storage/datasets/debug/sama-sama_0.mp4.\n",
      "Moviepy - Writing video ../storage/datasets/debug/sama-sama_0.mp4\n",
      "\n"
     ]
    },
    {
     "name": "stderr",
     "output_type": "stream",
     "text": [
      "                                                             \r"
     ]
    },
    {
     "name": "stdout",
     "output_type": "stream",
     "text": [
      "Moviepy - Done !\n",
      "Moviepy - video ready ../storage/datasets/debug/sama-sama_0.mp4\n",
      "Moviepy - Building video ../storage/datasets/debug/maaf_59.mp4.\n",
      "Moviepy - Writing video ../storage/datasets/debug/maaf_59.mp4\n",
      "\n"
     ]
    },
    {
     "name": "stderr",
     "output_type": "stream",
     "text": [
      "                                                             \r"
     ]
    },
    {
     "name": "stdout",
     "output_type": "stream",
     "text": [
      "Moviepy - Done !\n",
      "Moviepy - video ready ../storage/datasets/debug/maaf_59.mp4\n",
      "[sama-sama]\t7\n",
      "Moviepy - Building video ../storage/datasets/debug/sama-sama_1.mp4.\n",
      "Moviepy - Writing video ../storage/datasets/debug/sama-sama_1.mp4\n",
      "\n"
     ]
    },
    {
     "name": "stderr",
     "output_type": "stream",
     "text": [
      "                                                             \r"
     ]
    },
    {
     "name": "stdout",
     "output_type": "stream",
     "text": [
      "Moviepy - Done !\n",
      "Moviepy - video ready ../storage/datasets/debug/sama-sama_1.mp4\n",
      "Moviepy - Building video ../storage/datasets/debug/sama-sama_2.mp4.\n",
      "Moviepy - Writing video ../storage/datasets/debug/sama-sama_2.mp4\n",
      "\n"
     ]
    },
    {
     "name": "stderr",
     "output_type": "stream",
     "text": [
      "                                                             \r"
     ]
    },
    {
     "name": "stdout",
     "output_type": "stream",
     "text": [
      "Moviepy - Done !\n",
      "Moviepy - video ready ../storage/datasets/debug/sama-sama_2.mp4\n",
      "Moviepy - Building video ../storage/datasets/debug/sama-sama_3.mp4.\n",
      "Moviepy - Writing video ../storage/datasets/debug/sama-sama_3.mp4\n",
      "\n"
     ]
    },
    {
     "name": "stderr",
     "output_type": "stream",
     "text": [
      "                                                             \r"
     ]
    },
    {
     "name": "stdout",
     "output_type": "stream",
     "text": [
      "Moviepy - Done !\n",
      "Moviepy - video ready ../storage/datasets/debug/sama-sama_3.mp4\n",
      "Moviepy - Building video ../storage/datasets/debug/sama-sama_4.mp4.\n",
      "Moviepy - Writing video ../storage/datasets/debug/sama-sama_4.mp4\n",
      "\n"
     ]
    },
    {
     "name": "stderr",
     "output_type": "stream",
     "text": [
      "                                                             \r"
     ]
    },
    {
     "name": "stdout",
     "output_type": "stream",
     "text": [
      "Moviepy - Done !\n",
      "Moviepy - video ready ../storage/datasets/debug/sama-sama_4.mp4\n",
      "Moviepy - Building video ../storage/datasets/debug/sama-sama_5.mp4.\n",
      "Moviepy - Writing video ../storage/datasets/debug/sama-sama_5.mp4\n",
      "\n"
     ]
    },
    {
     "name": "stderr",
     "output_type": "stream",
     "text": [
      "                                                             \r"
     ]
    },
    {
     "name": "stdout",
     "output_type": "stream",
     "text": [
      "Moviepy - Building video ../storage/datasets/debug/sama-sama_6.mp4.\n",
      "Moviepy - Writing video ../storage/datasets/debug/sama-sama_6.mp4\n",
      "\n"
     ]
    },
    {
     "name": "stderr",
     "output_type": "stream",
     "text": [
      "t: 100%|██████████| 61/61 [00:00<00:00, 70.75it/s, now=None] "
     ]
    },
    {
     "name": "stdout",
     "output_type": "stream",
     "text": [
      "Moviepy - Done !\n",
      "Moviepy - video ready ../storage/datasets/debug/sama-sama_5.mp4\n"
     ]
    },
    {
     "name": "stderr",
     "output_type": "stream",
     "text": [
      "                                                            \r"
     ]
    },
    {
     "name": "stdout",
     "output_type": "stream",
     "text": [
      "Moviepy - Done !\n",
      "Moviepy - video ready ../storage/datasets/debug/sama-sama_6.mp4\n",
      "Moviepy - Building video ../storage/datasets/debug/sama-sama_0.mp4.\n",
      "Moviepy - Writing video ../storage/datasets/debug/sama-sama_0.mp4\n",
      "\n"
     ]
    },
    {
     "name": "stderr",
     "output_type": "stream",
     "text": [
      "                                                             \r"
     ]
    },
    {
     "name": "stdout",
     "output_type": "stream",
     "text": [
      "Moviepy - Done !\n",
      "Moviepy - video ready ../storage/datasets/debug/sama-sama_0.mp4\n",
      "[sama-sama]\t8\n",
      "Moviepy - Building video ../storage/datasets/debug/sama-sama_7.mp4.\n",
      "Moviepy - Writing video ../storage/datasets/debug/sama-sama_7.mp4\n",
      "\n"
     ]
    },
    {
     "name": "stderr",
     "output_type": "stream",
     "text": [
      "                                                             \r"
     ]
    },
    {
     "name": "stdout",
     "output_type": "stream",
     "text": [
      "Moviepy - Done !\n",
      "Moviepy - video ready ../storage/datasets/debug/sama-sama_7.mp4\n",
      "Moviepy - Building video ../storage/datasets/debug/sama-sama_1.mp4.\n",
      "Moviepy - Writing video ../storage/datasets/debug/sama-sama_1.mp4\n",
      "\n"
     ]
    },
    {
     "name": "stderr",
     "output_type": "stream",
     "text": [
      "                                                             \r"
     ]
    },
    {
     "name": "stdout",
     "output_type": "stream",
     "text": [
      "Moviepy - Done !\n",
      "Moviepy - video ready ../storage/datasets/debug/sama-sama_1.mp4\n",
      "[sama-sama]\t9\n",
      "Moviepy - Building video ../storage/datasets/debug/sama-sama_2.mp4.\n",
      "Moviepy - Writing video ../storage/datasets/debug/sama-sama_2.mp4\n",
      "\n"
     ]
    },
    {
     "name": "stderr",
     "output_type": "stream",
     "text": [
      "                                                             \r"
     ]
    },
    {
     "name": "stdout",
     "output_type": "stream",
     "text": [
      "Moviepy - Done !\n",
      "Moviepy - video ready ../storage/datasets/debug/sama-sama_2.mp4\n",
      "[sama-sama]\t10\n",
      "Moviepy - Building video ../storage/datasets/debug/sama-sama_3.mp4.\n",
      "Moviepy - Writing video ../storage/datasets/debug/sama-sama_3.mp4\n",
      "\n"
     ]
    },
    {
     "name": "stderr",
     "output_type": "stream",
     "text": [
      "                                                             \r"
     ]
    },
    {
     "name": "stdout",
     "output_type": "stream",
     "text": [
      "Moviepy - Done !\n",
      "Moviepy - video ready ../storage/datasets/debug/sama-sama_3.mp4\n",
      "[sama-sama]\t11\n",
      "Moviepy - Building video ../storage/datasets/debug/sama-sama_4.mp4.\n",
      "Moviepy - Writing video ../storage/datasets/debug/sama-sama_4.mp4\n",
      "\n"
     ]
    },
    {
     "name": "stderr",
     "output_type": "stream",
     "text": [
      "                                                            \r"
     ]
    },
    {
     "name": "stdout",
     "output_type": "stream",
     "text": [
      "Moviepy - Done !\n",
      "Moviepy - video ready ../storage/datasets/debug/sama-sama_4.mp4\n",
      "[sama-sama]\t12\n",
      "Moviepy - Building video ../storage/datasets/debug/sama-sama_5.mp4.\n",
      "Moviepy - Writing video ../storage/datasets/debug/sama-sama_5.mp4\n",
      "\n"
     ]
    },
    {
     "name": "stderr",
     "output_type": "stream",
     "text": [
      "                                                             \r"
     ]
    },
    {
     "name": "stdout",
     "output_type": "stream",
     "text": [
      "Moviepy - Done !\n",
      "Moviepy - video ready ../storage/datasets/debug/sama-sama_5.mp4\n",
      "[sama-sama]\t13\n",
      "Moviepy - Building video ../storage/datasets/debug/sama-sama_6.mp4.\n",
      "Moviepy - Writing video ../storage/datasets/debug/sama-sama_6.mp4\n",
      "\n"
     ]
    },
    {
     "name": "stderr",
     "output_type": "stream",
     "text": [
      "                                                            \r"
     ]
    },
    {
     "name": "stdout",
     "output_type": "stream",
     "text": [
      "Moviepy - Done !\n",
      "Moviepy - video ready ../storage/datasets/debug/sama-sama_6.mp4\n",
      "[sama-sama]\t14\n",
      "Moviepy - Building video ../storage/datasets/debug/sama-sama_8.mp4.\n",
      "Moviepy - Writing video ../storage/datasets/debug/sama-sama_8.mp4\n",
      "\n"
     ]
    },
    {
     "name": "stderr",
     "output_type": "stream",
     "text": [
      "                                                             \r"
     ]
    },
    {
     "name": "stdout",
     "output_type": "stream",
     "text": [
      "Moviepy - Done !\n",
      "Moviepy - video ready ../storage/datasets/debug/sama-sama_8.mp4\n",
      "Moviepy - Building video ../storage/datasets/debug/sama-sama_7.mp4.\n",
      "Moviepy - Writing video ../storage/datasets/debug/sama-sama_7.mp4\n",
      "\n"
     ]
    },
    {
     "name": "stderr",
     "output_type": "stream",
     "text": [
      "                                                             \r"
     ]
    },
    {
     "name": "stdout",
     "output_type": "stream",
     "text": [
      "Moviepy - Done !\n",
      "Moviepy - video ready ../storage/datasets/debug/sama-sama_7.mp4\n",
      "[sama-sama]\t15\n",
      "Moviepy - Building video ../storage/datasets/debug/sama-sama_9.mp4.\n",
      "Moviepy - Writing video ../storage/datasets/debug/sama-sama_9.mp4\n",
      "\n"
     ]
    },
    {
     "name": "stderr",
     "output_type": "stream",
     "text": [
      "                                                             \r"
     ]
    },
    {
     "name": "stdout",
     "output_type": "stream",
     "text": [
      "Moviepy - Done !\n",
      "Moviepy - video ready ../storage/datasets/debug/sama-sama_9.mp4\n",
      "Moviepy - Building video ../storage/datasets/debug/sama-sama_10.mp4.\n",
      "Moviepy - Writing video ../storage/datasets/debug/sama-sama_10.mp4\n",
      "\n"
     ]
    },
    {
     "name": "stderr",
     "output_type": "stream",
     "text": [
      "                                                             \r"
     ]
    },
    {
     "name": "stdout",
     "output_type": "stream",
     "text": [
      "Moviepy - Done !\n",
      "Moviepy - video ready ../storage/datasets/debug/sama-sama_10.mp4\n",
      "Moviepy - Building video ../storage/datasets/debug/sama-sama_11.mp4.\n",
      "Moviepy - Writing video ../storage/datasets/debug/sama-sama_11.mp4\n",
      "\n"
     ]
    },
    {
     "name": "stderr",
     "output_type": "stream",
     "text": [
      "                                                             \r"
     ]
    },
    {
     "name": "stdout",
     "output_type": "stream",
     "text": [
      "Moviepy - Done !\n",
      "Moviepy - video ready ../storage/datasets/debug/sama-sama_11.mp4\n",
      "Moviepy - Building video ../storage/datasets/debug/sama-sama_12.mp4.\n",
      "Moviepy - Writing video ../storage/datasets/debug/sama-sama_12.mp4\n",
      "\n"
     ]
    },
    {
     "name": "stderr",
     "output_type": "stream",
     "text": [
      "                                                             \r"
     ]
    },
    {
     "name": "stdout",
     "output_type": "stream",
     "text": [
      "Moviepy - Done !\n",
      "Moviepy - video ready ../storage/datasets/debug/sama-sama_12.mp4\n",
      "Moviepy - Building video ../storage/datasets/debug/sama-sama_13.mp4.\n",
      "Moviepy - Writing video ../storage/datasets/debug/sama-sama_13.mp4\n",
      "\n"
     ]
    },
    {
     "name": "stderr",
     "output_type": "stream",
     "text": [
      "                                                             \r"
     ]
    },
    {
     "name": "stdout",
     "output_type": "stream",
     "text": [
      "Moviepy - Done !\n",
      "Moviepy - video ready ../storage/datasets/debug/sama-sama_13.mp4\n",
      "Moviepy - Building video ../storage/datasets/debug/sama-sama_14.mp4.\n",
      "Moviepy - Writing video ../storage/datasets/debug/sama-sama_14.mp4\n",
      "\n"
     ]
    },
    {
     "name": "stderr",
     "output_type": "stream",
     "text": [
      "                                                            \r"
     ]
    },
    {
     "name": "stdout",
     "output_type": "stream",
     "text": [
      "Moviepy - Done !\n",
      "Moviepy - video ready ../storage/datasets/debug/sama-sama_14.mp4\n",
      "Moviepy - Building video ../storage/datasets/debug/sama-sama_8.mp4.\n",
      "Moviepy - Writing video ../storage/datasets/debug/sama-sama_8.mp4\n",
      "\n"
     ]
    },
    {
     "name": "stderr",
     "output_type": "stream",
     "text": [
      "                                                             \r"
     ]
    },
    {
     "name": "stdout",
     "output_type": "stream",
     "text": [
      "Moviepy - Done !\n",
      "Moviepy - video ready ../storage/datasets/debug/sama-sama_8.mp4\n",
      "[sama-sama]\t16\n",
      "Moviepy - Building video ../storage/datasets/debug/sama-sama_15.mp4.\n",
      "Moviepy - Writing video ../storage/datasets/debug/sama-sama_15.mp4\n",
      "\n"
     ]
    },
    {
     "name": "stderr",
     "output_type": "stream",
     "text": [
      "                                                             \r"
     ]
    },
    {
     "name": "stdout",
     "output_type": "stream",
     "text": [
      "Moviepy - Done !\n",
      "Moviepy - video ready ../storage/datasets/debug/sama-sama_15.mp4\n",
      "Moviepy - Building video ../storage/datasets/debug/sama-sama_9.mp4.\n",
      "Moviepy - Writing video ../storage/datasets/debug/sama-sama_9.mp4\n",
      "\n"
     ]
    },
    {
     "name": "stderr",
     "output_type": "stream",
     "text": [
      "                                                             \r"
     ]
    },
    {
     "name": "stdout",
     "output_type": "stream",
     "text": [
      "Moviepy - Done !\n",
      "Moviepy - video ready ../storage/datasets/debug/sama-sama_9.mp4\n",
      "[sama-sama]\t17\n",
      "Moviepy - Building video ../storage/datasets/debug/sama-sama_10.mp4.\n",
      "Moviepy - Writing video ../storage/datasets/debug/sama-sama_10.mp4\n",
      "\n"
     ]
    },
    {
     "name": "stderr",
     "output_type": "stream",
     "text": [
      "                                                            \r"
     ]
    },
    {
     "name": "stdout",
     "output_type": "stream",
     "text": [
      "Moviepy - Done !\n",
      "Moviepy - video ready ../storage/datasets/debug/sama-sama_10.mp4\n",
      "[sama-sama]\t18\n",
      "Moviepy - Building video ../storage/datasets/debug/sama-sama_11.mp4.\n",
      "Moviepy - Writing video ../storage/datasets/debug/sama-sama_11.mp4\n",
      "\n"
     ]
    },
    {
     "name": "stderr",
     "output_type": "stream",
     "text": [
      "                                                             \r"
     ]
    },
    {
     "name": "stdout",
     "output_type": "stream",
     "text": [
      "Moviepy - Building video ../storage/datasets/debug/sama-sama_12.mp4.\n",
      "Moviepy - Writing video ../storage/datasets/debug/sama-sama_12.mp4\n",
      "\n"
     ]
    },
    {
     "name": "stderr",
     "output_type": "stream",
     "text": [
      "t:  84%|████████▎ | 51/61 [00:00<00:00, 109.63it/s, now=None]"
     ]
    },
    {
     "name": "stdout",
     "output_type": "stream",
     "text": [
      "Moviepy - Done !\n",
      "Moviepy - video ready ../storage/datasets/debug/sama-sama_11.mp4\n",
      "[sama-sama]\t19\n"
     ]
    },
    {
     "name": "stderr",
     "output_type": "stream",
     "text": [
      "                                                             \r"
     ]
    },
    {
     "name": "stdout",
     "output_type": "stream",
     "text": [
      "Moviepy - Done !\n",
      "Moviepy - video ready ../storage/datasets/debug/sama-sama_12.mp4\n",
      "[sama-sama]\t20\n",
      "Moviepy - Building video ../storage/datasets/debug/sama-sama_13.mp4.\n",
      "Moviepy - Writing video ../storage/datasets/debug/sama-sama_13.mp4\n",
      "\n"
     ]
    },
    {
     "name": "stderr",
     "output_type": "stream",
     "text": [
      "                                                             \r"
     ]
    },
    {
     "name": "stdout",
     "output_type": "stream",
     "text": [
      "Moviepy - Done !\n",
      "Moviepy - video ready ../storage/datasets/debug/sama-sama_13.mp4\n",
      "[sama-sama]\t21\n",
      "Moviepy - Building video ../storage/datasets/debug/sama-sama_14.mp4.\n",
      "Moviepy - Writing video ../storage/datasets/debug/sama-sama_14.mp4\n",
      "\n"
     ]
    },
    {
     "name": "stderr",
     "output_type": "stream",
     "text": [
      "                                                             \r"
     ]
    },
    {
     "name": "stdout",
     "output_type": "stream",
     "text": [
      "Moviepy - Done !\n",
      "Moviepy - video ready ../storage/datasets/debug/sama-sama_14.mp4\n",
      "[sama-sama]\t22\n",
      "Moviepy - Building video ../storage/datasets/debug/sama-sama_16.mp4.\n",
      "Moviepy - Writing video ../storage/datasets/debug/sama-sama_16.mp4\n",
      "\n"
     ]
    },
    {
     "name": "stderr",
     "output_type": "stream",
     "text": [
      "                                                             \r"
     ]
    },
    {
     "name": "stdout",
     "output_type": "stream",
     "text": [
      "Moviepy - Done !\n",
      "Moviepy - video ready ../storage/datasets/debug/sama-sama_16.mp4\n",
      "Moviepy - Building video ../storage/datasets/debug/sama-sama_15.mp4.\n",
      "Moviepy - Writing video ../storage/datasets/debug/sama-sama_15.mp4\n",
      "\n"
     ]
    },
    {
     "name": "stderr",
     "output_type": "stream",
     "text": [
      "                                                             \r"
     ]
    },
    {
     "name": "stdout",
     "output_type": "stream",
     "text": [
      "Moviepy - Done !\n",
      "Moviepy - video ready ../storage/datasets/debug/sama-sama_15.mp4\n",
      "[sama-sama]\t23\n",
      "Moviepy - Building video ../storage/datasets/debug/sama-sama_17.mp4.\n",
      "Moviepy - Writing video ../storage/datasets/debug/sama-sama_17.mp4\n",
      "\n"
     ]
    },
    {
     "name": "stderr",
     "output_type": "stream",
     "text": [
      "                                                             \r"
     ]
    },
    {
     "name": "stdout",
     "output_type": "stream",
     "text": [
      "Moviepy - Done !\n",
      "Moviepy - video ready ../storage/datasets/debug/sama-sama_17.mp4\n",
      "Moviepy - Building video ../storage/datasets/debug/sama-sama_18.mp4.\n",
      "Moviepy - Writing video ../storage/datasets/debug/sama-sama_18.mp4\n",
      "\n"
     ]
    },
    {
     "name": "stderr",
     "output_type": "stream",
     "text": [
      "                                                             \r"
     ]
    },
    {
     "name": "stdout",
     "output_type": "stream",
     "text": [
      "Moviepy - Done !\n",
      "Moviepy - video ready ../storage/datasets/debug/sama-sama_18.mp4\n",
      "Moviepy - Building video ../storage/datasets/debug/sama-sama_19.mp4.\n",
      "Moviepy - Writing video ../storage/datasets/debug/sama-sama_19.mp4\n",
      "\n"
     ]
    },
    {
     "name": "stderr",
     "output_type": "stream",
     "text": [
      "                                                             \r"
     ]
    },
    {
     "name": "stdout",
     "output_type": "stream",
     "text": [
      "Moviepy - Done !\n",
      "Moviepy - video ready ../storage/datasets/debug/sama-sama_19.mp4\n",
      "Moviepy - Building video ../storage/datasets/debug/sama-sama_20.mp4.\n",
      "Moviepy - Writing video ../storage/datasets/debug/sama-sama_20.mp4\n",
      "\n"
     ]
    },
    {
     "name": "stderr",
     "output_type": "stream",
     "text": [
      "                                                             \r"
     ]
    },
    {
     "name": "stdout",
     "output_type": "stream",
     "text": [
      "Moviepy - Done !\n",
      "Moviepy - video ready ../storage/datasets/debug/sama-sama_20.mp4\n",
      "Moviepy - Building video ../storage/datasets/debug/sama-sama_21.mp4.\n",
      "Moviepy - Writing video ../storage/datasets/debug/sama-sama_21.mp4\n",
      "\n"
     ]
    },
    {
     "name": "stderr",
     "output_type": "stream",
     "text": [
      "                                                             \r"
     ]
    },
    {
     "name": "stdout",
     "output_type": "stream",
     "text": [
      "Moviepy - Done !\n",
      "Moviepy - video ready ../storage/datasets/debug/sama-sama_21.mp4\n",
      "Moviepy - Building video ../storage/datasets/debug/sama-sama_22.mp4.\n",
      "Moviepy - Writing video ../storage/datasets/debug/sama-sama_22.mp4\n",
      "\n"
     ]
    },
    {
     "name": "stderr",
     "output_type": "stream",
     "text": [
      "                                                             \r"
     ]
    },
    {
     "name": "stdout",
     "output_type": "stream",
     "text": [
      "Moviepy - Done !\n",
      "Moviepy - video ready ../storage/datasets/debug/sama-sama_22.mp4\n",
      "Moviepy - Building video ../storage/datasets/debug/sama-sama_16.mp4.\n",
      "Moviepy - Writing video ../storage/datasets/debug/sama-sama_16.mp4\n",
      "\n"
     ]
    },
    {
     "name": "stderr",
     "output_type": "stream",
     "text": [
      "                                                            \r"
     ]
    },
    {
     "name": "stdout",
     "output_type": "stream",
     "text": [
      "Moviepy - Done !\n",
      "Moviepy - video ready ../storage/datasets/debug/sama-sama_16.mp4\n",
      "[sama-sama]\t24\n",
      "Moviepy - Building video ../storage/datasets/debug/sama-sama_23.mp4.\n",
      "Moviepy - Writing video ../storage/datasets/debug/sama-sama_23.mp4\n",
      "\n"
     ]
    },
    {
     "name": "stderr",
     "output_type": "stream",
     "text": [
      "                                                             \r"
     ]
    },
    {
     "name": "stdout",
     "output_type": "stream",
     "text": [
      "Moviepy - Done !\n",
      "Moviepy - video ready ../storage/datasets/debug/sama-sama_23.mp4\n",
      "Moviepy - Building video ../storage/datasets/debug/sama-sama_17.mp4.\n",
      "Moviepy - Writing video ../storage/datasets/debug/sama-sama_17.mp4\n",
      "\n"
     ]
    },
    {
     "name": "stderr",
     "output_type": "stream",
     "text": [
      "                                                             \r"
     ]
    },
    {
     "name": "stdout",
     "output_type": "stream",
     "text": [
      "Moviepy - Done !\n",
      "Moviepy - video ready ../storage/datasets/debug/sama-sama_17.mp4\n",
      "[sama-sama]\t25\n",
      "Moviepy - Building video ../storage/datasets/debug/sama-sama_18.mp4.\n",
      "Moviepy - Writing video ../storage/datasets/debug/sama-sama_18.mp4\n",
      "\n"
     ]
    },
    {
     "name": "stderr",
     "output_type": "stream",
     "text": [
      "                                                             \r"
     ]
    },
    {
     "name": "stdout",
     "output_type": "stream",
     "text": [
      "Moviepy - Done !\n",
      "Moviepy - video ready ../storage/datasets/debug/sama-sama_18.mp4\n",
      "[sama-sama]\t26\n",
      "Moviepy - Building video ../storage/datasets/debug/sama-sama_19.mp4.\n",
      "Moviepy - Writing video ../storage/datasets/debug/sama-sama_19.mp4\n",
      "\n"
     ]
    },
    {
     "name": "stderr",
     "output_type": "stream",
     "text": [
      "                                                             \r"
     ]
    },
    {
     "name": "stdout",
     "output_type": "stream",
     "text": [
      "Moviepy - Done !\n",
      "Moviepy - video ready ../storage/datasets/debug/sama-sama_19.mp4\n",
      "[sama-sama]\t27\n",
      "Moviepy - Building video ../storage/datasets/debug/sama-sama_20.mp4.\n",
      "Moviepy - Writing video ../storage/datasets/debug/sama-sama_20.mp4\n",
      "\n"
     ]
    },
    {
     "name": "stderr",
     "output_type": "stream",
     "text": [
      "                                                             \r"
     ]
    },
    {
     "name": "stdout",
     "output_type": "stream",
     "text": [
      "Moviepy - Done !\n",
      "Moviepy - video ready ../storage/datasets/debug/sama-sama_20.mp4\n",
      "[sama-sama]\t28\n",
      "Moviepy - Building video ../storage/datasets/debug/sama-sama_21.mp4.\n",
      "Moviepy - Writing video ../storage/datasets/debug/sama-sama_21.mp4\n",
      "\n"
     ]
    },
    {
     "name": "stderr",
     "output_type": "stream",
     "text": [
      "                                                             \r"
     ]
    },
    {
     "name": "stdout",
     "output_type": "stream",
     "text": [
      "Moviepy - Done !\n",
      "Moviepy - video ready ../storage/datasets/debug/sama-sama_21.mp4\n",
      "[sama-sama]\t29\n",
      "Moviepy - Building video ../storage/datasets/debug/sama-sama_22.mp4.\n",
      "Moviepy - Writing video ../storage/datasets/debug/sama-sama_22.mp4\n",
      "\n"
     ]
    },
    {
     "name": "stderr",
     "output_type": "stream",
     "text": [
      "                                                            \r"
     ]
    },
    {
     "name": "stdout",
     "output_type": "stream",
     "text": [
      "Moviepy - Building video ../storage/datasets/debug/sama-sama_24.mp4.\n",
      "Moviepy - Writing video ../storage/datasets/debug/sama-sama_24.mp4\n",
      "\n"
     ]
    },
    {
     "name": "stderr",
     "output_type": "stream",
     "text": [
      "                                                             \r"
     ]
    },
    {
     "name": "stdout",
     "output_type": "stream",
     "text": [
      "Moviepy - Done !\n",
      "Moviepy - video ready ../storage/datasets/debug/sama-sama_22.mp4\n",
      "[sama-sama]\t30\n",
      "Moviepy - Done !\n",
      "Moviepy - video ready ../storage/datasets/debug/sama-sama_24.mp4\n",
      "Moviepy - Building video ../storage/datasets/debug/sama-sama_23.mp4.\n",
      "Moviepy - Writing video ../storage/datasets/debug/sama-sama_23.mp4\n",
      "\n"
     ]
    },
    {
     "name": "stderr",
     "output_type": "stream",
     "text": [
      "                                                            \r"
     ]
    },
    {
     "name": "stdout",
     "output_type": "stream",
     "text": [
      "Moviepy - Done !\n",
      "Moviepy - video ready ../storage/datasets/debug/sama-sama_23.mp4\n",
      "[sama-sama]\t31\n",
      "Moviepy - Building video ../storage/datasets/debug/sama-sama_25.mp4.\n",
      "Moviepy - Writing video ../storage/datasets/debug/sama-sama_25.mp4\n",
      "\n"
     ]
    },
    {
     "name": "stderr",
     "output_type": "stream",
     "text": [
      "                                                            \r"
     ]
    },
    {
     "name": "stdout",
     "output_type": "stream",
     "text": [
      "Moviepy - Done !\n",
      "Moviepy - video ready ../storage/datasets/debug/sama-sama_25.mp4\n",
      "Moviepy - Building video ../storage/datasets/debug/sama-sama_26.mp4.\n",
      "Moviepy - Writing video ../storage/datasets/debug/sama-sama_26.mp4\n",
      "\n"
     ]
    },
    {
     "name": "stderr",
     "output_type": "stream",
     "text": [
      "                                                             \r"
     ]
    },
    {
     "name": "stdout",
     "output_type": "stream",
     "text": [
      "Moviepy - Done !\n",
      "Moviepy - video ready ../storage/datasets/debug/sama-sama_26.mp4\n",
      "Moviepy - Building video ../storage/datasets/debug/sama-sama_27.mp4.\n",
      "Moviepy - Writing video ../storage/datasets/debug/sama-sama_27.mp4\n",
      "\n"
     ]
    },
    {
     "name": "stderr",
     "output_type": "stream",
     "text": [
      "                                                             \r"
     ]
    },
    {
     "name": "stdout",
     "output_type": "stream",
     "text": [
      "Moviepy - Done !\n",
      "Moviepy - video ready ../storage/datasets/debug/sama-sama_27.mp4\n",
      "Moviepy - Building video ../storage/datasets/debug/sama-sama_28.mp4.\n",
      "Moviepy - Writing video ../storage/datasets/debug/sama-sama_28.mp4\n",
      "\n"
     ]
    },
    {
     "name": "stderr",
     "output_type": "stream",
     "text": [
      "                                                             \r"
     ]
    },
    {
     "name": "stdout",
     "output_type": "stream",
     "text": [
      "Moviepy - Done !\n",
      "Moviepy - video ready ../storage/datasets/debug/sama-sama_28.mp4\n",
      "Moviepy - Building video ../storage/datasets/debug/sama-sama_29.mp4.\n",
      "Moviepy - Writing video ../storage/datasets/debug/sama-sama_29.mp4\n",
      "\n"
     ]
    },
    {
     "name": "stderr",
     "output_type": "stream",
     "text": [
      "                                                             \r"
     ]
    },
    {
     "name": "stdout",
     "output_type": "stream",
     "text": [
      "Moviepy - Done !\n",
      "Moviepy - video ready ../storage/datasets/debug/sama-sama_29.mp4\n",
      "Moviepy - Building video ../storage/datasets/debug/sama-sama_30.mp4.\n",
      "Moviepy - Writing video ../storage/datasets/debug/sama-sama_30.mp4\n",
      "\n"
     ]
    },
    {
     "name": "stderr",
     "output_type": "stream",
     "text": [
      "                                                             \r"
     ]
    },
    {
     "name": "stdout",
     "output_type": "stream",
     "text": [
      "Moviepy - Done !\n",
      "Moviepy - video ready ../storage/datasets/debug/sama-sama_30.mp4\n",
      "Moviepy - Building video ../storage/datasets/debug/sama-sama_24.mp4.\n",
      "Moviepy - Writing video ../storage/datasets/debug/sama-sama_24.mp4\n",
      "\n"
     ]
    },
    {
     "name": "stderr",
     "output_type": "stream",
     "text": [
      "t:  59%|█████▉    | 36/61 [00:00<00:00, 193.17it/s, now=None]"
     ]
    },
    {
     "name": "stdout",
     "output_type": "stream",
     "text": [
      "Moviepy - Building video ../storage/datasets/debug/sama-sama_31.mp4.\n",
      "Moviepy - Writing video ../storage/datasets/debug/sama-sama_31.mp4\n",
      "\n"
     ]
    },
    {
     "name": "stderr",
     "output_type": "stream",
     "text": [
      "                                                             "
     ]
    },
    {
     "name": "stdout",
     "output_type": "stream",
     "text": [
      "Moviepy - Done !\n",
      "Moviepy - video ready ../storage/datasets/debug/sama-sama_24.mp4\n",
      "[sama-sama]\t32\n",
      "Moviepy - Done !\n",
      "Moviepy - video ready ../storage/datasets/debug/sama-sama_31.mp4\n",
      "Moviepy - Building video ../storage/datasets/debug/sama-sama_25.mp4.\n",
      "Moviepy - Writing video ../storage/datasets/debug/sama-sama_25.mp4\n",
      "\n"
     ]
    },
    {
     "name": "stderr",
     "output_type": "stream",
     "text": [
      "                                                             \r"
     ]
    },
    {
     "name": "stdout",
     "output_type": "stream",
     "text": [
      "Moviepy - Done !\n",
      "Moviepy - video ready ../storage/datasets/debug/sama-sama_25.mp4\n",
      "[sama-sama]\t33\n",
      "Moviepy - Building video ../storage/datasets/debug/sama-sama_26.mp4.\n",
      "Moviepy - Writing video ../storage/datasets/debug/sama-sama_26.mp4\n",
      "\n"
     ]
    },
    {
     "name": "stderr",
     "output_type": "stream",
     "text": [
      "                                                             \r"
     ]
    },
    {
     "name": "stdout",
     "output_type": "stream",
     "text": [
      "Moviepy - Done !\n",
      "Moviepy - video ready ../storage/datasets/debug/sama-sama_26.mp4\n",
      "[sama-sama]\t34\n",
      "Moviepy - Building video ../storage/datasets/debug/sama-sama_27.mp4.\n",
      "Moviepy - Writing video ../storage/datasets/debug/sama-sama_27.mp4\n",
      "\n"
     ]
    },
    {
     "name": "stderr",
     "output_type": "stream",
     "text": [
      "                                                             \r"
     ]
    },
    {
     "name": "stdout",
     "output_type": "stream",
     "text": [
      "Moviepy - Done !\n",
      "Moviepy - video ready ../storage/datasets/debug/sama-sama_27.mp4\n",
      "[sama-sama]\t35\n",
      "Moviepy - Building video ../storage/datasets/debug/sama-sama_28.mp4.\n",
      "Moviepy - Writing video ../storage/datasets/debug/sama-sama_28.mp4\n",
      "\n"
     ]
    },
    {
     "name": "stderr",
     "output_type": "stream",
     "text": [
      "                                                             \r"
     ]
    },
    {
     "name": "stdout",
     "output_type": "stream",
     "text": [
      "Moviepy - Done !\n",
      "Moviepy - video ready ../storage/datasets/debug/sama-sama_28.mp4\n",
      "[sama-sama]\t36\n",
      "Moviepy - Building video ../storage/datasets/debug/sama-sama_29.mp4.\n",
      "Moviepy - Writing video ../storage/datasets/debug/sama-sama_29.mp4\n",
      "\n"
     ]
    },
    {
     "name": "stderr",
     "output_type": "stream",
     "text": [
      "                                                             \r"
     ]
    },
    {
     "name": "stdout",
     "output_type": "stream",
     "text": [
      "Moviepy - Done !\n",
      "Moviepy - video ready ../storage/datasets/debug/sama-sama_29.mp4\n",
      "[sama-sama]\t37\n",
      "Moviepy - Building video ../storage/datasets/debug/sama-sama_30.mp4.\n",
      "Moviepy - Writing video ../storage/datasets/debug/sama-sama_30.mp4\n",
      "\n"
     ]
    },
    {
     "name": "stderr",
     "output_type": "stream",
     "text": [
      "                                                             \r"
     ]
    },
    {
     "name": "stdout",
     "output_type": "stream",
     "text": [
      "Moviepy - Done !\n",
      "Moviepy - video ready ../storage/datasets/debug/sama-sama_30.mp4\n",
      "[sama-sama]\t38\n",
      "Moviepy - Building video ../storage/datasets/debug/sama-sama_32.mp4.\n",
      "Moviepy - Writing video ../storage/datasets/debug/sama-sama_32.mp4\n",
      "\n"
     ]
    },
    {
     "name": "stderr",
     "output_type": "stream",
     "text": [
      "t:  54%|█████▍    | 33/61 [00:00<00:00, 167.78it/s, now=None]"
     ]
    },
    {
     "name": "stdout",
     "output_type": "stream",
     "text": [
      "Moviepy - Building video ../storage/datasets/debug/sama-sama_31.mp4.\n",
      "Moviepy - Writing video ../storage/datasets/debug/sama-sama_31.mp4\n",
      "\n"
     ]
    },
    {
     "name": "stderr",
     "output_type": "stream",
     "text": [
      "                                                             "
     ]
    },
    {
     "name": "stdout",
     "output_type": "stream",
     "text": [
      "Moviepy - Done !\n",
      "Moviepy - video ready ../storage/datasets/debug/sama-sama_32.mp4\n",
      "Moviepy - Done !\n",
      "Moviepy - video ready ../storage/datasets/debug/sama-sama_31.mp4\n",
      "[sama-sama]\t39\n",
      "Moviepy - Building video ../storage/datasets/debug/sama-sama_33.mp4.\n",
      "Moviepy - Writing video ../storage/datasets/debug/sama-sama_33.mp4\n",
      "\n"
     ]
    },
    {
     "name": "stderr",
     "output_type": "stream",
     "text": [
      "                                                             \r"
     ]
    },
    {
     "name": "stdout",
     "output_type": "stream",
     "text": [
      "Moviepy - Done !\n",
      "Moviepy - video ready ../storage/datasets/debug/sama-sama_33.mp4\n",
      "Moviepy - Building video ../storage/datasets/debug/sama-sama_34.mp4.\n",
      "Moviepy - Writing video ../storage/datasets/debug/sama-sama_34.mp4\n",
      "\n"
     ]
    },
    {
     "name": "stderr",
     "output_type": "stream",
     "text": [
      "                                                             \r"
     ]
    },
    {
     "name": "stdout",
     "output_type": "stream",
     "text": [
      "Moviepy - Done !\n",
      "Moviepy - video ready ../storage/datasets/debug/sama-sama_34.mp4\n",
      "Moviepy - Building video ../storage/datasets/debug/sama-sama_35.mp4.\n",
      "Moviepy - Writing video ../storage/datasets/debug/sama-sama_35.mp4\n",
      "\n"
     ]
    },
    {
     "name": "stderr",
     "output_type": "stream",
     "text": [
      "                                                             \r"
     ]
    },
    {
     "name": "stdout",
     "output_type": "stream",
     "text": [
      "Moviepy - Done !\n",
      "Moviepy - video ready ../storage/datasets/debug/sama-sama_35.mp4\n",
      "Moviepy - Building video ../storage/datasets/debug/sama-sama_36.mp4.\n",
      "Moviepy - Writing video ../storage/datasets/debug/sama-sama_36.mp4\n",
      "\n"
     ]
    },
    {
     "name": "stderr",
     "output_type": "stream",
     "text": [
      "                                                             \r"
     ]
    },
    {
     "name": "stdout",
     "output_type": "stream",
     "text": [
      "Moviepy - Building video ../storage/datasets/debug/sama-sama_37.mp4.\n",
      "Moviepy - Writing video ../storage/datasets/debug/sama-sama_37.mp4\n",
      "\n"
     ]
    },
    {
     "name": "stderr",
     "output_type": "stream",
     "text": [
      "t:  98%|█████████▊| 60/61 [00:01<00:00, 29.22it/s, now=None]"
     ]
    },
    {
     "name": "stdout",
     "output_type": "stream",
     "text": [
      "Moviepy - Done !\n",
      "Moviepy - video ready ../storage/datasets/debug/sama-sama_36.mp4\n"
     ]
    },
    {
     "name": "stderr",
     "output_type": "stream",
     "text": [
      "                                                            \r"
     ]
    },
    {
     "name": "stdout",
     "output_type": "stream",
     "text": [
      "Moviepy - Building video ../storage/datasets/debug/sama-sama_38.mp4.\n",
      "Moviepy - Writing video ../storage/datasets/debug/sama-sama_38.mp4\n",
      "\n"
     ]
    },
    {
     "name": "stderr",
     "output_type": "stream",
     "text": [
      "t:   3%|▎         | 2/61 [00:00<00:05, 11.22it/s, now=None]"
     ]
    },
    {
     "name": "stdout",
     "output_type": "stream",
     "text": [
      "Moviepy - Done !\n",
      "Moviepy - video ready ../storage/datasets/debug/sama-sama_37.mp4\n"
     ]
    },
    {
     "name": "stderr",
     "output_type": "stream",
     "text": [
      "                                                            \r"
     ]
    },
    {
     "name": "stdout",
     "output_type": "stream",
     "text": [
      "Moviepy - Done !\n",
      "Moviepy - video ready ../storage/datasets/debug/sama-sama_38.mp4\n",
      "Moviepy - Building video ../storage/datasets/debug/sama-sama_32.mp4.\n",
      "Moviepy - Writing video ../storage/datasets/debug/sama-sama_32.mp4\n",
      "\n"
     ]
    },
    {
     "name": "stderr",
     "output_type": "stream",
     "text": [
      "                                                             \r"
     ]
    },
    {
     "name": "stdout",
     "output_type": "stream",
     "text": [
      "Moviepy - Done !\n",
      "Moviepy - video ready ../storage/datasets/debug/sama-sama_32.mp4\n",
      "[sama-sama]\t40\n",
      "Moviepy - Building video ../storage/datasets/debug/sama-sama_39.mp4.\n",
      "Moviepy - Writing video ../storage/datasets/debug/sama-sama_39.mp4\n",
      "\n"
     ]
    },
    {
     "name": "stderr",
     "output_type": "stream",
     "text": [
      "                                                             \r"
     ]
    },
    {
     "name": "stdout",
     "output_type": "stream",
     "text": [
      "Moviepy - Building video ../storage/datasets/debug/sama-sama_33.mp4.\n",
      "Moviepy - Writing video ../storage/datasets/debug/sama-sama_33.mp4\n",
      "\n"
     ]
    },
    {
     "name": "stderr",
     "output_type": "stream",
     "text": [
      "                                                             \r"
     ]
    },
    {
     "name": "stdout",
     "output_type": "stream",
     "text": [
      "Moviepy - Done !\n",
      "Moviepy - video ready ../storage/datasets/debug/sama-sama_39.mp4\n",
      "Moviepy - Done !\n",
      "Moviepy - video ready ../storage/datasets/debug/sama-sama_33.mp4\n",
      "[sama-sama]\t41\n",
      "Moviepy - Building video ../storage/datasets/debug/sama-sama_34.mp4.\n",
      "Moviepy - Writing video ../storage/datasets/debug/sama-sama_34.mp4\n",
      "\n"
     ]
    },
    {
     "name": "stderr",
     "output_type": "stream",
     "text": [
      "                                                             \r"
     ]
    },
    {
     "name": "stdout",
     "output_type": "stream",
     "text": [
      "Moviepy - Done !\n",
      "Moviepy - video ready ../storage/datasets/debug/sama-sama_34.mp4\n",
      "[sama-sama]\t42\n",
      "Moviepy - Building video ../storage/datasets/debug/sama-sama_35.mp4.\n",
      "Moviepy - Writing video ../storage/datasets/debug/sama-sama_35.mp4\n",
      "\n"
     ]
    },
    {
     "name": "stderr",
     "output_type": "stream",
     "text": [
      "                                                             \r"
     ]
    },
    {
     "name": "stdout",
     "output_type": "stream",
     "text": [
      "Moviepy - Done !\n",
      "Moviepy - video ready ../storage/datasets/debug/sama-sama_35.mp4\n",
      "[sama-sama]\t43\n",
      "Moviepy - Building video ../storage/datasets/debug/sama-sama_36.mp4.\n",
      "Moviepy - Writing video ../storage/datasets/debug/sama-sama_36.mp4\n",
      "\n"
     ]
    },
    {
     "name": "stderr",
     "output_type": "stream",
     "text": [
      "                                                             \r"
     ]
    },
    {
     "name": "stdout",
     "output_type": "stream",
     "text": [
      "Moviepy - Done !\n",
      "Moviepy - video ready ../storage/datasets/debug/sama-sama_36.mp4\n",
      "[sama-sama]\t44\n",
      "Moviepy - Building video ../storage/datasets/debug/sama-sama_37.mp4.\n",
      "Moviepy - Writing video ../storage/datasets/debug/sama-sama_37.mp4\n",
      "\n"
     ]
    },
    {
     "name": "stderr",
     "output_type": "stream",
     "text": [
      "                                                             \r"
     ]
    },
    {
     "name": "stdout",
     "output_type": "stream",
     "text": [
      "Moviepy - Done !\n",
      "Moviepy - video ready ../storage/datasets/debug/sama-sama_37.mp4\n",
      "[sama-sama]\t45\n",
      "Moviepy - Building video ../storage/datasets/debug/sama-sama_38.mp4.\n",
      "Moviepy - Writing video ../storage/datasets/debug/sama-sama_38.mp4\n",
      "\n"
     ]
    },
    {
     "name": "stderr",
     "output_type": "stream",
     "text": [
      "                                                             \r"
     ]
    },
    {
     "name": "stdout",
     "output_type": "stream",
     "text": [
      "Moviepy - Done !\n",
      "Moviepy - video ready ../storage/datasets/debug/sama-sama_38.mp4\n",
      "[sama-sama]\t46\n",
      "Moviepy - Building video ../storage/datasets/debug/sama-sama_40.mp4.\n",
      "Moviepy - Writing video ../storage/datasets/debug/sama-sama_40.mp4\n",
      "\n"
     ]
    },
    {
     "name": "stderr",
     "output_type": "stream",
     "text": [
      "                                                            \r"
     ]
    },
    {
     "name": "stdout",
     "output_type": "stream",
     "text": [
      "Moviepy - Done !\n",
      "Moviepy - video ready ../storage/datasets/debug/sama-sama_40.mp4\n",
      "Moviepy - Building video ../storage/datasets/debug/sama-sama_39.mp4.\n",
      "Moviepy - Writing video ../storage/datasets/debug/sama-sama_39.mp4\n",
      "\n"
     ]
    },
    {
     "name": "stderr",
     "output_type": "stream",
     "text": [
      "                                                             \r"
     ]
    },
    {
     "name": "stdout",
     "output_type": "stream",
     "text": [
      "Moviepy - Done !\n",
      "Moviepy - video ready ../storage/datasets/debug/sama-sama_39.mp4\n",
      "[sama-sama]\t47\n",
      "Moviepy - Building video ../storage/datasets/debug/sama-sama_41.mp4.\n",
      "Moviepy - Writing video ../storage/datasets/debug/sama-sama_41.mp4\n",
      "\n"
     ]
    },
    {
     "name": "stderr",
     "output_type": "stream",
     "text": [
      "                                                             \r"
     ]
    },
    {
     "name": "stdout",
     "output_type": "stream",
     "text": [
      "Moviepy - Done !\n",
      "Moviepy - video ready ../storage/datasets/debug/sama-sama_41.mp4\n",
      "Moviepy - Building video ../storage/datasets/debug/sama-sama_42.mp4.\n",
      "Moviepy - Writing video ../storage/datasets/debug/sama-sama_42.mp4\n",
      "\n"
     ]
    },
    {
     "name": "stderr",
     "output_type": "stream",
     "text": [
      "                                                             \r"
     ]
    },
    {
     "name": "stdout",
     "output_type": "stream",
     "text": [
      "Moviepy - Building video ../storage/datasets/debug/sama-sama_43.mp4.\n",
      "Moviepy - Writing video ../storage/datasets/debug/sama-sama_43.mp4\n",
      "\n"
     ]
    },
    {
     "name": "stderr",
     "output_type": "stream",
     "text": [
      "                                                             \r"
     ]
    },
    {
     "name": "stdout",
     "output_type": "stream",
     "text": [
      "Moviepy - Done !\n",
      "Moviepy - video ready ../storage/datasets/debug/sama-sama_42.mp4\n",
      "Moviepy - Done !\n",
      "Moviepy - video ready ../storage/datasets/debug/sama-sama_43.mp4\n",
      "Moviepy - Building video ../storage/datasets/debug/sama-sama_44.mp4.\n",
      "Moviepy - Writing video ../storage/datasets/debug/sama-sama_44.mp4\n",
      "\n"
     ]
    },
    {
     "name": "stderr",
     "output_type": "stream",
     "text": [
      "                                                             \r"
     ]
    },
    {
     "name": "stdout",
     "output_type": "stream",
     "text": [
      "Moviepy - Building video ../storage/datasets/debug/sama-sama_45.mp4.\n",
      "Moviepy - Writing video ../storage/datasets/debug/sama-sama_45.mp4\n",
      "\n"
     ]
    },
    {
     "name": "stderr",
     "output_type": "stream",
     "text": [
      "t:   3%|▎         | 2/61 [00:00<00:04, 13.69it/s, now=None]"
     ]
    },
    {
     "name": "stdout",
     "output_type": "stream",
     "text": [
      "Moviepy - Done !\n",
      "Moviepy - video ready ../storage/datasets/debug/sama-sama_44.mp4\n"
     ]
    },
    {
     "name": "stderr",
     "output_type": "stream",
     "text": [
      "                                                             \r"
     ]
    },
    {
     "name": "stdout",
     "output_type": "stream",
     "text": [
      "Moviepy - Done !\n",
      "Moviepy - video ready ../storage/datasets/debug/sama-sama_45.mp4\n",
      "Moviepy - Building video ../storage/datasets/debug/sama-sama_46.mp4.\n",
      "Moviepy - Writing video ../storage/datasets/debug/sama-sama_46.mp4\n",
      "\n"
     ]
    },
    {
     "name": "stderr",
     "output_type": "stream",
     "text": [
      "                                                             \r"
     ]
    },
    {
     "name": "stdout",
     "output_type": "stream",
     "text": [
      "Moviepy - Done !\n",
      "Moviepy - video ready ../storage/datasets/debug/sama-sama_46.mp4\n",
      "Moviepy - Building video ../storage/datasets/debug/sama-sama_40.mp4.\n",
      "Moviepy - Writing video ../storage/datasets/debug/sama-sama_40.mp4\n",
      "\n"
     ]
    },
    {
     "name": "stderr",
     "output_type": "stream",
     "text": [
      "                                                             \r"
     ]
    },
    {
     "name": "stdout",
     "output_type": "stream",
     "text": [
      "Moviepy - Done !\n",
      "Moviepy - video ready ../storage/datasets/debug/sama-sama_40.mp4\n",
      "[sama-sama]\t48\n",
      "Moviepy - Building video ../storage/datasets/debug/sama-sama_47.mp4.\n",
      "Moviepy - Writing video ../storage/datasets/debug/sama-sama_47.mp4\n",
      "\n"
     ]
    },
    {
     "name": "stderr",
     "output_type": "stream",
     "text": [
      "                                                             \r"
     ]
    },
    {
     "name": "stdout",
     "output_type": "stream",
     "text": [
      "Moviepy - Done !\n",
      "Moviepy - video ready ../storage/datasets/debug/sama-sama_47.mp4\n",
      "Moviepy - Building video ../storage/datasets/debug/sama-sama_41.mp4.\n",
      "Moviepy - Writing video ../storage/datasets/debug/sama-sama_41.mp4\n",
      "\n"
     ]
    },
    {
     "name": "stderr",
     "output_type": "stream",
     "text": [
      "                                                             \r"
     ]
    },
    {
     "name": "stdout",
     "output_type": "stream",
     "text": [
      "Moviepy - Done !\n",
      "Moviepy - video ready ../storage/datasets/debug/sama-sama_41.mp4\n",
      "[sama-sama]\t49\n",
      "Moviepy - Building video ../storage/datasets/debug/sama-sama_42.mp4.\n",
      "Moviepy - Writing video ../storage/datasets/debug/sama-sama_42.mp4\n",
      "\n"
     ]
    },
    {
     "name": "stderr",
     "output_type": "stream",
     "text": [
      "                                                             \r"
     ]
    },
    {
     "name": "stdout",
     "output_type": "stream",
     "text": [
      "Moviepy - Done !\n",
      "Moviepy - video ready ../storage/datasets/debug/sama-sama_42.mp4\n",
      "[sama-sama]\t50\n",
      "Moviepy - Building video ../storage/datasets/debug/sama-sama_43.mp4.\n",
      "Moviepy - Writing video ../storage/datasets/debug/sama-sama_43.mp4\n",
      "\n"
     ]
    },
    {
     "name": "stderr",
     "output_type": "stream",
     "text": [
      "                                                            \r"
     ]
    },
    {
     "name": "stdout",
     "output_type": "stream",
     "text": [
      "Moviepy - Done !\n",
      "Moviepy - video ready ../storage/datasets/debug/sama-sama_43.mp4\n",
      "[sama-sama]\t51\n",
      "Moviepy - Building video ../storage/datasets/debug/sama-sama_44.mp4.\n",
      "Moviepy - Writing video ../storage/datasets/debug/sama-sama_44.mp4\n",
      "\n"
     ]
    },
    {
     "name": "stderr",
     "output_type": "stream",
     "text": [
      "                                                             \r"
     ]
    },
    {
     "name": "stdout",
     "output_type": "stream",
     "text": [
      "Moviepy - Done !\n",
      "Moviepy - video ready ../storage/datasets/debug/sama-sama_44.mp4\n",
      "[sama-sama]\t52\n",
      "Moviepy - Building video ../storage/datasets/debug/sama-sama_45.mp4.\n",
      "Moviepy - Writing video ../storage/datasets/debug/sama-sama_45.mp4\n",
      "\n"
     ]
    },
    {
     "name": "stderr",
     "output_type": "stream",
     "text": [
      "                                                             \r"
     ]
    },
    {
     "name": "stdout",
     "output_type": "stream",
     "text": [
      "Moviepy - Done !\n",
      "Moviepy - video ready ../storage/datasets/debug/sama-sama_45.mp4\n",
      "[sama-sama]\t53\n",
      "Moviepy - Building video ../storage/datasets/debug/sama-sama_46.mp4.\n",
      "Moviepy - Writing video ../storage/datasets/debug/sama-sama_46.mp4\n",
      "\n"
     ]
    },
    {
     "name": "stderr",
     "output_type": "stream",
     "text": [
      "                                                             \r"
     ]
    },
    {
     "name": "stdout",
     "output_type": "stream",
     "text": [
      "Moviepy - Done !\n",
      "Moviepy - video ready ../storage/datasets/debug/sama-sama_46.mp4\n",
      "[sama-sama]\t54\n",
      "Moviepy - Building video ../storage/datasets/debug/sama-sama_48.mp4.\n",
      "Moviepy - Writing video ../storage/datasets/debug/sama-sama_48.mp4\n",
      "\n"
     ]
    },
    {
     "name": "stderr",
     "output_type": "stream",
     "text": [
      "                                                             \r"
     ]
    },
    {
     "name": "stdout",
     "output_type": "stream",
     "text": [
      "Moviepy - Done !\n",
      "Moviepy - video ready ../storage/datasets/debug/sama-sama_48.mp4\n",
      "Moviepy - Building video ../storage/datasets/debug/sama-sama_47.mp4.\n",
      "Moviepy - Writing video ../storage/datasets/debug/sama-sama_47.mp4\n",
      "\n"
     ]
    },
    {
     "name": "stderr",
     "output_type": "stream",
     "text": [
      "                                                             \r"
     ]
    },
    {
     "name": "stdout",
     "output_type": "stream",
     "text": [
      "Moviepy - Done !\n",
      "Moviepy - video ready ../storage/datasets/debug/sama-sama_47.mp4\n",
      "[sama-sama]\t55\n",
      "Moviepy - Building video ../storage/datasets/debug/sama-sama_49.mp4.\n",
      "Moviepy - Writing video ../storage/datasets/debug/sama-sama_49.mp4\n",
      "\n"
     ]
    },
    {
     "name": "stderr",
     "output_type": "stream",
     "text": [
      "                                                            \r"
     ]
    },
    {
     "name": "stdout",
     "output_type": "stream",
     "text": [
      "Moviepy - Done !\n",
      "Moviepy - video ready ../storage/datasets/debug/sama-sama_49.mp4\n",
      "Moviepy - Building video ../storage/datasets/debug/sama-sama_50.mp4.\n",
      "Moviepy - Writing video ../storage/datasets/debug/sama-sama_50.mp4\n",
      "\n"
     ]
    },
    {
     "name": "stderr",
     "output_type": "stream",
     "text": [
      "                                                             \r"
     ]
    },
    {
     "name": "stdout",
     "output_type": "stream",
     "text": [
      "Moviepy - Building video ../storage/datasets/debug/sama-sama_51.mp4.\n",
      "Moviepy - Writing video ../storage/datasets/debug/sama-sama_51.mp4\n",
      "\n"
     ]
    },
    {
     "name": "stderr",
     "output_type": "stream",
     "text": [
      "                                                             \r"
     ]
    },
    {
     "name": "stdout",
     "output_type": "stream",
     "text": [
      "Moviepy - Done !\n",
      "Moviepy - video ready ../storage/datasets/debug/sama-sama_50.mp4\n",
      "Moviepy - Done !\n",
      "Moviepy - video ready ../storage/datasets/debug/sama-sama_51.mp4\n",
      "Moviepy - Building video ../storage/datasets/debug/sama-sama_52.mp4.\n",
      "Moviepy - Writing video ../storage/datasets/debug/sama-sama_52.mp4\n",
      "\n"
     ]
    },
    {
     "name": "stderr",
     "output_type": "stream",
     "text": [
      "                                                             \r"
     ]
    },
    {
     "name": "stdout",
     "output_type": "stream",
     "text": [
      "Moviepy - Done !\n",
      "Moviepy - video ready ../storage/datasets/debug/sama-sama_52.mp4\n",
      "Moviepy - Building video ../storage/datasets/debug/sama-sama_53.mp4.\n",
      "Moviepy - Writing video ../storage/datasets/debug/sama-sama_53.mp4\n",
      "\n"
     ]
    },
    {
     "name": "stderr",
     "output_type": "stream",
     "text": [
      "                                                             \r"
     ]
    },
    {
     "name": "stdout",
     "output_type": "stream",
     "text": [
      "Moviepy - Done !\n",
      "Moviepy - video ready ../storage/datasets/debug/sama-sama_53.mp4\n",
      "Moviepy - Building video ../storage/datasets/debug/sama-sama_54.mp4.\n",
      "Moviepy - Writing video ../storage/datasets/debug/sama-sama_54.mp4\n",
      "\n"
     ]
    },
    {
     "name": "stderr",
     "output_type": "stream",
     "text": [
      "                                                             \r"
     ]
    },
    {
     "name": "stdout",
     "output_type": "stream",
     "text": [
      "Moviepy - Done !\n",
      "Moviepy - video ready ../storage/datasets/debug/sama-sama_54.mp4\n",
      "Moviepy - Building video ../storage/datasets/debug/sama-sama_48.mp4.\n",
      "Moviepy - Writing video ../storage/datasets/debug/sama-sama_48.mp4\n",
      "\n"
     ]
    },
    {
     "name": "stderr",
     "output_type": "stream",
     "text": [
      "                                                             \r"
     ]
    },
    {
     "name": "stdout",
     "output_type": "stream",
     "text": [
      "Moviepy - Done !\n",
      "Moviepy - video ready ../storage/datasets/debug/sama-sama_48.mp4\n",
      "[sama-sama]\t56\n",
      "Moviepy - Building video ../storage/datasets/debug/sama-sama_55.mp4.\n",
      "Moviepy - Writing video ../storage/datasets/debug/sama-sama_55.mp4\n",
      "\n"
     ]
    },
    {
     "name": "stderr",
     "output_type": "stream",
     "text": [
      "                                                             \r"
     ]
    },
    {
     "name": "stdout",
     "output_type": "stream",
     "text": [
      "Moviepy - Done !\n",
      "Moviepy - video ready ../storage/datasets/debug/sama-sama_55.mp4\n",
      "Moviepy - Building video ../storage/datasets/debug/sama-sama_49.mp4.\n",
      "Moviepy - Writing video ../storage/datasets/debug/sama-sama_49.mp4\n",
      "\n"
     ]
    },
    {
     "name": "stderr",
     "output_type": "stream",
     "text": [
      "                                                             \r"
     ]
    },
    {
     "name": "stdout",
     "output_type": "stream",
     "text": [
      "Moviepy - Done !\n",
      "Moviepy - video ready ../storage/datasets/debug/sama-sama_49.mp4\n",
      "[sama-sama]\t57\n",
      "Moviepy - Building video ../storage/datasets/debug/sama-sama_50.mp4.\n",
      "Moviepy - Writing video ../storage/datasets/debug/sama-sama_50.mp4\n",
      "\n"
     ]
    },
    {
     "name": "stderr",
     "output_type": "stream",
     "text": [
      "                                                             \r"
     ]
    },
    {
     "name": "stdout",
     "output_type": "stream",
     "text": [
      "Moviepy - Done !\n",
      "Moviepy - video ready ../storage/datasets/debug/sama-sama_50.mp4\n",
      "[sama-sama]\t58\n",
      "Moviepy - Building video ../storage/datasets/debug/sama-sama_51.mp4.\n",
      "Moviepy - Writing video ../storage/datasets/debug/sama-sama_51.mp4\n",
      "\n"
     ]
    },
    {
     "name": "stderr",
     "output_type": "stream",
     "text": [
      "                                                             \r"
     ]
    },
    {
     "name": "stdout",
     "output_type": "stream",
     "text": [
      "Moviepy - Building video ../storage/datasets/debug/sama-sama_52.mp4.\n",
      "Moviepy - Writing video ../storage/datasets/debug/sama-sama_52.mp4\n",
      "\n"
     ]
    },
    {
     "name": "stderr",
     "output_type": "stream",
     "text": [
      "t:   3%|▎         | 2/61 [00:00<00:03, 15.50it/s, now=None]"
     ]
    },
    {
     "name": "stdout",
     "output_type": "stream",
     "text": [
      "Moviepy - Done !\n",
      "Moviepy - video ready ../storage/datasets/debug/sama-sama_51.mp4\n",
      "[sama-sama]\t59\n"
     ]
    },
    {
     "name": "stderr",
     "output_type": "stream",
     "text": [
      "                                                             \r"
     ]
    },
    {
     "name": "stdout",
     "output_type": "stream",
     "text": [
      "Moviepy - Done !\n",
      "Moviepy - video ready ../storage/datasets/debug/sama-sama_52.mp4\n",
      "Moviepy - Building video ../storage/datasets/debug/sama-sama_53.mp4.\n",
      "Moviepy - Writing video ../storage/datasets/debug/sama-sama_53.mp4\n",
      "\n"
     ]
    },
    {
     "name": "stderr",
     "output_type": "stream",
     "text": [
      "                                                             \r"
     ]
    },
    {
     "name": "stdout",
     "output_type": "stream",
     "text": [
      "Moviepy - Done !\n",
      "Moviepy - video ready ../storage/datasets/debug/sama-sama_53.mp4\n",
      "Moviepy - Building video ../storage/datasets/debug/sama-sama_54.mp4.\n",
      "Moviepy - Writing video ../storage/datasets/debug/sama-sama_54.mp4\n",
      "\n"
     ]
    },
    {
     "name": "stderr",
     "output_type": "stream",
     "text": [
      "                                                             \r"
     ]
    },
    {
     "name": "stdout",
     "output_type": "stream",
     "text": [
      "Moviepy - Done !\n",
      "Moviepy - video ready ../storage/datasets/debug/sama-sama_54.mp4\n",
      "Moviepy - Building video ../storage/datasets/debug/sama-sama_56.mp4.\n",
      "Moviepy - Writing video ../storage/datasets/debug/sama-sama_56.mp4\n",
      "\n"
     ]
    },
    {
     "name": "stderr",
     "output_type": "stream",
     "text": [
      "                                                            \r"
     ]
    },
    {
     "name": "stdout",
     "output_type": "stream",
     "text": [
      "Moviepy - Done !\n",
      "Moviepy - video ready ../storage/datasets/debug/sama-sama_56.mp4\n",
      "Moviepy - Building video ../storage/datasets/debug/sama-sama_55.mp4.\n",
      "Moviepy - Writing video ../storage/datasets/debug/sama-sama_55.mp4\n",
      "\n"
     ]
    },
    {
     "name": "stderr",
     "output_type": "stream",
     "text": [
      "                                                            \r"
     ]
    },
    {
     "name": "stdout",
     "output_type": "stream",
     "text": [
      "Moviepy - Building video ../storage/datasets/debug/sama-sama_57.mp4.\n",
      "Moviepy - Writing video ../storage/datasets/debug/sama-sama_57.mp4\n",
      "\n"
     ]
    },
    {
     "name": "stderr",
     "output_type": "stream",
     "text": [
      "                                                             \r"
     ]
    },
    {
     "name": "stdout",
     "output_type": "stream",
     "text": [
      "Moviepy - Done !\n",
      "Moviepy - video ready ../storage/datasets/debug/sama-sama_55.mp4\n",
      "Moviepy - Done !\n",
      "Moviepy - video ready ../storage/datasets/debug/sama-sama_57.mp4\n",
      "Moviepy - Building video ../storage/datasets/debug/sama-sama_58.mp4.\n",
      "Moviepy - Writing video ../storage/datasets/debug/sama-sama_58.mp4\n",
      "\n"
     ]
    },
    {
     "name": "stderr",
     "output_type": "stream",
     "text": [
      "t:  48%|████▊     | 29/61 [00:00<00:02, 15.86it/s, now=None]"
     ]
    },
    {
     "name": "stdout",
     "output_type": "stream",
     "text": [
      "Moviepy - Building video ../storage/datasets/debug/sama-sama_59.mp4.\n",
      "Moviepy - Writing video ../storage/datasets/debug/sama-sama_59.mp4\n",
      "\n"
     ]
    },
    {
     "name": "stderr",
     "output_type": "stream",
     "text": [
      "                                                             "
     ]
    },
    {
     "name": "stdout",
     "output_type": "stream",
     "text": [
      "Moviepy - Done !\n",
      "Moviepy - video ready ../storage/datasets/debug/sama-sama_59.mp4\n",
      "Moviepy - Done !\n",
      "Moviepy - video ready ../storage/datasets/debug/sama-sama_58.mp4\n",
      "Moviepy - Building video ../storage/datasets/debug/sama-sama_56.mp4.\n",
      "Moviepy - Writing video ../storage/datasets/debug/sama-sama_56.mp4\n",
      "\n"
     ]
    },
    {
     "name": "stderr",
     "output_type": "stream",
     "text": [
      "                                                             \r"
     ]
    },
    {
     "name": "stdout",
     "output_type": "stream",
     "text": [
      "Moviepy - Done !\n",
      "Moviepy - video ready ../storage/datasets/debug/sama-sama_56.mp4\n",
      "Moviepy - Building video ../storage/datasets/debug/sama-sama_57.mp4.\n",
      "Moviepy - Writing video ../storage/datasets/debug/sama-sama_57.mp4\n",
      "\n"
     ]
    },
    {
     "name": "stderr",
     "output_type": "stream",
     "text": [
      "                                                             \r"
     ]
    },
    {
     "name": "stdout",
     "output_type": "stream",
     "text": [
      "Moviepy - Done !\n",
      "Moviepy - video ready ../storage/datasets/debug/sama-sama_57.mp4\n",
      "Moviepy - Building video ../storage/datasets/debug/sama-sama_59.mp4.\n",
      "Moviepy - Writing video ../storage/datasets/debug/sama-sama_59.mp4\n",
      "\n"
     ]
    },
    {
     "name": "stderr",
     "output_type": "stream",
     "text": [
      "t:  69%|██████▉   | 42/61 [00:00<00:00, 36.88it/s, now=None]"
     ]
    },
    {
     "name": "stdout",
     "output_type": "stream",
     "text": [
      "Moviepy - Building video ../storage/datasets/debug/sama-sama_58.mp4.\n",
      "Moviepy - Writing video ../storage/datasets/debug/sama-sama_58.mp4\n",
      "\n"
     ]
    },
    {
     "name": "stderr",
     "output_type": "stream",
     "text": [
      "                                                             "
     ]
    },
    {
     "name": "stdout",
     "output_type": "stream",
     "text": [
      "Moviepy - Done !\n",
      "Moviepy - video ready ../storage/datasets/debug/sama-sama_59.mp4\n",
      "Moviepy - Done !\n",
      "Moviepy - video ready ../storage/datasets/debug/sama-sama_58.mp4\n"
     ]
    }
   ],
   "source": [
    "def process_action_frame(label, frame, log):\n",
    "    print(f\"[{label}]\\t{frame}\")\n",
    "    result1 = process_video(label, frame, False, frame)  # without flip\n",
    "\n",
    "    # the flip image should start at 120th video\n",
    "    # so in the end we have 240 data on each action\n",
    "    result2 = process_video(label, frame, True, videos_per_label + frame)  # with fip image\n",
    "\n",
    "    if not result1 or not result2:\n",
    "        return None\n",
    "\n",
    "    log.append([result1, result2])\n",
    "\n",
    "    return log\n",
    "\n",
    "\n",
    "with concurrent.futures.ThreadPoolExecutor() as executor:\n",
    "    future_to_action = {\n",
    "        executor.submit(process_action_frame, action[\"action\"], action[\"frame\"], log): action\n",
    "        for action in actions\n",
    "    }\n",
    "\n",
    "    for future in concurrent.futures.as_completed(future_to_action):\n",
    "        log = future.result()\n",
    "\n",
    "        if not log:\n",
    "            break"
   ]
  }
 ],
 "metadata": {
  "kernelspec": {
   "display_name": "venv",
   "language": "python",
   "name": "python3"
  },
  "language_info": {
   "codemirror_mode": {
    "name": "ipython",
    "version": 3
   },
   "file_extension": ".py",
   "mimetype": "text/x-python",
   "name": "python",
   "nbconvert_exporter": "python",
   "pygments_lexer": "ipython3",
   "version": "3.9.2"
  }
 },
 "nbformat": 4,
 "nbformat_minor": 2
}
