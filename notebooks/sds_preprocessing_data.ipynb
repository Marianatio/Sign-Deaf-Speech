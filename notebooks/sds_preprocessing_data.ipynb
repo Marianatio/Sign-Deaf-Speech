{
 "cells": [
  {
   "cell_type": "code",
   "execution_count": 1,
   "metadata": {},
   "outputs": [],
   "source": [
    "import concurrent.futures\n",
    "import os\n",
    "import shutil\n",
    "import time\n",
    "\n",
    "import mediapipe as mp\n",
    "import numpy as np\n",
    "from mediapipe.framework.formats import landmark_pb2\n",
    "from mediapipe.tasks import python\n",
    "from mediapipe.tasks.python import vision\n",
    "from moviepy.editor import VideoFileClip, ImageSequenceClip"
   ]
  },
  {
   "cell_type": "markdown",
   "metadata": {},
   "source": [
    "#### Setting Task vision\n",
    "\n",
    "documentations for hand :\n",
    "- https://ai.google.dev/edge/mediapipe/solutions/vision/hand_landmarker/python#configuration_options\n",
    "- https://github.com/google-ai-edge/mediapipe-samples/blob/main/examples/hand_landmarker/python/hand_landmarker.ipynb\n",
    "\n",
    "documentations for pose :\n",
    "- https://ai.google.dev/edge/mediapipe/solutions/vision/pose_landmarker#configurations_options\n",
    "- https://github.com/google-ai-edge/mediapipe-samples/blob/main/examples/pose_landmarker/python/%5BMediaPipe_Python_Tasks%5D_Pose_Landmarker.ipynb"
   ]
  },
  {
   "cell_type": "code",
   "execution_count": 2,
   "metadata": {},
   "outputs": [],
   "source": [
    "drawer = mp.solutions.drawing_utils  # drawing utilities\n",
    "VisionRunningMode = mp.tasks.vision.RunningMode\n",
    "\n",
    "# base options for hand and pose detection models\n",
    "hand_base_options = python.BaseOptions(\n",
    "    model_asset_path=\"./tasks/hand_landmarker.task\"\n",
    ")\n",
    "pose_base_options = python.BaseOptions(\n",
    "    model_asset_path=\"./tasks/pose_landmarker.task\"\n",
    ")\n",
    "\n",
    "# options for hand detection\n",
    "hand_options = vision.HandLandmarkerOptions(\n",
    "    base_options=hand_base_options,\n",
    "    num_hands=2,\n",
    "    min_hand_detection_confidence=0.6,\n",
    "    min_hand_presence_confidence=0.6,\n",
    "    min_tracking_confidence=0.1,\n",
    "    running_mode=VisionRunningMode.IMAGE,\n",
    ")\n",
    "\n",
    "# options for pose detection\n",
    "pose_options = vision.PoseLandmarkerOptions(\n",
    "    base_options=pose_base_options,\n",
    "    output_segmentation_masks=True,\n",
    "    min_pose_detection_confidence=0.6,\n",
    "    min_pose_presence_confidence=0.6,\n",
    "    min_tracking_confidence=0.1,\n",
    "    running_mode=VisionRunningMode.IMAGE,\n",
    ")\n",
    "\n",
    "# create detectors\n",
    "hand_detector = vision.HandLandmarker.create_from_options(hand_options)\n",
    "pose_detector = vision.PoseLandmarker.create_from_options(pose_options)"
   ]
  },
  {
   "cell_type": "markdown",
   "metadata": {},
   "source": [
    "#### Setting up for dataset preprocessing\n",
    "\n",
    "Reference for how to do the sign language in [youtube](https://www.youtube.com/watch?v=0FcwzMq4iWg)"
   ]
  },
  {
   "cell_type": "code",
   "execution_count": 3,
   "metadata": {},
   "outputs": [],
   "source": [
    "# the dataset path for saving the preprocessed raw data (video)\n",
    "DATASET_PATH = os.path.join(\"../storage/datasets/cleaned\")\n",
    "DATASET_PATH_RAW = os.path.join(\"../storage/datasets/raw\")\n",
    "\n",
    "# action lables\n",
    "ACTIONS = [\n",
    "    \"apa\", \"aku\", \"kamu\"\n",
    "]\n",
    "\n",
    "# number of videos and actions per video\n",
    "videos_per_label = 60 # change it to how many videos you have\n",
    "frames_per_video = 60"
   ]
  },
  {
   "cell_type": "code",
   "execution_count": 4,
   "metadata": {},
   "outputs": [
    {
     "data": {
      "text/plain": [
       "['apa', 'aku', 'kamu']"
      ]
     },
     "execution_count": 4,
     "metadata": {},
     "output_type": "execute_result"
    }
   ],
   "source": [
    "ACTIONS"
   ]
  },
  {
   "cell_type": "code",
   "execution_count": 5,
   "metadata": {},
   "outputs": [
    {
     "name": "stdout",
     "output_type": "stream",
     "text": [
      "[CREATED] apa\n",
      "[CREATED] aku\n",
      "[CREATED] kamu\n"
     ]
    }
   ],
   "source": [
    "# create dataset directories if they do not exist\n",
    "try:\n",
    "    try:\n",
    "        shutil.rmtree(DATASET_PATH)\n",
    "    except:\n",
    "        pass\n",
    "\n",
    "    os.makedirs(DATASET_PATH)\n",
    "except FileExistsError:\n",
    "    print(\"Dataset folder exists, skipping creation\")\n",
    "    print(\"========================================\")\n",
    "\n",
    "for action in ACTIONS:\n",
    "    os.makedirs(os.path.join(DATASET_PATH, action))\n",
    "\n",
    "    print(f\"[CREATED] {action}\")"
   ]
  },
  {
   "cell_type": "markdown",
   "metadata": {},
   "source": [
    "#### Setting up for extracting the Mediapipe Landmaker"
   ]
  },
  {
   "cell_type": "markdown",
   "metadata": {},
   "source": [
    "##### Landmarker (drawing)"
   ]
  },
  {
   "cell_type": "code",
   "execution_count": 6,
   "metadata": {},
   "outputs": [],
   "source": [
    "LandmarkList = landmark_pb2.NormalizedLandmarkList  # aliases for landmark types\n",
    "NormalizedLandmark = landmark_pb2.NormalizedLandmark  # aliases for landmark types\n",
    "\n",
    "\n",
    "def to_landmark_list(landmarks):\n",
    "    \"\"\"\n",
    "    Create a LandmarkList from a list of landmarks or fill with empty values if no landmarks are provided.\n",
    "    \"\"\"\n",
    "    return LandmarkList(\n",
    "        landmark=([NormalizedLandmark(x=lm.x, y=lm.y, z=lm.z) for lm in landmarks])\n",
    "    )\n",
    "\n",
    "\n",
    "empty_pose_landmarks = to_landmark_list(\n",
    "    [NormalizedLandmark(x=0.0, y=0.0, z=0.0) for _ in range(33 * 3)]\n",
    ")\n",
    "\n",
    "empty_hand_landmarks = to_landmark_list(\n",
    "    [NormalizedLandmark(x=0.0, y=0.0, z=0.0) for _ in range(21 * 3)]\n",
    ")\n",
    "\n",
    "\n",
    "def to_drawing_landmark(hand_results, pose_results):\n",
    "    \"\"\"\n",
    "    Convert pose and hand landmarks to LandmarkList for drawing.\n",
    "    \"\"\"\n",
    "\n",
    "    pose_landmarks = (\n",
    "        to_landmark_list(pose_results.pose_landmarks[0])\n",
    "        if pose_results.pose_landmarks\n",
    "        else empty_pose_landmarks\n",
    "    )\n",
    "\n",
    "    hand_landmarks = [empty_hand_landmarks, empty_hand_landmarks]\n",
    "\n",
    "    if not hand_results:\n",
    "        return pose_landmarks, None\n",
    "\n",
    "    # iterate over the detected hand landmarks\n",
    "    for index, hand_landmark in enumerate(hand_results.hand_landmarks):\n",
    "        # determine the hand index (0 for right hand, 1 for left hand) using handedness information\n",
    "        handedness = hand_results.handedness[index][0].index\n",
    "\n",
    "        # extract the keypoints for the current hand and assign them to the appropriate index\n",
    "        hand_landmarks[handedness] = to_landmark_list(hand_landmark)\n",
    "\n",
    "    return hand_landmarks, pose_landmarks\n",
    "\n",
    "\n",
    "def draw_landmark(image, hand_landmarks, pose_landmarks):\n",
    "    \"\"\"\n",
    "    Draw detected landmarks on the image.\n",
    "    \"\"\"\n",
    "    drawer.draw_landmarks(\n",
    "        image,\n",
    "        pose_landmarks,\n",
    "        mp.solutions.pose.POSE_CONNECTIONS,\n",
    "        drawer.DrawingSpec(color=(80, 22, 10), thickness=2, circle_radius=3),\n",
    "        drawer.DrawingSpec(color=(80, 44, 121), thickness=2, circle_radius=2),\n",
    "    )\n",
    "\n",
    "    if not hand_landmarks:\n",
    "        return\n",
    "\n",
    "    for hand_landmarks in hand_landmarks:\n",
    "        drawer.draw_landmarks(\n",
    "            image,\n",
    "            hand_landmarks,\n",
    "            mp.solutions.hands.HAND_CONNECTIONS,\n",
    "            drawer.DrawingSpec(color=(121, 22, 76), thickness=2, circle_radius=2),\n",
    "            drawer.DrawingSpec(color=(121, 44, 250), thickness=2, circle_radius=2),\n",
    "        )"
   ]
  },
  {
   "cell_type": "markdown",
   "metadata": {},
   "source": [
    "##### Landmarker (dataset)"
   ]
  },
  {
   "cell_type": "code",
   "execution_count": 7,
   "metadata": {},
   "outputs": [],
   "source": [
    "empty_hand_landmark = np.zeros((2, 21, 3))  # right hand and left hand\n",
    "empty_pose_landmark = np.zeros(33 * 3)\n",
    "\n",
    "\n",
    "def to_landmark_data(\n",
    "    hand_results: vision.HandLandmarkerResult, pose_results: vision.PoseLandmarkerResult\n",
    "):\n",
    "    \"\"\"\n",
    "    Extract keypoints from pose and hand results for dataset creation.\n",
    "    \"\"\"\n",
    "    pose_landmark = empty_pose_landmark\n",
    "    hand_landmark = empty_hand_landmark\n",
    "\n",
    "    if pose_results.pose_world_landmarks:\n",
    "        pose_landmark = np.array(\n",
    "            [[lm.x, lm.y, lm.z] for lm in pose_results.pose_world_landmarks[0]]\n",
    "        ).flatten()\n",
    "\n",
    "    # if no hand results are available, return the empty hand keypoints\n",
    "    # and concatenate it with face and pose keypoints\n",
    "    if not hand_results:\n",
    "        return np.concatenate([pose_landmark, hand_landmark.flatten()])\n",
    "\n",
    "    # iterate over the detected hand landmarks\n",
    "    for index, hlm in enumerate(hand_results.hand_world_landmarks):\n",
    "        # determine the hand index (0 for right hand, 1 for left hand) using handedness information\n",
    "        handedness = hand_results.handedness[index][0].index\n",
    "\n",
    "        # extract the keypoints for the current hand and assign them to the appropriate index\n",
    "        hand_landmark[handedness] = np.array([[lm.x, lm.y, lm.z] for lm in hlm])\n",
    "\n",
    "    return np.concatenate([pose_landmark, hand_landmark.flatten()])"
   ]
  },
  {
   "cell_type": "markdown",
   "metadata": {},
   "source": [
    "##### Saving the landmarker data"
   ]
  },
  {
   "cell_type": "code",
   "execution_count": 8,
   "metadata": {},
   "outputs": [],
   "source": [
    "def save_cleaned_landmark(action: str, sequence: int, keypoints: np.ndarray):\n",
    "    np_path = os.path.join(DATASET_PATH, action, str(sequence))\n",
    "\n",
    "    np.save(np_path, keypoints)"
   ]
  },
  {
   "cell_type": "markdown",
   "metadata": {},
   "source": [
    "#### Read the raw data and process it using mediapipe"
   ]
  },
  {
   "cell_type": "code",
   "execution_count": 9,
   "metadata": {},
   "outputs": [],
   "source": [
    "image_landmark_debug = True\n",
    "\n",
    "\n",
    "def save_video_with_landmark(image_list, fps, label, video_num):\n",
    "    images = [image for _, image, _ in image_list]\n",
    "\n",
    "    new_clip = ImageSequenceClip(images, fps=fps)\n",
    "\n",
    "    output_path = f\"../storage/datasets/debug/{label}_{video_num}.mp4\"\n",
    "\n",
    "    new_clip.write_videofile(output_path, codec=\"libx264\")"
   ]
  },
  {
   "cell_type": "code",
   "execution_count": 10,
   "metadata": {},
   "outputs": [],
   "source": [
    "def process_frame(label, video_num, frame, image, flip_frame, is_debug):\n",
    "    # start time for performance tracking\n",
    "    start_time = time.time()\n",
    "\n",
    "    # flip the image horizontally for a selfie-view display\n",
    "    if flip_frame: image = np.fliplr(image)\n",
    "\n",
    "    try:\n",
    "        image = image.astype(np.uint8)\n",
    "\n",
    "        # convert image to mediapipe image format\n",
    "        mp_image = mp.Image(image_format=mp.ImageFormat.SRGB, data=image)\n",
    "\n",
    "        # detect hands and pose\n",
    "        hand_results = hand_detector.detect(image=mp_image)\n",
    "\n",
    "        pose_results = pose_detector.detect(image=mp_image)\n",
    "\n",
    "        # convert results to landmarks\n",
    "        keypoints = to_landmark_data(hand_results, pose_results)\n",
    "\n",
    "        if is_debug:\n",
    "            hand, pose = to_drawing_landmark(hand_results, pose_results)\n",
    "            draw_landmark(image, hand, pose)\n",
    "\n",
    "    except Exception as e:\n",
    "        print(f\"Error processing {label} video {video_num} frame {frame}: {e}\")\n",
    "        return frame, None, None, time.time() - start_time\n",
    "\n",
    "    if is_debug:\n",
    "        return frame, image, keypoints, time.time() - start_time\n",
    "\n",
    "    return frame, None, keypoints, time.time() - start_time\n",
    "\n",
    "\n",
    "def process_video(label: str, video_num: int, flip_frame: bool, video_start: int = 0):\n",
    "    video_path = os.path.join(DATASET_PATH_RAW, label, f\"{video_num}.avi\")\n",
    "\n",
    "    video_counter = video_start\n",
    "\n",
    "    try:\n",
    "        clip = VideoFileClip(video_path)\n",
    "    except OSError:\n",
    "        print(f\"Error: Could not open video file {video_path}\")\n",
    "        return f\"[{label}] ({video_num}) error opening video file\"\n",
    "\n",
    "    avg_exec_time = []\n",
    "    results = []\n",
    "\n",
    "    # use ThreadPoolExecutor to process frames concurrently\n",
    "    with concurrent.futures.ThreadPoolExecutor() as executor:\n",
    "        future_to_frame = {\n",
    "            executor.submit(\n",
    "                process_frame,\n",
    "                label,\n",
    "                video_num,\n",
    "                frame,\n",
    "                image,\n",
    "                flip_frame,\n",
    "                image_landmark_debug\n",
    "            ): frame\n",
    "            for frame, image in enumerate(clip.iter_frames(fps=clip.fps))\n",
    "        }\n",
    "\n",
    "        for future in concurrent.futures.as_completed(future_to_frame):\n",
    "            frame, image, keypoints, exec_time = future.result()\n",
    "\n",
    "            if keypoints is not None:\n",
    "                results.append((frame, image, keypoints))\n",
    "\n",
    "            avg_exec_time.append(exec_time)\n",
    "\n",
    "    start_time = time.time()\n",
    "    results.sort(key=lambda x: x[0])\n",
    "\n",
    "    if image_landmark_debug:\n",
    "        save_video_with_landmark(results, clip.fps, label, video_num)\n",
    "\n",
    "    if len(results) == 60:\n",
    "        # combine all landmark sequences into a single numpy array\n",
    "        keypoints = np.array([landmark for _, _, landmark in results])\n",
    "\n",
    "        save_cleaned_landmark(label, video_counter, keypoints)\n",
    "\n",
    "        end_time = time.time() - start_time\n",
    "        avg_exec_time = {\n",
    "            \"avg_video_exec\": avg_exec_time,\n",
    "            \"save_exec\": end_time,\n",
    "        }\n",
    "\n",
    "        return avg_exec_time, label, video_num, frame\n",
    "\n",
    "    return None"
   ]
  },
  {
   "cell_type": "code",
   "execution_count": 11,
   "metadata": {},
   "outputs": [],
   "source": [
    "actions = [\n",
    "    {\"action\": word, \"frame\": i} for word in ACTIONS for i in range(videos_per_label)\n",
    "]\n",
    "\n",
    "log = []"
   ]
  },
  {
   "cell_type": "code",
   "execution_count": 12,
   "metadata": {},
   "outputs": [],
   "source": [
    "all_first_59 = [actions[i: i + 59] for i in range(0, len(actions), videos_per_label)]\n",
    "all_first_1 = [actions[i] for i in range(0, len(actions), videos_per_label)]"
   ]
  },
  {
   "cell_type": "code",
   "execution_count": 13,
   "metadata": {},
   "outputs": [
    {
     "data": {
      "text/plain": [
       "True"
      ]
     },
     "execution_count": 13,
     "metadata": {},
     "output_type": "execute_result"
    }
   ],
   "source": [
    "image_landmark_debug"
   ]
  },
  {
   "cell_type": "code",
   "execution_count": 14,
   "metadata": {},
   "outputs": [
    {
     "name": "stdout",
     "output_type": "stream",
     "text": [
      "[apa]\t0\n",
      "[apa]\t1\n",
      "[apa]\t2\n",
      "[apa]\t3\n",
      "[apa]\t4\n",
      "[apa]\t5\n",
      "[apa]\t6\n",
      "[apa]\t7\n",
      "Moviepy - Building video ../storage/datasets/debug/apa_4.mp4.\n",
      "Moviepy - Writing video ../storage/datasets/debug/apa_4.mp4\n",
      "\n"
     ]
    },
    {
     "name": "stderr",
     "output_type": "stream",
     "text": [
      "t:   3%|▎         | 2/61 [00:00<00:04, 13.80it/s, now=None]"
     ]
    },
    {
     "name": "stdout",
     "output_type": "stream",
     "text": [
      "Moviepy - Building video ../storage/datasets/debug/apa_3.mp4.\n",
      "Moviepy - Writing video ../storage/datasets/debug/apa_3.mp4\n",
      "\n"
     ]
    },
    {
     "name": "stderr",
     "output_type": "stream",
     "text": [
      "                                                           \n",
      "                                                           \n",
      "t:   7%|▋         | 4/61 [00:00<00:04, 12.72it/s, now=None]"
     ]
    },
    {
     "name": "stdout",
     "output_type": "stream",
     "text": [
      "Moviepy - Building video ../storage/datasets/debug/apa_1.mp4.\n",
      "Moviepy - Writing video ../storage/datasets/debug/apa_1.mp4\n",
      "\n"
     ]
    },
    {
     "name": "stderr",
     "output_type": "stream",
     "text": [
      "\n",
      "t:  56%|█████▌    | 34/61 [00:00<00:00, 89.02it/s, now=None]\n",
      "\u001b[A\n",
      "\u001b[A\n",
      "                                                            \n",
      "\u001b[A                                                          \n",
      "\n",
      "t:  85%|████████▌ | 52/61 [00:00<00:00, 60.65it/s, now=None] \n",
      "                                                            \n",
      "\u001b[A                                                          \n",
      "\n",
      "t:  85%|████████▌ | 52/61 [00:00<00:00, 60.65it/s, now=None] \n",
      "\u001b[A"
     ]
    },
    {
     "name": "stdout",
     "output_type": "stream",
     "text": [
      "Moviepy - Building video ../storage/datasets/debug/apa_0.mp4.\n",
      "Moviepy - Writing video ../storage/datasets/debug/apa_0.mp4\n",
      "\n"
     ]
    },
    {
     "name": "stderr",
     "output_type": "stream",
     "text": [
      "\n",
      "\n",
      "\u001b[A\u001b[A\n",
      "\u001b[A\n",
      "\n",
      "                                                            \n",
      "\u001b[A                                                          \n",
      "\n",
      "\n",
      "\u001b[A\u001b[A\u001b[A                                                  \n",
      "\n",
      "t:  85%|████████▌ | 52/61 [00:01<00:00, 60.65it/s, now=None]\n",
      "\n",
      "\u001b[A\u001b[A\n",
      "                                                            \n",
      "\u001b[A                                                          \n",
      "\n",
      "\n",
      "\u001b[A\u001b[A\u001b[A                                                  \n",
      "\n",
      "t:  85%|████████▌ | 52/61 [00:01<00:00, 60.65it/s, now=None]\n",
      "\n",
      "\u001b[A\u001b[A\n",
      "\u001b[A"
     ]
    },
    {
     "name": "stdout",
     "output_type": "stream",
     "text": [
      "Moviepy - Building video ../storage/datasets/debug/apa_5.mp4.\n",
      "Moviepy - Writing video ../storage/datasets/debug/apa_5.mp4\n",
      "\n"
     ]
    },
    {
     "name": "stderr",
     "output_type": "stream",
     "text": [
      "\n",
      "\n",
      "\n",
      "                                                            \n",
      "\u001b[A                                                          \n",
      "\n",
      "\u001b[A\u001b[A                                                      \n",
      "\n",
      "\n",
      "\n",
      "\u001b[A\u001b[A\u001b[A\u001b[A                                       \n",
      "\n",
      "\n",
      "t:  85%|████████▌ | 52/61 [00:01<00:00, 60.65it/s, now=None]\n"
     ]
    },
    {
     "name": "stdout",
     "output_type": "stream",
     "text": [
      "Moviepy - Building video ../storage/datasets/debug/apa_2.mp4.\n"
     ]
    },
    {
     "name": "stderr",
     "output_type": "stream",
     "text": [
      "t:  85%|████████▌ | 52/61 [00:01<00:00, 108.43it/s, now=None]\u001b[A\n",
      "\u001b[A\n",
      "\n",
      "\n",
      "\u001b[A\u001b[A\u001b[A\n",
      "\n",
      "                                                            \n",
      "\u001b[A                                                          \n",
      "\n",
      "\u001b[A\u001b[A                                                      \n",
      "\n",
      "\n",
      "\n",
      "\u001b[A\u001b[A\u001b[A\u001b[A                                               \n",
      "\n",
      "\n",
      "t:  85%|████████▌ | 52/61 [00:01<00:00, 60.65it/s, now=None]\n",
      "\u001b[A\n",
      "\n",
      "\n",
      "\u001b[A\u001b[A\u001b[A\n",
      "\n",
      "\u001b[A\u001b[A"
     ]
    },
    {
     "name": "stdout",
     "output_type": "stream",
     "text": [
      "Moviepy - Writing video ../storage/datasets/debug/apa_2.mp4\n",
      "\n"
     ]
    },
    {
     "name": "stderr",
     "output_type": "stream",
     "text": [
      "\n",
      "\n",
      "\n",
      "\n",
      "                                                            \n",
      "\u001b[A                                                          \n",
      "\n",
      "\u001b[A\u001b[A                                                      \n",
      "\n",
      "\n",
      "\n",
      "\u001b[A\u001b[A\u001b[A\u001b[A                                               \n",
      "\n",
      "\n",
      "\u001b[A\u001b[A\u001b[A                                                  \n",
      "\n",
      "\n",
      "\n",
      "\n",
      "t:  85%|████████▌ | 52/61 [00:01<00:00, 60.65it/s, now=None]\n",
      "\u001b[A\n",
      "\n",
      "\n",
      "\u001b[A\u001b[A\u001b[A\n",
      "\n",
      "\u001b[A\u001b[A\n",
      "\n",
      "\n",
      "\n",
      "                                                            \n",
      "\u001b[A                                                          \n",
      "\n",
      "\u001b[A\u001b[A                                                      \n",
      "\n",
      "\n",
      "\n",
      "\u001b[A\u001b[A\u001b[A\u001b[A                                               \n",
      "\n",
      "\n",
      "\u001b[A\u001b[A\u001b[A                                                  \n",
      "\n",
      "\n",
      "\n",
      "\n",
      "t:  85%|████████▌ | 52/61 [00:01<00:00, 60.65it/s, now=None]\n",
      "\u001b[A\n",
      "\n",
      "\n",
      "\u001b[A\u001b[A\u001b[A\n",
      "\n",
      "\u001b[A\u001b[A\n",
      "\n",
      "\n",
      "\n",
      "\u001b[A\u001b[A\u001b[A\u001b[A\n",
      "\n",
      "\u001b[A\u001b[A"
     ]
    },
    {
     "name": "stdout",
     "output_type": "stream",
     "text": [
      "Moviepy - Building video ../storage/datasets/debug/apa_7.mp4.\n",
      "Moviepy - Writing video ../storage/datasets/debug/apa_7.mp4\n",
      "\n"
     ]
    },
    {
     "name": "stderr",
     "output_type": "stream",
     "text": [
      "\n",
      "\n",
      "\n",
      "\n",
      "\n",
      "\u001b[A\u001b[A\u001b[A\u001b[A\u001b[A\n",
      "\n",
      "                                                            \n",
      "\u001b[A                                                          \n",
      "\n",
      "\u001b[A\u001b[A                                                      \n",
      "\n",
      "\n",
      "\n",
      "\n",
      "\n",
      "\u001b[A\u001b[A\u001b[A\u001b[A\u001b[A\u001b[A                                 \n",
      "\n",
      "\n",
      "\n",
      "\u001b[A\u001b[A\u001b[A\u001b[A                                               \n",
      "\n",
      "\n",
      "\u001b[A\u001b[A\u001b[A                                                   \n",
      "\n",
      "\n",
      "\n",
      "\n",
      "t:  85%|████████▌ | 52/61 [00:02<00:00, 60.65it/s, now=None]\n",
      "\u001b[A\n",
      "\n",
      "\n",
      "\n",
      "\n",
      "\u001b[A\u001b[A\u001b[A\u001b[A\u001b[A\n",
      "\n",
      "\n",
      "\u001b[A\u001b[A\u001b[A\n",
      "\n",
      "\u001b[A\u001b[A\n",
      "\n",
      "\n",
      "\n",
      "\u001b[A\u001b[A\u001b[A\u001b[A\n",
      "\n",
      "                                                            \n",
      "\u001b[A                                                          \n",
      "\n",
      "\u001b[A\u001b[A                                                      \n",
      "\n",
      "\n",
      "\n",
      "\n",
      "\n",
      "\u001b[A\u001b[A\u001b[A\u001b[A\u001b[A\u001b[A                                         \n",
      "\n",
      "\n",
      "\n",
      "\u001b[A\u001b[A\u001b[A\u001b[A                                               \n",
      "\n",
      "\n",
      "\u001b[A\u001b[A\u001b[A                                                   \n",
      "\n",
      "\n",
      "\n",
      "\n",
      "t:  85%|████████▌ | 52/61 [00:02<00:00, 60.65it/s, now=None]\n",
      "\u001b[A\n",
      "\n",
      "\n",
      "\n",
      "\n",
      "\u001b[A\u001b[A\u001b[A\u001b[A\u001b[A\n",
      "\n",
      "\n",
      "\u001b[A\u001b[A\u001b[A\n",
      "\n",
      "\u001b[A\u001b[A\n",
      "\n",
      "\n",
      "\n",
      "\u001b[A\u001b[A\u001b[A\u001b[A"
     ]
    },
    {
     "name": "stdout",
     "output_type": "stream",
     "text": [
      "Moviepy - Building video ../storage/datasets/debug/apa_6.mp4.\n",
      "Moviepy - Writing video ../storage/datasets/debug/apa_6.mp4\n",
      "\n"
     ]
    },
    {
     "name": "stderr",
     "output_type": "stream",
     "text": [
      "\n",
      "\n",
      "\n",
      "\n",
      "\n",
      "\n",
      "\u001b[A\u001b[A\u001b[A\u001b[A\u001b[A\u001b[A\n",
      "\n",
      "\n",
      "\u001b[A\u001b[A\u001b[A\n",
      "\n",
      "\n",
      "\n",
      "\u001b[A\u001b[A\u001b[A\u001b[A\n",
      "\n",
      "\u001b[A\u001b[A\n",
      "\n",
      "\n",
      "\n",
      "\u001b[A\u001b[A\u001b[A\u001b[A\n",
      "\n",
      "\n",
      "\u001b[A\u001b[A\u001b[A\n",
      "\n",
      "\n",
      "\n",
      "\n",
      "\u001b[A\u001b[A\u001b[A\u001b[A\u001b[A\n",
      "\n",
      "\n",
      "\n",
      "\u001b[A\u001b[A\u001b[A\u001b[A\n",
      "\n",
      "\n",
      "\u001b[A\u001b[A\u001b[A\n",
      "\n",
      "\n",
      "\n",
      "\n",
      "\u001b[A\u001b[A\u001b[A\u001b[A\u001b[A\n",
      "\n",
      "\n",
      "\n",
      "\n",
      "\n",
      "\u001b[A\u001b[A\u001b[A\u001b[A\u001b[A\u001b[A\n",
      "\n",
      "\n",
      "\n",
      "\u001b[A\u001b[A\u001b[A\u001b[A\n",
      "\n",
      "\n",
      "\n",
      "\n",
      "\u001b[A\u001b[A\u001b[A\u001b[A\u001b[A\n",
      "\n",
      "\n",
      "\n",
      "\n",
      "\n",
      "\u001b[A\u001b[A\u001b[A\u001b[A\u001b[A\u001b[A\n",
      "\n",
      "\n",
      "\n",
      "\n",
      "\u001b[A\u001b[A\u001b[A\u001b[A\u001b[A\n",
      "\n",
      "\n",
      "\u001b[A\u001b[A\u001b[A\n",
      "\n",
      "\n",
      "\n",
      "\n",
      "\n",
      "\u001b[A\u001b[A\u001b[A\u001b[A\u001b[A\u001b[A\n",
      "\n",
      "\n",
      "\n",
      "\n",
      "\n",
      "\u001b[A\u001b[A\u001b[A\u001b[A\u001b[A\u001b[A\n",
      "\n",
      "t:  93%|█████████▎| 57/61 [00:04<00:00,  9.18it/s, now=None]\n",
      "\n",
      "\n",
      "\u001b[A\u001b[A\u001b[A\n",
      "\n",
      "\n",
      "\n",
      "\n",
      "\n",
      "\u001b[A\u001b[A\u001b[A\u001b[A\u001b[A\u001b[A\n",
      "\n",
      "\n",
      "\n",
      "\n",
      "\u001b[A\u001b[A\u001b[A\u001b[A\u001b[A\n",
      "\n",
      "\n",
      "\n",
      "\u001b[A\u001b[A\u001b[A\u001b[A\n",
      "\u001b[A\n",
      "\u001b[A\n",
      "\n",
      "\u001b[A\u001b[A\n",
      "\n",
      "\n",
      "\n",
      "\n",
      "\n",
      "\u001b[A\u001b[A\u001b[A\u001b[A\u001b[A\u001b[A\n",
      "\n",
      "\n",
      "\u001b[A\u001b[A\u001b[A\n",
      "\n",
      "\n",
      "\n",
      "                                                            \n",
      "\n",
      "\n",
      "\n",
      "\n",
      "\u001b[A\u001b[A\u001b[A\u001b[A\u001b[A"
     ]
    },
    {
     "name": "stdout",
     "output_type": "stream",
     "text": [
      "Moviepy - Done !\n",
      "Moviepy - video ready ../storage/datasets/debug/apa_6.mp4\n",
      "Moviepy - Done !\n",
      "Moviepy - video ready ../storage/datasets/debug/apa_4.mp4\n",
      "Moviepy - Done !\n",
      "Moviepy - video ready ../storage/datasets/debug/apa_5.mp4\n",
      "Moviepy - Done !\n",
      "Moviepy - video ready ../storage/datasets/debug/apa_1.mp4\n",
      "Moviepy - Building video ../storage/datasets/debug/apa_6.mp4.\n",
      "Moviepy - Writing video ../storage/datasets/debug/apa_6.mp4\n",
      "\n"
     ]
    },
    {
     "name": "stderr",
     "output_type": "stream",
     "text": [
      "t:  93%|█████████▎| 57/61 [00:01<00:00, 134.59it/s, now=None]"
     ]
    },
    {
     "name": "stdout",
     "output_type": "stream",
     "text": [
      "Moviepy - Done !\n",
      "Moviepy - video ready ../storage/datasets/debug/apa_0.mp4\n"
     ]
    },
    {
     "name": "stderr",
     "output_type": "stream",
     "text": [
      "t:  93%|█████████▎| 57/61 [00:02<00:00, 134.59it/s, now=None]"
     ]
    },
    {
     "name": "stdout",
     "output_type": "stream",
     "text": [
      "Moviepy - Done !\n",
      "Moviepy - video ready ../storage/datasets/debug/apa_2.mp4\n"
     ]
    },
    {
     "name": "stderr",
     "output_type": "stream",
     "text": [
      "t:  93%|█████████▎| 57/61 [00:03<00:00, 134.59it/s, now=None]"
     ]
    },
    {
     "name": "stdout",
     "output_type": "stream",
     "text": [
      "Moviepy - Done !\n",
      "Moviepy - video ready ../storage/datasets/debug/apa_7.mp4\n"
     ]
    },
    {
     "name": "stderr",
     "output_type": "stream",
     "text": [
      "t:  93%|█████████▎| 57/61 [00:04<00:00, 134.59it/s, now=None]"
     ]
    },
    {
     "name": "stdout",
     "output_type": "stream",
     "text": [
      "Moviepy - Done !\n",
      "Moviepy - video ready ../storage/datasets/debug/apa_3.mp4\n"
     ]
    },
    {
     "name": "stderr",
     "output_type": "stream",
     "text": [
      "                                                             \r"
     ]
    },
    {
     "name": "stdout",
     "output_type": "stream",
     "text": [
      "Moviepy - Done !\n",
      "Moviepy - video ready ../storage/datasets/debug/apa_6.mp4\n",
      "[apa]\t8\n",
      "Moviepy - Building video ../storage/datasets/debug/apa_4.mp4.\n",
      "Moviepy - Writing video ../storage/datasets/debug/apa_4.mp4\n",
      "\n"
     ]
    },
    {
     "name": "stderr",
     "output_type": "stream",
     "text": [
      "                                                             \r"
     ]
    },
    {
     "name": "stdout",
     "output_type": "stream",
     "text": [
      "Moviepy - Building video ../storage/datasets/debug/apa_5.mp4.\n",
      "Moviepy - Writing video ../storage/datasets/debug/apa_5.mp4\n",
      "\n"
     ]
    },
    {
     "name": "stderr",
     "output_type": "stream",
     "text": [
      "                                                            \r"
     ]
    },
    {
     "name": "stdout",
     "output_type": "stream",
     "text": [
      "Moviepy - Building video ../storage/datasets/debug/apa_1.mp4.\n",
      "Moviepy - Writing video ../storage/datasets/debug/apa_1.mp4\n",
      "\n"
     ]
    },
    {
     "name": "stderr",
     "output_type": "stream",
     "text": [
      "                                                             \r"
     ]
    },
    {
     "name": "stdout",
     "output_type": "stream",
     "text": [
      "Moviepy - Done !\n",
      "Moviepy - video ready ../storage/datasets/debug/apa_4.mp4\n",
      "[apa]\t9\n",
      "Moviepy - Building video ../storage/datasets/debug/apa_0.mp4.\n",
      "Moviepy - Writing video ../storage/datasets/debug/apa_0.mp4\n",
      "\n"
     ]
    },
    {
     "name": "stderr",
     "output_type": "stream",
     "text": [
      "t:  89%|████████▊ | 54/61 [00:01<00:00, 40.53it/s, now=None]"
     ]
    },
    {
     "name": "stdout",
     "output_type": "stream",
     "text": [
      "Moviepy - Building video ../storage/datasets/debug/apa_2.mp4.\n",
      "Moviepy - Writing video ../storage/datasets/debug/apa_2.mp4\n",
      "\n"
     ]
    },
    {
     "name": "stderr",
     "output_type": "stream",
     "text": [
      "                                                            \n",
      "                                                             \n",
      "t:  98%|█████████▊| 60/61 [00:01<00:00, 40.53it/s, now=None] "
     ]
    },
    {
     "name": "stdout",
     "output_type": "stream",
     "text": [
      "Moviepy - Building video ../storage/datasets/debug/apa_7.mp4.\n",
      "Moviepy - Writing video ../storage/datasets/debug/apa_7.mp4\n",
      "\n"
     ]
    },
    {
     "name": "stderr",
     "output_type": "stream",
     "text": [
      "\n",
      "                                                            \n",
      "\u001b[A                                                          \n",
      "\n",
      "t:  98%|█████████▊| 60/61 [00:01<00:00, 40.53it/s, now=None]\n",
      "                                                            \n",
      "\u001b[A                                                          \n",
      "\n",
      "t:  98%|█████████▊| 60/61 [00:01<00:00, 40.53it/s, now=None]\n",
      "\u001b[A"
     ]
    },
    {
     "name": "stdout",
     "output_type": "stream",
     "text": [
      "Moviepy - Building video ../storage/datasets/debug/apa_3.mp4.\n",
      "Moviepy - Writing video ../storage/datasets/debug/apa_3.mp4\n",
      "\n"
     ]
    },
    {
     "name": "stderr",
     "output_type": "stream",
     "text": [
      "\n",
      "\n",
      "\u001b[A\u001b[A\n",
      "\u001b[A\n",
      "\u001b[A\n",
      "\u001b[A\n",
      "\u001b[A\n",
      "\n",
      "\u001b[A\u001b[A\n",
      "\u001b[A\n",
      "\n",
      "\u001b[A\u001b[A\n",
      "\n",
      "\u001b[A\u001b[A\n",
      "\n",
      "                                                            \n",
      "\u001b[A                                                         \n",
      "\n",
      "\u001b[A\u001b[A                                                      \n",
      "\n",
      "\n",
      "t:  98%|█████████▊| 60/61 [00:04<00:00, 40.53it/s, now=None]\n",
      "\u001b[A\n",
      "\n",
      "                                                            \n",
      "\u001b[A                                                         \n",
      "\n",
      "\u001b[A\u001b[A                                                      \n",
      "\n",
      "\n",
      "t:  98%|█████████▊| 60/61 [00:04<00:00, 40.53it/s, now=None]\n",
      "\u001b[A\n",
      "\n",
      "\u001b[A\u001b[A"
     ]
    },
    {
     "name": "stdout",
     "output_type": "stream",
     "text": [
      "Moviepy - Building video ../storage/datasets/debug/apa_8.mp4.\n",
      "Moviepy - Writing video ../storage/datasets/debug/apa_8.mp4\n",
      "\n"
     ]
    },
    {
     "name": "stderr",
     "output_type": "stream",
     "text": [
      "\n",
      "\n",
      "\n",
      "\u001b[A\u001b[A\u001b[A\n",
      "\n",
      "\n",
      "\u001b[A\u001b[A\u001b[A\n",
      "\n",
      "\n",
      "\u001b[A\u001b[A\u001b[A\n",
      "\n",
      "\n",
      "\u001b[A\u001b[A\u001b[A\n",
      "\n",
      "\n",
      "\u001b[A\u001b[A\u001b[A\n",
      "                                                            \n",
      "\n",
      "\n",
      "\n",
      "\u001b[A\u001b[A\u001b[A\u001b[A                                                \n",
      "\u001b[A                                                         \n",
      "\n",
      "\u001b[A\u001b[A                                                      \n",
      "\n",
      "\n",
      "\u001b[A\u001b[A\u001b[A                                                   \n",
      "\n",
      "\n",
      "\u001b[A\u001b[A\u001b[A\n",
      "\u001b[A\n",
      "\n",
      "\u001b[A\u001b[A\n",
      "\n",
      "\n",
      "\n",
      "\u001b[A\u001b[A\u001b[A\u001b[A                                                \n",
      "\u001b[A                                                         \n",
      "\n",
      "\u001b[A\u001b[A                                                      \n",
      "\n",
      "\n",
      "\u001b[A\u001b[A\u001b[A                                                   \n",
      "\n",
      "\n",
      "\u001b[A\u001b[A\u001b[A\n",
      "\u001b[A\n",
      "\n",
      "\u001b[A\u001b[A"
     ]
    },
    {
     "name": "stdout",
     "output_type": "stream",
     "text": [
      "Moviepy - Building video ../storage/datasets/debug/apa_9.mp4.\n",
      "Moviepy - Writing video ../storage/datasets/debug/apa_9.mp4\n",
      "\n"
     ]
    },
    {
     "name": "stderr",
     "output_type": "stream",
     "text": [
      "t:   0%|          | 0/61 [00:00<?, ?it/s, now=None]\n",
      "\n",
      "\n",
      "\n",
      "\u001b[A\u001b[A\u001b[A\u001b[A                                                \n",
      "\u001b[A                                                         \n",
      "\n",
      "\u001b[A\u001b[A                                                      \n",
      "\n",
      "\n",
      "                                                            \n",
      "\n",
      "\n",
      "\u001b[A\u001b[A\u001b[A\n",
      "\u001b[A\n",
      "\n",
      "t:   2%|▏         | 1/61 [00:00<00:38,  1.54it/s, now=None]\n",
      "\n",
      "\n",
      "\n",
      "\u001b[A\u001b[A\u001b[A\u001b[A                                                \n",
      "\u001b[A                                                         \n",
      "\n",
      "\u001b[A\u001b[A                                                      \n",
      "\n",
      "\n",
      "                                                            \n",
      "\n",
      "\n",
      "\u001b[A\u001b[A\u001b[A\n",
      "\u001b[A\n",
      "\n",
      "t:   2%|▏         | 1/61 [00:00<00:41,  1.43it/s, now=None]"
     ]
    },
    {
     "name": "stdout",
     "output_type": "stream",
     "text": [
      "Moviepy - Done !\n",
      "Moviepy - video ready ../storage/datasets/debug/apa_5.mp4\n",
      "[apa]\t10\n"
     ]
    },
    {
     "name": "stderr",
     "output_type": "stream",
     "text": [
      "t:  87%|████████▋ | 53/61 [00:02<00:00, 22.19it/s, now=None]\n",
      "\u001b[A\n",
      "\n",
      "\n",
      "\u001b[A\u001b[A\u001b[A\n",
      "\n",
      "                                                            \n",
      "\n",
      "\n",
      "\n",
      "\u001b[A\u001b[A\u001b[A\u001b[A                                                \n",
      "\n",
      "\n",
      "\u001b[A\u001b[A\u001b[A                                                   \n",
      "\n",
      "\n",
      "\u001b[A\u001b[A\u001b[A\n",
      "\n",
      "\u001b[A\u001b[A\n",
      "\n",
      "\n",
      "\n",
      "\u001b[A\u001b[A\u001b[A\u001b[A                                                \n",
      "\n",
      "\n",
      "\u001b[A\u001b[A\u001b[A                                                   \n",
      "\n",
      "\n",
      "\u001b[A\u001b[A\u001b[A\n",
      "\n",
      "\u001b[A\u001b[A"
     ]
    },
    {
     "name": "stdout",
     "output_type": "stream",
     "text": [
      "Moviepy - Building video ../storage/datasets/debug/apa_10.mp4.\n",
      "Moviepy - Writing video ../storage/datasets/debug/apa_10.mp4\n",
      "\n"
     ]
    },
    {
     "name": "stderr",
     "output_type": "stream",
     "text": [
      "t:  74%|███████▍  | 45/61 [00:00<00:00, 233.83it/s, now=None]\n",
      "\n",
      "\n",
      "\u001b[A\u001b[A\u001b[A\n",
      "\n",
      "t:  89%|████████▊ | 54/61 [00:00<00:00, 233.83it/s, now=None]"
     ]
    },
    {
     "name": "stdout",
     "output_type": "stream",
     "text": [
      "Moviepy - Done !\n",
      "Moviepy - video ready ../storage/datasets/debug/apa_1.mp4\n",
      "[apa]\t11\n"
     ]
    },
    {
     "name": "stderr",
     "output_type": "stream",
     "text": [
      "                                                             \r"
     ]
    },
    {
     "name": "stdout",
     "output_type": "stream",
     "text": [
      "Moviepy - Building video ../storage/datasets/debug/apa_11.mp4.\n",
      "Moviepy - Writing video ../storage/datasets/debug/apa_11.mp4\n",
      "\n"
     ]
    },
    {
     "name": "stderr",
     "output_type": "stream",
     "text": [
      "                                                            \r"
     ]
    },
    {
     "name": "stdout",
     "output_type": "stream",
     "text": [
      "Moviepy - Done !\n",
      "Moviepy - video ready ../storage/datasets/debug/apa_7.mp4\n",
      "[apa]\t12\n",
      "Moviepy - Done !\n",
      "Moviepy - video ready ../storage/datasets/debug/apa_0.mp4\n",
      "[apa]\t13\n",
      "Moviepy - Done !\n",
      "Moviepy - video ready ../storage/datasets/debug/apa_2.mp4\n",
      "[apa]\t14\n",
      "Moviepy - Done !\n",
      "Moviepy - video ready ../storage/datasets/debug/apa_9.mp4\n",
      "Moviepy - Done !\n",
      "Moviepy - video ready ../storage/datasets/debug/apa_3.mp4\n",
      "[apa]\t15\n",
      "Moviepy - Done !\n",
      "Moviepy - video ready ../storage/datasets/debug/apa_8.mp4\n",
      "Moviepy - Building video ../storage/datasets/debug/apa_12.mp4.\n",
      "Moviepy - Writing video ../storage/datasets/debug/apa_12.mp4\n",
      "\n"
     ]
    },
    {
     "name": "stderr",
     "output_type": "stream",
     "text": [
      "t:  93%|█████████▎| 57/61 [00:02<00:00, 123.51it/s, now=None]"
     ]
    },
    {
     "name": "stdout",
     "output_type": "stream",
     "text": [
      "Moviepy - Done !\n",
      "Moviepy - video ready ../storage/datasets/debug/apa_10.mp4\n"
     ]
    },
    {
     "name": "stderr",
     "output_type": "stream",
     "text": [
      "                                                             \r"
     ]
    },
    {
     "name": "stdout",
     "output_type": "stream",
     "text": [
      "Moviepy - Done !\n",
      "Moviepy - video ready ../storage/datasets/debug/apa_11.mp4\n",
      "Moviepy - Done !\n",
      "Moviepy - video ready ../storage/datasets/debug/apa_12.mp4\n",
      "Moviepy - Building video ../storage/datasets/debug/apa_13.mp4.\n",
      "Moviepy - Writing video ../storage/datasets/debug/apa_13.mp4\n",
      "\n"
     ]
    },
    {
     "name": "stderr",
     "output_type": "stream",
     "text": [
      "                                                             \r"
     ]
    },
    {
     "name": "stdout",
     "output_type": "stream",
     "text": [
      "Moviepy - Done !\n",
      "Moviepy - video ready ../storage/datasets/debug/apa_13.mp4\n",
      "Moviepy - Building video ../storage/datasets/debug/apa_14.mp4.\n",
      "Moviepy - Writing video ../storage/datasets/debug/apa_14.mp4\n",
      "\n"
     ]
    },
    {
     "name": "stderr",
     "output_type": "stream",
     "text": [
      "                                                             \r"
     ]
    },
    {
     "name": "stdout",
     "output_type": "stream",
     "text": [
      "Moviepy - Done !\n",
      "Moviepy - video ready ../storage/datasets/debug/apa_14.mp4\n",
      "Moviepy - Building video ../storage/datasets/debug/apa_9.mp4.\n",
      "Moviepy - Writing video ../storage/datasets/debug/apa_9.mp4\n",
      "\n"
     ]
    },
    {
     "name": "stderr",
     "output_type": "stream",
     "text": [
      "                                                             \r"
     ]
    },
    {
     "name": "stdout",
     "output_type": "stream",
     "text": [
      "Moviepy - Done !\n",
      "Moviepy - video ready ../storage/datasets/debug/apa_9.mp4\n",
      "[apa]\t16\n",
      "Moviepy - Building video ../storage/datasets/debug/apa_15.mp4.\n",
      "Moviepy - Writing video ../storage/datasets/debug/apa_15.mp4\n",
      "\n"
     ]
    },
    {
     "name": "stderr",
     "output_type": "stream",
     "text": [
      "                                                             \r"
     ]
    },
    {
     "name": "stdout",
     "output_type": "stream",
     "text": [
      "Moviepy - Done !\n",
      "Moviepy - video ready ../storage/datasets/debug/apa_15.mp4\n",
      "Moviepy - Building video ../storage/datasets/debug/apa_8.mp4.\n",
      "Moviepy - Writing video ../storage/datasets/debug/apa_8.mp4\n",
      "\n"
     ]
    },
    {
     "name": "stderr",
     "output_type": "stream",
     "text": [
      "                                                             \r"
     ]
    },
    {
     "name": "stdout",
     "output_type": "stream",
     "text": [
      "Moviepy - Building video ../storage/datasets/debug/apa_10.mp4.\n",
      "Moviepy - Writing video ../storage/datasets/debug/apa_10.mp4\n",
      "\n"
     ]
    },
    {
     "name": "stderr",
     "output_type": "stream",
     "text": [
      "                                                             \r"
     ]
    },
    {
     "name": "stdout",
     "output_type": "stream",
     "text": [
      "Moviepy - Done !\n",
      "Moviepy - video ready ../storage/datasets/debug/apa_8.mp4\n",
      "[apa]\t17\n",
      "Moviepy - Done !\n",
      "Moviepy - video ready ../storage/datasets/debug/apa_10.mp4\n",
      "[apa]\t18\n",
      "Moviepy - Building video ../storage/datasets/debug/apa_11.mp4.\n",
      "Moviepy - Writing video ../storage/datasets/debug/apa_11.mp4\n",
      "\n"
     ]
    },
    {
     "name": "stderr",
     "output_type": "stream",
     "text": [
      "                                                             \r"
     ]
    },
    {
     "name": "stdout",
     "output_type": "stream",
     "text": [
      "Moviepy - Building video ../storage/datasets/debug/apa_12.mp4.\n",
      "Moviepy - Writing video ../storage/datasets/debug/apa_12.mp4\n",
      "\n"
     ]
    },
    {
     "name": "stderr",
     "output_type": "stream",
     "text": [
      "                                                             \r"
     ]
    },
    {
     "name": "stdout",
     "output_type": "stream",
     "text": [
      "Moviepy - Done !\n",
      "Moviepy - video ready ../storage/datasets/debug/apa_11.mp4\n",
      "[apa]\t19\n",
      "Moviepy - Building video ../storage/datasets/debug/apa_13.mp4.\n",
      "Moviepy - Writing video ../storage/datasets/debug/apa_13.mp4\n",
      "\n"
     ]
    },
    {
     "name": "stderr",
     "output_type": "stream",
     "text": [
      "                                                             \r"
     ]
    },
    {
     "name": "stdout",
     "output_type": "stream",
     "text": [
      "Moviepy - Done !\n",
      "Moviepy - video ready ../storage/datasets/debug/apa_12.mp4\n",
      "[apa]\t20\n",
      "Moviepy - Done !\n",
      "Moviepy - video ready ../storage/datasets/debug/apa_13.mp4\n",
      "[apa]\t21\n",
      "Moviepy - Building video ../storage/datasets/debug/apa_14.mp4.\n",
      "Moviepy - Writing video ../storage/datasets/debug/apa_14.mp4\n",
      "\n"
     ]
    },
    {
     "name": "stderr",
     "output_type": "stream",
     "text": [
      "                                                            \r"
     ]
    },
    {
     "name": "stdout",
     "output_type": "stream",
     "text": [
      "Moviepy - Done !\n",
      "Moviepy - video ready ../storage/datasets/debug/apa_14.mp4\n",
      "[apa]\t22\n",
      "Moviepy - Building video ../storage/datasets/debug/apa_16.mp4.\n",
      "Moviepy - Writing video ../storage/datasets/debug/apa_16.mp4\n",
      "\n"
     ]
    },
    {
     "name": "stderr",
     "output_type": "stream",
     "text": [
      "                                                             \r"
     ]
    },
    {
     "name": "stdout",
     "output_type": "stream",
     "text": [
      "Moviepy - Building video ../storage/datasets/debug/apa_15.mp4.\n",
      "Moviepy - Writing video ../storage/datasets/debug/apa_15.mp4\n",
      "\n"
     ]
    },
    {
     "name": "stderr",
     "output_type": "stream",
     "text": [
      "t:   3%|▎         | 2/61 [00:00<00:05, 11.39it/s, now=None]"
     ]
    },
    {
     "name": "stdout",
     "output_type": "stream",
     "text": [
      "Moviepy - Done !\n",
      "Moviepy - video ready ../storage/datasets/debug/apa_16.mp4\n"
     ]
    },
    {
     "name": "stderr",
     "output_type": "stream",
     "text": [
      "                                                            \r"
     ]
    },
    {
     "name": "stdout",
     "output_type": "stream",
     "text": [
      "Moviepy - Done !\n",
      "Moviepy - video ready ../storage/datasets/debug/apa_15.mp4\n",
      "[apa]\t23\n",
      "Moviepy - Building video ../storage/datasets/debug/apa_17.mp4.\n",
      "Moviepy - Writing video ../storage/datasets/debug/apa_17.mp4\n",
      "\n"
     ]
    },
    {
     "name": "stderr",
     "output_type": "stream",
     "text": [
      "t:  97%|█████████▋| 59/61 [00:00<00:00, 81.01it/s, now=None] "
     ]
    },
    {
     "name": "stdout",
     "output_type": "stream",
     "text": [
      "Moviepy - Building video ../storage/datasets/debug/apa_18.mp4.\n",
      "Moviepy - Writing video ../storage/datasets/debug/apa_18.mp4\n",
      "\n"
     ]
    },
    {
     "name": "stderr",
     "output_type": "stream",
     "text": [
      "                                                            "
     ]
    },
    {
     "name": "stdout",
     "output_type": "stream",
     "text": [
      "Moviepy - Done !\n",
      "Moviepy - video ready ../storage/datasets/debug/apa_17.mp4\n",
      "Moviepy - Building video ../storage/datasets/debug/apa_19.mp4.\n",
      "Moviepy - Writing video ../storage/datasets/debug/apa_19.mp4\n",
      "\n"
     ]
    },
    {
     "name": "stderr",
     "output_type": "stream",
     "text": [
      "t:  89%|████████▊ | 54/61 [00:00<00:00, 141.98it/s, now=None]"
     ]
    },
    {
     "name": "stdout",
     "output_type": "stream",
     "text": [
      "Moviepy - Done !\n",
      "Moviepy - video ready ../storage/datasets/debug/apa_18.mp4\n"
     ]
    },
    {
     "name": "stderr",
     "output_type": "stream",
     "text": [
      "                                                             \r"
     ]
    },
    {
     "name": "stdout",
     "output_type": "stream",
     "text": [
      "Moviepy - Building video ../storage/datasets/debug/apa_20.mp4.\n",
      "Moviepy - Writing video ../storage/datasets/debug/apa_20.mp4\n",
      "\n"
     ]
    },
    {
     "name": "stderr",
     "output_type": "stream",
     "text": [
      "t:  80%|████████  | 49/61 [00:00<00:00, 74.90it/s, now=None]"
     ]
    },
    {
     "name": "stdout",
     "output_type": "stream",
     "text": [
      "Moviepy - Done !\n",
      "Moviepy - video ready ../storage/datasets/debug/apa_19.mp4\n"
     ]
    },
    {
     "name": "stderr",
     "output_type": "stream",
     "text": [
      "                                                            \r"
     ]
    },
    {
     "name": "stdout",
     "output_type": "stream",
     "text": [
      "Moviepy - Building video ../storage/datasets/debug/apa_21.mp4.\n",
      "Moviepy - Writing video ../storage/datasets/debug/apa_21.mp4\n",
      "\n"
     ]
    },
    {
     "name": "stderr",
     "output_type": "stream",
     "text": [
      "t:  89%|████████▊ | 54/61 [00:00<00:00, 105.41it/s, now=None]"
     ]
    },
    {
     "name": "stdout",
     "output_type": "stream",
     "text": [
      "Moviepy - Done !\n",
      "Moviepy - video ready ../storage/datasets/debug/apa_20.mp4\n"
     ]
    },
    {
     "name": "stderr",
     "output_type": "stream",
     "text": [
      "                                                             \r"
     ]
    },
    {
     "name": "stdout",
     "output_type": "stream",
     "text": [
      "Moviepy - Done !\n",
      "Moviepy - video ready ../storage/datasets/debug/apa_21.mp4\n",
      "Moviepy - Building video ../storage/datasets/debug/apa_22.mp4.\n",
      "Moviepy - Writing video ../storage/datasets/debug/apa_22.mp4\n",
      "\n"
     ]
    },
    {
     "name": "stderr",
     "output_type": "stream",
     "text": [
      "                                                            \r"
     ]
    },
    {
     "name": "stdout",
     "output_type": "stream",
     "text": [
      "Moviepy - Done !\n",
      "Moviepy - video ready ../storage/datasets/debug/apa_22.mp4\n",
      "Moviepy - Building video ../storage/datasets/debug/apa_16.mp4.\n",
      "Moviepy - Writing video ../storage/datasets/debug/apa_16.mp4\n",
      "\n"
     ]
    },
    {
     "name": "stderr",
     "output_type": "stream",
     "text": [
      "                                                             \r"
     ]
    },
    {
     "name": "stdout",
     "output_type": "stream",
     "text": [
      "Moviepy - Done !\n",
      "Moviepy - video ready ../storage/datasets/debug/apa_16.mp4\n",
      "[apa]\t24\n",
      "Moviepy - Building video ../storage/datasets/debug/apa_23.mp4.\n",
      "Moviepy - Writing video ../storage/datasets/debug/apa_23.mp4\n",
      "\n"
     ]
    },
    {
     "name": "stderr",
     "output_type": "stream",
     "text": [
      "                                                             \r"
     ]
    },
    {
     "name": "stdout",
     "output_type": "stream",
     "text": [
      "Moviepy - Done !\n",
      "Moviepy - video ready ../storage/datasets/debug/apa_23.mp4\n",
      "Moviepy - Building video ../storage/datasets/debug/apa_17.mp4.\n",
      "Moviepy - Writing video ../storage/datasets/debug/apa_17.mp4\n",
      "\n"
     ]
    },
    {
     "name": "stderr",
     "output_type": "stream",
     "text": [
      "                                                             \r"
     ]
    },
    {
     "name": "stdout",
     "output_type": "stream",
     "text": [
      "Moviepy - Done !\n",
      "Moviepy - video ready ../storage/datasets/debug/apa_17.mp4\n",
      "[apa]\t25\n",
      "Moviepy - Building video ../storage/datasets/debug/apa_18.mp4.\n",
      "Moviepy - Writing video ../storage/datasets/debug/apa_18.mp4\n",
      "\n"
     ]
    },
    {
     "name": "stderr",
     "output_type": "stream",
     "text": [
      "                                                             \r"
     ]
    },
    {
     "name": "stdout",
     "output_type": "stream",
     "text": [
      "Moviepy - Done !\n",
      "Moviepy - video ready ../storage/datasets/debug/apa_18.mp4\n",
      "[apa]\t26\n",
      "Moviepy - Building video ../storage/datasets/debug/apa_19.mp4.\n",
      "Moviepy - Writing video ../storage/datasets/debug/apa_19.mp4\n",
      "\n"
     ]
    },
    {
     "name": "stderr",
     "output_type": "stream",
     "text": [
      "                                                             \r"
     ]
    },
    {
     "name": "stdout",
     "output_type": "stream",
     "text": [
      "Moviepy - Done !\n",
      "Moviepy - video ready ../storage/datasets/debug/apa_19.mp4\n",
      "[apa]\t27\n",
      "Moviepy - Building video ../storage/datasets/debug/apa_20.mp4.\n",
      "Moviepy - Writing video ../storage/datasets/debug/apa_20.mp4\n",
      "\n"
     ]
    },
    {
     "name": "stderr",
     "output_type": "stream",
     "text": [
      "                                                             \r"
     ]
    },
    {
     "name": "stdout",
     "output_type": "stream",
     "text": [
      "Moviepy - Done !\n",
      "Moviepy - video ready ../storage/datasets/debug/apa_20.mp4\n",
      "[apa]\t28\n",
      "Moviepy - Building video ../storage/datasets/debug/apa_21.mp4.\n",
      "Moviepy - Writing video ../storage/datasets/debug/apa_21.mp4\n",
      "\n"
     ]
    },
    {
     "name": "stderr",
     "output_type": "stream",
     "text": [
      "                                                            \r"
     ]
    },
    {
     "name": "stdout",
     "output_type": "stream",
     "text": [
      "Moviepy - Done !\n",
      "Moviepy - video ready ../storage/datasets/debug/apa_21.mp4\n",
      "[apa]\t29\n",
      "Moviepy - Building video ../storage/datasets/debug/apa_22.mp4.\n",
      "Moviepy - Writing video ../storage/datasets/debug/apa_22.mp4\n",
      "\n"
     ]
    },
    {
     "name": "stderr",
     "output_type": "stream",
     "text": [
      "                                                             \r"
     ]
    },
    {
     "name": "stdout",
     "output_type": "stream",
     "text": [
      "Moviepy - Done !\n",
      "Moviepy - video ready ../storage/datasets/debug/apa_22.mp4\n",
      "[apa]\t30\n",
      "Moviepy - Building video ../storage/datasets/debug/apa_24.mp4.\n",
      "Moviepy - Writing video ../storage/datasets/debug/apa_24.mp4\n",
      "\n"
     ]
    },
    {
     "name": "stderr",
     "output_type": "stream",
     "text": [
      "                                                             \r"
     ]
    },
    {
     "name": "stdout",
     "output_type": "stream",
     "text": [
      "Moviepy - Building video ../storage/datasets/debug/apa_23.mp4.\n",
      "Moviepy - Writing video ../storage/datasets/debug/apa_23.mp4\n",
      "\n"
     ]
    },
    {
     "name": "stderr",
     "output_type": "stream",
     "text": [
      "t:  97%|█████████▋| 59/61 [00:00<00:00, 114.15it/s, now=None]"
     ]
    },
    {
     "name": "stdout",
     "output_type": "stream",
     "text": [
      "Moviepy - Done !\n",
      "Moviepy - video ready ../storage/datasets/debug/apa_24.mp4\n"
     ]
    },
    {
     "name": "stderr",
     "output_type": "stream",
     "text": [
      "                                                             \r"
     ]
    },
    {
     "name": "stdout",
     "output_type": "stream",
     "text": [
      "Moviepy - Done !\n",
      "Moviepy - video ready ../storage/datasets/debug/apa_23.mp4\n",
      "[apa]\t31\n",
      "Moviepy - Building video ../storage/datasets/debug/apa_25.mp4.\n",
      "Moviepy - Writing video ../storage/datasets/debug/apa_25.mp4\n",
      "\n"
     ]
    },
    {
     "name": "stderr",
     "output_type": "stream",
     "text": [
      "                                                             \r"
     ]
    },
    {
     "name": "stdout",
     "output_type": "stream",
     "text": [
      "Moviepy - Done !\n",
      "Moviepy - video ready ../storage/datasets/debug/apa_25.mp4\n",
      "Moviepy - Building video ../storage/datasets/debug/apa_26.mp4.\n",
      "Moviepy - Writing video ../storage/datasets/debug/apa_26.mp4\n",
      "\n"
     ]
    },
    {
     "name": "stderr",
     "output_type": "stream",
     "text": [
      "                                                            \r"
     ]
    },
    {
     "name": "stdout",
     "output_type": "stream",
     "text": [
      "Moviepy - Done !\n",
      "Moviepy - video ready ../storage/datasets/debug/apa_26.mp4\n",
      "Moviepy - Building video ../storage/datasets/debug/apa_27.mp4.\n",
      "Moviepy - Writing video ../storage/datasets/debug/apa_27.mp4\n",
      "\n"
     ]
    },
    {
     "name": "stderr",
     "output_type": "stream",
     "text": [
      "                                                             \r"
     ]
    },
    {
     "name": "stdout",
     "output_type": "stream",
     "text": [
      "Moviepy - Done !\n",
      "Moviepy - video ready ../storage/datasets/debug/apa_27.mp4\n",
      "Moviepy - Building video ../storage/datasets/debug/apa_28.mp4.\n",
      "Moviepy - Writing video ../storage/datasets/debug/apa_28.mp4\n",
      "\n"
     ]
    },
    {
     "name": "stderr",
     "output_type": "stream",
     "text": [
      "                                                             \r"
     ]
    },
    {
     "name": "stdout",
     "output_type": "stream",
     "text": [
      "Moviepy - Done !\n",
      "Moviepy - video ready ../storage/datasets/debug/apa_28.mp4\n",
      "Moviepy - Building video ../storage/datasets/debug/apa_29.mp4.\n",
      "Moviepy - Writing video ../storage/datasets/debug/apa_29.mp4\n",
      "\n"
     ]
    },
    {
     "name": "stderr",
     "output_type": "stream",
     "text": [
      "                                                             \r"
     ]
    },
    {
     "name": "stdout",
     "output_type": "stream",
     "text": [
      "Moviepy - Done !\n",
      "Moviepy - video ready ../storage/datasets/debug/apa_29.mp4\n",
      "Moviepy - Building video ../storage/datasets/debug/apa_30.mp4.\n",
      "Moviepy - Writing video ../storage/datasets/debug/apa_30.mp4\n",
      "\n"
     ]
    },
    {
     "name": "stderr",
     "output_type": "stream",
     "text": [
      "                                                             \r"
     ]
    },
    {
     "name": "stdout",
     "output_type": "stream",
     "text": [
      "Moviepy - Done !\n",
      "Moviepy - video ready ../storage/datasets/debug/apa_30.mp4\n",
      "Moviepy - Building video ../storage/datasets/debug/apa_24.mp4.\n",
      "Moviepy - Writing video ../storage/datasets/debug/apa_24.mp4\n",
      "\n"
     ]
    },
    {
     "name": "stderr",
     "output_type": "stream",
     "text": [
      "                                                             \r"
     ]
    },
    {
     "name": "stdout",
     "output_type": "stream",
     "text": [
      "Moviepy - Done !\n",
      "Moviepy - video ready ../storage/datasets/debug/apa_24.mp4\n",
      "[apa]\t32\n",
      "Moviepy - Building video ../storage/datasets/debug/apa_31.mp4.\n",
      "Moviepy - Writing video ../storage/datasets/debug/apa_31.mp4\n",
      "\n"
     ]
    },
    {
     "name": "stderr",
     "output_type": "stream",
     "text": [
      "                                                             \r"
     ]
    },
    {
     "name": "stdout",
     "output_type": "stream",
     "text": [
      "Moviepy - Done !\n",
      "Moviepy - video ready ../storage/datasets/debug/apa_31.mp4\n",
      "Moviepy - Building video ../storage/datasets/debug/apa_25.mp4.\n",
      "Moviepy - Writing video ../storage/datasets/debug/apa_25.mp4\n",
      "\n"
     ]
    },
    {
     "name": "stderr",
     "output_type": "stream",
     "text": [
      "                                                             \r"
     ]
    },
    {
     "name": "stdout",
     "output_type": "stream",
     "text": [
      "Moviepy - Done !\n",
      "Moviepy - video ready ../storage/datasets/debug/apa_25.mp4\n",
      "[apa]\t33\n",
      "Moviepy - Building video ../storage/datasets/debug/apa_26.mp4.\n",
      "Moviepy - Writing video ../storage/datasets/debug/apa_26.mp4\n",
      "\n"
     ]
    },
    {
     "name": "stderr",
     "output_type": "stream",
     "text": [
      "                                                            \r"
     ]
    },
    {
     "name": "stdout",
     "output_type": "stream",
     "text": [
      "Moviepy - Done !\n",
      "Moviepy - video ready ../storage/datasets/debug/apa_26.mp4\n",
      "[apa]\t34\n",
      "Moviepy - Building video ../storage/datasets/debug/apa_27.mp4.\n",
      "Moviepy - Writing video ../storage/datasets/debug/apa_27.mp4\n",
      "\n"
     ]
    },
    {
     "name": "stderr",
     "output_type": "stream",
     "text": [
      "                                                             \r"
     ]
    },
    {
     "name": "stdout",
     "output_type": "stream",
     "text": [
      "Moviepy - Done !\n",
      "Moviepy - video ready ../storage/datasets/debug/apa_27.mp4\n",
      "[apa]\t35\n",
      "Moviepy - Building video ../storage/datasets/debug/apa_28.mp4.\n",
      "Moviepy - Writing video ../storage/datasets/debug/apa_28.mp4\n",
      "\n"
     ]
    },
    {
     "name": "stderr",
     "output_type": "stream",
     "text": [
      "                                                             \r"
     ]
    },
    {
     "name": "stdout",
     "output_type": "stream",
     "text": [
      "Moviepy - Done !\n",
      "Moviepy - video ready ../storage/datasets/debug/apa_28.mp4\n",
      "[apa]\t36\n",
      "Moviepy - Building video ../storage/datasets/debug/apa_29.mp4.\n",
      "Moviepy - Writing video ../storage/datasets/debug/apa_29.mp4\n",
      "\n"
     ]
    },
    {
     "name": "stderr",
     "output_type": "stream",
     "text": [
      "                                                             \r"
     ]
    },
    {
     "name": "stdout",
     "output_type": "stream",
     "text": [
      "Moviepy - Done !\n",
      "Moviepy - video ready ../storage/datasets/debug/apa_29.mp4\n",
      "[apa]\t37\n",
      "Moviepy - Building video ../storage/datasets/debug/apa_30.mp4.\n",
      "Moviepy - Writing video ../storage/datasets/debug/apa_30.mp4\n",
      "\n"
     ]
    },
    {
     "name": "stderr",
     "output_type": "stream",
     "text": [
      "                                                             \r"
     ]
    },
    {
     "name": "stdout",
     "output_type": "stream",
     "text": [
      "Moviepy - Done !\n",
      "Moviepy - video ready ../storage/datasets/debug/apa_30.mp4\n",
      "[apa]\t38\n",
      "Moviepy - Building video ../storage/datasets/debug/apa_32.mp4.\n",
      "Moviepy - Writing video ../storage/datasets/debug/apa_32.mp4\n",
      "\n"
     ]
    },
    {
     "name": "stderr",
     "output_type": "stream",
     "text": [
      "                                                             \r"
     ]
    },
    {
     "name": "stdout",
     "output_type": "stream",
     "text": [
      "Moviepy - Done !\n",
      "Moviepy - video ready ../storage/datasets/debug/apa_32.mp4\n",
      "Moviepy - Building video ../storage/datasets/debug/apa_31.mp4.\n",
      "Moviepy - Writing video ../storage/datasets/debug/apa_31.mp4\n",
      "\n"
     ]
    },
    {
     "name": "stderr",
     "output_type": "stream",
     "text": [
      "                                                             \r"
     ]
    },
    {
     "name": "stdout",
     "output_type": "stream",
     "text": [
      "Moviepy - Done !\n",
      "Moviepy - video ready ../storage/datasets/debug/apa_31.mp4\n",
      "[apa]\t39\n",
      "Moviepy - Building video ../storage/datasets/debug/apa_33.mp4.\n",
      "Moviepy - Writing video ../storage/datasets/debug/apa_33.mp4\n",
      "\n"
     ]
    },
    {
     "name": "stderr",
     "output_type": "stream",
     "text": [
      "                                                             \r"
     ]
    },
    {
     "name": "stdout",
     "output_type": "stream",
     "text": [
      "Moviepy - Done !\n",
      "Moviepy - video ready ../storage/datasets/debug/apa_33.mp4\n",
      "Moviepy - Building video ../storage/datasets/debug/apa_34.mp4.\n",
      "Moviepy - Writing video ../storage/datasets/debug/apa_34.mp4\n",
      "\n"
     ]
    },
    {
     "name": "stderr",
     "output_type": "stream",
     "text": [
      "                                                            \r"
     ]
    },
    {
     "name": "stdout",
     "output_type": "stream",
     "text": [
      "Moviepy - Done !\n",
      "Moviepy - video ready ../storage/datasets/debug/apa_34.mp4\n",
      "Moviepy - Building video ../storage/datasets/debug/apa_35.mp4.\n",
      "Moviepy - Writing video ../storage/datasets/debug/apa_35.mp4\n",
      "\n"
     ]
    },
    {
     "name": "stderr",
     "output_type": "stream",
     "text": [
      "                                                             \r"
     ]
    },
    {
     "name": "stdout",
     "output_type": "stream",
     "text": [
      "Moviepy - Done !\n",
      "Moviepy - video ready ../storage/datasets/debug/apa_35.mp4\n",
      "Moviepy - Building video ../storage/datasets/debug/apa_36.mp4.\n",
      "Moviepy - Writing video ../storage/datasets/debug/apa_36.mp4\n",
      "\n"
     ]
    },
    {
     "name": "stderr",
     "output_type": "stream",
     "text": [
      "                                                             \r"
     ]
    },
    {
     "name": "stdout",
     "output_type": "stream",
     "text": [
      "Moviepy - Done !\n",
      "Moviepy - video ready ../storage/datasets/debug/apa_36.mp4\n",
      "Moviepy - Building video ../storage/datasets/debug/apa_37.mp4.\n",
      "Moviepy - Writing video ../storage/datasets/debug/apa_37.mp4\n",
      "\n"
     ]
    },
    {
     "name": "stderr",
     "output_type": "stream",
     "text": [
      "                                                             \r"
     ]
    },
    {
     "name": "stdout",
     "output_type": "stream",
     "text": [
      "Moviepy - Done !\n",
      "Moviepy - video ready ../storage/datasets/debug/apa_37.mp4\n",
      "Moviepy - Building video ../storage/datasets/debug/apa_38.mp4.\n",
      "Moviepy - Writing video ../storage/datasets/debug/apa_38.mp4\n",
      "\n"
     ]
    },
    {
     "name": "stderr",
     "output_type": "stream",
     "text": [
      "                                                             \r"
     ]
    },
    {
     "name": "stdout",
     "output_type": "stream",
     "text": [
      "Moviepy - Done !\n",
      "Moviepy - video ready ../storage/datasets/debug/apa_38.mp4\n",
      "Moviepy - Building video ../storage/datasets/debug/apa_32.mp4.\n",
      "Moviepy - Writing video ../storage/datasets/debug/apa_32.mp4\n",
      "\n"
     ]
    },
    {
     "name": "stderr",
     "output_type": "stream",
     "text": [
      "                                                             \r"
     ]
    },
    {
     "name": "stdout",
     "output_type": "stream",
     "text": [
      "Moviepy - Done !\n",
      "Moviepy - video ready ../storage/datasets/debug/apa_32.mp4\n",
      "[apa]\t40\n",
      "Moviepy - Building video ../storage/datasets/debug/apa_39.mp4.\n",
      "Moviepy - Writing video ../storage/datasets/debug/apa_39.mp4\n",
      "\n"
     ]
    },
    {
     "name": "stderr",
     "output_type": "stream",
     "text": [
      "                                                             \r"
     ]
    },
    {
     "name": "stdout",
     "output_type": "stream",
     "text": [
      "Moviepy - Done !\n",
      "Moviepy - video ready ../storage/datasets/debug/apa_39.mp4\n",
      "Moviepy - Building video ../storage/datasets/debug/apa_33.mp4.\n",
      "Moviepy - Writing video ../storage/datasets/debug/apa_33.mp4\n",
      "\n"
     ]
    },
    {
     "name": "stderr",
     "output_type": "stream",
     "text": [
      "                                                             \r"
     ]
    },
    {
     "name": "stdout",
     "output_type": "stream",
     "text": [
      "Moviepy - Done !\n",
      "Moviepy - video ready ../storage/datasets/debug/apa_33.mp4\n",
      "[apa]\t41\n",
      "Moviepy - Building video ../storage/datasets/debug/apa_34.mp4.\n",
      "Moviepy - Writing video ../storage/datasets/debug/apa_34.mp4\n",
      "\n"
     ]
    },
    {
     "name": "stderr",
     "output_type": "stream",
     "text": [
      "                                                             \r"
     ]
    },
    {
     "name": "stdout",
     "output_type": "stream",
     "text": [
      "Moviepy - Done !\n",
      "Moviepy - video ready ../storage/datasets/debug/apa_34.mp4\n",
      "[apa]\t42\n",
      "Moviepy - Building video ../storage/datasets/debug/apa_35.mp4.\n",
      "Moviepy - Writing video ../storage/datasets/debug/apa_35.mp4\n",
      "\n"
     ]
    },
    {
     "name": "stderr",
     "output_type": "stream",
     "text": [
      "                                                             \r"
     ]
    },
    {
     "name": "stdout",
     "output_type": "stream",
     "text": [
      "Moviepy - Done !\n",
      "Moviepy - video ready ../storage/datasets/debug/apa_35.mp4\n",
      "[apa]\t43\n",
      "Moviepy - Building video ../storage/datasets/debug/apa_36.mp4.\n",
      "Moviepy - Writing video ../storage/datasets/debug/apa_36.mp4\n",
      "\n"
     ]
    },
    {
     "name": "stderr",
     "output_type": "stream",
     "text": [
      "                                                             \r"
     ]
    },
    {
     "name": "stdout",
     "output_type": "stream",
     "text": [
      "Moviepy - Building video ../storage/datasets/debug/apa_37.mp4.\n",
      "Moviepy - Writing video ../storage/datasets/debug/apa_37.mp4\n",
      "\n"
     ]
    },
    {
     "name": "stderr",
     "output_type": "stream",
     "text": [
      "t:  93%|█████████▎| 57/61 [00:00<00:00, 131.11it/s, now=None]"
     ]
    },
    {
     "name": "stdout",
     "output_type": "stream",
     "text": [
      "Moviepy - Done !\n",
      "Moviepy - video ready ../storage/datasets/debug/apa_36.mp4\n",
      "[apa]\t44\n"
     ]
    },
    {
     "name": "stderr",
     "output_type": "stream",
     "text": [
      "                                                             \r"
     ]
    },
    {
     "name": "stdout",
     "output_type": "stream",
     "text": [
      "Moviepy - Done !\n",
      "Moviepy - video ready ../storage/datasets/debug/apa_37.mp4\n",
      "[apa]\t45\n",
      "Moviepy - Building video ../storage/datasets/debug/apa_38.mp4.\n",
      "Moviepy - Writing video ../storage/datasets/debug/apa_38.mp4\n",
      "\n"
     ]
    },
    {
     "name": "stderr",
     "output_type": "stream",
     "text": [
      "                                                            \r"
     ]
    },
    {
     "name": "stdout",
     "output_type": "stream",
     "text": [
      "Moviepy - Done !\n",
      "Moviepy - video ready ../storage/datasets/debug/apa_38.mp4\n",
      "[apa]\t46\n",
      "Moviepy - Building video ../storage/datasets/debug/apa_40.mp4.\n",
      "Moviepy - Writing video ../storage/datasets/debug/apa_40.mp4\n",
      "\n"
     ]
    },
    {
     "name": "stderr",
     "output_type": "stream",
     "text": [
      "                                                            \r"
     ]
    },
    {
     "name": "stdout",
     "output_type": "stream",
     "text": [
      "Moviepy - Done !\n",
      "Moviepy - video ready ../storage/datasets/debug/apa_40.mp4\n",
      "Moviepy - Building video ../storage/datasets/debug/apa_39.mp4.\n",
      "Moviepy - Writing video ../storage/datasets/debug/apa_39.mp4\n",
      "\n"
     ]
    },
    {
     "name": "stderr",
     "output_type": "stream",
     "text": [
      "                                                             \r"
     ]
    },
    {
     "name": "stdout",
     "output_type": "stream",
     "text": [
      "Moviepy - Done !\n",
      "Moviepy - video ready ../storage/datasets/debug/apa_39.mp4\n",
      "[apa]\t47\n",
      "Moviepy - Building video ../storage/datasets/debug/apa_41.mp4.\n",
      "Moviepy - Writing video ../storage/datasets/debug/apa_41.mp4\n",
      "\n"
     ]
    },
    {
     "name": "stderr",
     "output_type": "stream",
     "text": [
      "                                                            \r"
     ]
    },
    {
     "name": "stdout",
     "output_type": "stream",
     "text": [
      "Moviepy - Done !\n",
      "Moviepy - video ready ../storage/datasets/debug/apa_41.mp4\n",
      "Moviepy - Building video ../storage/datasets/debug/apa_42.mp4.\n",
      "Moviepy - Writing video ../storage/datasets/debug/apa_42.mp4\n",
      "\n"
     ]
    },
    {
     "name": "stderr",
     "output_type": "stream",
     "text": [
      "                                                             \r"
     ]
    },
    {
     "name": "stdout",
     "output_type": "stream",
     "text": [
      "Moviepy - Building video ../storage/datasets/debug/apa_43.mp4.\n",
      "Moviepy - Writing video ../storage/datasets/debug/apa_43.mp4\n",
      "\n"
     ]
    },
    {
     "name": "stderr",
     "output_type": "stream",
     "text": [
      "                                                            \r"
     ]
    },
    {
     "name": "stdout",
     "output_type": "stream",
     "text": [
      "Moviepy - Done !\n",
      "Moviepy - video ready ../storage/datasets/debug/apa_42.mp4\n",
      "Moviepy - Building video ../storage/datasets/debug/apa_44.mp4.\n",
      "Moviepy - Writing video ../storage/datasets/debug/apa_44.mp4\n",
      "\n"
     ]
    },
    {
     "name": "stderr",
     "output_type": "stream",
     "text": [
      "t:   3%|▎         | 2/61 [00:00<00:04, 13.42it/s, now=None]"
     ]
    },
    {
     "name": "stdout",
     "output_type": "stream",
     "text": [
      "Moviepy - Done !\n",
      "Moviepy - video ready ../storage/datasets/debug/apa_43.mp4\n"
     ]
    },
    {
     "name": "stderr",
     "output_type": "stream",
     "text": [
      "                                                             \r"
     ]
    },
    {
     "name": "stdout",
     "output_type": "stream",
     "text": [
      "Moviepy - Building video ../storage/datasets/debug/apa_45.mp4.\n",
      "Moviepy - Writing video ../storage/datasets/debug/apa_45.mp4\n",
      "\n"
     ]
    },
    {
     "name": "stderr",
     "output_type": "stream",
     "text": [
      "                                                            \r"
     ]
    },
    {
     "name": "stdout",
     "output_type": "stream",
     "text": [
      "Moviepy - Done !\n",
      "Moviepy - video ready ../storage/datasets/debug/apa_44.mp4\n",
      "Moviepy - Done !\n",
      "Moviepy - video ready ../storage/datasets/debug/apa_45.mp4\n",
      "Moviepy - Building video ../storage/datasets/debug/apa_46.mp4.\n",
      "Moviepy - Writing video ../storage/datasets/debug/apa_46.mp4\n",
      "\n"
     ]
    },
    {
     "name": "stderr",
     "output_type": "stream",
     "text": [
      "                                                            \r"
     ]
    },
    {
     "name": "stdout",
     "output_type": "stream",
     "text": [
      "Moviepy - Building video ../storage/datasets/debug/apa_40.mp4.\n",
      "Moviepy - Writing video ../storage/datasets/debug/apa_40.mp4\n",
      "\n"
     ]
    },
    {
     "name": "stderr",
     "output_type": "stream",
     "text": [
      "t:  97%|█████████▋| 59/61 [00:01<00:00, 37.46it/s, now=None]"
     ]
    },
    {
     "name": "stdout",
     "output_type": "stream",
     "text": [
      "Moviepy - Done !\n",
      "Moviepy - video ready ../storage/datasets/debug/apa_46.mp4\n"
     ]
    },
    {
     "name": "stderr",
     "output_type": "stream",
     "text": [
      "                                                            \r"
     ]
    },
    {
     "name": "stdout",
     "output_type": "stream",
     "text": [
      "Moviepy - Building video ../storage/datasets/debug/apa_47.mp4.\n",
      "Moviepy - Writing video ../storage/datasets/debug/apa_47.mp4\n",
      "\n"
     ]
    },
    {
     "name": "stderr",
     "output_type": "stream",
     "text": [
      "                                                             \r"
     ]
    },
    {
     "name": "stdout",
     "output_type": "stream",
     "text": [
      "Moviepy - Done !\n",
      "Moviepy - video ready ../storage/datasets/debug/apa_40.mp4\n",
      "[apa]\t48\n",
      "Moviepy - Done !\n",
      "Moviepy - video ready ../storage/datasets/debug/apa_47.mp4\n",
      "Moviepy - Building video ../storage/datasets/debug/apa_41.mp4.\n",
      "Moviepy - Writing video ../storage/datasets/debug/apa_41.mp4\n",
      "\n"
     ]
    },
    {
     "name": "stderr",
     "output_type": "stream",
     "text": [
      "                                                             \r"
     ]
    },
    {
     "name": "stdout",
     "output_type": "stream",
     "text": [
      "Moviepy - Done !\n",
      "Moviepy - video ready ../storage/datasets/debug/apa_41.mp4\n",
      "[apa]\t49\n",
      "Moviepy - Building video ../storage/datasets/debug/apa_42.mp4.\n",
      "Moviepy - Writing video ../storage/datasets/debug/apa_42.mp4\n",
      "\n"
     ]
    },
    {
     "name": "stderr",
     "output_type": "stream",
     "text": [
      "t:  43%|████▎     | 26/61 [00:00<00:01, 17.88it/s, now=None]"
     ]
    },
    {
     "name": "stdout",
     "output_type": "stream",
     "text": [
      "Moviepy - Building video ../storage/datasets/debug/apa_43.mp4.\n",
      "Moviepy - Writing video ../storage/datasets/debug/apa_43.mp4\n",
      "\n"
     ]
    },
    {
     "name": "stderr",
     "output_type": "stream",
     "text": [
      "                                                             "
     ]
    },
    {
     "name": "stdout",
     "output_type": "stream",
     "text": [
      "Moviepy - Done !\n",
      "Moviepy - video ready ../storage/datasets/debug/apa_42.mp4\n",
      "[apa]\t50\n",
      "Moviepy - Done !\n",
      "Moviepy - video ready ../storage/datasets/debug/apa_43.mp4\n",
      "[apa]\t51\n",
      "Moviepy - Building video ../storage/datasets/debug/apa_44.mp4.\n",
      "Moviepy - Writing video ../storage/datasets/debug/apa_44.mp4\n",
      "\n"
     ]
    },
    {
     "name": "stderr",
     "output_type": "stream",
     "text": [
      "                                                             \r"
     ]
    },
    {
     "name": "stdout",
     "output_type": "stream",
     "text": [
      "Moviepy - Done !\n",
      "Moviepy - video ready ../storage/datasets/debug/apa_44.mp4\n",
      "[apa]\t52\n",
      "Moviepy - Building video ../storage/datasets/debug/apa_45.mp4.\n",
      "Moviepy - Writing video ../storage/datasets/debug/apa_45.mp4\n",
      "\n"
     ]
    },
    {
     "name": "stderr",
     "output_type": "stream",
     "text": [
      "                                                             \r"
     ]
    },
    {
     "name": "stdout",
     "output_type": "stream",
     "text": [
      "Moviepy - Done !\n",
      "Moviepy - video ready ../storage/datasets/debug/apa_45.mp4\n",
      "[apa]\t53\n",
      "Moviepy - Building video ../storage/datasets/debug/apa_46.mp4.\n",
      "Moviepy - Writing video ../storage/datasets/debug/apa_46.mp4\n",
      "\n"
     ]
    },
    {
     "name": "stderr",
     "output_type": "stream",
     "text": [
      "                                                             \r"
     ]
    },
    {
     "name": "stdout",
     "output_type": "stream",
     "text": [
      "Moviepy - Done !\n",
      "Moviepy - video ready ../storage/datasets/debug/apa_46.mp4\n",
      "[apa]\t54\n",
      "Moviepy - Building video ../storage/datasets/debug/apa_48.mp4.\n",
      "Moviepy - Writing video ../storage/datasets/debug/apa_48.mp4\n",
      "\n"
     ]
    },
    {
     "name": "stderr",
     "output_type": "stream",
     "text": [
      "                                                             \r"
     ]
    },
    {
     "name": "stdout",
     "output_type": "stream",
     "text": [
      "Moviepy - Building video ../storage/datasets/debug/apa_47.mp4.\n",
      "Moviepy - Writing video ../storage/datasets/debug/apa_47.mp4\n",
      "\n"
     ]
    },
    {
     "name": "stderr",
     "output_type": "stream",
     "text": [
      "                                                            \r"
     ]
    },
    {
     "name": "stdout",
     "output_type": "stream",
     "text": [
      "Moviepy - Done !\n",
      "Moviepy - video ready ../storage/datasets/debug/apa_48.mp4\n",
      "Moviepy - Done !\n",
      "Moviepy - video ready ../storage/datasets/debug/apa_47.mp4\n",
      "[apa]\t55\n",
      "Moviepy - Building video ../storage/datasets/debug/apa_49.mp4.\n",
      "Moviepy - Writing video ../storage/datasets/debug/apa_49.mp4\n",
      "\n"
     ]
    },
    {
     "name": "stderr",
     "output_type": "stream",
     "text": [
      "                                                             \r"
     ]
    },
    {
     "name": "stdout",
     "output_type": "stream",
     "text": [
      "Moviepy - Done !\n",
      "Moviepy - video ready ../storage/datasets/debug/apa_49.mp4\n",
      "Moviepy - Building video ../storage/datasets/debug/apa_50.mp4.\n",
      "Moviepy - Writing video ../storage/datasets/debug/apa_50.mp4\n",
      "\n"
     ]
    },
    {
     "name": "stderr",
     "output_type": "stream",
     "text": [
      "                                                             \r"
     ]
    },
    {
     "name": "stdout",
     "output_type": "stream",
     "text": [
      "Moviepy - Done !\n",
      "Moviepy - video ready ../storage/datasets/debug/apa_50.mp4\n",
      "Moviepy - Building video ../storage/datasets/debug/apa_51.mp4.\n",
      "Moviepy - Writing video ../storage/datasets/debug/apa_51.mp4\n",
      "\n"
     ]
    },
    {
     "name": "stderr",
     "output_type": "stream",
     "text": [
      "                                                             \r"
     ]
    },
    {
     "name": "stdout",
     "output_type": "stream",
     "text": [
      "Moviepy - Done !\n",
      "Moviepy - video ready ../storage/datasets/debug/apa_51.mp4\n",
      "Moviepy - Building video ../storage/datasets/debug/apa_52.mp4.\n",
      "Moviepy - Writing video ../storage/datasets/debug/apa_52.mp4\n",
      "\n"
     ]
    },
    {
     "name": "stderr",
     "output_type": "stream",
     "text": [
      "                                                            \r"
     ]
    },
    {
     "name": "stdout",
     "output_type": "stream",
     "text": [
      "Moviepy - Done !\n",
      "Moviepy - video ready ../storage/datasets/debug/apa_52.mp4\n",
      "Moviepy - Building video ../storage/datasets/debug/apa_53.mp4.\n",
      "Moviepy - Writing video ../storage/datasets/debug/apa_53.mp4\n",
      "\n"
     ]
    },
    {
     "name": "stderr",
     "output_type": "stream",
     "text": [
      "                                                            \r"
     ]
    },
    {
     "name": "stdout",
     "output_type": "stream",
     "text": [
      "Moviepy - Done !\n",
      "Moviepy - video ready ../storage/datasets/debug/apa_53.mp4\n",
      "Moviepy - Building video ../storage/datasets/debug/apa_54.mp4.\n",
      "Moviepy - Writing video ../storage/datasets/debug/apa_54.mp4\n",
      "\n"
     ]
    },
    {
     "name": "stderr",
     "output_type": "stream",
     "text": [
      "                                                             \r"
     ]
    },
    {
     "name": "stdout",
     "output_type": "stream",
     "text": [
      "Moviepy - Done !\n",
      "Moviepy - video ready ../storage/datasets/debug/apa_54.mp4\n",
      "Moviepy - Building video ../storage/datasets/debug/apa_48.mp4.\n",
      "Moviepy - Writing video ../storage/datasets/debug/apa_48.mp4\n",
      "\n"
     ]
    },
    {
     "name": "stderr",
     "output_type": "stream",
     "text": [
      "                                                             \r"
     ]
    },
    {
     "name": "stdout",
     "output_type": "stream",
     "text": [
      "Moviepy - Done !\n",
      "Moviepy - video ready ../storage/datasets/debug/apa_48.mp4\n",
      "[apa]\t56\n",
      "Moviepy - Building video ../storage/datasets/debug/apa_55.mp4.\n",
      "Moviepy - Writing video ../storage/datasets/debug/apa_55.mp4\n",
      "\n"
     ]
    },
    {
     "name": "stderr",
     "output_type": "stream",
     "text": [
      "                                                             \r"
     ]
    },
    {
     "name": "stdout",
     "output_type": "stream",
     "text": [
      "Moviepy - Done !\n",
      "Moviepy - video ready ../storage/datasets/debug/apa_55.mp4\n",
      "Moviepy - Building video ../storage/datasets/debug/apa_49.mp4.\n",
      "Moviepy - Writing video ../storage/datasets/debug/apa_49.mp4\n",
      "\n"
     ]
    },
    {
     "name": "stderr",
     "output_type": "stream",
     "text": [
      "                                                             \r"
     ]
    },
    {
     "name": "stdout",
     "output_type": "stream",
     "text": [
      "Moviepy - Done !\n",
      "Moviepy - video ready ../storage/datasets/debug/apa_49.mp4\n",
      "[apa]\t57\n",
      "Moviepy - Building video ../storage/datasets/debug/apa_50.mp4.\n",
      "Moviepy - Writing video ../storage/datasets/debug/apa_50.mp4\n",
      "\n"
     ]
    },
    {
     "name": "stderr",
     "output_type": "stream",
     "text": [
      "                                                             \r"
     ]
    },
    {
     "name": "stdout",
     "output_type": "stream",
     "text": [
      "Moviepy - Done !\n",
      "Moviepy - video ready ../storage/datasets/debug/apa_50.mp4\n",
      "[apa]\t58\n",
      "Moviepy - Building video ../storage/datasets/debug/apa_51.mp4.\n",
      "Moviepy - Writing video ../storage/datasets/debug/apa_51.mp4\n",
      "\n"
     ]
    },
    {
     "name": "stderr",
     "output_type": "stream",
     "text": [
      "                                                             \r"
     ]
    },
    {
     "name": "stdout",
     "output_type": "stream",
     "text": [
      "Moviepy - Done !\n",
      "Moviepy - video ready ../storage/datasets/debug/apa_51.mp4\n",
      "[apa]\t59\n",
      "Moviepy - Building video ../storage/datasets/debug/apa_52.mp4.\n",
      "Moviepy - Writing video ../storage/datasets/debug/apa_52.mp4\n",
      "\n"
     ]
    },
    {
     "name": "stderr",
     "output_type": "stream",
     "text": [
      "                                                             \r"
     ]
    },
    {
     "name": "stdout",
     "output_type": "stream",
     "text": [
      "Moviepy - Building video ../storage/datasets/debug/apa_53.mp4.\n",
      "Moviepy - Writing video ../storage/datasets/debug/apa_53.mp4\n",
      "\n"
     ]
    },
    {
     "name": "stderr",
     "output_type": "stream",
     "text": [
      "                                                             \r"
     ]
    },
    {
     "name": "stdout",
     "output_type": "stream",
     "text": [
      "Moviepy - Done !\n",
      "Moviepy - video ready ../storage/datasets/debug/apa_52.mp4\n",
      "[aku]\t0\n",
      "Moviepy - Done !\n",
      "Moviepy - video ready ../storage/datasets/debug/apa_53.mp4\n",
      "[aku]\t1\n",
      "Moviepy - Building video ../storage/datasets/debug/apa_54.mp4.\n",
      "Moviepy - Writing video ../storage/datasets/debug/apa_54.mp4\n",
      "\n"
     ]
    },
    {
     "name": "stderr",
     "output_type": "stream",
     "text": [
      "                                                             \r"
     ]
    },
    {
     "name": "stdout",
     "output_type": "stream",
     "text": [
      "Moviepy - Done !\n",
      "Moviepy - video ready ../storage/datasets/debug/apa_54.mp4\n",
      "[aku]\t2\n",
      "Moviepy - Building video ../storage/datasets/debug/apa_56.mp4.\n",
      "Moviepy - Writing video ../storage/datasets/debug/apa_56.mp4\n",
      "\n"
     ]
    },
    {
     "name": "stderr",
     "output_type": "stream",
     "text": [
      "                                                             \r"
     ]
    },
    {
     "name": "stdout",
     "output_type": "stream",
     "text": [
      "Moviepy - Building video ../storage/datasets/debug/apa_55.mp4.\n",
      "Moviepy - Writing video ../storage/datasets/debug/apa_55.mp4\n",
      "\n"
     ]
    },
    {
     "name": "stderr",
     "output_type": "stream",
     "text": [
      "                                                             \r"
     ]
    },
    {
     "name": "stdout",
     "output_type": "stream",
     "text": [
      "Moviepy - Done !\n",
      "Moviepy - video ready ../storage/datasets/debug/apa_56.mp4\n",
      "Moviepy - Done !\n",
      "Moviepy - video ready ../storage/datasets/debug/apa_55.mp4\n",
      "[aku]\t3\n",
      "Moviepy - Building video ../storage/datasets/debug/apa_57.mp4.\n",
      "Moviepy - Writing video ../storage/datasets/debug/apa_57.mp4\n",
      "\n"
     ]
    },
    {
     "name": "stderr",
     "output_type": "stream",
     "text": [
      "                                                             \r"
     ]
    },
    {
     "name": "stdout",
     "output_type": "stream",
     "text": [
      "Moviepy - Done !\n",
      "Moviepy - video ready ../storage/datasets/debug/apa_57.mp4\n",
      "Moviepy - Building video ../storage/datasets/debug/apa_58.mp4.\n",
      "Moviepy - Writing video ../storage/datasets/debug/apa_58.mp4\n",
      "\n"
     ]
    },
    {
     "name": "stderr",
     "output_type": "stream",
     "text": [
      "                                                             \r"
     ]
    },
    {
     "name": "stdout",
     "output_type": "stream",
     "text": [
      "Moviepy - Building video ../storage/datasets/debug/apa_59.mp4.\n",
      "Moviepy - Writing video ../storage/datasets/debug/apa_59.mp4\n",
      "\n"
     ]
    },
    {
     "name": "stderr",
     "output_type": "stream",
     "text": [
      "t:  38%|███▊      | 23/61 [00:00<00:00, 117.36it/s, now=None]"
     ]
    },
    {
     "name": "stdout",
     "output_type": "stream",
     "text": [
      "Moviepy - Done !\n",
      "Moviepy - video ready ../storage/datasets/debug/apa_58.mp4\n"
     ]
    },
    {
     "name": "stderr",
     "output_type": "stream",
     "text": [
      "                                                             \r"
     ]
    },
    {
     "name": "stdout",
     "output_type": "stream",
     "text": [
      "Moviepy - Done !\n",
      "Moviepy - video ready ../storage/datasets/debug/apa_59.mp4\n",
      "Moviepy - Building video ../storage/datasets/debug/aku_0.mp4.\n",
      "Moviepy - Writing video ../storage/datasets/debug/aku_0.mp4\n",
      "\n"
     ]
    },
    {
     "name": "stderr",
     "output_type": "stream",
     "text": [
      "                                                             \r"
     ]
    },
    {
     "name": "stdout",
     "output_type": "stream",
     "text": [
      "Moviepy - Done !\n",
      "Moviepy - video ready ../storage/datasets/debug/aku_0.mp4\n",
      "Moviepy - Building video ../storage/datasets/debug/aku_1.mp4.\n",
      "Moviepy - Writing video ../storage/datasets/debug/aku_1.mp4\n",
      "\n"
     ]
    },
    {
     "name": "stderr",
     "output_type": "stream",
     "text": [
      "                                                             \r"
     ]
    },
    {
     "name": "stdout",
     "output_type": "stream",
     "text": [
      "Moviepy - Building video ../storage/datasets/debug/aku_2.mp4.\n",
      "Moviepy - Writing video ../storage/datasets/debug/aku_2.mp4\n",
      "\n"
     ]
    },
    {
     "name": "stderr",
     "output_type": "stream",
     "text": [
      "                                                             \r"
     ]
    },
    {
     "name": "stdout",
     "output_type": "stream",
     "text": [
      "Moviepy - Done !\n",
      "Moviepy - video ready ../storage/datasets/debug/aku_2.mp4\n",
      "Moviepy - Done !\n",
      "Moviepy - video ready ../storage/datasets/debug/aku_1.mp4\n",
      "Moviepy - Building video ../storage/datasets/debug/apa_56.mp4.\n",
      "Moviepy - Writing video ../storage/datasets/debug/apa_56.mp4\n",
      "\n"
     ]
    },
    {
     "name": "stderr",
     "output_type": "stream",
     "text": [
      "                                                             \r"
     ]
    },
    {
     "name": "stdout",
     "output_type": "stream",
     "text": [
      "Moviepy - Done !\n",
      "Moviepy - video ready ../storage/datasets/debug/apa_56.mp4\n",
      "Moviepy - Building video ../storage/datasets/debug/aku_3.mp4.\n",
      "Moviepy - Writing video ../storage/datasets/debug/aku_3.mp4\n",
      "\n",
      "Moviepy - Building video ../storage/datasets/debug/apa_57.mp4.\n",
      "Moviepy - Writing video ../storage/datasets/debug/apa_57.mp4\n",
      "\n",
      "[aku]\t4\n"
     ]
    },
    {
     "name": "stderr",
     "output_type": "stream",
     "text": [
      "                                                            "
     ]
    },
    {
     "name": "stdout",
     "output_type": "stream",
     "text": [
      "Moviepy - Done !\n",
      "Moviepy - video ready ../storage/datasets/debug/aku_3.mp4\n",
      "Moviepy - Done !\n",
      "Moviepy - video ready ../storage/datasets/debug/apa_57.mp4\n",
      "[aku]\t5\n",
      "Moviepy - Building video ../storage/datasets/debug/apa_58.mp4.\n",
      "Moviepy - Writing video ../storage/datasets/debug/apa_58.mp4\n",
      "\n"
     ]
    },
    {
     "name": "stderr",
     "output_type": "stream",
     "text": [
      "                                                             \r"
     ]
    },
    {
     "name": "stdout",
     "output_type": "stream",
     "text": [
      "Moviepy - Done !\n",
      "Moviepy - video ready ../storage/datasets/debug/apa_58.mp4\n",
      "[aku]\t6\n",
      "Moviepy - Building video ../storage/datasets/debug/apa_59.mp4.\n",
      "Moviepy - Writing video ../storage/datasets/debug/apa_59.mp4\n",
      "\n"
     ]
    },
    {
     "name": "stderr",
     "output_type": "stream",
     "text": [
      "                                                             \r"
     ]
    },
    {
     "name": "stdout",
     "output_type": "stream",
     "text": [
      "Moviepy - Building video ../storage/datasets/debug/aku_0.mp4.\n",
      "Moviepy - Writing video ../storage/datasets/debug/aku_0.mp4\n",
      "\n"
     ]
    },
    {
     "name": "stderr",
     "output_type": "stream",
     "text": [
      "                                                             \r"
     ]
    },
    {
     "name": "stdout",
     "output_type": "stream",
     "text": [
      "Moviepy - Done !\n",
      "Moviepy - video ready ../storage/datasets/debug/apa_59.mp4\n",
      "[aku]\t7\n",
      "Moviepy - Done !\n",
      "Moviepy - video ready ../storage/datasets/debug/aku_0.mp4\n",
      "[aku]\t8\n",
      "Moviepy - Building video ../storage/datasets/debug/aku_2.mp4.\n",
      "Moviepy - Writing video ../storage/datasets/debug/aku_2.mp4\n",
      "\n"
     ]
    },
    {
     "name": "stderr",
     "output_type": "stream",
     "text": [
      "                                                             \r"
     ]
    },
    {
     "name": "stdout",
     "output_type": "stream",
     "text": [
      "Moviepy - Building video ../storage/datasets/debug/aku_1.mp4.\n",
      "Moviepy - Writing video ../storage/datasets/debug/aku_1.mp4\n",
      "\n"
     ]
    },
    {
     "name": "stderr",
     "output_type": "stream",
     "text": [
      "                                                             \r"
     ]
    },
    {
     "name": "stdout",
     "output_type": "stream",
     "text": [
      "Moviepy - Done !\n",
      "Moviepy - video ready ../storage/datasets/debug/aku_2.mp4\n",
      "[aku]\t9\n",
      "Moviepy - Done !\n",
      "Moviepy - video ready ../storage/datasets/debug/aku_1.mp4\n",
      "[aku]\t10\n",
      "Moviepy - Building video ../storage/datasets/debug/aku_4.mp4.\n",
      "Moviepy - Writing video ../storage/datasets/debug/aku_4.mp4\n",
      "\n"
     ]
    },
    {
     "name": "stderr",
     "output_type": "stream",
     "text": [
      "                                                             \r"
     ]
    },
    {
     "name": "stdout",
     "output_type": "stream",
     "text": [
      "Moviepy - Done !\n",
      "Moviepy - video ready ../storage/datasets/debug/aku_4.mp4\n",
      "Moviepy - Building video ../storage/datasets/debug/aku_3.mp4.\n",
      "Moviepy - Writing video ../storage/datasets/debug/aku_3.mp4\n",
      "\n"
     ]
    },
    {
     "name": "stderr",
     "output_type": "stream",
     "text": [
      "                                                             \r"
     ]
    },
    {
     "name": "stdout",
     "output_type": "stream",
     "text": [
      "Moviepy - Building video ../storage/datasets/debug/aku_5.mp4.\n",
      "Moviepy - Writing video ../storage/datasets/debug/aku_5.mp4\n",
      "\n"
     ]
    },
    {
     "name": "stderr",
     "output_type": "stream",
     "text": [
      "                                                             \r"
     ]
    },
    {
     "name": "stdout",
     "output_type": "stream",
     "text": [
      "Moviepy - Done !\n",
      "Moviepy - video ready ../storage/datasets/debug/aku_3.mp4\n",
      "[aku]\t11\n",
      "Moviepy - Done !\n",
      "Moviepy - video ready ../storage/datasets/debug/aku_5.mp4\n",
      "Moviepy - Building video ../storage/datasets/debug/aku_6.mp4.\n",
      "Moviepy - Writing video ../storage/datasets/debug/aku_6.mp4\n",
      "\n"
     ]
    },
    {
     "name": "stderr",
     "output_type": "stream",
     "text": [
      "                                                             \r"
     ]
    },
    {
     "name": "stdout",
     "output_type": "stream",
     "text": [
      "Moviepy - Done !\n",
      "Moviepy - video ready ../storage/datasets/debug/aku_6.mp4\n",
      "Moviepy - Building video ../storage/datasets/debug/aku_7.mp4.\n",
      "Moviepy - Writing video ../storage/datasets/debug/aku_7.mp4\n",
      "\n"
     ]
    },
    {
     "name": "stderr",
     "output_type": "stream",
     "text": [
      "                                                             \r"
     ]
    },
    {
     "name": "stdout",
     "output_type": "stream",
     "text": [
      "Moviepy - Building video ../storage/datasets/debug/aku_8.mp4.\n",
      "Moviepy - Writing video ../storage/datasets/debug/aku_8.mp4\n",
      "\n"
     ]
    },
    {
     "name": "stderr",
     "output_type": "stream",
     "text": [
      "                                                             \r"
     ]
    },
    {
     "name": "stdout",
     "output_type": "stream",
     "text": [
      "Moviepy - Done !\n",
      "Moviepy - video ready ../storage/datasets/debug/aku_7.mp4\n",
      "Moviepy - Done !\n",
      "Moviepy - video ready ../storage/datasets/debug/aku_8.mp4\n",
      "Moviepy - Building video ../storage/datasets/debug/aku_9.mp4.\n",
      "Moviepy - Writing video ../storage/datasets/debug/aku_9.mp4\n",
      "\n"
     ]
    },
    {
     "name": "stderr",
     "output_type": "stream",
     "text": [
      "                                                             \r"
     ]
    },
    {
     "name": "stdout",
     "output_type": "stream",
     "text": [
      "Moviepy - Building video ../storage/datasets/debug/aku_10.mp4.\n",
      "Moviepy - Writing video ../storage/datasets/debug/aku_10.mp4\n",
      "\n"
     ]
    },
    {
     "name": "stderr",
     "output_type": "stream",
     "text": [
      "                                                             \r"
     ]
    },
    {
     "name": "stdout",
     "output_type": "stream",
     "text": [
      "Moviepy - Done !\n",
      "Moviepy - video ready ../storage/datasets/debug/aku_9.mp4\n",
      "Moviepy - Done !\n",
      "Moviepy - video ready ../storage/datasets/debug/aku_10.mp4\n",
      "Moviepy - Building video ../storage/datasets/debug/aku_4.mp4.\n",
      "Moviepy - Writing video ../storage/datasets/debug/aku_4.mp4\n",
      "\n"
     ]
    },
    {
     "name": "stderr",
     "output_type": "stream",
     "text": [
      "                                                             \r"
     ]
    },
    {
     "name": "stdout",
     "output_type": "stream",
     "text": [
      "Moviepy - Done !\n",
      "Moviepy - video ready ../storage/datasets/debug/aku_4.mp4\n",
      "[aku]\t12\n",
      "Moviepy - Building video ../storage/datasets/debug/aku_11.mp4.\n",
      "Moviepy - Writing video ../storage/datasets/debug/aku_11.mp4\n",
      "\n"
     ]
    },
    {
     "name": "stderr",
     "output_type": "stream",
     "text": [
      "t:  49%|████▉     | 30/61 [00:00<00:01, 18.86it/s, now=None]"
     ]
    },
    {
     "name": "stdout",
     "output_type": "stream",
     "text": [
      "Moviepy - Building video ../storage/datasets/debug/aku_5.mp4.\n",
      "Moviepy - Writing video ../storage/datasets/debug/aku_5.mp4\n",
      "\n"
     ]
    },
    {
     "name": "stderr",
     "output_type": "stream",
     "text": [
      "                                                             "
     ]
    },
    {
     "name": "stdout",
     "output_type": "stream",
     "text": [
      "Moviepy - Building video ../storage/datasets/debug/aku_6.mp4.\n",
      "Moviepy - Writing video ../storage/datasets/debug/aku_6.mp4\n",
      "\n"
     ]
    },
    {
     "name": "stderr",
     "output_type": "stream",
     "text": [
      "t:  93%|█████████▎| 57/61 [00:00<00:00, 85.91it/s, now=None]"
     ]
    },
    {
     "name": "stdout",
     "output_type": "stream",
     "text": [
      "Moviepy - Done !\n",
      "Moviepy - video ready ../storage/datasets/debug/aku_5.mp4\n",
      "[aku]\t13\n"
     ]
    },
    {
     "name": "stderr",
     "output_type": "stream",
     "text": [
      "t:  93%|█████████▎| 57/61 [00:01<00:00, 85.91it/s, now=None]"
     ]
    },
    {
     "name": "stdout",
     "output_type": "stream",
     "text": [
      "Moviepy - Done !\n",
      "Moviepy - video ready ../storage/datasets/debug/aku_11.mp4\n"
     ]
    },
    {
     "name": "stderr",
     "output_type": "stream",
     "text": [
      "                                                            \r"
     ]
    },
    {
     "name": "stdout",
     "output_type": "stream",
     "text": [
      "Moviepy - Done !\n",
      "Moviepy - video ready ../storage/datasets/debug/aku_6.mp4\n",
      "[aku]\t14\n",
      "Moviepy - Building video ../storage/datasets/debug/aku_7.mp4.\n",
      "Moviepy - Writing video ../storage/datasets/debug/aku_7.mp4\n",
      "\n"
     ]
    },
    {
     "name": "stderr",
     "output_type": "stream",
     "text": [
      "                                                             \r"
     ]
    },
    {
     "name": "stdout",
     "output_type": "stream",
     "text": [
      "Moviepy - Done !\n",
      "Moviepy - video ready ../storage/datasets/debug/aku_7.mp4\n",
      "[aku]\t15\n",
      "Moviepy - Building video ../storage/datasets/debug/aku_8.mp4.\n",
      "Moviepy - Writing video ../storage/datasets/debug/aku_8.mp4\n",
      "\n"
     ]
    },
    {
     "name": "stderr",
     "output_type": "stream",
     "text": [
      "                                                            \r"
     ]
    },
    {
     "name": "stdout",
     "output_type": "stream",
     "text": [
      "Moviepy - Done !\n",
      "Moviepy - video ready ../storage/datasets/debug/aku_8.mp4\n",
      "[aku]\t16\n",
      "Moviepy - Building video ../storage/datasets/debug/aku_9.mp4.\n",
      "Moviepy - Writing video ../storage/datasets/debug/aku_9.mp4\n",
      "\n"
     ]
    },
    {
     "name": "stderr",
     "output_type": "stream",
     "text": [
      "                                                             \r"
     ]
    },
    {
     "name": "stdout",
     "output_type": "stream",
     "text": [
      "Moviepy - Done !\n",
      "Moviepy - video ready ../storage/datasets/debug/aku_9.mp4\n",
      "[aku]\t17\n",
      "Moviepy - Building video ../storage/datasets/debug/aku_10.mp4.\n",
      "Moviepy - Writing video ../storage/datasets/debug/aku_10.mp4\n",
      "\n"
     ]
    },
    {
     "name": "stderr",
     "output_type": "stream",
     "text": [
      "                                                            \r"
     ]
    },
    {
     "name": "stdout",
     "output_type": "stream",
     "text": [
      "Moviepy - Done !\n",
      "Moviepy - video ready ../storage/datasets/debug/aku_10.mp4\n",
      "[aku]\t18\n",
      "Moviepy - Building video ../storage/datasets/debug/aku_12.mp4.\n",
      "Moviepy - Writing video ../storage/datasets/debug/aku_12.mp4\n",
      "\n"
     ]
    },
    {
     "name": "stderr",
     "output_type": "stream",
     "text": [
      "                                                             \r"
     ]
    },
    {
     "name": "stdout",
     "output_type": "stream",
     "text": [
      "Moviepy - Done !\n",
      "Moviepy - video ready ../storage/datasets/debug/aku_12.mp4\n",
      "Moviepy - Building video ../storage/datasets/debug/aku_13.mp4.\n",
      "Moviepy - Writing video ../storage/datasets/debug/aku_13.mp4\n",
      "\n"
     ]
    },
    {
     "name": "stderr",
     "output_type": "stream",
     "text": [
      "                                                            \r"
     ]
    },
    {
     "name": "stdout",
     "output_type": "stream",
     "text": [
      "Moviepy - Done !\n",
      "Moviepy - video ready ../storage/datasets/debug/aku_13.mp4\n",
      "Moviepy - Building video ../storage/datasets/debug/aku_11.mp4.\n",
      "Moviepy - Writing video ../storage/datasets/debug/aku_11.mp4\n",
      "\n"
     ]
    },
    {
     "name": "stderr",
     "output_type": "stream",
     "text": [
      "                                                            \r"
     ]
    },
    {
     "name": "stdout",
     "output_type": "stream",
     "text": [
      "Moviepy - Building video ../storage/datasets/debug/aku_14.mp4.\n",
      "Moviepy - Writing video ../storage/datasets/debug/aku_14.mp4\n",
      "\n"
     ]
    },
    {
     "name": "stderr",
     "output_type": "stream",
     "text": [
      "                                                             \r"
     ]
    },
    {
     "name": "stdout",
     "output_type": "stream",
     "text": [
      "Moviepy - Done !\n",
      "Moviepy - video ready ../storage/datasets/debug/aku_11.mp4\n",
      "[aku]\t19\n",
      "Moviepy - Building video ../storage/datasets/debug/aku_15.mp4.\n",
      "Moviepy - Writing video ../storage/datasets/debug/aku_15.mp4\n",
      "\n"
     ]
    },
    {
     "name": "stderr",
     "output_type": "stream",
     "text": [
      "t:  92%|█████████▏| 56/61 [00:00<00:00, 70.29it/s, now=None] "
     ]
    },
    {
     "name": "stdout",
     "output_type": "stream",
     "text": [
      "Moviepy - Done !\n",
      "Moviepy - video ready ../storage/datasets/debug/aku_14.mp4\n"
     ]
    },
    {
     "name": "stderr",
     "output_type": "stream",
     "text": [
      "t:  97%|█████████▋| 59/61 [00:01<00:00, 70.29it/s, now=None]"
     ]
    },
    {
     "name": "stdout",
     "output_type": "stream",
     "text": [
      "Moviepy - Building video ../storage/datasets/debug/aku_16.mp4.\n",
      "Moviepy - Writing video ../storage/datasets/debug/aku_16.mp4\n",
      "\n"
     ]
    },
    {
     "name": "stderr",
     "output_type": "stream",
     "text": [
      "                                                            "
     ]
    },
    {
     "name": "stdout",
     "output_type": "stream",
     "text": [
      "Moviepy - Done !\n",
      "Moviepy - video ready ../storage/datasets/debug/aku_15.mp4\n",
      "Moviepy - Done !\n",
      "Moviepy - video ready ../storage/datasets/debug/aku_16.mp4\n",
      "Moviepy - Building video ../storage/datasets/debug/aku_17.mp4.\n",
      "Moviepy - Writing video ../storage/datasets/debug/aku_17.mp4\n",
      "\n"
     ]
    },
    {
     "name": "stderr",
     "output_type": "stream",
     "text": [
      "                                                             \r"
     ]
    },
    {
     "name": "stdout",
     "output_type": "stream",
     "text": [
      "Moviepy - Done !\n",
      "Moviepy - video ready ../storage/datasets/debug/aku_17.mp4\n",
      "Moviepy - Building video ../storage/datasets/debug/aku_18.mp4.\n",
      "Moviepy - Writing video ../storage/datasets/debug/aku_18.mp4\n",
      "\n"
     ]
    },
    {
     "name": "stderr",
     "output_type": "stream",
     "text": [
      "                                                             \r"
     ]
    },
    {
     "name": "stdout",
     "output_type": "stream",
     "text": [
      "Moviepy - Done !\n",
      "Moviepy - video ready ../storage/datasets/debug/aku_18.mp4\n",
      "Moviepy - Building video ../storage/datasets/debug/aku_12.mp4.\n",
      "Moviepy - Writing video ../storage/datasets/debug/aku_12.mp4\n",
      "\n"
     ]
    },
    {
     "name": "stderr",
     "output_type": "stream",
     "text": [
      "                                                             \r"
     ]
    },
    {
     "name": "stdout",
     "output_type": "stream",
     "text": [
      "Moviepy - Done !\n",
      "Moviepy - video ready ../storage/datasets/debug/aku_12.mp4\n",
      "[aku]\t20\n",
      "Moviepy - Building video ../storage/datasets/debug/aku_13.mp4.\n",
      "Moviepy - Writing video ../storage/datasets/debug/aku_13.mp4\n",
      "\n"
     ]
    },
    {
     "name": "stderr",
     "output_type": "stream",
     "text": [
      "                                                             \r"
     ]
    },
    {
     "name": "stdout",
     "output_type": "stream",
     "text": [
      "Moviepy - Done !\n",
      "Moviepy - video ready ../storage/datasets/debug/aku_13.mp4\n",
      "[aku]\t21\n",
      "Moviepy - Building video ../storage/datasets/debug/aku_19.mp4.\n",
      "Moviepy - Writing video ../storage/datasets/debug/aku_19.mp4\n",
      "\n"
     ]
    },
    {
     "name": "stderr",
     "output_type": "stream",
     "text": [
      "                                                             \r"
     ]
    },
    {
     "name": "stdout",
     "output_type": "stream",
     "text": [
      "Moviepy - Building video ../storage/datasets/debug/aku_14.mp4.\n",
      "Moviepy - Writing video ../storage/datasets/debug/aku_14.mp4\n",
      "\n"
     ]
    },
    {
     "name": "stderr",
     "output_type": "stream",
     "text": [
      "t:  89%|████████▊ | 54/61 [00:00<00:00, 99.63it/s, now=None] "
     ]
    },
    {
     "name": "stdout",
     "output_type": "stream",
     "text": [
      "Moviepy - Done !\n",
      "Moviepy - video ready ../storage/datasets/debug/aku_19.mp4\n"
     ]
    },
    {
     "name": "stderr",
     "output_type": "stream",
     "text": [
      "                                                            \r"
     ]
    },
    {
     "name": "stdout",
     "output_type": "stream",
     "text": [
      "Moviepy - Done !\n",
      "Moviepy - video ready ../storage/datasets/debug/aku_14.mp4\n",
      "[aku]\t22\n",
      "Moviepy - Building video ../storage/datasets/debug/aku_15.mp4.\n",
      "Moviepy - Writing video ../storage/datasets/debug/aku_15.mp4\n",
      "\n"
     ]
    },
    {
     "name": "stderr",
     "output_type": "stream",
     "text": [
      "                                                            \r"
     ]
    },
    {
     "name": "stdout",
     "output_type": "stream",
     "text": [
      "Moviepy - Building video ../storage/datasets/debug/aku_16.mp4.\n",
      "Moviepy - Writing video ../storage/datasets/debug/aku_16.mp4\n",
      "\n"
     ]
    },
    {
     "name": "stderr",
     "output_type": "stream",
     "text": [
      "                                                             \r"
     ]
    },
    {
     "name": "stdout",
     "output_type": "stream",
     "text": [
      "Moviepy - Done !\n",
      "Moviepy - video ready ../storage/datasets/debug/aku_15.mp4\n",
      "[aku]\t23\n",
      "Moviepy - Done !\n",
      "Moviepy - video ready ../storage/datasets/debug/aku_16.mp4\n",
      "[aku]\t24\n",
      "Moviepy - Building video ../storage/datasets/debug/aku_17.mp4.\n",
      "Moviepy - Writing video ../storage/datasets/debug/aku_17.mp4\n",
      "\n"
     ]
    },
    {
     "name": "stderr",
     "output_type": "stream",
     "text": [
      "                                                             \r"
     ]
    },
    {
     "name": "stdout",
     "output_type": "stream",
     "text": [
      "Moviepy - Done !\n",
      "Moviepy - video ready ../storage/datasets/debug/aku_17.mp4\n",
      "[aku]\t25\n",
      "Moviepy - Building video ../storage/datasets/debug/aku_18.mp4.\n",
      "Moviepy - Writing video ../storage/datasets/debug/aku_18.mp4\n",
      "\n"
     ]
    },
    {
     "name": "stderr",
     "output_type": "stream",
     "text": [
      "                                                            \r"
     ]
    },
    {
     "name": "stdout",
     "output_type": "stream",
     "text": [
      "Moviepy - Done !\n",
      "Moviepy - video ready ../storage/datasets/debug/aku_18.mp4\n",
      "[aku]\t26\n",
      "Moviepy - Building video ../storage/datasets/debug/aku_20.mp4.\n",
      "Moviepy - Writing video ../storage/datasets/debug/aku_20.mp4\n",
      "\n"
     ]
    },
    {
     "name": "stderr",
     "output_type": "stream",
     "text": [
      "                                                             \r"
     ]
    },
    {
     "name": "stdout",
     "output_type": "stream",
     "text": [
      "Moviepy - Done !\n",
      "Moviepy - video ready ../storage/datasets/debug/aku_20.mp4\n",
      "Moviepy - Building video ../storage/datasets/debug/aku_21.mp4.\n",
      "Moviepy - Writing video ../storage/datasets/debug/aku_21.mp4\n",
      "\n"
     ]
    },
    {
     "name": "stderr",
     "output_type": "stream",
     "text": [
      "                                                             \r"
     ]
    },
    {
     "name": "stdout",
     "output_type": "stream",
     "text": [
      "Moviepy - Done !\n",
      "Moviepy - video ready ../storage/datasets/debug/aku_21.mp4\n",
      "Moviepy - Building video ../storage/datasets/debug/aku_19.mp4.\n",
      "Moviepy - Writing video ../storage/datasets/debug/aku_19.mp4\n",
      "\n"
     ]
    },
    {
     "name": "stderr",
     "output_type": "stream",
     "text": [
      "                                                             \r"
     ]
    },
    {
     "name": "stdout",
     "output_type": "stream",
     "text": [
      "Moviepy - Building video ../storage/datasets/debug/aku_22.mp4.\n",
      "Moviepy - Writing video ../storage/datasets/debug/aku_22.mp4\n",
      "\n"
     ]
    },
    {
     "name": "stderr",
     "output_type": "stream",
     "text": [
      "t:  79%|███████▊  | 48/61 [00:00<00:00, 109.48it/s, now=None]"
     ]
    },
    {
     "name": "stdout",
     "output_type": "stream",
     "text": [
      "Moviepy - Done !\n",
      "Moviepy - video ready ../storage/datasets/debug/aku_19.mp4\n",
      "[aku]\t27\n"
     ]
    },
    {
     "name": "stderr",
     "output_type": "stream",
     "text": [
      "                                                             \r"
     ]
    },
    {
     "name": "stdout",
     "output_type": "stream",
     "text": [
      "Moviepy - Done !\n",
      "Moviepy - video ready ../storage/datasets/debug/aku_22.mp4\n",
      "Moviepy - Building video ../storage/datasets/debug/aku_23.mp4.\n",
      "Moviepy - Writing video ../storage/datasets/debug/aku_23.mp4\n",
      "\n"
     ]
    },
    {
     "name": "stderr",
     "output_type": "stream",
     "text": [
      "                                                             \r"
     ]
    },
    {
     "name": "stdout",
     "output_type": "stream",
     "text": [
      "Moviepy - Done !\n",
      "Moviepy - video ready ../storage/datasets/debug/aku_23.mp4\n",
      "Moviepy - Building video ../storage/datasets/debug/aku_24.mp4.\n",
      "Moviepy - Writing video ../storage/datasets/debug/aku_24.mp4\n",
      "\n"
     ]
    },
    {
     "name": "stderr",
     "output_type": "stream",
     "text": [
      "                                                             \r"
     ]
    },
    {
     "name": "stdout",
     "output_type": "stream",
     "text": [
      "Moviepy - Building video ../storage/datasets/debug/aku_25.mp4.\n",
      "Moviepy - Writing video ../storage/datasets/debug/aku_25.mp4\n",
      "\n"
     ]
    },
    {
     "name": "stderr",
     "output_type": "stream",
     "text": [
      "                                                             \r"
     ]
    },
    {
     "name": "stdout",
     "output_type": "stream",
     "text": [
      "Moviepy - Done !\n",
      "Moviepy - video ready ../storage/datasets/debug/aku_24.mp4\n",
      "Moviepy - Building video ../storage/datasets/debug/aku_26.mp4.\n",
      "Moviepy - Writing video ../storage/datasets/debug/aku_26.mp4\n",
      "\n"
     ]
    },
    {
     "name": "stderr",
     "output_type": "stream",
     "text": [
      "t:   2%|▏         | 1/61 [00:00<00:00, 69.27it/s, now=None] "
     ]
    },
    {
     "name": "stdout",
     "output_type": "stream",
     "text": [
      "Moviepy - Done !\n",
      "Moviepy - video ready ../storage/datasets/debug/aku_25.mp4\n"
     ]
    },
    {
     "name": "stderr",
     "output_type": "stream",
     "text": [
      "                                                            \r"
     ]
    },
    {
     "name": "stdout",
     "output_type": "stream",
     "text": [
      "Moviepy - Done !\n",
      "Moviepy - video ready ../storage/datasets/debug/aku_26.mp4\n",
      "Moviepy - Building video ../storage/datasets/debug/aku_20.mp4.\n",
      "Moviepy - Writing video ../storage/datasets/debug/aku_20.mp4\n",
      "\n"
     ]
    },
    {
     "name": "stderr",
     "output_type": "stream",
     "text": [
      "                                                             \r"
     ]
    },
    {
     "name": "stdout",
     "output_type": "stream",
     "text": [
      "Moviepy - Done !\n",
      "Moviepy - video ready ../storage/datasets/debug/aku_20.mp4\n",
      "[aku]\t28\n",
      "Moviepy - Building video ../storage/datasets/debug/aku_21.mp4.\n",
      "Moviepy - Writing video ../storage/datasets/debug/aku_21.mp4\n",
      "\n"
     ]
    },
    {
     "name": "stderr",
     "output_type": "stream",
     "text": [
      "                                                             \r"
     ]
    },
    {
     "name": "stdout",
     "output_type": "stream",
     "text": [
      "Moviepy - Done !\n",
      "Moviepy - video ready ../storage/datasets/debug/aku_21.mp4\n",
      "[aku]\t29\n",
      "Moviepy - Building video ../storage/datasets/debug/aku_27.mp4.\n",
      "Moviepy - Writing video ../storage/datasets/debug/aku_27.mp4\n",
      "\n"
     ]
    },
    {
     "name": "stderr",
     "output_type": "stream",
     "text": [
      "                                                             \r"
     ]
    },
    {
     "name": "stdout",
     "output_type": "stream",
     "text": [
      "Moviepy - Done !\n",
      "Moviepy - video ready ../storage/datasets/debug/aku_27.mp4\n",
      "Moviepy - Building video ../storage/datasets/debug/aku_22.mp4.\n",
      "Moviepy - Writing video ../storage/datasets/debug/aku_22.mp4\n",
      "\n"
     ]
    },
    {
     "name": "stderr",
     "output_type": "stream",
     "text": [
      "                                                             \r"
     ]
    },
    {
     "name": "stdout",
     "output_type": "stream",
     "text": [
      "Moviepy - Done !\n",
      "Moviepy - video ready ../storage/datasets/debug/aku_22.mp4\n",
      "[aku]\t30\n",
      "Moviepy - Building video ../storage/datasets/debug/aku_23.mp4.\n",
      "Moviepy - Writing video ../storage/datasets/debug/aku_23.mp4\n",
      "\n"
     ]
    },
    {
     "name": "stderr",
     "output_type": "stream",
     "text": [
      "                                                             \r"
     ]
    },
    {
     "name": "stdout",
     "output_type": "stream",
     "text": [
      "Moviepy - Building video ../storage/datasets/debug/aku_24.mp4.\n",
      "Moviepy - Writing video ../storage/datasets/debug/aku_24.mp4\n",
      "\n"
     ]
    },
    {
     "name": "stderr",
     "output_type": "stream",
     "text": [
      "t:   2%|▏         | 1/61 [00:00<00:00, 80.66it/s, now=None]"
     ]
    },
    {
     "name": "stdout",
     "output_type": "stream",
     "text": [
      "Moviepy - Done !\n",
      "Moviepy - video ready ../storage/datasets/debug/aku_23.mp4\n",
      "[aku]\t31\n"
     ]
    },
    {
     "name": "stderr",
     "output_type": "stream",
     "text": [
      "                                                             \r"
     ]
    },
    {
     "name": "stdout",
     "output_type": "stream",
     "text": [
      "Moviepy - Done !\n",
      "Moviepy - video ready ../storage/datasets/debug/aku_24.mp4\n",
      "[aku]\t32\n",
      "Moviepy - Building video ../storage/datasets/debug/aku_25.mp4.\n",
      "Moviepy - Writing video ../storage/datasets/debug/aku_25.mp4\n",
      "\n"
     ]
    },
    {
     "name": "stderr",
     "output_type": "stream",
     "text": [
      "t:  46%|████▌     | 28/61 [00:00<00:00, 134.88it/s, now=None]"
     ]
    },
    {
     "name": "stdout",
     "output_type": "stream",
     "text": [
      "Moviepy - Building video ../storage/datasets/debug/aku_26.mp4.\n",
      "Moviepy - Writing video ../storage/datasets/debug/aku_26.mp4\n",
      "\n"
     ]
    },
    {
     "name": "stderr",
     "output_type": "stream",
     "text": [
      "                                                             "
     ]
    },
    {
     "name": "stdout",
     "output_type": "stream",
     "text": [
      "Moviepy - Done !\n",
      "Moviepy - video ready ../storage/datasets/debug/aku_25.mp4\n",
      "[aku]\t33\n",
      "Moviepy - Done !\n",
      "Moviepy - video ready ../storage/datasets/debug/aku_26.mp4\n",
      "[aku]\t34\n",
      "Moviepy - Building video ../storage/datasets/debug/aku_28.mp4.\n",
      "Moviepy - Writing video ../storage/datasets/debug/aku_28.mp4\n",
      "\n"
     ]
    },
    {
     "name": "stderr",
     "output_type": "stream",
     "text": [
      "                                                             \r"
     ]
    },
    {
     "name": "stdout",
     "output_type": "stream",
     "text": [
      "Moviepy - Done !\n",
      "Moviepy - video ready ../storage/datasets/debug/aku_28.mp4\n",
      "Moviepy - Building video ../storage/datasets/debug/aku_29.mp4.\n",
      "Moviepy - Writing video ../storage/datasets/debug/aku_29.mp4\n",
      "\n"
     ]
    },
    {
     "name": "stderr",
     "output_type": "stream",
     "text": [
      "                                                             \r"
     ]
    },
    {
     "name": "stdout",
     "output_type": "stream",
     "text": [
      "Moviepy - Done !\n",
      "Moviepy - video ready ../storage/datasets/debug/aku_29.mp4\n",
      "Moviepy - Building video ../storage/datasets/debug/aku_27.mp4.\n",
      "Moviepy - Writing video ../storage/datasets/debug/aku_27.mp4\n",
      "\n"
     ]
    },
    {
     "name": "stderr",
     "output_type": "stream",
     "text": [
      "                                                             \r"
     ]
    },
    {
     "name": "stdout",
     "output_type": "stream",
     "text": [
      "Moviepy - Done !\n",
      "Moviepy - video ready ../storage/datasets/debug/aku_27.mp4\n",
      "[aku]\t35\n",
      "Moviepy - Building video ../storage/datasets/debug/aku_30.mp4.\n",
      "Moviepy - Writing video ../storage/datasets/debug/aku_30.mp4\n",
      "\n"
     ]
    },
    {
     "name": "stderr",
     "output_type": "stream",
     "text": [
      "                                                             \r"
     ]
    },
    {
     "name": "stdout",
     "output_type": "stream",
     "text": [
      "Moviepy - Done !\n",
      "Moviepy - video ready ../storage/datasets/debug/aku_30.mp4\n",
      "Moviepy - Building video ../storage/datasets/debug/aku_31.mp4.\n",
      "Moviepy - Writing video ../storage/datasets/debug/aku_31.mp4\n",
      "\n"
     ]
    },
    {
     "name": "stderr",
     "output_type": "stream",
     "text": [
      "                                                             \r"
     ]
    },
    {
     "name": "stdout",
     "output_type": "stream",
     "text": [
      "Moviepy - Building video ../storage/datasets/debug/aku_32.mp4.\n",
      "Moviepy - Writing video ../storage/datasets/debug/aku_32.mp4\n",
      "\n"
     ]
    },
    {
     "name": "stderr",
     "output_type": "stream",
     "text": [
      "                                                             \r"
     ]
    },
    {
     "name": "stdout",
     "output_type": "stream",
     "text": [
      "Moviepy - Done !\n",
      "Moviepy - video ready ../storage/datasets/debug/aku_31.mp4\n",
      "Moviepy - Done !\n",
      "Moviepy - video ready ../storage/datasets/debug/aku_32.mp4\n",
      "Moviepy - Building video ../storage/datasets/debug/aku_34.mp4.\n",
      "Moviepy - Writing video ../storage/datasets/debug/aku_34.mp4\n",
      "\n"
     ]
    },
    {
     "name": "stderr",
     "output_type": "stream",
     "text": [
      "t:  21%|██▏       | 13/61 [00:00<00:04, 10.95it/s, now=None]"
     ]
    },
    {
     "name": "stdout",
     "output_type": "stream",
     "text": [
      "Moviepy - Building video ../storage/datasets/debug/aku_33.mp4.\n",
      "Moviepy - Writing video ../storage/datasets/debug/aku_33.mp4\n",
      "\n"
     ]
    },
    {
     "name": "stderr",
     "output_type": "stream",
     "text": [
      "                                                             "
     ]
    },
    {
     "name": "stdout",
     "output_type": "stream",
     "text": [
      "Moviepy - Done !\n",
      "Moviepy - video ready ../storage/datasets/debug/aku_33.mp4\n",
      "Moviepy - Done !\n",
      "Moviepy - video ready ../storage/datasets/debug/aku_34.mp4\n",
      "Moviepy - Building video ../storage/datasets/debug/aku_28.mp4.\n",
      "Moviepy - Writing video ../storage/datasets/debug/aku_28.mp4\n",
      "\n"
     ]
    },
    {
     "name": "stderr",
     "output_type": "stream",
     "text": [
      "                                                             \r"
     ]
    },
    {
     "name": "stdout",
     "output_type": "stream",
     "text": [
      "Moviepy - Done !\n",
      "Moviepy - video ready ../storage/datasets/debug/aku_28.mp4\n",
      "[aku]\t36\n",
      "Moviepy - Building video ../storage/datasets/debug/aku_29.mp4.\n",
      "Moviepy - Writing video ../storage/datasets/debug/aku_29.mp4\n",
      "\n"
     ]
    },
    {
     "name": "stderr",
     "output_type": "stream",
     "text": [
      "                                                             \r"
     ]
    },
    {
     "name": "stdout",
     "output_type": "stream",
     "text": [
      "Moviepy - Done !\n",
      "Moviepy - video ready ../storage/datasets/debug/aku_29.mp4\n",
      "[aku]\t37\n",
      "Moviepy - Building video ../storage/datasets/debug/aku_35.mp4.\n",
      "Moviepy - Writing video ../storage/datasets/debug/aku_35.mp4\n",
      "\n"
     ]
    },
    {
     "name": "stderr",
     "output_type": "stream",
     "text": [
      "                                                             \r"
     ]
    },
    {
     "name": "stdout",
     "output_type": "stream",
     "text": [
      "Moviepy - Done !\n",
      "Moviepy - video ready ../storage/datasets/debug/aku_35.mp4\n",
      "Moviepy - Building video ../storage/datasets/debug/aku_30.mp4.\n",
      "Moviepy - Writing video ../storage/datasets/debug/aku_30.mp4\n",
      "\n"
     ]
    },
    {
     "name": "stderr",
     "output_type": "stream",
     "text": [
      "                                                            \r"
     ]
    },
    {
     "name": "stdout",
     "output_type": "stream",
     "text": [
      "Moviepy - Done !\n",
      "Moviepy - video ready ../storage/datasets/debug/aku_30.mp4\n",
      "[aku]\t38\n",
      "Moviepy - Building video ../storage/datasets/debug/aku_31.mp4.\n",
      "Moviepy - Writing video ../storage/datasets/debug/aku_31.mp4\n",
      "\n"
     ]
    },
    {
     "name": "stderr",
     "output_type": "stream",
     "text": [
      "t:  57%|█████▋    | 35/61 [00:00<00:00, 194.17it/s, now=None]"
     ]
    },
    {
     "name": "stdout",
     "output_type": "stream",
     "text": [
      "Moviepy - Building video ../storage/datasets/debug/aku_32.mp4.\n",
      "Moviepy - Writing video ../storage/datasets/debug/aku_32.mp4\n",
      "\n"
     ]
    },
    {
     "name": "stderr",
     "output_type": "stream",
     "text": [
      "                                                             \r"
     ]
    },
    {
     "name": "stdout",
     "output_type": "stream",
     "text": [
      "Moviepy - Done !\n",
      "Moviepy - video ready ../storage/datasets/debug/aku_32.mp4\n",
      "[aku]\t39\n",
      "Moviepy - Done !\n",
      "Moviepy - video ready ../storage/datasets/debug/aku_31.mp4\n",
      "[aku]\t40\n",
      "Moviepy - Building video ../storage/datasets/debug/aku_33.mp4.\n",
      "Moviepy - Writing video ../storage/datasets/debug/aku_33.mp4\n",
      "\n"
     ]
    },
    {
     "name": "stderr",
     "output_type": "stream",
     "text": [
      "                                                             \r"
     ]
    },
    {
     "name": "stdout",
     "output_type": "stream",
     "text": [
      "Moviepy - Building video ../storage/datasets/debug/aku_34.mp4.\n",
      "Moviepy - Writing video ../storage/datasets/debug/aku_34.mp4\n",
      "\n"
     ]
    },
    {
     "name": "stderr",
     "output_type": "stream",
     "text": [
      "t:   2%|▏         | 1/61 [00:00<00:03, 17.72it/s, now=None] "
     ]
    },
    {
     "name": "stdout",
     "output_type": "stream",
     "text": [
      "Moviepy - Done !\n",
      "Moviepy - video ready ../storage/datasets/debug/aku_33.mp4\n",
      "[aku]\t41\n"
     ]
    },
    {
     "name": "stderr",
     "output_type": "stream",
     "text": [
      "                                                            \r"
     ]
    },
    {
     "name": "stdout",
     "output_type": "stream",
     "text": [
      "Moviepy - Building video ../storage/datasets/debug/aku_36.mp4.\n",
      "Moviepy - Writing video ../storage/datasets/debug/aku_36.mp4\n",
      "\n"
     ]
    },
    {
     "name": "stderr",
     "output_type": "stream",
     "text": [
      "t:  95%|█████████▌| 58/61 [00:01<00:00, 91.24it/s, now=None] "
     ]
    },
    {
     "name": "stdout",
     "output_type": "stream",
     "text": [
      "Moviepy - Done !\n",
      "Moviepy - video ready ../storage/datasets/debug/aku_34.mp4\n",
      "[aku]\t42\n"
     ]
    },
    {
     "name": "stderr",
     "output_type": "stream",
     "text": [
      "                                                            \r"
     ]
    },
    {
     "name": "stdout",
     "output_type": "stream",
     "text": [
      "Moviepy - Done !\n",
      "Moviepy - video ready ../storage/datasets/debug/aku_36.mp4\n",
      "Moviepy - Building video ../storage/datasets/debug/aku_37.mp4.\n",
      "Moviepy - Writing video ../storage/datasets/debug/aku_37.mp4\n",
      "\n"
     ]
    },
    {
     "name": "stderr",
     "output_type": "stream",
     "text": [
      "                                                            \r"
     ]
    },
    {
     "name": "stdout",
     "output_type": "stream",
     "text": [
      "Moviepy - Done !\n",
      "Moviepy - video ready ../storage/datasets/debug/aku_37.mp4\n",
      "Moviepy - Building video ../storage/datasets/debug/aku_35.mp4.\n",
      "Moviepy - Writing video ../storage/datasets/debug/aku_35.mp4\n",
      "\n"
     ]
    },
    {
     "name": "stderr",
     "output_type": "stream",
     "text": [
      "                                                            \r"
     ]
    },
    {
     "name": "stdout",
     "output_type": "stream",
     "text": [
      "Moviepy - Done !\n",
      "Moviepy - video ready ../storage/datasets/debug/aku_35.mp4\n",
      "[aku]\t43\n",
      "Moviepy - Building video ../storage/datasets/debug/aku_38.mp4.\n",
      "Moviepy - Writing video ../storage/datasets/debug/aku_38.mp4\n",
      "\n"
     ]
    },
    {
     "name": "stderr",
     "output_type": "stream",
     "text": [
      "                                                             \r"
     ]
    },
    {
     "name": "stdout",
     "output_type": "stream",
     "text": [
      "Moviepy - Done !\n",
      "Moviepy - video ready ../storage/datasets/debug/aku_38.mp4\n",
      "Moviepy - Building video ../storage/datasets/debug/aku_39.mp4.\n",
      "Moviepy - Writing video ../storage/datasets/debug/aku_39.mp4\n",
      "\n"
     ]
    },
    {
     "name": "stderr",
     "output_type": "stream",
     "text": [
      "t:  92%|█████████▏| 56/61 [00:00<00:00, 151.49it/s, now=None]"
     ]
    },
    {
     "name": "stdout",
     "output_type": "stream",
     "text": [
      "Moviepy - Building video ../storage/datasets/debug/aku_40.mp4.\n",
      "Moviepy - Writing video ../storage/datasets/debug/aku_40.mp4\n",
      "\n"
     ]
    },
    {
     "name": "stderr",
     "output_type": "stream",
     "text": [
      "                                                             "
     ]
    },
    {
     "name": "stdout",
     "output_type": "stream",
     "text": [
      "Moviepy - Done !\n",
      "Moviepy - video ready ../storage/datasets/debug/aku_39.mp4\n",
      "Moviepy - Building video ../storage/datasets/debug/aku_41.mp4.\n",
      "Moviepy - Writing video ../storage/datasets/debug/aku_41.mp4\n",
      "\n"
     ]
    },
    {
     "name": "stderr",
     "output_type": "stream",
     "text": [
      "t:  85%|████████▌ | 52/61 [00:00<00:00, 72.06it/s, now=None]"
     ]
    },
    {
     "name": "stdout",
     "output_type": "stream",
     "text": [
      "Moviepy - Done !\n",
      "Moviepy - video ready ../storage/datasets/debug/aku_40.mp4\n"
     ]
    },
    {
     "name": "stderr",
     "output_type": "stream",
     "text": [
      "                                                            \r"
     ]
    },
    {
     "name": "stdout",
     "output_type": "stream",
     "text": [
      "Moviepy - Done !\n",
      "Moviepy - video ready ../storage/datasets/debug/aku_41.mp4\n",
      "Moviepy - Building video ../storage/datasets/debug/aku_42.mp4.\n",
      "Moviepy - Writing video ../storage/datasets/debug/aku_42.mp4\n",
      "\n"
     ]
    },
    {
     "name": "stderr",
     "output_type": "stream",
     "text": [
      "                                                             \r"
     ]
    },
    {
     "name": "stdout",
     "output_type": "stream",
     "text": [
      "Moviepy - Done !\n",
      "Moviepy - video ready ../storage/datasets/debug/aku_42.mp4\n",
      "Moviepy - Building video ../storage/datasets/debug/aku_36.mp4.\n",
      "Moviepy - Writing video ../storage/datasets/debug/aku_36.mp4\n",
      "\n"
     ]
    },
    {
     "name": "stderr",
     "output_type": "stream",
     "text": [
      "                                                             \r"
     ]
    },
    {
     "name": "stdout",
     "output_type": "stream",
     "text": [
      "Moviepy - Done !\n",
      "Moviepy - video ready ../storage/datasets/debug/aku_36.mp4\n",
      "[aku]\t44\n",
      "Moviepy - Building video ../storage/datasets/debug/aku_37.mp4.\n",
      "Moviepy - Writing video ../storage/datasets/debug/aku_37.mp4\n",
      "\n"
     ]
    },
    {
     "name": "stderr",
     "output_type": "stream",
     "text": [
      "                                                             \r"
     ]
    },
    {
     "name": "stdout",
     "output_type": "stream",
     "text": [
      "Moviepy - Done !\n",
      "Moviepy - video ready ../storage/datasets/debug/aku_37.mp4\n",
      "[aku]\t45\n",
      "Moviepy - Building video ../storage/datasets/debug/aku_43.mp4.\n",
      "Moviepy - Writing video ../storage/datasets/debug/aku_43.mp4\n",
      "\n"
     ]
    },
    {
     "name": "stderr",
     "output_type": "stream",
     "text": [
      "                                                             \r"
     ]
    },
    {
     "name": "stdout",
     "output_type": "stream",
     "text": [
      "Moviepy - Done !\n",
      "Moviepy - video ready ../storage/datasets/debug/aku_43.mp4\n",
      "Moviepy - Building video ../storage/datasets/debug/aku_38.mp4.\n",
      "Moviepy - Writing video ../storage/datasets/debug/aku_38.mp4\n",
      "\n"
     ]
    },
    {
     "name": "stderr",
     "output_type": "stream",
     "text": [
      "                                                             \r"
     ]
    },
    {
     "name": "stdout",
     "output_type": "stream",
     "text": [
      "Moviepy - Done !\n",
      "Moviepy - video ready ../storage/datasets/debug/aku_38.mp4\n",
      "[aku]\t46\n",
      "Moviepy - Building video ../storage/datasets/debug/aku_39.mp4.\n",
      "Moviepy - Writing video ../storage/datasets/debug/aku_39.mp4\n",
      "\n"
     ]
    },
    {
     "name": "stderr",
     "output_type": "stream",
     "text": [
      "                                                             \r"
     ]
    },
    {
     "name": "stdout",
     "output_type": "stream",
     "text": [
      "Moviepy - Done !\n",
      "Moviepy - video ready ../storage/datasets/debug/aku_39.mp4\n",
      "[aku]\t47\n",
      "Moviepy - Building video ../storage/datasets/debug/aku_40.mp4.\n",
      "Moviepy - Writing video ../storage/datasets/debug/aku_40.mp4\n",
      "\n"
     ]
    },
    {
     "name": "stderr",
     "output_type": "stream",
     "text": [
      "t:  26%|██▌       | 16/61 [00:00<00:03, 11.85it/s, now=None]"
     ]
    },
    {
     "name": "stdout",
     "output_type": "stream",
     "text": [
      "Moviepy - Building video ../storage/datasets/debug/aku_41.mp4.\n",
      "Moviepy - Writing video ../storage/datasets/debug/aku_41.mp4\n",
      "\n"
     ]
    },
    {
     "name": "stderr",
     "output_type": "stream",
     "text": [
      "                                                             \r"
     ]
    },
    {
     "name": "stdout",
     "output_type": "stream",
     "text": [
      "Moviepy - Done !\n",
      "Moviepy - video ready ../storage/datasets/debug/aku_40.mp4\n",
      "[aku]\t48\n",
      "Moviepy - Done !\n",
      "Moviepy - video ready ../storage/datasets/debug/aku_41.mp4\n",
      "[aku]\t49\n",
      "Moviepy - Building video ../storage/datasets/debug/aku_42.mp4.\n",
      "Moviepy - Writing video ../storage/datasets/debug/aku_42.mp4\n",
      "\n"
     ]
    },
    {
     "name": "stderr",
     "output_type": "stream",
     "text": [
      "                                                             \r"
     ]
    },
    {
     "name": "stdout",
     "output_type": "stream",
     "text": [
      "Moviepy - Done !\n",
      "Moviepy - video ready ../storage/datasets/debug/aku_42.mp4\n",
      "[aku]\t50\n",
      "Moviepy - Building video ../storage/datasets/debug/aku_44.mp4.\n",
      "Moviepy - Writing video ../storage/datasets/debug/aku_44.mp4\n",
      "\n"
     ]
    },
    {
     "name": "stderr",
     "output_type": "stream",
     "text": [
      "                                                            \r"
     ]
    },
    {
     "name": "stdout",
     "output_type": "stream",
     "text": [
      "Moviepy - Done !\n",
      "Moviepy - video ready ../storage/datasets/debug/aku_44.mp4\n",
      "Moviepy - Building video ../storage/datasets/debug/aku_45.mp4.\n",
      "Moviepy - Writing video ../storage/datasets/debug/aku_45.mp4\n",
      "\n"
     ]
    },
    {
     "name": "stderr",
     "output_type": "stream",
     "text": [
      "                                                             \r"
     ]
    },
    {
     "name": "stdout",
     "output_type": "stream",
     "text": [
      "Moviepy - Done !\n",
      "Moviepy - video ready ../storage/datasets/debug/aku_45.mp4\n",
      "Moviepy - Building video ../storage/datasets/debug/aku_43.mp4.\n",
      "Moviepy - Writing video ../storage/datasets/debug/aku_43.mp4\n",
      "\n"
     ]
    },
    {
     "name": "stderr",
     "output_type": "stream",
     "text": [
      "                                                             \r"
     ]
    },
    {
     "name": "stdout",
     "output_type": "stream",
     "text": [
      "Moviepy - Building video ../storage/datasets/debug/aku_46.mp4.\n",
      "Moviepy - Writing video ../storage/datasets/debug/aku_46.mp4\n",
      "\n"
     ]
    },
    {
     "name": "stderr",
     "output_type": "stream",
     "text": [
      "t:  87%|████████▋ | 53/61 [00:00<00:00, 90.49it/s, now=None]"
     ]
    },
    {
     "name": "stdout",
     "output_type": "stream",
     "text": [
      "Moviepy - Done !\n",
      "Moviepy - video ready ../storage/datasets/debug/aku_43.mp4\n",
      "[aku]\t51\n"
     ]
    },
    {
     "name": "stderr",
     "output_type": "stream",
     "text": [
      "                                                            \r"
     ]
    },
    {
     "name": "stdout",
     "output_type": "stream",
     "text": [
      "Moviepy - Done !\n",
      "Moviepy - video ready ../storage/datasets/debug/aku_46.mp4\n",
      "Moviepy - Building video ../storage/datasets/debug/aku_47.mp4.\n",
      "Moviepy - Writing video ../storage/datasets/debug/aku_47.mp4\n",
      "\n"
     ]
    },
    {
     "name": "stderr",
     "output_type": "stream",
     "text": [
      "                                                             \r"
     ]
    },
    {
     "name": "stdout",
     "output_type": "stream",
     "text": [
      "Moviepy - Done !\n",
      "Moviepy - video ready ../storage/datasets/debug/aku_47.mp4\n",
      "Moviepy - Building video ../storage/datasets/debug/aku_48.mp4.\n",
      "Moviepy - Writing video ../storage/datasets/debug/aku_48.mp4\n",
      "\n"
     ]
    },
    {
     "name": "stderr",
     "output_type": "stream",
     "text": [
      "                                                             \r"
     ]
    },
    {
     "name": "stdout",
     "output_type": "stream",
     "text": [
      "Moviepy - Done !\n",
      "Moviepy - video ready ../storage/datasets/debug/aku_48.mp4\n",
      "Moviepy - Building video ../storage/datasets/debug/aku_49.mp4.\n",
      "Moviepy - Writing video ../storage/datasets/debug/aku_49.mp4\n",
      "\n"
     ]
    },
    {
     "name": "stderr",
     "output_type": "stream",
     "text": [
      "                                                             \r"
     ]
    },
    {
     "name": "stdout",
     "output_type": "stream",
     "text": [
      "Moviepy - Building video ../storage/datasets/debug/aku_50.mp4.\n",
      "Moviepy - Writing video ../storage/datasets/debug/aku_50.mp4\n",
      "\n"
     ]
    },
    {
     "name": "stderr",
     "output_type": "stream",
     "text": [
      "                                                             \r"
     ]
    },
    {
     "name": "stdout",
     "output_type": "stream",
     "text": [
      "Moviepy - Done !\n",
      "Moviepy - video ready ../storage/datasets/debug/aku_49.mp4\n",
      "Moviepy - Done !\n",
      "Moviepy - video ready ../storage/datasets/debug/aku_50.mp4\n",
      "Moviepy - Building video ../storage/datasets/debug/aku_44.mp4.\n",
      "Moviepy - Writing video ../storage/datasets/debug/aku_44.mp4\n",
      "\n"
     ]
    },
    {
     "name": "stderr",
     "output_type": "stream",
     "text": [
      "                                                             \r"
     ]
    },
    {
     "name": "stdout",
     "output_type": "stream",
     "text": [
      "Moviepy - Done !\n",
      "Moviepy - video ready ../storage/datasets/debug/aku_44.mp4\n",
      "[aku]\t52\n",
      "Moviepy - Building video ../storage/datasets/debug/aku_45.mp4.\n",
      "Moviepy - Writing video ../storage/datasets/debug/aku_45.mp4\n",
      "\n"
     ]
    },
    {
     "name": "stderr",
     "output_type": "stream",
     "text": [
      "                                                             \r"
     ]
    },
    {
     "name": "stdout",
     "output_type": "stream",
     "text": [
      "Moviepy - Done !\n",
      "Moviepy - video ready ../storage/datasets/debug/aku_45.mp4\n",
      "[aku]\t53\n",
      "Moviepy - Building video ../storage/datasets/debug/aku_51.mp4.\n",
      "Moviepy - Writing video ../storage/datasets/debug/aku_51.mp4\n",
      "\n"
     ]
    },
    {
     "name": "stderr",
     "output_type": "stream",
     "text": [
      "t:  85%|████████▌ | 52/61 [00:00<00:00, 76.54it/s, now=None]"
     ]
    },
    {
     "name": "stdout",
     "output_type": "stream",
     "text": [
      "Moviepy - Building video ../storage/datasets/debug/aku_46.mp4.\n",
      "Moviepy - Writing video ../storage/datasets/debug/aku_46.mp4\n",
      "\n"
     ]
    },
    {
     "name": "stderr",
     "output_type": "stream",
     "text": [
      "                                                            "
     ]
    },
    {
     "name": "stdout",
     "output_type": "stream",
     "text": [
      "Moviepy - Done !\n",
      "Moviepy - video ready ../storage/datasets/debug/aku_51.mp4\n",
      "Moviepy - Building video ../storage/datasets/debug/aku_47.mp4.\n",
      "Moviepy - Writing video ../storage/datasets/debug/aku_47.mp4\n",
      "\n"
     ]
    },
    {
     "name": "stderr",
     "output_type": "stream",
     "text": [
      "                                                            \r"
     ]
    },
    {
     "name": "stdout",
     "output_type": "stream",
     "text": [
      "Moviepy - Done !\n",
      "Moviepy - video ready ../storage/datasets/debug/aku_46.mp4\n",
      "[aku]\t54\n",
      "Moviepy - Building video ../storage/datasets/debug/aku_48.mp4.\n",
      "Moviepy - Writing video ../storage/datasets/debug/aku_48.mp4\n",
      "\n"
     ]
    },
    {
     "name": "stderr",
     "output_type": "stream",
     "text": [
      "t:   2%|▏         | 1/61 [00:00<00:00, 127.71it/s, now=None]"
     ]
    },
    {
     "name": "stdout",
     "output_type": "stream",
     "text": [
      "Moviepy - Done !\n",
      "Moviepy - video ready ../storage/datasets/debug/aku_47.mp4\n",
      "[aku]\t55\n"
     ]
    },
    {
     "name": "stderr",
     "output_type": "stream",
     "text": [
      "                                                            \r"
     ]
    },
    {
     "name": "stdout",
     "output_type": "stream",
     "text": [
      "Moviepy - Done !\n",
      "Moviepy - video ready ../storage/datasets/debug/aku_48.mp4\n",
      "[aku]\t56\n",
      "Moviepy - Building video ../storage/datasets/debug/aku_49.mp4.\n",
      "Moviepy - Writing video ../storage/datasets/debug/aku_49.mp4\n",
      "\n"
     ]
    },
    {
     "name": "stderr",
     "output_type": "stream",
     "text": [
      "t:  72%|███████▏  | 44/61 [00:00<00:00, 112.92it/s, now=None]"
     ]
    },
    {
     "name": "stdout",
     "output_type": "stream",
     "text": [
      "Moviepy - Building video ../storage/datasets/debug/aku_50.mp4.\n",
      "Moviepy - Writing video ../storage/datasets/debug/aku_50.mp4\n",
      "\n"
     ]
    },
    {
     "name": "stderr",
     "output_type": "stream",
     "text": [
      "                                                             "
     ]
    },
    {
     "name": "stdout",
     "output_type": "stream",
     "text": [
      "Moviepy - Done !\n",
      "Moviepy - video ready ../storage/datasets/debug/aku_49.mp4\n",
      "[aku]\t57\n",
      "Moviepy - Done !\n",
      "Moviepy - video ready ../storage/datasets/debug/aku_50.mp4\n",
      "[aku]\t58\n",
      "Moviepy - Building video ../storage/datasets/debug/aku_52.mp4.\n",
      "Moviepy - Writing video ../storage/datasets/debug/aku_52.mp4\n",
      "\n"
     ]
    },
    {
     "name": "stderr",
     "output_type": "stream",
     "text": [
      "                                                             \r"
     ]
    },
    {
     "name": "stdout",
     "output_type": "stream",
     "text": [
      "Moviepy - Done !\n",
      "Moviepy - video ready ../storage/datasets/debug/aku_52.mp4\n",
      "Moviepy - Building video ../storage/datasets/debug/aku_53.mp4.\n",
      "Moviepy - Writing video ../storage/datasets/debug/aku_53.mp4\n",
      "\n"
     ]
    },
    {
     "name": "stderr",
     "output_type": "stream",
     "text": [
      "                                                             \r"
     ]
    },
    {
     "name": "stdout",
     "output_type": "stream",
     "text": [
      "Moviepy - Done !\n",
      "Moviepy - video ready ../storage/datasets/debug/aku_53.mp4\n",
      "Moviepy - Building video ../storage/datasets/debug/aku_51.mp4.\n",
      "Moviepy - Writing video ../storage/datasets/debug/aku_51.mp4\n",
      "\n"
     ]
    },
    {
     "name": "stderr",
     "output_type": "stream",
     "text": [
      "                                                             \r"
     ]
    },
    {
     "name": "stdout",
     "output_type": "stream",
     "text": [
      "Moviepy - Done !\n",
      "Moviepy - video ready ../storage/datasets/debug/aku_51.mp4\n",
      "[aku]\t59\n",
      "Moviepy - Building video ../storage/datasets/debug/aku_54.mp4.\n",
      "Moviepy - Writing video ../storage/datasets/debug/aku_54.mp4\n",
      "\n"
     ]
    },
    {
     "name": "stderr",
     "output_type": "stream",
     "text": [
      "                                                            \r"
     ]
    },
    {
     "name": "stdout",
     "output_type": "stream",
     "text": [
      "Moviepy - Building video ../storage/datasets/debug/aku_55.mp4.\n",
      "Moviepy - Writing video ../storage/datasets/debug/aku_55.mp4\n",
      "\n"
     ]
    },
    {
     "name": "stderr",
     "output_type": "stream",
     "text": [
      "                                                             \r"
     ]
    },
    {
     "name": "stdout",
     "output_type": "stream",
     "text": [
      "Moviepy - Building video ../storage/datasets/debug/aku_56.mp4.\n",
      "Moviepy - Writing video ../storage/datasets/debug/aku_56.mp4\n",
      "\n"
     ]
    },
    {
     "name": "stderr",
     "output_type": "stream",
     "text": [
      "t:  85%|████████▌ | 52/61 [00:00<00:00, 65.15it/s, now=None] "
     ]
    },
    {
     "name": "stdout",
     "output_type": "stream",
     "text": [
      "Moviepy - Done !\n",
      "Moviepy - video ready ../storage/datasets/debug/aku_54.mp4\n"
     ]
    },
    {
     "name": "stderr",
     "output_type": "stream",
     "text": [
      "                                                            \r"
     ]
    },
    {
     "name": "stdout",
     "output_type": "stream",
     "text": [
      "Moviepy - Done !\n",
      "Moviepy - video ready ../storage/datasets/debug/aku_55.mp4\n",
      "Moviepy - Building video ../storage/datasets/debug/aku_57.mp4.\n",
      "Moviepy - Writing video ../storage/datasets/debug/aku_57.mp4\n",
      "\n",
      "Moviepy - Done !\n",
      "Moviepy - video ready ../storage/datasets/debug/aku_56.mp4\n"
     ]
    },
    {
     "name": "stderr",
     "output_type": "stream",
     "text": [
      "t:  98%|█████████▊| 60/61 [00:00<00:00, 59.67it/s, now=None] "
     ]
    },
    {
     "name": "stdout",
     "output_type": "stream",
     "text": [
      "Moviepy - Building video ../storage/datasets/debug/aku_58.mp4.\n",
      "Moviepy - Writing video ../storage/datasets/debug/aku_58.mp4\n",
      "\n"
     ]
    },
    {
     "name": "stderr",
     "output_type": "stream",
     "text": [
      "                                                            "
     ]
    },
    {
     "name": "stdout",
     "output_type": "stream",
     "text": [
      "Moviepy - Done !\n",
      "Moviepy - video ready ../storage/datasets/debug/aku_57.mp4\n",
      "Moviepy - Done !\n",
      "Moviepy - video ready ../storage/datasets/debug/aku_58.mp4\n",
      "Moviepy - Building video ../storage/datasets/debug/aku_52.mp4.\n",
      "Moviepy - Writing video ../storage/datasets/debug/aku_52.mp4\n",
      "\n"
     ]
    },
    {
     "name": "stderr",
     "output_type": "stream",
     "text": [
      "                                                             \r"
     ]
    },
    {
     "name": "stdout",
     "output_type": "stream",
     "text": [
      "Moviepy - Done !\n",
      "Moviepy - video ready ../storage/datasets/debug/aku_52.mp4\n",
      "[kamu]\t0\n",
      "Moviepy - Building video ../storage/datasets/debug/aku_53.mp4.\n",
      "Moviepy - Writing video ../storage/datasets/debug/aku_53.mp4\n",
      "\n"
     ]
    },
    {
     "name": "stderr",
     "output_type": "stream",
     "text": [
      "                                                             \r"
     ]
    },
    {
     "name": "stdout",
     "output_type": "stream",
     "text": [
      "Moviepy - Done !\n",
      "Moviepy - video ready ../storage/datasets/debug/aku_53.mp4\n",
      "[kamu]\t1\n",
      "Moviepy - Building video ../storage/datasets/debug/aku_59.mp4.\n",
      "Moviepy - Writing video ../storage/datasets/debug/aku_59.mp4\n",
      "\n"
     ]
    },
    {
     "name": "stderr",
     "output_type": "stream",
     "text": [
      "                                                             \r"
     ]
    },
    {
     "name": "stdout",
     "output_type": "stream",
     "text": [
      "Moviepy - Done !\n",
      "Moviepy - video ready ../storage/datasets/debug/aku_59.mp4\n",
      "Moviepy - Building video ../storage/datasets/debug/aku_54.mp4.\n",
      "Moviepy - Writing video ../storage/datasets/debug/aku_54.mp4\n",
      "\n"
     ]
    },
    {
     "name": "stderr",
     "output_type": "stream",
     "text": [
      "                                                             \r"
     ]
    },
    {
     "name": "stdout",
     "output_type": "stream",
     "text": [
      "Moviepy - Done !\n",
      "Moviepy - video ready ../storage/datasets/debug/aku_54.mp4\n",
      "[kamu]\t2\n",
      "Moviepy - Building video ../storage/datasets/debug/aku_55.mp4.\n",
      "Moviepy - Writing video ../storage/datasets/debug/aku_55.mp4\n",
      "\n"
     ]
    },
    {
     "name": "stderr",
     "output_type": "stream",
     "text": [
      "                                                             \r"
     ]
    },
    {
     "name": "stdout",
     "output_type": "stream",
     "text": [
      "Moviepy - Building video ../storage/datasets/debug/aku_56.mp4.\n",
      "Moviepy - Writing video ../storage/datasets/debug/aku_56.mp4\n",
      "\n"
     ]
    },
    {
     "name": "stderr",
     "output_type": "stream",
     "text": [
      "t:  26%|██▌       | 16/61 [00:00<00:01, 37.08it/s, now=None]"
     ]
    },
    {
     "name": "stdout",
     "output_type": "stream",
     "text": [
      "Moviepy - Done !\n",
      "Moviepy - video ready ../storage/datasets/debug/aku_55.mp4\n",
      "[kamu]\t3\n"
     ]
    },
    {
     "name": "stderr",
     "output_type": "stream",
     "text": [
      "                                                             \r"
     ]
    },
    {
     "name": "stdout",
     "output_type": "stream",
     "text": [
      "Moviepy - Done !\n",
      "Moviepy - video ready ../storage/datasets/debug/aku_56.mp4\n",
      "[kamu]\t4\n",
      "Moviepy - Building video ../storage/datasets/debug/aku_57.mp4.\n",
      "Moviepy - Writing video ../storage/datasets/debug/aku_57.mp4\n",
      "\n"
     ]
    },
    {
     "name": "stderr",
     "output_type": "stream",
     "text": [
      "                                                             \r"
     ]
    },
    {
     "name": "stdout",
     "output_type": "stream",
     "text": [
      "Moviepy - Done !\n",
      "Moviepy - video ready ../storage/datasets/debug/aku_57.mp4\n",
      "[kamu]\t5\n",
      "Moviepy - Building video ../storage/datasets/debug/aku_58.mp4.\n",
      "Moviepy - Writing video ../storage/datasets/debug/aku_58.mp4\n",
      "\n"
     ]
    },
    {
     "name": "stderr",
     "output_type": "stream",
     "text": [
      "                                                             \r"
     ]
    },
    {
     "name": "stdout",
     "output_type": "stream",
     "text": [
      "Moviepy - Building video ../storage/datasets/debug/kamu_0.mp4.\n",
      "Moviepy - Writing video ../storage/datasets/debug/kamu_0.mp4\n",
      "\n"
     ]
    },
    {
     "name": "stderr",
     "output_type": "stream",
     "text": [
      "t: 100%|██████████| 61/61 [00:00<00:00, 91.53it/s, now=None] "
     ]
    },
    {
     "name": "stdout",
     "output_type": "stream",
     "text": [
      "Moviepy - Done !\n",
      "Moviepy - video ready ../storage/datasets/debug/aku_58.mp4\n",
      "[kamu]\t6\n"
     ]
    },
    {
     "name": "stderr",
     "output_type": "stream",
     "text": [
      "                                                            \r"
     ]
    },
    {
     "name": "stdout",
     "output_type": "stream",
     "text": [
      "Moviepy - Done !\n",
      "Moviepy - video ready ../storage/datasets/debug/kamu_0.mp4\n",
      "Moviepy - Building video ../storage/datasets/debug/kamu_1.mp4.\n",
      "Moviepy - Writing video ../storage/datasets/debug/kamu_1.mp4\n",
      "\n"
     ]
    },
    {
     "name": "stderr",
     "output_type": "stream",
     "text": [
      "                                                             \r"
     ]
    },
    {
     "name": "stdout",
     "output_type": "stream",
     "text": [
      "Moviepy - Done !\n",
      "Moviepy - video ready ../storage/datasets/debug/kamu_1.mp4\n",
      "Moviepy - Building video ../storage/datasets/debug/aku_59.mp4.\n",
      "Moviepy - Writing video ../storage/datasets/debug/aku_59.mp4\n",
      "\n"
     ]
    },
    {
     "name": "stderr",
     "output_type": "stream",
     "text": [
      "                                                             \r"
     ]
    },
    {
     "name": "stdout",
     "output_type": "stream",
     "text": [
      "Moviepy - Done !\n",
      "Moviepy - video ready ../storage/datasets/debug/aku_59.mp4\n",
      "[kamu]\t7\n",
      "Moviepy - Building video ../storage/datasets/debug/kamu_2.mp4.\n",
      "Moviepy - Writing video ../storage/datasets/debug/kamu_2.mp4\n",
      "\n"
     ]
    },
    {
     "name": "stderr",
     "output_type": "stream",
     "text": [
      "                                                             \r"
     ]
    },
    {
     "name": "stdout",
     "output_type": "stream",
     "text": [
      "Moviepy - Building video ../storage/datasets/debug/kamu_3.mp4.\n",
      "Moviepy - Writing video ../storage/datasets/debug/kamu_3.mp4\n",
      "\n"
     ]
    },
    {
     "name": "stderr",
     "output_type": "stream",
     "text": [
      "                                                             \r"
     ]
    },
    {
     "name": "stdout",
     "output_type": "stream",
     "text": [
      "Moviepy - Done !\n",
      "Moviepy - video ready ../storage/datasets/debug/kamu_2.mp4\n",
      "Moviepy - Done !\n",
      "Moviepy - video ready ../storage/datasets/debug/kamu_3.mp4\n",
      "Moviepy - Building video ../storage/datasets/debug/kamu_4.mp4.\n",
      "Moviepy - Writing video ../storage/datasets/debug/kamu_4.mp4\n",
      "\n"
     ]
    },
    {
     "name": "stderr",
     "output_type": "stream",
     "text": [
      "                                                             \r"
     ]
    },
    {
     "name": "stdout",
     "output_type": "stream",
     "text": [
      "Moviepy - Building video ../storage/datasets/debug/kamu_5.mp4.\n",
      "Moviepy - Writing video ../storage/datasets/debug/kamu_5.mp4\n",
      "\n"
     ]
    },
    {
     "name": "stderr",
     "output_type": "stream",
     "text": [
      "                                                             \r"
     ]
    },
    {
     "name": "stdout",
     "output_type": "stream",
     "text": [
      "Moviepy - Done !\n",
      "Moviepy - video ready ../storage/datasets/debug/kamu_4.mp4\n",
      "Moviepy - Done !\n",
      "Moviepy - video ready ../storage/datasets/debug/kamu_5.mp4\n",
      "Moviepy - Building video ../storage/datasets/debug/kamu_6.mp4.\n",
      "Moviepy - Writing video ../storage/datasets/debug/kamu_6.mp4\n",
      "\n"
     ]
    },
    {
     "name": "stderr",
     "output_type": "stream",
     "text": [
      "                                                             \r"
     ]
    },
    {
     "name": "stdout",
     "output_type": "stream",
     "text": [
      "Moviepy - Done !\n",
      "Moviepy - video ready ../storage/datasets/debug/kamu_6.mp4\n",
      "Moviepy - Building video ../storage/datasets/debug/kamu_0.mp4.\n",
      "Moviepy - Writing video ../storage/datasets/debug/kamu_0.mp4\n",
      "\n"
     ]
    },
    {
     "name": "stderr",
     "output_type": "stream",
     "text": [
      "                                                             \r"
     ]
    },
    {
     "name": "stdout",
     "output_type": "stream",
     "text": [
      "Moviepy - Done !\n",
      "Moviepy - video ready ../storage/datasets/debug/kamu_0.mp4\n",
      "[kamu]\t8\n",
      "Moviepy - Building video ../storage/datasets/debug/kamu_1.mp4.\n",
      "Moviepy - Writing video ../storage/datasets/debug/kamu_1.mp4\n",
      "\n"
     ]
    },
    {
     "name": "stderr",
     "output_type": "stream",
     "text": [
      "                                                             \r"
     ]
    },
    {
     "name": "stdout",
     "output_type": "stream",
     "text": [
      "Moviepy - Done !\n",
      "Moviepy - video ready ../storage/datasets/debug/kamu_1.mp4\n",
      "[kamu]\t9\n",
      "Moviepy - Building video ../storage/datasets/debug/kamu_7.mp4.\n",
      "Moviepy - Writing video ../storage/datasets/debug/kamu_7.mp4\n",
      "\n"
     ]
    },
    {
     "name": "stderr",
     "output_type": "stream",
     "text": [
      "                                                             \r"
     ]
    },
    {
     "name": "stdout",
     "output_type": "stream",
     "text": [
      "Moviepy - Done !\n",
      "Moviepy - video ready ../storage/datasets/debug/kamu_7.mp4\n",
      "Moviepy - Building video ../storage/datasets/debug/kamu_2.mp4.\n",
      "Moviepy - Writing video ../storage/datasets/debug/kamu_2.mp4\n",
      "\n"
     ]
    },
    {
     "name": "stderr",
     "output_type": "stream",
     "text": [
      "                                                             \r"
     ]
    },
    {
     "name": "stdout",
     "output_type": "stream",
     "text": [
      "Moviepy - Building video ../storage/datasets/debug/kamu_3.mp4.\n",
      "Moviepy - Writing video ../storage/datasets/debug/kamu_3.mp4\n",
      "\n"
     ]
    },
    {
     "name": "stderr",
     "output_type": "stream",
     "text": [
      "t:  79%|███████▊  | 48/61 [00:00<00:00, 104.31it/s, now=None]"
     ]
    },
    {
     "name": "stdout",
     "output_type": "stream",
     "text": [
      "Moviepy - Done !\n",
      "Moviepy - video ready ../storage/datasets/debug/kamu_2.mp4\n",
      "[kamu]\t10\n"
     ]
    },
    {
     "name": "stderr",
     "output_type": "stream",
     "text": [
      "                                                             \r"
     ]
    },
    {
     "name": "stdout",
     "output_type": "stream",
     "text": [
      "Moviepy - Building video ../storage/datasets/debug/kamu_4.mp4.\n",
      "Moviepy - Writing video ../storage/datasets/debug/kamu_4.mp4\n",
      "\n"
     ]
    },
    {
     "name": "stderr",
     "output_type": "stream",
     "text": [
      "t:   3%|▎         | 2/61 [00:00<00:04, 11.98it/s, now=None]"
     ]
    },
    {
     "name": "stdout",
     "output_type": "stream",
     "text": [
      "Moviepy - Done !\n",
      "Moviepy - video ready ../storage/datasets/debug/kamu_3.mp4\n",
      "[kamu]\t11\n"
     ]
    },
    {
     "name": "stderr",
     "output_type": "stream",
     "text": [
      "                                                             \r"
     ]
    },
    {
     "name": "stdout",
     "output_type": "stream",
     "text": [
      "Moviepy - Building video ../storage/datasets/debug/kamu_5.mp4.\n",
      "Moviepy - Writing video ../storage/datasets/debug/kamu_5.mp4\n",
      "\n"
     ]
    },
    {
     "name": "stderr",
     "output_type": "stream",
     "text": [
      "t:  98%|█████████▊| 60/61 [00:01<00:00, 42.79it/s, now=None] "
     ]
    },
    {
     "name": "stdout",
     "output_type": "stream",
     "text": [
      "Moviepy - Building video ../storage/datasets/debug/kamu_6.mp4.\n",
      "Moviepy - Writing video ../storage/datasets/debug/kamu_6.mp4\n",
      "\n"
     ]
    },
    {
     "name": "stderr",
     "output_type": "stream",
     "text": [
      "                                                            "
     ]
    },
    {
     "name": "stdout",
     "output_type": "stream",
     "text": [
      "Moviepy - Done !\n",
      "Moviepy - video ready ../storage/datasets/debug/kamu_4.mp4\n",
      "[kamu]\t12\n",
      "Moviepy - Building video ../storage/datasets/debug/kamu_8.mp4.\n",
      "Moviepy - Writing video ../storage/datasets/debug/kamu_8.mp4\n",
      "\n"
     ]
    },
    {
     "name": "stderr",
     "output_type": "stream",
     "text": [
      "t: 100%|██████████| 61/61 [00:01<00:00, 44.11it/s, now=None] "
     ]
    },
    {
     "name": "stdout",
     "output_type": "stream",
     "text": [
      "Moviepy - Done !\n",
      "Moviepy - video ready ../storage/datasets/debug/kamu_5.mp4\n",
      "[kamu]\t13\n",
      "Moviepy - Building video ../storage/datasets/debug/kamu_9.mp4.\n",
      "Moviepy - Writing video ../storage/datasets/debug/kamu_9.mp4\n",
      "\n"
     ]
    },
    {
     "name": "stderr",
     "output_type": "stream",
     "text": [
      "                                                            "
     ]
    },
    {
     "name": "stdout",
     "output_type": "stream",
     "text": [
      "Moviepy - Done !\n",
      "Moviepy - video ready ../storage/datasets/debug/kamu_6.mp4\n",
      "[kamu]\t14\n",
      "Moviepy - Done !\n",
      "Moviepy - video ready ../storage/datasets/debug/kamu_8.mp4\n",
      "Moviepy - Done !\n",
      "Moviepy - video ready ../storage/datasets/debug/kamu_9.mp4\n",
      "Moviepy - Building video ../storage/datasets/debug/kamu_7.mp4.\n",
      "Moviepy - Writing video ../storage/datasets/debug/kamu_7.mp4\n",
      "\n"
     ]
    },
    {
     "name": "stderr",
     "output_type": "stream",
     "text": [
      "                                                             \r"
     ]
    },
    {
     "name": "stdout",
     "output_type": "stream",
     "text": [
      "Moviepy - Done !\n",
      "Moviepy - video ready ../storage/datasets/debug/kamu_7.mp4\n",
      "[kamu]\t15\n",
      "Moviepy - Building video ../storage/datasets/debug/kamu_10.mp4.\n",
      "Moviepy - Writing video ../storage/datasets/debug/kamu_10.mp4\n",
      "\n"
     ]
    },
    {
     "name": "stderr",
     "output_type": "stream",
     "text": [
      "                                                             \r"
     ]
    },
    {
     "name": "stdout",
     "output_type": "stream",
     "text": [
      "Moviepy - Done !\n",
      "Moviepy - video ready ../storage/datasets/debug/kamu_10.mp4\n",
      "Moviepy - Building video ../storage/datasets/debug/kamu_11.mp4.\n",
      "Moviepy - Writing video ../storage/datasets/debug/kamu_11.mp4\n",
      "\n"
     ]
    },
    {
     "name": "stderr",
     "output_type": "stream",
     "text": [
      "                                                             \r"
     ]
    },
    {
     "name": "stdout",
     "output_type": "stream",
     "text": [
      "Moviepy - Done !\n",
      "Moviepy - video ready ../storage/datasets/debug/kamu_11.mp4\n",
      "Moviepy - Building video ../storage/datasets/debug/kamu_12.mp4.\n",
      "Moviepy - Writing video ../storage/datasets/debug/kamu_12.mp4\n",
      "\n"
     ]
    },
    {
     "name": "stderr",
     "output_type": "stream",
     "text": [
      "                                                             \r"
     ]
    },
    {
     "name": "stdout",
     "output_type": "stream",
     "text": [
      "Moviepy - Done !\n",
      "Moviepy - video ready ../storage/datasets/debug/kamu_12.mp4\n",
      "Moviepy - Building video ../storage/datasets/debug/kamu_13.mp4.\n",
      "Moviepy - Writing video ../storage/datasets/debug/kamu_13.mp4\n",
      "\n"
     ]
    },
    {
     "name": "stderr",
     "output_type": "stream",
     "text": [
      "                                                            \r"
     ]
    },
    {
     "name": "stdout",
     "output_type": "stream",
     "text": [
      "Moviepy - Building video ../storage/datasets/debug/kamu_14.mp4.\n",
      "Moviepy - Writing video ../storage/datasets/debug/kamu_14.mp4\n",
      "\n"
     ]
    },
    {
     "name": "stderr",
     "output_type": "stream",
     "text": [
      "                                                             \r"
     ]
    },
    {
     "name": "stdout",
     "output_type": "stream",
     "text": [
      "Moviepy - Done !\n",
      "Moviepy - video ready ../storage/datasets/debug/kamu_13.mp4\n",
      "Moviepy - Building video ../storage/datasets/debug/kamu_8.mp4.\n",
      "Moviepy - Writing video ../storage/datasets/debug/kamu_8.mp4\n",
      "\n"
     ]
    },
    {
     "name": "stderr",
     "output_type": "stream",
     "text": [
      "t:  89%|████████▊ | 54/61 [00:00<00:00, 112.26it/s, now=None]"
     ]
    },
    {
     "name": "stdout",
     "output_type": "stream",
     "text": [
      "Moviepy - Building video ../storage/datasets/debug/kamu_9.mp4.\n",
      "Moviepy - Writing video ../storage/datasets/debug/kamu_9.mp4\n",
      "\n"
     ]
    },
    {
     "name": "stderr",
     "output_type": "stream",
     "text": [
      "                                                             "
     ]
    },
    {
     "name": "stdout",
     "output_type": "stream",
     "text": [
      "Moviepy - Done !\n",
      "Moviepy - video ready ../storage/datasets/debug/kamu_14.mp4\n",
      "Moviepy - Done !\n",
      "Moviepy - video ready ../storage/datasets/debug/kamu_8.mp4\n",
      "[kamu]\t16\n",
      "Moviepy - Done !\n",
      "Moviepy - video ready ../storage/datasets/debug/kamu_9.mp4\n",
      "[kamu]\t17\n",
      "Moviepy - Building video ../storage/datasets/debug/kamu_15.mp4.\n",
      "Moviepy - Writing video ../storage/datasets/debug/kamu_15.mp4\n",
      "\n"
     ]
    },
    {
     "name": "stderr",
     "output_type": "stream",
     "text": [
      "                                                            \r"
     ]
    },
    {
     "name": "stdout",
     "output_type": "stream",
     "text": [
      "Moviepy - Done !\n",
      "Moviepy - video ready ../storage/datasets/debug/kamu_15.mp4\n",
      "Moviepy - Building video ../storage/datasets/debug/kamu_10.mp4.\n",
      "Moviepy - Writing video ../storage/datasets/debug/kamu_10.mp4\n",
      "\n"
     ]
    },
    {
     "name": "stderr",
     "output_type": "stream",
     "text": [
      "                                                             \r"
     ]
    },
    {
     "name": "stdout",
     "output_type": "stream",
     "text": [
      "Moviepy - Done !\n",
      "Moviepy - video ready ../storage/datasets/debug/kamu_10.mp4\n",
      "[kamu]\t18\n",
      "Moviepy - Building video ../storage/datasets/debug/kamu_11.mp4.\n",
      "Moviepy - Writing video ../storage/datasets/debug/kamu_11.mp4\n",
      "\n"
     ]
    },
    {
     "name": "stderr",
     "output_type": "stream",
     "text": [
      "                                                             \r"
     ]
    },
    {
     "name": "stdout",
     "output_type": "stream",
     "text": [
      "Moviepy - Done !\n",
      "Moviepy - video ready ../storage/datasets/debug/kamu_11.mp4\n",
      "[kamu]\t19\n",
      "Moviepy - Building video ../storage/datasets/debug/kamu_12.mp4.\n",
      "Moviepy - Writing video ../storage/datasets/debug/kamu_12.mp4\n",
      "\n"
     ]
    },
    {
     "name": "stderr",
     "output_type": "stream",
     "text": [
      "                                                             \r"
     ]
    },
    {
     "name": "stdout",
     "output_type": "stream",
     "text": [
      "Moviepy - Done !\n",
      "Moviepy - video ready ../storage/datasets/debug/kamu_12.mp4\n",
      "[kamu]\t20\n",
      "Moviepy - Building video ../storage/datasets/debug/kamu_13.mp4.\n",
      "Moviepy - Writing video ../storage/datasets/debug/kamu_13.mp4\n",
      "\n"
     ]
    },
    {
     "name": "stderr",
     "output_type": "stream",
     "text": [
      "                                                             \r"
     ]
    },
    {
     "name": "stdout",
     "output_type": "stream",
     "text": [
      "Moviepy - Done !\n",
      "Moviepy - video ready ../storage/datasets/debug/kamu_13.mp4\n",
      "[kamu]\t21\n",
      "Moviepy - Building video ../storage/datasets/debug/kamu_14.mp4.\n",
      "Moviepy - Writing video ../storage/datasets/debug/kamu_14.mp4\n",
      "\n"
     ]
    },
    {
     "name": "stderr",
     "output_type": "stream",
     "text": [
      "t: 100%|██████████| 61/61 [00:00<00:00, 113.48it/s, now=None]"
     ]
    },
    {
     "name": "stdout",
     "output_type": "stream",
     "text": [
      "Moviepy - Building video ../storage/datasets/debug/kamu_16.mp4.\n",
      "Moviepy - Writing video ../storage/datasets/debug/kamu_16.mp4\n",
      "\n"
     ]
    },
    {
     "name": "stderr",
     "output_type": "stream",
     "text": [
      "                                                             "
     ]
    },
    {
     "name": "stdout",
     "output_type": "stream",
     "text": [
      "Moviepy - Building video ../storage/datasets/debug/kamu_17.mp4.\n",
      "Moviepy - Writing video ../storage/datasets/debug/kamu_17.mp4\n",
      "\n"
     ]
    },
    {
     "name": "stderr",
     "output_type": "stream",
     "text": [
      "t:  79%|███████▊  | 48/61 [00:00<00:00, 113.24it/s, now=None]"
     ]
    },
    {
     "name": "stdout",
     "output_type": "stream",
     "text": [
      "Moviepy - Done !\n",
      "Moviepy - video ready ../storage/datasets/debug/kamu_14.mp4\n",
      "[kamu]\t22\n"
     ]
    },
    {
     "name": "stderr",
     "output_type": "stream",
     "text": [
      "t: 100%|██████████| 61/61 [00:01<00:00, 48.15it/s, now=None] "
     ]
    },
    {
     "name": "stdout",
     "output_type": "stream",
     "text": [
      "Moviepy - Building video ../storage/datasets/debug/kamu_15.mp4.\n",
      "Moviepy - Writing video ../storage/datasets/debug/kamu_15.mp4\n",
      "\n"
     ]
    },
    {
     "name": "stderr",
     "output_type": "stream",
     "text": [
      "                                                            "
     ]
    },
    {
     "name": "stdout",
     "output_type": "stream",
     "text": [
      "Moviepy - Done !\n",
      "Moviepy - video ready ../storage/datasets/debug/kamu_16.mp4\n",
      "Moviepy - Done !\n",
      "Moviepy - video ready ../storage/datasets/debug/kamu_17.mp4\n",
      "Moviepy - Done !\n",
      "Moviepy - video ready ../storage/datasets/debug/kamu_15.mp4\n",
      "[kamu]\t23\n",
      "Moviepy - Building video ../storage/datasets/debug/kamu_18.mp4.\n",
      "Moviepy - Writing video ../storage/datasets/debug/kamu_18.mp4\n",
      "\n"
     ]
    },
    {
     "name": "stderr",
     "output_type": "stream",
     "text": [
      "                                                             \r"
     ]
    },
    {
     "name": "stdout",
     "output_type": "stream",
     "text": [
      "Moviepy - Done !\n",
      "Moviepy - video ready ../storage/datasets/debug/kamu_18.mp4\n",
      "Moviepy - Building video ../storage/datasets/debug/kamu_19.mp4.\n",
      "Moviepy - Writing video ../storage/datasets/debug/kamu_19.mp4\n",
      "\n"
     ]
    },
    {
     "name": "stderr",
     "output_type": "stream",
     "text": [
      "                                                             \r"
     ]
    },
    {
     "name": "stdout",
     "output_type": "stream",
     "text": [
      "Moviepy - Done !\n",
      "Moviepy - video ready ../storage/datasets/debug/kamu_19.mp4\n",
      "Moviepy - Building video ../storage/datasets/debug/kamu_20.mp4.\n",
      "Moviepy - Writing video ../storage/datasets/debug/kamu_20.mp4\n",
      "\n"
     ]
    },
    {
     "name": "stderr",
     "output_type": "stream",
     "text": [
      "                                                             \r"
     ]
    },
    {
     "name": "stdout",
     "output_type": "stream",
     "text": [
      "Moviepy - Done !\n",
      "Moviepy - video ready ../storage/datasets/debug/kamu_20.mp4\n",
      "Moviepy - Building video ../storage/datasets/debug/kamu_21.mp4.\n",
      "Moviepy - Writing video ../storage/datasets/debug/kamu_21.mp4\n",
      "\n"
     ]
    },
    {
     "name": "stderr",
     "output_type": "stream",
     "text": [
      "                                                             \r"
     ]
    },
    {
     "name": "stdout",
     "output_type": "stream",
     "text": [
      "Moviepy - Done !\n",
      "Moviepy - video ready ../storage/datasets/debug/kamu_21.mp4\n",
      "Moviepy - Building video ../storage/datasets/debug/kamu_22.mp4.\n",
      "Moviepy - Writing video ../storage/datasets/debug/kamu_22.mp4\n",
      "\n"
     ]
    },
    {
     "name": "stderr",
     "output_type": "stream",
     "text": [
      "                                                             \r"
     ]
    },
    {
     "name": "stdout",
     "output_type": "stream",
     "text": [
      "Moviepy - Done !\n",
      "Moviepy - video ready ../storage/datasets/debug/kamu_22.mp4\n",
      "Moviepy - Building video ../storage/datasets/debug/kamu_16.mp4.\n",
      "Moviepy - Writing video ../storage/datasets/debug/kamu_16.mp4\n",
      "\n"
     ]
    },
    {
     "name": "stderr",
     "output_type": "stream",
     "text": [
      "                                                             \r"
     ]
    },
    {
     "name": "stdout",
     "output_type": "stream",
     "text": [
      "Moviepy - Done !\n",
      "Moviepy - video ready ../storage/datasets/debug/kamu_16.mp4\n",
      "[kamu]\t24\n",
      "Moviepy - Building video ../storage/datasets/debug/kamu_17.mp4.\n",
      "Moviepy - Writing video ../storage/datasets/debug/kamu_17.mp4\n",
      "\n"
     ]
    },
    {
     "name": "stderr",
     "output_type": "stream",
     "text": [
      "t:  15%|█▍        | 9/61 [00:00<00:02, 17.77it/s, now=None]"
     ]
    },
    {
     "name": "stdout",
     "output_type": "stream",
     "text": [
      "Moviepy - Building video ../storage/datasets/debug/kamu_23.mp4.\n",
      "Moviepy - Writing video ../storage/datasets/debug/kamu_23.mp4\n",
      "\n"
     ]
    },
    {
     "name": "stderr",
     "output_type": "stream",
     "text": [
      "                                                            "
     ]
    },
    {
     "name": "stdout",
     "output_type": "stream",
     "text": [
      "Moviepy - Done !\n",
      "Moviepy - video ready ../storage/datasets/debug/kamu_17.mp4\n",
      "[kamu]\t25\n",
      "Moviepy - Done !\n",
      "Moviepy - video ready ../storage/datasets/debug/kamu_23.mp4\n",
      "Moviepy - Building video ../storage/datasets/debug/kamu_19.mp4.\n",
      "Moviepy - Writing video ../storage/datasets/debug/kamu_19.mp4\n",
      "\n"
     ]
    },
    {
     "name": "stderr",
     "output_type": "stream",
     "text": [
      "                                                             \r"
     ]
    },
    {
     "name": "stdout",
     "output_type": "stream",
     "text": [
      "Moviepy - Building video ../storage/datasets/debug/kamu_18.mp4.\n",
      "Moviepy - Writing video ../storage/datasets/debug/kamu_18.mp4\n",
      "\n"
     ]
    },
    {
     "name": "stderr",
     "output_type": "stream",
     "text": [
      "t:  97%|█████████▋| 59/61 [00:00<00:00, 118.09it/s, now=None]"
     ]
    },
    {
     "name": "stdout",
     "output_type": "stream",
     "text": [
      "Moviepy - Done !\n",
      "Moviepy - video ready ../storage/datasets/debug/kamu_19.mp4\n",
      "[kamu]\t26\n"
     ]
    },
    {
     "name": "stderr",
     "output_type": "stream",
     "text": [
      "                                                             \r"
     ]
    },
    {
     "name": "stdout",
     "output_type": "stream",
     "text": [
      "Moviepy - Done !\n",
      "Moviepy - video ready ../storage/datasets/debug/kamu_18.mp4\n",
      "[kamu]\t27\n",
      "Moviepy - Building video ../storage/datasets/debug/kamu_20.mp4.\n",
      "Moviepy - Writing video ../storage/datasets/debug/kamu_20.mp4\n",
      "\n"
     ]
    },
    {
     "name": "stderr",
     "output_type": "stream",
     "text": [
      "                                                             \r"
     ]
    },
    {
     "name": "stdout",
     "output_type": "stream",
     "text": [
      "Moviepy - Done !\n",
      "Moviepy - video ready ../storage/datasets/debug/kamu_20.mp4\n",
      "[kamu]\t28\n",
      "Moviepy - Building video ../storage/datasets/debug/kamu_21.mp4.\n",
      "Moviepy - Writing video ../storage/datasets/debug/kamu_21.mp4\n",
      "\n"
     ]
    },
    {
     "name": "stderr",
     "output_type": "stream",
     "text": [
      "                                                             \r"
     ]
    },
    {
     "name": "stdout",
     "output_type": "stream",
     "text": [
      "Moviepy - Done !\n",
      "Moviepy - video ready ../storage/datasets/debug/kamu_21.mp4\n",
      "[kamu]\t29\n",
      "Moviepy - Building video ../storage/datasets/debug/kamu_22.mp4.\n",
      "Moviepy - Writing video ../storage/datasets/debug/kamu_22.mp4\n",
      "\n"
     ]
    },
    {
     "name": "stderr",
     "output_type": "stream",
     "text": [
      "                                                             \r"
     ]
    },
    {
     "name": "stdout",
     "output_type": "stream",
     "text": [
      "Moviepy - Building video ../storage/datasets/debug/kamu_24.mp4.\n",
      "Moviepy - Writing video ../storage/datasets/debug/kamu_24.mp4\n",
      "\n"
     ]
    },
    {
     "name": "stderr",
     "output_type": "stream",
     "text": [
      "                                                             \r"
     ]
    },
    {
     "name": "stdout",
     "output_type": "stream",
     "text": [
      "Moviepy - Done !\n",
      "Moviepy - video ready ../storage/datasets/debug/kamu_22.mp4\n",
      "[kamu]\t30\n",
      "Moviepy - Building video ../storage/datasets/debug/kamu_25.mp4.\n",
      "Moviepy - Writing video ../storage/datasets/debug/kamu_25.mp4\n",
      "\n"
     ]
    },
    {
     "name": "stderr",
     "output_type": "stream",
     "text": [
      "t:  77%|███████▋  | 47/61 [00:01<00:00, 45.53it/s, now=None]"
     ]
    },
    {
     "name": "stdout",
     "output_type": "stream",
     "text": [
      "Moviepy - Building video ../storage/datasets/debug/kamu_23.mp4.\n",
      "Moviepy - Writing video ../storage/datasets/debug/kamu_23.mp4\n",
      "\n"
     ]
    },
    {
     "name": "stderr",
     "output_type": "stream",
     "text": [
      "                                                            "
     ]
    },
    {
     "name": "stdout",
     "output_type": "stream",
     "text": [
      "Moviepy - Done !\n",
      "Moviepy - video ready ../storage/datasets/debug/kamu_24.mp4\n",
      "Moviepy - Done !\n",
      "Moviepy - video ready ../storage/datasets/debug/kamu_23.mp4\n",
      "[kamu]\t31\n",
      "Moviepy - Done !\n",
      "Moviepy - video ready ../storage/datasets/debug/kamu_25.mp4\n",
      "Moviepy - Building video ../storage/datasets/debug/kamu_26.mp4.\n",
      "Moviepy - Writing video ../storage/datasets/debug/kamu_26.mp4\n",
      "\n"
     ]
    },
    {
     "name": "stderr",
     "output_type": "stream",
     "text": [
      "                                                            \r"
     ]
    },
    {
     "name": "stdout",
     "output_type": "stream",
     "text": [
      "Moviepy - Done !\n",
      "Moviepy - video ready ../storage/datasets/debug/kamu_26.mp4\n",
      "Moviepy - Building video ../storage/datasets/debug/kamu_27.mp4.\n",
      "Moviepy - Writing video ../storage/datasets/debug/kamu_27.mp4\n",
      "\n"
     ]
    },
    {
     "name": "stderr",
     "output_type": "stream",
     "text": [
      "                                                             \r"
     ]
    },
    {
     "name": "stdout",
     "output_type": "stream",
     "text": [
      "Moviepy - Done !\n",
      "Moviepy - video ready ../storage/datasets/debug/kamu_27.mp4\n",
      "Moviepy - Building video ../storage/datasets/debug/kamu_28.mp4.\n",
      "Moviepy - Writing video ../storage/datasets/debug/kamu_28.mp4\n",
      "\n"
     ]
    },
    {
     "name": "stderr",
     "output_type": "stream",
     "text": [
      "                                                             \r"
     ]
    },
    {
     "name": "stdout",
     "output_type": "stream",
     "text": [
      "Moviepy - Done !\n",
      "Moviepy - video ready ../storage/datasets/debug/kamu_28.mp4\n",
      "Moviepy - Building video ../storage/datasets/debug/kamu_29.mp4.\n",
      "Moviepy - Writing video ../storage/datasets/debug/kamu_29.mp4\n",
      "\n"
     ]
    },
    {
     "name": "stderr",
     "output_type": "stream",
     "text": [
      "                                                             \r"
     ]
    },
    {
     "name": "stdout",
     "output_type": "stream",
     "text": [
      "Moviepy - Done !\n",
      "Moviepy - video ready ../storage/datasets/debug/kamu_29.mp4\n",
      "Moviepy - Building video ../storage/datasets/debug/kamu_30.mp4.\n",
      "Moviepy - Writing video ../storage/datasets/debug/kamu_30.mp4\n",
      "\n"
     ]
    },
    {
     "name": "stderr",
     "output_type": "stream",
     "text": [
      "                                                             \r"
     ]
    },
    {
     "name": "stdout",
     "output_type": "stream",
     "text": [
      "Moviepy - Done !\n",
      "Moviepy - video ready ../storage/datasets/debug/kamu_30.mp4\n",
      "Moviepy - Building video ../storage/datasets/debug/kamu_24.mp4.\n",
      "Moviepy - Writing video ../storage/datasets/debug/kamu_24.mp4\n",
      "\n"
     ]
    },
    {
     "name": "stderr",
     "output_type": "stream",
     "text": [
      "                                                             \r"
     ]
    },
    {
     "name": "stdout",
     "output_type": "stream",
     "text": [
      "Moviepy - Building video ../storage/datasets/debug/kamu_31.mp4.\n",
      "Moviepy - Writing video ../storage/datasets/debug/kamu_31.mp4\n",
      "\n"
     ]
    },
    {
     "name": "stderr",
     "output_type": "stream",
     "text": [
      "t:  38%|███▊      | 23/61 [00:00<00:00, 95.85it/s, now=None]"
     ]
    },
    {
     "name": "stdout",
     "output_type": "stream",
     "text": [
      "Moviepy - Building video ../storage/datasets/debug/kamu_25.mp4.\n",
      "Moviepy - Writing video ../storage/datasets/debug/kamu_25.mp4\n",
      "\n"
     ]
    },
    {
     "name": "stderr",
     "output_type": "stream",
     "text": [
      "                                                            "
     ]
    },
    {
     "name": "stdout",
     "output_type": "stream",
     "text": [
      "Moviepy - Done !\n",
      "Moviepy - video ready ../storage/datasets/debug/kamu_24.mp4\n",
      "[kamu]\t32\n",
      "Moviepy - Building video ../storage/datasets/debug/kamu_26.mp4.\n",
      "Moviepy - Writing video ../storage/datasets/debug/kamu_26.mp4\n",
      "\n"
     ]
    },
    {
     "name": "stderr",
     "output_type": "stream",
     "text": [
      "t: 100%|██████████| 61/61 [00:02<00:00, 23.19it/s, now=None]"
     ]
    },
    {
     "name": "stdout",
     "output_type": "stream",
     "text": [
      "Moviepy - Building video ../storage/datasets/debug/kamu_27.mp4.\n",
      "Moviepy - Writing video ../storage/datasets/debug/kamu_27.mp4\n",
      "\n"
     ]
    },
    {
     "name": "stderr",
     "output_type": "stream",
     "text": [
      "                                                            \n",
      "\u001b[A                                                         \n",
      "\u001b[A                                                         "
     ]
    },
    {
     "name": "stdout",
     "output_type": "stream",
     "text": [
      "Moviepy - Building video ../storage/datasets/debug/kamu_28.mp4.\n",
      "Moviepy - Writing video ../storage/datasets/debug/kamu_28.mp4\n",
      "\n"
     ]
    },
    {
     "name": "stderr",
     "output_type": "stream",
     "text": [
      "                                                             \r"
     ]
    },
    {
     "name": "stdout",
     "output_type": "stream",
     "text": [
      "Moviepy - Building video ../storage/datasets/debug/kamu_29.mp4.\n",
      "Moviepy - Writing video ../storage/datasets/debug/kamu_29.mp4\n",
      "\n"
     ]
    },
    {
     "name": "stderr",
     "output_type": "stream",
     "text": [
      "t:  77%|███████▋  | 47/61 [00:00<00:00, 119.67it/s, now=None]"
     ]
    },
    {
     "name": "stdout",
     "output_type": "stream",
     "text": [
      "Moviepy - Done !\n",
      "Moviepy - video ready ../storage/datasets/debug/kamu_25.mp4\n",
      "[kamu]\t33\n"
     ]
    },
    {
     "name": "stderr",
     "output_type": "stream",
     "text": [
      "t:  93%|█████████▎| 57/61 [00:02<00:00, 119.67it/s, now=None]"
     ]
    },
    {
     "name": "stdout",
     "output_type": "stream",
     "text": [
      "Moviepy - Done !\n",
      "Moviepy - video ready ../storage/datasets/debug/kamu_31.mp4\n"
     ]
    },
    {
     "name": "stderr",
     "output_type": "stream",
     "text": [
      "                                                             \r"
     ]
    },
    {
     "name": "stdout",
     "output_type": "stream",
     "text": [
      "Moviepy - Building video ../storage/datasets/debug/kamu_30.mp4.\n",
      "Moviepy - Writing video ../storage/datasets/debug/kamu_30.mp4\n",
      "\n"
     ]
    },
    {
     "name": "stderr",
     "output_type": "stream",
     "text": [
      "                                                             \r"
     ]
    },
    {
     "name": "stdout",
     "output_type": "stream",
     "text": [
      "Moviepy - Done !\n",
      "Moviepy - video ready ../storage/datasets/debug/kamu_26.mp4\n",
      "[kamu]\t34\n",
      "Moviepy - Building video ../storage/datasets/debug/kamu_32.mp4.\n",
      "Moviepy - Writing video ../storage/datasets/debug/kamu_32.mp4\n",
      "\n"
     ]
    },
    {
     "name": "stderr",
     "output_type": "stream",
     "text": [
      "t:  89%|████████▊ | 54/61 [00:01<00:00, 64.71it/s, now=None]"
     ]
    },
    {
     "name": "stdout",
     "output_type": "stream",
     "text": [
      "Moviepy - Done !\n",
      "Moviepy - video ready ../storage/datasets/debug/kamu_28.mp4\n",
      "[kamu]\t35\n"
     ]
    },
    {
     "name": "stderr",
     "output_type": "stream",
     "text": [
      "                                                            \r"
     ]
    },
    {
     "name": "stdout",
     "output_type": "stream",
     "text": [
      "Moviepy - Done !\n",
      "Moviepy - video ready ../storage/datasets/debug/kamu_27.mp4\n",
      "[kamu]\t36\n",
      "Moviepy - Done !\n",
      "Moviepy - video ready ../storage/datasets/debug/kamu_30.mp4\n",
      "[kamu]\t37\n",
      "Moviepy - Done !\n",
      "Moviepy - video ready ../storage/datasets/debug/kamu_29.mp4\n",
      "[kamu]\t38\n",
      "Moviepy - Done !\n",
      "Moviepy - video ready ../storage/datasets/debug/kamu_32.mp4\n",
      "Moviepy - Building video ../storage/datasets/debug/kamu_33.mp4.\n",
      "Moviepy - Writing video ../storage/datasets/debug/kamu_33.mp4\n",
      "\n"
     ]
    },
    {
     "name": "stderr",
     "output_type": "stream",
     "text": [
      "                                                             \r"
     ]
    },
    {
     "name": "stdout",
     "output_type": "stream",
     "text": [
      "Moviepy - Done !\n",
      "Moviepy - video ready ../storage/datasets/debug/kamu_33.mp4\n",
      "Moviepy - Building video ../storage/datasets/debug/kamu_31.mp4.\n",
      "Moviepy - Writing video ../storage/datasets/debug/kamu_31.mp4\n",
      "\n"
     ]
    },
    {
     "name": "stderr",
     "output_type": "stream",
     "text": [
      "                                                             \r"
     ]
    },
    {
     "name": "stdout",
     "output_type": "stream",
     "text": [
      "Moviepy - Done !\n",
      "Moviepy - video ready ../storage/datasets/debug/kamu_31.mp4\n",
      "[kamu]\t39\n",
      "Moviepy - Building video ../storage/datasets/debug/kamu_34.mp4.\n",
      "Moviepy - Writing video ../storage/datasets/debug/kamu_34.mp4\n",
      "\n"
     ]
    },
    {
     "name": "stderr",
     "output_type": "stream",
     "text": [
      "                                                             \r"
     ]
    },
    {
     "name": "stdout",
     "output_type": "stream",
     "text": [
      "Moviepy - Done !\n",
      "Moviepy - video ready ../storage/datasets/debug/kamu_34.mp4\n",
      "Moviepy - Building video ../storage/datasets/debug/kamu_35.mp4.\n",
      "Moviepy - Writing video ../storage/datasets/debug/kamu_35.mp4\n",
      "\n"
     ]
    },
    {
     "name": "stderr",
     "output_type": "stream",
     "text": [
      "                                                             \r"
     ]
    },
    {
     "name": "stdout",
     "output_type": "stream",
     "text": [
      "Moviepy - Building video ../storage/datasets/debug/kamu_36.mp4.\n",
      "Moviepy - Writing video ../storage/datasets/debug/kamu_36.mp4\n",
      "\n"
     ]
    },
    {
     "name": "stderr",
     "output_type": "stream",
     "text": [
      "                                                             \r"
     ]
    },
    {
     "name": "stdout",
     "output_type": "stream",
     "text": [
      "Moviepy - Done !\n",
      "Moviepy - video ready ../storage/datasets/debug/kamu_35.mp4\n",
      "Moviepy - Done !\n",
      "Moviepy - video ready ../storage/datasets/debug/kamu_36.mp4\n",
      "Moviepy - Building video ../storage/datasets/debug/kamu_37.mp4.\n",
      "Moviepy - Writing video ../storage/datasets/debug/kamu_37.mp4\n",
      "\n"
     ]
    },
    {
     "name": "stderr",
     "output_type": "stream",
     "text": [
      "                                                             \r"
     ]
    },
    {
     "name": "stdout",
     "output_type": "stream",
     "text": [
      "Moviepy - Done !\n",
      "Moviepy - video ready ../storage/datasets/debug/kamu_37.mp4\n",
      "Moviepy - Building video ../storage/datasets/debug/kamu_38.mp4.\n",
      "Moviepy - Writing video ../storage/datasets/debug/kamu_38.mp4\n",
      "\n"
     ]
    },
    {
     "name": "stderr",
     "output_type": "stream",
     "text": [
      "                                                            \r"
     ]
    },
    {
     "name": "stdout",
     "output_type": "stream",
     "text": [
      "Moviepy - Building video ../storage/datasets/debug/kamu_32.mp4.\n",
      "Moviepy - Writing video ../storage/datasets/debug/kamu_32.mp4\n",
      "\n"
     ]
    },
    {
     "name": "stderr",
     "output_type": "stream",
     "text": [
      "                                                             \r"
     ]
    },
    {
     "name": "stdout",
     "output_type": "stream",
     "text": [
      "Moviepy - Done !\n",
      "Moviepy - video ready ../storage/datasets/debug/kamu_38.mp4\n",
      "Moviepy - Done !\n",
      "Moviepy - video ready ../storage/datasets/debug/kamu_32.mp4\n",
      "[kamu]\t40\n",
      "Moviepy - Building video ../storage/datasets/debug/kamu_33.mp4.\n",
      "Moviepy - Writing video ../storage/datasets/debug/kamu_33.mp4\n",
      "\n"
     ]
    },
    {
     "name": "stderr",
     "output_type": "stream",
     "text": [
      "                                                             \r"
     ]
    },
    {
     "name": "stdout",
     "output_type": "stream",
     "text": [
      "Moviepy - Done !\n",
      "Moviepy - video ready ../storage/datasets/debug/kamu_33.mp4\n",
      "[kamu]\t41\n",
      "Moviepy - Building video ../storage/datasets/debug/kamu_39.mp4.\n",
      "Moviepy - Writing video ../storage/datasets/debug/kamu_39.mp4\n",
      "\n"
     ]
    },
    {
     "name": "stderr",
     "output_type": "stream",
     "text": [
      "                                                             \r"
     ]
    },
    {
     "name": "stdout",
     "output_type": "stream",
     "text": [
      "Moviepy - Done !\n",
      "Moviepy - video ready ../storage/datasets/debug/kamu_39.mp4\n",
      "Moviepy - Building video ../storage/datasets/debug/kamu_34.mp4.\n",
      "Moviepy - Writing video ../storage/datasets/debug/kamu_34.mp4\n",
      "\n"
     ]
    },
    {
     "name": "stderr",
     "output_type": "stream",
     "text": [
      "                                                             \r"
     ]
    },
    {
     "name": "stdout",
     "output_type": "stream",
     "text": [
      "Moviepy - Done !\n",
      "Moviepy - video ready ../storage/datasets/debug/kamu_34.mp4\n",
      "[kamu]\t42\n",
      "Moviepy - Building video ../storage/datasets/debug/kamu_35.mp4.\n",
      "Moviepy - Writing video ../storage/datasets/debug/kamu_35.mp4\n",
      "\n"
     ]
    },
    {
     "name": "stderr",
     "output_type": "stream",
     "text": [
      "                                                             \r"
     ]
    },
    {
     "name": "stdout",
     "output_type": "stream",
     "text": [
      "Moviepy - Done !\n",
      "Moviepy - video ready ../storage/datasets/debug/kamu_35.mp4\n",
      "[kamu]\t43\n",
      "Moviepy - Building video ../storage/datasets/debug/kamu_36.mp4.\n",
      "Moviepy - Writing video ../storage/datasets/debug/kamu_36.mp4\n",
      "\n"
     ]
    },
    {
     "name": "stderr",
     "output_type": "stream",
     "text": [
      "                                                             \r"
     ]
    },
    {
     "name": "stdout",
     "output_type": "stream",
     "text": [
      "Moviepy - Building video ../storage/datasets/debug/kamu_37.mp4.\n",
      "Moviepy - Writing video ../storage/datasets/debug/kamu_37.mp4\n",
      "\n"
     ]
    },
    {
     "name": "stderr",
     "output_type": "stream",
     "text": [
      "                                                             \r"
     ]
    },
    {
     "name": "stdout",
     "output_type": "stream",
     "text": [
      "Moviepy - Done !\n",
      "Moviepy - video ready ../storage/datasets/debug/kamu_36.mp4\n",
      "[kamu]\t44\n",
      "Moviepy - Done !\n",
      "Moviepy - video ready ../storage/datasets/debug/kamu_37.mp4\n",
      "[kamu]\t45\n",
      "Moviepy - Building video ../storage/datasets/debug/kamu_38.mp4.\n",
      "Moviepy - Writing video ../storage/datasets/debug/kamu_38.mp4\n",
      "\n"
     ]
    },
    {
     "name": "stderr",
     "output_type": "stream",
     "text": [
      "                                                            \r"
     ]
    },
    {
     "name": "stdout",
     "output_type": "stream",
     "text": [
      "Moviepy - Done !\n",
      "Moviepy - video ready ../storage/datasets/debug/kamu_38.mp4\n",
      "[kamu]\t46\n",
      "Moviepy - Building video ../storage/datasets/debug/kamu_40.mp4.\n",
      "Moviepy - Writing video ../storage/datasets/debug/kamu_40.mp4\n",
      "\n"
     ]
    },
    {
     "name": "stderr",
     "output_type": "stream",
     "text": [
      "                                                             \r"
     ]
    },
    {
     "name": "stdout",
     "output_type": "stream",
     "text": [
      "Moviepy - Done !\n",
      "Moviepy - video ready ../storage/datasets/debug/kamu_40.mp4\n",
      "Moviepy - Building video ../storage/datasets/debug/kamu_41.mp4.\n",
      "Moviepy - Writing video ../storage/datasets/debug/kamu_41.mp4\n",
      "\n"
     ]
    },
    {
     "name": "stderr",
     "output_type": "stream",
     "text": [
      "                                                             \r"
     ]
    },
    {
     "name": "stdout",
     "output_type": "stream",
     "text": [
      "Moviepy - Building video ../storage/datasets/debug/kamu_39.mp4.\n",
      "Moviepy - Writing video ../storage/datasets/debug/kamu_39.mp4\n",
      "\n"
     ]
    },
    {
     "name": "stderr",
     "output_type": "stream",
     "text": [
      "                                                             \r"
     ]
    },
    {
     "name": "stdout",
     "output_type": "stream",
     "text": [
      "Moviepy - Done !\n",
      "Moviepy - video ready ../storage/datasets/debug/kamu_41.mp4\n",
      "Moviepy - Done !\n",
      "Moviepy - video ready ../storage/datasets/debug/kamu_39.mp4\n",
      "[kamu]\t47\n",
      "Moviepy - Building video ../storage/datasets/debug/kamu_42.mp4.\n",
      "Moviepy - Writing video ../storage/datasets/debug/kamu_42.mp4\n",
      "\n"
     ]
    },
    {
     "name": "stderr",
     "output_type": "stream",
     "text": [
      "                                                             \r"
     ]
    },
    {
     "name": "stdout",
     "output_type": "stream",
     "text": [
      "Moviepy - Done !\n",
      "Moviepy - video ready ../storage/datasets/debug/kamu_42.mp4\n",
      "Moviepy - Building video ../storage/datasets/debug/kamu_43.mp4.\n",
      "Moviepy - Writing video ../storage/datasets/debug/kamu_43.mp4\n",
      "\n"
     ]
    },
    {
     "name": "stderr",
     "output_type": "stream",
     "text": [
      "                                                             \r"
     ]
    },
    {
     "name": "stdout",
     "output_type": "stream",
     "text": [
      "Moviepy - Done !\n",
      "Moviepy - video ready ../storage/datasets/debug/kamu_43.mp4\n",
      "Moviepy - Building video ../storage/datasets/debug/kamu_44.mp4.\n",
      "Moviepy - Writing video ../storage/datasets/debug/kamu_44.mp4\n",
      "\n"
     ]
    },
    {
     "name": "stderr",
     "output_type": "stream",
     "text": [
      "                                                             \r"
     ]
    },
    {
     "name": "stdout",
     "output_type": "stream",
     "text": [
      "Moviepy - Building video ../storage/datasets/debug/kamu_45.mp4.\n",
      "Moviepy - Writing video ../storage/datasets/debug/kamu_45.mp4\n",
      "\n"
     ]
    },
    {
     "name": "stderr",
     "output_type": "stream",
     "text": [
      "                                                             \r"
     ]
    },
    {
     "name": "stdout",
     "output_type": "stream",
     "text": [
      "Moviepy - Done !\n",
      "Moviepy - video ready ../storage/datasets/debug/kamu_44.mp4\n",
      "Moviepy - Building video ../storage/datasets/debug/kamu_46.mp4.\n",
      "Moviepy - Writing video ../storage/datasets/debug/kamu_46.mp4\n",
      "\n"
     ]
    },
    {
     "name": "stderr",
     "output_type": "stream",
     "text": [
      "                                                             \r"
     ]
    },
    {
     "name": "stdout",
     "output_type": "stream",
     "text": [
      "Moviepy - Done !\n",
      "Moviepy - video ready ../storage/datasets/debug/kamu_45.mp4\n",
      "Moviepy - Building video ../storage/datasets/debug/kamu_40.mp4.\n",
      "Moviepy - Writing video ../storage/datasets/debug/kamu_40.mp4\n",
      "\n"
     ]
    },
    {
     "name": "stderr",
     "output_type": "stream",
     "text": [
      "t: 100%|██████████| 61/61 [00:00<00:00, 121.36it/s, now=None]"
     ]
    },
    {
     "name": "stdout",
     "output_type": "stream",
     "text": [
      "Moviepy - Done !\n",
      "Moviepy - video ready ../storage/datasets/debug/kamu_46.mp4\n"
     ]
    },
    {
     "name": "stderr",
     "output_type": "stream",
     "text": [
      "                                                             \r"
     ]
    },
    {
     "name": "stdout",
     "output_type": "stream",
     "text": [
      "Moviepy - Done !\n",
      "Moviepy - video ready ../storage/datasets/debug/kamu_40.mp4\n",
      "[kamu]\t48\n",
      "Moviepy - Building video ../storage/datasets/debug/kamu_41.mp4.\n",
      "Moviepy - Writing video ../storage/datasets/debug/kamu_41.mp4\n",
      "\n"
     ]
    },
    {
     "name": "stderr",
     "output_type": "stream",
     "text": [
      "                                                             \r"
     ]
    },
    {
     "name": "stdout",
     "output_type": "stream",
     "text": [
      "Moviepy - Done !\n",
      "Moviepy - video ready ../storage/datasets/debug/kamu_41.mp4\n",
      "[kamu]\t49\n",
      "Moviepy - Building video ../storage/datasets/debug/kamu_47.mp4.\n",
      "Moviepy - Writing video ../storage/datasets/debug/kamu_47.mp4\n",
      "\n"
     ]
    },
    {
     "name": "stderr",
     "output_type": "stream",
     "text": [
      "                                                             \r"
     ]
    },
    {
     "name": "stdout",
     "output_type": "stream",
     "text": [
      "Moviepy - Done !\n",
      "Moviepy - video ready ../storage/datasets/debug/kamu_47.mp4\n",
      "Moviepy - Building video ../storage/datasets/debug/kamu_42.mp4.\n",
      "Moviepy - Writing video ../storage/datasets/debug/kamu_42.mp4\n",
      "\n"
     ]
    },
    {
     "name": "stderr",
     "output_type": "stream",
     "text": [
      "                                                             \r"
     ]
    },
    {
     "name": "stdout",
     "output_type": "stream",
     "text": [
      "Moviepy - Done !\n",
      "Moviepy - video ready ../storage/datasets/debug/kamu_42.mp4\n",
      "[kamu]\t50\n",
      "Moviepy - Building video ../storage/datasets/debug/kamu_43.mp4.\n",
      "Moviepy - Writing video ../storage/datasets/debug/kamu_43.mp4\n",
      "\n"
     ]
    },
    {
     "name": "stderr",
     "output_type": "stream",
     "text": [
      "                                                             \r"
     ]
    },
    {
     "name": "stdout",
     "output_type": "stream",
     "text": [
      "Moviepy - Done !\n",
      "Moviepy - video ready ../storage/datasets/debug/kamu_43.mp4\n",
      "[kamu]\t51\n",
      "Moviepy - Building video ../storage/datasets/debug/kamu_44.mp4.\n",
      "Moviepy - Writing video ../storage/datasets/debug/kamu_44.mp4\n",
      "\n"
     ]
    },
    {
     "name": "stderr",
     "output_type": "stream",
     "text": [
      "                                                             \r"
     ]
    },
    {
     "name": "stdout",
     "output_type": "stream",
     "text": [
      "Moviepy - Done !\n",
      "Moviepy - video ready ../storage/datasets/debug/kamu_44.mp4\n",
      "[kamu]\t52\n",
      "Moviepy - Building video ../storage/datasets/debug/kamu_45.mp4.\n",
      "Moviepy - Writing video ../storage/datasets/debug/kamu_45.mp4\n",
      "\n"
     ]
    },
    {
     "name": "stderr",
     "output_type": "stream",
     "text": [
      "                                                             \r"
     ]
    },
    {
     "name": "stdout",
     "output_type": "stream",
     "text": [
      "Moviepy - Done !\n",
      "Moviepy - video ready ../storage/datasets/debug/kamu_45.mp4\n",
      "[kamu]\t53\n",
      "Moviepy - Building video ../storage/datasets/debug/kamu_46.mp4.\n",
      "Moviepy - Writing video ../storage/datasets/debug/kamu_46.mp4\n",
      "\n"
     ]
    },
    {
     "name": "stderr",
     "output_type": "stream",
     "text": [
      "                                                             \r"
     ]
    },
    {
     "name": "stdout",
     "output_type": "stream",
     "text": [
      "Moviepy - Done !\n",
      "Moviepy - video ready ../storage/datasets/debug/kamu_46.mp4\n",
      "[kamu]\t54\n",
      "Moviepy - Building video ../storage/datasets/debug/kamu_48.mp4.\n",
      "Moviepy - Writing video ../storage/datasets/debug/kamu_48.mp4\n",
      "\n"
     ]
    },
    {
     "name": "stderr",
     "output_type": "stream",
     "text": [
      "                                                             \r"
     ]
    },
    {
     "name": "stdout",
     "output_type": "stream",
     "text": [
      "Moviepy - Done !\n",
      "Moviepy - video ready ../storage/datasets/debug/kamu_48.mp4\n",
      "Moviepy - Building video ../storage/datasets/debug/kamu_49.mp4.\n",
      "Moviepy - Writing video ../storage/datasets/debug/kamu_49.mp4\n",
      "\n"
     ]
    },
    {
     "name": "stderr",
     "output_type": "stream",
     "text": [
      "                                                             \r"
     ]
    },
    {
     "name": "stdout",
     "output_type": "stream",
     "text": [
      "Moviepy - Done !\n",
      "Moviepy - video ready ../storage/datasets/debug/kamu_49.mp4\n",
      "Moviepy - Building video ../storage/datasets/debug/kamu_47.mp4.\n",
      "Moviepy - Writing video ../storage/datasets/debug/kamu_47.mp4\n",
      "\n"
     ]
    },
    {
     "name": "stderr",
     "output_type": "stream",
     "text": [
      "                                                             \r"
     ]
    },
    {
     "name": "stdout",
     "output_type": "stream",
     "text": [
      "Moviepy - Done !\n",
      "Moviepy - video ready ../storage/datasets/debug/kamu_47.mp4\n",
      "[kamu]\t55\n",
      "Moviepy - Building video ../storage/datasets/debug/kamu_50.mp4.\n",
      "Moviepy - Writing video ../storage/datasets/debug/kamu_50.mp4\n",
      "\n"
     ]
    },
    {
     "name": "stderr",
     "output_type": "stream",
     "text": [
      "                                                             \r"
     ]
    },
    {
     "name": "stdout",
     "output_type": "stream",
     "text": [
      "Moviepy - Done !\n",
      "Moviepy - video ready ../storage/datasets/debug/kamu_50.mp4\n",
      "Moviepy - Building video ../storage/datasets/debug/kamu_51.mp4.\n",
      "Moviepy - Writing video ../storage/datasets/debug/kamu_51.mp4\n",
      "\n"
     ]
    },
    {
     "name": "stderr",
     "output_type": "stream",
     "text": [
      "                                                             \r"
     ]
    },
    {
     "name": "stdout",
     "output_type": "stream",
     "text": [
      "Moviepy - Done !\n",
      "Moviepy - video ready ../storage/datasets/debug/kamu_51.mp4\n",
      "Moviepy - Building video ../storage/datasets/debug/kamu_52.mp4.\n",
      "Moviepy - Writing video ../storage/datasets/debug/kamu_52.mp4\n",
      "\n"
     ]
    },
    {
     "name": "stderr",
     "output_type": "stream",
     "text": [
      "                                                             \r"
     ]
    },
    {
     "name": "stdout",
     "output_type": "stream",
     "text": [
      "Moviepy - Done !\n",
      "Moviepy - video ready ../storage/datasets/debug/kamu_52.mp4\n",
      "Moviepy - Building video ../storage/datasets/debug/kamu_53.mp4.\n",
      "Moviepy - Writing video ../storage/datasets/debug/kamu_53.mp4\n",
      "\n"
     ]
    },
    {
     "name": "stderr",
     "output_type": "stream",
     "text": [
      "                                                             \r"
     ]
    },
    {
     "name": "stdout",
     "output_type": "stream",
     "text": [
      "Moviepy - Done !\n",
      "Moviepy - video ready ../storage/datasets/debug/kamu_53.mp4\n",
      "Moviepy - Building video ../storage/datasets/debug/kamu_54.mp4.\n",
      "Moviepy - Writing video ../storage/datasets/debug/kamu_54.mp4\n",
      "\n"
     ]
    },
    {
     "name": "stderr",
     "output_type": "stream",
     "text": [
      "                                                             \r"
     ]
    },
    {
     "name": "stdout",
     "output_type": "stream",
     "text": [
      "Moviepy - Done !\n",
      "Moviepy - video ready ../storage/datasets/debug/kamu_54.mp4\n",
      "Moviepy - Building video ../storage/datasets/debug/kamu_48.mp4.\n",
      "Moviepy - Writing video ../storage/datasets/debug/kamu_48.mp4\n",
      "\n"
     ]
    },
    {
     "name": "stderr",
     "output_type": "stream",
     "text": [
      "                                                             \r"
     ]
    },
    {
     "name": "stdout",
     "output_type": "stream",
     "text": [
      "Moviepy - Done !\n",
      "Moviepy - video ready ../storage/datasets/debug/kamu_48.mp4\n",
      "[kamu]\t56\n",
      "Moviepy - Building video ../storage/datasets/debug/kamu_49.mp4.\n",
      "Moviepy - Writing video ../storage/datasets/debug/kamu_49.mp4\n",
      "\n"
     ]
    },
    {
     "name": "stderr",
     "output_type": "stream",
     "text": [
      "                                                             \r"
     ]
    },
    {
     "name": "stdout",
     "output_type": "stream",
     "text": [
      "Moviepy - Done !\n",
      "Moviepy - video ready ../storage/datasets/debug/kamu_49.mp4\n",
      "[kamu]\t57\n",
      "Moviepy - Building video ../storage/datasets/debug/kamu_55.mp4.\n",
      "Moviepy - Writing video ../storage/datasets/debug/kamu_55.mp4\n",
      "\n"
     ]
    },
    {
     "name": "stderr",
     "output_type": "stream",
     "text": [
      "                                                             \r"
     ]
    },
    {
     "name": "stdout",
     "output_type": "stream",
     "text": [
      "Moviepy - Done !\n",
      "Moviepy - video ready ../storage/datasets/debug/kamu_55.mp4\n",
      "Moviepy - Building video ../storage/datasets/debug/kamu_50.mp4.\n",
      "Moviepy - Writing video ../storage/datasets/debug/kamu_50.mp4\n",
      "\n"
     ]
    },
    {
     "name": "stderr",
     "output_type": "stream",
     "text": [
      "                                                             \r"
     ]
    },
    {
     "name": "stdout",
     "output_type": "stream",
     "text": [
      "Moviepy - Done !\n",
      "Moviepy - video ready ../storage/datasets/debug/kamu_50.mp4\n",
      "[kamu]\t58\n",
      "Moviepy - Building video ../storage/datasets/debug/kamu_51.mp4.\n",
      "Moviepy - Writing video ../storage/datasets/debug/kamu_51.mp4\n",
      "\n"
     ]
    },
    {
     "name": "stderr",
     "output_type": "stream",
     "text": [
      "                                                             \r"
     ]
    },
    {
     "name": "stdout",
     "output_type": "stream",
     "text": [
      "Moviepy - Done !\n",
      "Moviepy - video ready ../storage/datasets/debug/kamu_51.mp4\n",
      "[kamu]\t59\n",
      "Moviepy - Building video ../storage/datasets/debug/kamu_52.mp4.\n",
      "Moviepy - Writing video ../storage/datasets/debug/kamu_52.mp4\n",
      "\n"
     ]
    },
    {
     "name": "stderr",
     "output_type": "stream",
     "text": [
      "                                                             \r"
     ]
    },
    {
     "name": "stdout",
     "output_type": "stream",
     "text": [
      "Moviepy - Done !\n",
      "Moviepy - video ready ../storage/datasets/debug/kamu_52.mp4\n",
      "Moviepy - Building video ../storage/datasets/debug/kamu_53.mp4.\n",
      "Moviepy - Writing video ../storage/datasets/debug/kamu_53.mp4\n",
      "\n"
     ]
    },
    {
     "name": "stderr",
     "output_type": "stream",
     "text": [
      "                                                             \r"
     ]
    },
    {
     "name": "stdout",
     "output_type": "stream",
     "text": [
      "Moviepy - Building video ../storage/datasets/debug/kamu_54.mp4.\n",
      "Moviepy - Writing video ../storage/datasets/debug/kamu_54.mp4\n",
      "\n"
     ]
    },
    {
     "name": "stderr",
     "output_type": "stream",
     "text": [
      "t:  79%|███████▊  | 48/61 [00:00<00:00, 114.93it/s, now=None]"
     ]
    },
    {
     "name": "stdout",
     "output_type": "stream",
     "text": [
      "Moviepy - Done !\n",
      "Moviepy - video ready ../storage/datasets/debug/kamu_53.mp4\n"
     ]
    },
    {
     "name": "stderr",
     "output_type": "stream",
     "text": [
      "                                                             \r"
     ]
    },
    {
     "name": "stdout",
     "output_type": "stream",
     "text": [
      "Moviepy - Done !\n",
      "Moviepy - video ready ../storage/datasets/debug/kamu_54.mp4\n",
      "Moviepy - Building video ../storage/datasets/debug/kamu_56.mp4.\n",
      "Moviepy - Writing video ../storage/datasets/debug/kamu_56.mp4\n",
      "\n"
     ]
    },
    {
     "name": "stderr",
     "output_type": "stream",
     "text": [
      "                                                             \r"
     ]
    },
    {
     "name": "stdout",
     "output_type": "stream",
     "text": [
      "Moviepy - Building video ../storage/datasets/debug/kamu_57.mp4.\n",
      "Moviepy - Writing video ../storage/datasets/debug/kamu_57.mp4\n",
      "\n"
     ]
    },
    {
     "name": "stderr",
     "output_type": "stream",
     "text": [
      "                                                             \r"
     ]
    },
    {
     "name": "stdout",
     "output_type": "stream",
     "text": [
      "Moviepy - Done !\n",
      "Moviepy - video ready ../storage/datasets/debug/kamu_56.mp4\n",
      "Moviepy - Building video ../storage/datasets/debug/kamu_55.mp4.\n",
      "Moviepy - Writing video ../storage/datasets/debug/kamu_55.mp4\n",
      "\n"
     ]
    },
    {
     "name": "stderr",
     "output_type": "stream",
     "text": [
      "                                                             \r"
     ]
    },
    {
     "name": "stdout",
     "output_type": "stream",
     "text": [
      "Moviepy - Done !\n",
      "Moviepy - video ready ../storage/datasets/debug/kamu_57.mp4\n",
      "Moviepy - Building video ../storage/datasets/debug/kamu_58.mp4.\n",
      "Moviepy - Writing video ../storage/datasets/debug/kamu_58.mp4\n",
      "\n"
     ]
    },
    {
     "name": "stderr",
     "output_type": "stream",
     "text": [
      "                                                             \r"
     ]
    },
    {
     "name": "stdout",
     "output_type": "stream",
     "text": [
      "Moviepy - Done !\n",
      "Moviepy - video ready ../storage/datasets/debug/kamu_55.mp4\n",
      "Moviepy - Done !\n",
      "Moviepy - video ready ../storage/datasets/debug/kamu_58.mp4\n",
      "Moviepy - Building video ../storage/datasets/debug/kamu_59.mp4.\n",
      "Moviepy - Writing video ../storage/datasets/debug/kamu_59.mp4\n",
      "\n"
     ]
    },
    {
     "name": "stderr",
     "output_type": "stream",
     "text": [
      "                                                             \r"
     ]
    },
    {
     "name": "stdout",
     "output_type": "stream",
     "text": [
      "Moviepy - Done !\n",
      "Moviepy - video ready ../storage/datasets/debug/kamu_59.mp4\n",
      "Moviepy - Building video ../storage/datasets/debug/kamu_56.mp4.\n",
      "Moviepy - Writing video ../storage/datasets/debug/kamu_56.mp4\n",
      "\n"
     ]
    },
    {
     "name": "stderr",
     "output_type": "stream",
     "text": [
      "                                                             \r"
     ]
    },
    {
     "name": "stdout",
     "output_type": "stream",
     "text": [
      "Moviepy - Done !\n",
      "Moviepy - video ready ../storage/datasets/debug/kamu_56.mp4\n",
      "Moviepy - Building video ../storage/datasets/debug/kamu_57.mp4.\n",
      "Moviepy - Writing video ../storage/datasets/debug/kamu_57.mp4\n",
      "\n"
     ]
    },
    {
     "name": "stderr",
     "output_type": "stream",
     "text": [
      "                                                             \r"
     ]
    },
    {
     "name": "stdout",
     "output_type": "stream",
     "text": [
      "Moviepy - Done !\n",
      "Moviepy - video ready ../storage/datasets/debug/kamu_57.mp4\n",
      "Moviepy - Building video ../storage/datasets/debug/kamu_58.mp4.\n",
      "Moviepy - Writing video ../storage/datasets/debug/kamu_58.mp4\n",
      "\n"
     ]
    },
    {
     "name": "stderr",
     "output_type": "stream",
     "text": [
      "                                                             \r"
     ]
    },
    {
     "name": "stdout",
     "output_type": "stream",
     "text": [
      "Moviepy - Building video ../storage/datasets/debug/kamu_59.mp4.\n",
      "Moviepy - Writing video ../storage/datasets/debug/kamu_59.mp4\n",
      "\n"
     ]
    },
    {
     "name": "stderr",
     "output_type": "stream",
     "text": [
      "                                                             \r"
     ]
    },
    {
     "name": "stdout",
     "output_type": "stream",
     "text": [
      "Moviepy - Done !\n",
      "Moviepy - video ready ../storage/datasets/debug/kamu_58.mp4\n",
      "Moviepy - Done !\n",
      "Moviepy - video ready ../storage/datasets/debug/kamu_59.mp4\n"
     ]
    }
   ],
   "source": [
    "def process_action_frame(label, frame, log):\n",
    "    print(f\"[{label}]\\t{frame}\")\n",
    "    result1 = process_video(label, frame, False, frame)  # without flip\n",
    "\n",
    "    # the flip image should start at 120th video\n",
    "    # so in the end we have 240 data on each action\n",
    "    result2 = process_video(label, frame, True, videos_per_label + frame)  # with fip image\n",
    "\n",
    "    if not result1 or not result2:\n",
    "        return None\n",
    "\n",
    "    log.append([result1, result2])\n",
    "\n",
    "    return log\n",
    "\n",
    "\n",
    "with concurrent.futures.ThreadPoolExecutor() as executor:\n",
    "    future_to_action = {\n",
    "        executor.submit(process_action_frame, action[\"action\"], action[\"frame\"], log): action\n",
    "        for action in actions\n",
    "    }\n",
    "\n",
    "    for future in concurrent.futures.as_completed(future_to_action):\n",
    "        log = future.result()\n",
    "\n",
    "        if not log:\n",
    "            break"
   ]
  }
 ],
 "metadata": {
  "kernelspec": {
   "display_name": "venv",
   "language": "python",
   "name": "python3"
  },
  "language_info": {
   "codemirror_mode": {
    "name": "ipython",
    "version": 3
   },
   "file_extension": ".py",
   "mimetype": "text/x-python",
   "name": "python",
   "nbconvert_exporter": "python",
   "pygments_lexer": "ipython3",
   "version": "3.9.2"
  }
 },
 "nbformat": 4,
 "nbformat_minor": 2
}
